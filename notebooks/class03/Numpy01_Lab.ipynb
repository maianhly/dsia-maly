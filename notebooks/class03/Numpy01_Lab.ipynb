{
  "nbformat": 4,
  "nbformat_minor": 0,
  "metadata": {
    "colab": {
      "name": "Numpy01 Lab.ipynb",
      "version": "0.3.2",
      "provenance": [],
      "collapsed_sections": []
    },
    "kernelspec": {
      "display_name": "Python 3",
      "language": "python",
      "name": "python3"
    }
  },
  "cells": [
    {
      "metadata": {
        "id": "iA6gMzOAsIgo",
        "colab_type": "text"
      },
      "cell_type": "markdown",
      "source": [
        "![dsia](https://static1.squarespace.com/static/5c4631190dbda3abea29db4c/t/5c465b0dc74c5024875652f7/1549343891985/?format=1500w)"
      ]
    },
    {
      "metadata": {
        "id": "6v4X9aDpRxRn",
        "colab_type": "text"
      },
      "cell_type": "markdown",
      "source": [
        "# Numpy Exploration"
      ]
    },
    {
      "metadata": {
        "id": "hefHy7RERxRp",
        "colab_type": "code",
        "colab": {}
      },
      "cell_type": "code",
      "source": [
        "import numpy as np\n",
        "import matplotlib.pyplot as plt\n",
        "import matplotlib\n",
        "\n",
        "# get matplot to show charts inline\n",
        "%matplotlib inline"
      ],
      "execution_count": 0,
      "outputs": []
    },
    {
      "metadata": {
        "id": "hW87a--DRxRu",
        "colab_type": "code",
        "colab": {}
      },
      "cell_type": "code",
      "source": [
        "height= np.round(np.random.normal(1.75, 0.20, 7000), 2)\n",
        "weight= np.round(np.random.normal(60.32, 15, 7000), 2)\n",
        "population=np.column_stack((height, weight))"
      ],
      "execution_count": 0,
      "outputs": []
    },
    {
      "metadata": {
        "id": "EmcwT6cDTv3J",
        "colab_type": "code",
        "outputId": "3449998e-3d9e-4f3e-91a2-10a5b63d90c3",
        "colab": {
          "base_uri": "https://localhost:8080/",
          "height": 221
        }
      },
      "cell_type": "code",
      "source": [
        "print('height:\\n',height)\n",
        "print('weight:\\n',weight)\n",
        "print('population:\\n',population)"
      ],
      "execution_count": 0,
      "outputs": [
        {
          "output_type": "stream",
          "text": [
            "height:\n",
            " [2.11 2.04 1.66 ... 1.44 1.94 1.7 ]\n",
            "weight:\n",
            " [86.02 55.03 34.59 ... 75.47 69.55 60.04]\n",
            "population:\n",
            " [[ 2.11 86.02]\n",
            " [ 2.04 55.03]\n",
            " [ 1.66 34.59]\n",
            " ...\n",
            " [ 1.44 75.47]\n",
            " [ 1.94 69.55]\n",
            " [ 1.7  60.04]]\n"
          ],
          "name": "stdout"
        }
      ]
    },
    {
      "metadata": {
        "id": "g9hpYWbk0ygE",
        "colab_type": "code",
        "colab": {}
      },
      "cell_type": "code",
      "source": [
        "def calc_array_function(array_dict, func):\n",
        "  \n",
        "  \"\"\"Use function on a dictionary of arrays\"\"\"\n",
        "  \n",
        "  for k, v in array_dict.items():\n",
        "    print(\"{}({}): \".format(func.__name__, k), func(v))"
      ],
      "execution_count": 0,
      "outputs": []
    },
    {
      "metadata": {
        "id": "fWQID38N2FyZ",
        "colab_type": "code",
        "colab": {}
      },
      "cell_type": "code",
      "source": [
        "array_names = ['height', 'weight', 'population']\n",
        "\n",
        "data_dict = dict(zip(array_names, [height, weight, population]))"
      ],
      "execution_count": 0,
      "outputs": []
    },
    {
      "metadata": {
        "id": "FXVi-lphTHs2",
        "colab_type": "text"
      },
      "cell_type": "markdown",
      "source": [
        "**1. Find Dimension of Array**\n",
        "\n",
        "Find dimention of each array: height, weight, population\n",
        "```\n",
        "# Expected Ouput\n",
        "np.ndim(height): 1\n",
        "np.ndim(weight): 1\n",
        "np.ndim(population): 2\n",
        "```"
      ]
    },
    {
      "metadata": {
        "id": "9DpuQ9UktJQl",
        "colab_type": "code",
        "outputId": "16c353ca-9987-473a-a7e3-00d63d01f890",
        "colab": {
          "base_uri": "https://localhost:8080/",
          "height": 68
        }
      },
      "cell_type": "code",
      "source": [
        "print(\"np.ndim(height):\", np.ndim(height))\n",
        "print(\"np.ndim(weight):\", np.ndim(weight))\n",
        "print(\"np.ndim(population):\", np.ndim(population))"
      ],
      "execution_count": 0,
      "outputs": [
        {
          "output_type": "stream",
          "text": [
            "np.ndim(height): 1\n",
            "np.ndim(weight): 1\n",
            "np.ndim(population): 2\n"
          ],
          "name": "stdout"
        }
      ]
    },
    {
      "metadata": {
        "id": "VOwVctej4wSp",
        "colab_type": "code",
        "outputId": "8364bba6-fef4-4321-91da-f61ed14658dc",
        "colab": {
          "base_uri": "https://localhost:8080/",
          "height": 68
        }
      },
      "cell_type": "code",
      "source": [
        "# Alternatively, use custom function\n",
        "\n",
        "calc_array_function(data_dict, np.ndim)"
      ],
      "execution_count": 0,
      "outputs": [
        {
          "output_type": "stream",
          "text": [
            "ndim(height):  1\n",
            "ndim(weight):  1\n",
            "ndim(population):  2\n"
          ],
          "name": "stdout"
        }
      ]
    },
    {
      "metadata": {
        "id": "_TGkqif9T44j",
        "colab_type": "text"
      },
      "cell_type": "markdown",
      "source": [
        "**2. Find Shape of Array**\n",
        "\n",
        "Find shape of each array: height, weight, population\n",
        "```\n",
        "# Expected Ouput\n",
        "np.shape(height) : (7000,)\n",
        "np.shape(weight) : (7000,)\n",
        "np.shape(weight) : (7000, 2)\n",
        "```\n",
        "\n"
      ]
    },
    {
      "metadata": {
        "id": "xFW32LEStaxH",
        "colab_type": "code",
        "outputId": "b5fa7391-d2e8-4c16-e60e-a006d847eff8",
        "colab": {
          "base_uri": "https://localhost:8080/",
          "height": 68
        }
      },
      "cell_type": "code",
      "source": [
        "calc_array_function(data_dict, np.shape)"
      ],
      "execution_count": 0,
      "outputs": [
        {
          "output_type": "stream",
          "text": [
            "shape(height):  (7000,)\n",
            "shape(weight):  (7000,)\n",
            "shape(population):  (7000, 2)\n"
          ],
          "name": "stdout"
        }
      ]
    },
    {
      "metadata": {
        "id": "I1x7cNp0UIkp",
        "colab_type": "text"
      },
      "cell_type": "markdown",
      "source": [
        "**3. Find Size of Array**\n",
        "\n",
        "Find shape of each array: height, weight, population\n",
        "```\n",
        "# Expected Ouput:\n",
        "np.size(height) : 7000\n",
        "np.size(weight) : 7000\n",
        "np.size(weight) : 14000\n",
        "```\n",
        "\n"
      ]
    },
    {
      "metadata": {
        "id": "8QlOEVD2tiP5",
        "colab_type": "code",
        "outputId": "2042ecbd-ff15-41b5-eb3a-59e4b9fd3480",
        "colab": {
          "base_uri": "https://localhost:8080/",
          "height": 68
        }
      },
      "cell_type": "code",
      "source": [
        "calc_array_function(data_dict, np.size)"
      ],
      "execution_count": 0,
      "outputs": [
        {
          "output_type": "stream",
          "text": [
            "size(height):  7000\n",
            "size(weight):  7000\n",
            "size(population):  14000\n"
          ],
          "name": "stdout"
        }
      ]
    },
    {
      "metadata": {
        "id": "v1N4xcurUVCS",
        "colab_type": "text"
      },
      "cell_type": "markdown",
      "source": [
        "**4. Find Size of Items of Each Array**\n",
        "\n",
        "Find size of items each array: height, weight, population\n",
        "```\n",
        "# Expected Output:\n",
        "height.itemsize : 8\n",
        "weight.itemsize : 8\n",
        "population.itemsize : 8\n",
        "```"
      ]
    },
    {
      "metadata": {
        "id": "DX4wM12NuAfk",
        "colab_type": "code",
        "outputId": "f6b6551d-89f3-447c-c18b-0423e73ba862",
        "colab": {
          "base_uri": "https://localhost:8080/",
          "height": 255
        }
      },
      "cell_type": "code",
      "source": [
        "help(np.ndarray.itemsize)"
      ],
      "execution_count": 0,
      "outputs": [
        {
          "output_type": "stream",
          "text": [
            "Help on getset descriptor numpy.ndarray.itemsize:\n",
            "\n",
            "itemsize\n",
            "    Length of one array element in bytes.\n",
            "    \n",
            "    Examples\n",
            "    --------\n",
            "    >>> x = np.array([1,2,3], dtype=np.float64)\n",
            "    >>> x.itemsize\n",
            "    8\n",
            "    >>> x = np.array([1,2,3], dtype=np.complex128)\n",
            "    >>> x.itemsize\n",
            "    16\n",
            "\n"
          ],
          "name": "stdout"
        }
      ]
    },
    {
      "metadata": {
        "id": "nwc7jJ9PtqE4",
        "colab_type": "code",
        "outputId": "ce5a9c5f-c420-4ac3-cba7-94b2fbf68c7e",
        "colab": {
          "base_uri": "https://localhost:8080/",
          "height": 68
        }
      },
      "cell_type": "code",
      "source": [
        "# itemsize is an attribute, so can't use the custom function\n",
        "\n",
        "print(\"height.itemsize:\", height.itemsize)\n",
        "print(\"weight.itemsize:\", weight.itemsize)\n",
        "print(\"population.itemsize:\", population.itemsize)"
      ],
      "execution_count": 0,
      "outputs": [
        {
          "output_type": "stream",
          "text": [
            "height.itemsize: 8\n",
            "weight.itemsize: 8\n",
            "population.itemsize: 8\n"
          ],
          "name": "stdout"
        }
      ]
    },
    {
      "metadata": {
        "id": "r83X2u4HUteY",
        "colab_type": "text"
      },
      "cell_type": "markdown",
      "source": [
        "**4. Find Minimum Value of Each Array**\n",
        "\n",
        "Find minimum value of each array: height, weight, population\n",
        "```\n",
        "# Expected Output:\n",
        "height.min : 1.0\n",
        "weight.min : 3.24\n",
        "population.min : 1.0\n",
        "```\n",
        "\n"
      ]
    },
    {
      "metadata": {
        "id": "ZXP0t83YuOUk",
        "colab_type": "code",
        "outputId": "b2039efa-92bb-4516-a8e6-7aaf9050b3b8",
        "colab": {
          "base_uri": "https://localhost:8080/",
          "height": 68
        }
      },
      "cell_type": "code",
      "source": [
        "calc_array_function(data_dict, np.min)"
      ],
      "execution_count": 0,
      "outputs": [
        {
          "output_type": "stream",
          "text": [
            "amin(height):  0.99\n",
            "amin(weight):  0.49\n",
            "amin(population):  0.49\n"
          ],
          "name": "stdout"
        }
      ]
    },
    {
      "metadata": {
        "id": "d7v4phGMVAu0",
        "colab_type": "text"
      },
      "cell_type": "markdown",
      "source": [
        "**5. Find Maximum Value of Each Array**\n",
        "\n",
        "Find maximum value of each array: height, weight, population\n",
        "```\n",
        "# Expected Output\n",
        "height.max() : 2.51\n",
        "weight.max() : 132.17\n",
        "population.max() : 132.17\n",
        "```"
      ]
    },
    {
      "metadata": {
        "id": "G4JruGeLufOM",
        "colab_type": "code",
        "outputId": "2af154de-8a1e-40e4-99c7-3ed22a6a605c",
        "colab": {
          "base_uri": "https://localhost:8080/",
          "height": 68
        }
      },
      "cell_type": "code",
      "source": [
        "calc_array_function(data_dict, np.max)"
      ],
      "execution_count": 0,
      "outputs": [
        {
          "output_type": "stream",
          "text": [
            "amax(height):  2.55\n",
            "amax(weight):  111.8\n",
            "amax(population):  111.8\n"
          ],
          "name": "stdout"
        }
      ]
    },
    {
      "metadata": {
        "id": "vYPOvoePVa0m",
        "colab_type": "text"
      },
      "cell_type": "markdown",
      "source": [
        "**6. Find Mean Value of Each Array**\n",
        "\n",
        "Find maximum value of each array: height, weight, population\n",
        "```\n",
        "# Expected Output\n",
        "height.mean() : 1.7494871428571428\n",
        "weight.mean() : 60.41684428571429\n",
        "population.mean() : 31.083165714285716\n",
        "```\n",
        "\n"
      ]
    },
    {
      "metadata": {
        "id": "xlouq4RVuk0k",
        "colab_type": "code",
        "outputId": "0e00ad6e-996e-469a-85eb-220669b083e9",
        "colab": {
          "base_uri": "https://localhost:8080/",
          "height": 68
        }
      },
      "cell_type": "code",
      "source": [
        "calc_array_function(data_dict, np.mean)"
      ],
      "execution_count": 0,
      "outputs": [
        {
          "output_type": "stream",
          "text": [
            "mean(height):  1.7548757142857145\n",
            "mean(weight):  60.01209\n",
            "mean(population):  30.88348285714286\n"
          ],
          "name": "stdout"
        }
      ]
    },
    {
      "metadata": {
        "id": "Xo7Y5yQPV070",
        "colab_type": "text"
      },
      "cell_type": "markdown",
      "source": [
        "**6. Find Standard Deviation of Each Array**\n",
        "\n",
        "Find standard deviation value of each array: height, weight, population\n",
        "```\n",
        "# Expected Output\n",
        "height.std() : 0.1981923748970856\n",
        "weight.std() : 14.821310711612284\n",
        "population.std() : 31.090684288943482\n",
        "```"
      ]
    },
    {
      "metadata": {
        "id": "wfNZNJzMurDJ",
        "colab_type": "code",
        "outputId": "49f02f5d-0dc1-469c-904c-270dcca9d1a7",
        "colab": {
          "base_uri": "https://localhost:8080/",
          "height": 68
        }
      },
      "cell_type": "code",
      "source": [
        "calc_array_function(data_dict, np.std)"
      ],
      "execution_count": 0,
      "outputs": [
        {
          "output_type": "stream",
          "text": [
            "std(height):  0.2011113735049841\n",
            "std(weight):  15.064555237488047\n",
            "std(population):  31.01558300639936\n"
          ],
          "name": "stdout"
        }
      ]
    },
    {
      "metadata": {
        "id": "tOsfNOAbWHGQ",
        "colab_type": "text"
      },
      "cell_type": "markdown",
      "source": [
        "**7. Find Total value of Each Array**\n",
        "\n",
        "Find total value of each array: height, weight, population\n",
        "```\n",
        "# Expected Output\n",
        "height.sum() : 12219.789999999999\n",
        "weight.sum() : 422009.95\n",
        "population.sum() : 434229.74\n",
        "```"
      ]
    },
    {
      "metadata": {
        "id": "mvEpfJTpu0Y5",
        "colab_type": "code",
        "outputId": "df89ab21-03f8-46ab-ce50-c97519bed1ea",
        "colab": {
          "base_uri": "https://localhost:8080/",
          "height": 68
        }
      },
      "cell_type": "code",
      "source": [
        "calc_array_function(data_dict, np.sum)"
      ],
      "execution_count": 0,
      "outputs": [
        {
          "output_type": "stream",
          "text": [
            "sum(height):  12284.130000000001\n",
            "sum(weight):  420084.63\n",
            "sum(population):  432368.76\n"
          ],
          "name": "stdout"
        }
      ]
    },
    {
      "metadata": {
        "id": "J11tIVhEWfcI",
        "colab_type": "text"
      },
      "cell_type": "markdown",
      "source": [
        "**8. Create a histogram of height and weight**"
      ]
    },
    {
      "metadata": {
        "id": "hERtptrVwC47",
        "colab_type": "code",
        "colab": {}
      },
      "cell_type": "code",
      "source": [
        "def choose_plot(array1, array2, array_name_list, plot_func='histogram', figsize=(6, 12)):\n",
        " \n",
        "  \n",
        "  fig = plt.figure(figsize=figsize)\n",
        "  num_plots = len(array_name_list)\n",
        "  \n",
        "  if plot_func == 'histogram':\n",
        "    for i, arr in enumerate(zip([array1, array2], array_name_list)):\n",
        "      ax = fig.add_subplot(num_plots, 1, i+1)\n",
        "      ax.hist(arr[0], bins = 10)\n",
        "      ax.set_title(\"{} of {}\".format(plot_func, arr[1]))\n",
        "    \n",
        "  elif plot_func == 'boxplot':\n",
        "    for i, arr in enumerate(zip([array1, array2], array_name_list)):\n",
        "      ax = fig.add_subplot(num_plots, 1, i+1)\n",
        "      ax.boxplot(arr[0])\n",
        "      ax.set_title(\"{} of {}\".format(plot_func, arr[1]))\n",
        "    \n",
        "  elif plot_func == 'scatter':\n",
        "    plt.scatter(array1, array2)\n",
        "    plt.title(\"Height vs. weight\")\n",
        "    plt.xlabel(\"Height\")\n",
        "    plt.ylabel(\"Weight\")\n",
        "    \n",
        "  plt.show()  "
      ],
      "execution_count": 0,
      "outputs": []
    },
    {
      "metadata": {
        "id": "w1bsH6rku-Ej",
        "colab_type": "code",
        "outputId": "4bca7a6f-9d2c-4a23-cb7c-a250bb0c9255",
        "colab": {
          "base_uri": "https://localhost:8080/",
          "height": 715
        }
      },
      "cell_type": "code",
      "source": [
        "fig = plt.figure(figsize=(6, 12))\n",
        "ax1 = fig.add_subplot(2, 1, 1)\n",
        "ax1.hist(height, bins = 10)\n",
        "ax1.set_title(\"Histogram of height\")\n",
        "\n",
        "ax1 = fig.add_subplot(2, 1, 2)\n",
        "ax1.hist(weight, bins = 10)\n",
        "ax1.set_title(\"Histogram of weight\")\n",
        "\n",
        "plt.show()"
      ],
      "execution_count": 0,
      "outputs": [
        {
          "output_type": "display_data",
          "data": {
            "image/png": "[encoded data removed]",
            "text/plain": [
              "<Figure size 432x864 with 2 Axes>"
            ]
          },
          "metadata": {
            "tags": []
          }
        }
      ]
    },
    {
      "metadata": {
        "id": "g60EGaojxs6F",
        "colab_type": "code",
        "outputId": "0d9bb2fa-8410-4829-a122-40f05f74895f",
        "colab": {
          "base_uri": "https://localhost:8080/",
          "height": 715
        }
      },
      "cell_type": "code",
      "source": [
        "# Or use custom plotting function\n",
        "\n",
        "choose_plot(height, weight, ['height', 'weight'])"
      ],
      "execution_count": 0,
      "outputs": [
        {
          "output_type": "display_data",
          "data": {
            "image/png": "[encoded data removed]",
            "text/plain": [
              "<Figure size 432x864 with 2 Axes>"
            ]
          },
          "metadata": {
            "tags": []
          }
        }
      ]
    },
    {
      "metadata": {
        "id": "cfT_iKnKW4K0",
        "colab_type": "text"
      },
      "cell_type": "markdown",
      "source": [
        "**9. Create a boxplot of height and weight**"
      ]
    },
    {
      "metadata": {
        "id": "COhLRh6tx074",
        "colab_type": "code",
        "outputId": "47455538-a68c-42c3-a0ca-d456e97c2d0d",
        "colab": {
          "base_uri": "https://localhost:8080/",
          "height": 715
        }
      },
      "cell_type": "code",
      "source": [
        "choose_plot(height, weight, ['height', 'weight'], 'boxplot')"
      ],
      "execution_count": 0,
      "outputs": [
        {
          "output_type": "display_data",
          "data": {
            "image/png": "[encoded data removed]",
            "text/plain": [
              "<Figure size 432x864 with 2 Axes>"
            ]
          },
          "metadata": {
            "tags": []
          }
        }
      ]
    },
    {
      "metadata": {
        "id": "b-6Hr9dSXD2L",
        "colab_type": "text"
      },
      "cell_type": "markdown",
      "source": [
        "**10. Create scatterplot of height and weight**"
      ]
    },
    {
      "metadata": {
        "id": "_afTC8fQx5zW",
        "colab_type": "code",
        "outputId": "8d423285-e674-4a6e-ec90-78593510523a",
        "colab": {
          "base_uri": "https://localhost:8080/",
          "height": 620
        }
      },
      "cell_type": "code",
      "source": [
        "choose_plot(height, weight, ['height', 'weight'], 'scatter', figsize=(10, 10))"
      ],
      "execution_count": 0,
      "outputs": [
        {
          "output_type": "display_data",
          "data": {
            "image/png": "[encoded data removed]",
            "text/plain": [
              "<Figure size 720x720 with 1 Axes>"
            ]
          },
          "metadata": {
            "tags": []
          }
        }
      ]
    },
    {
      "metadata": {
        "id": "Ev6KjGY-XV2p",
        "colab_type": "code",
        "colab": {}
      },
      "cell_type": "code",
      "source": [
        ""
      ],
      "execution_count": 0,
      "outputs": []
    }
  ]
}