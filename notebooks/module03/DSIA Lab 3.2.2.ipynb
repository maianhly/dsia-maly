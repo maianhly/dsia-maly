{
 "cells": [
  {
   "cell_type": "markdown",
   "metadata": {
    "toc": true
   },
   "source": [
    "<h1>Table of Contents<span class=\"tocSkip\"></span></h1>\n",
    "<div class=\"toc\"><ul class=\"toc-item\"><li><span><a href=\"#Statistical-Proof\" data-toc-modified-id=\"Statistical-Proof-1\"><span class=\"toc-item-num\">1&nbsp;&nbsp;</span>Statistical Proof</a></span><ul class=\"toc-item\"><li><span><a href=\"#Part-1:-Student's-t-Test\" data-toc-modified-id=\"Part-1:-Student's-t-Test-1.1\"><span class=\"toc-item-num\">1.1&nbsp;&nbsp;</span>Part 1: Student's t-Test</a></span><ul class=\"toc-item\"><li><span><a href=\"#Using-the-t-test-to-compare-two-means\" data-toc-modified-id=\"Using-the-t-test-to-compare-two-means-1.1.1\"><span class=\"toc-item-num\">1.1.1&nbsp;&nbsp;</span>Using the t-test to compare two means</a></span></li><li><span><a href=\"#Collect-Data\" data-toc-modified-id=\"Collect-Data-1.1.2\"><span class=\"toc-item-num\">1.1.2&nbsp;&nbsp;</span>Collect Data</a></span><ul class=\"toc-item\"><li><span><a href=\"#1.-Plot-Histogram-of-AGE\" data-toc-modified-id=\"1.-Plot-Histogram-of-AGE-1.1.2.1\"><span class=\"toc-item-num\">1.1.2.1&nbsp;&nbsp;</span>1. Plot Histogram of <code>AGE</code></a></span></li><li><span><a href=\"#2.-Plot-Histogram-of-MEDV\" data-toc-modified-id=\"2.-Plot-Histogram-of-MEDV-1.1.2.2\"><span class=\"toc-item-num\">1.1.2.2&nbsp;&nbsp;</span>2. Plot Histogram of <code>MEDV</code></a></span></li><li><span><a href=\"#3.A-Draw-Scatter-Plot-of-AGE-&amp;-MEDV\" data-toc-modified-id=\"3.A-Draw-Scatter-Plot-of-AGE-&amp;-MEDV-1.1.2.3\"><span class=\"toc-item-num\">1.1.2.3&nbsp;&nbsp;</span>3.A Draw Scatter Plot of <code>AGE</code> &amp; <code>MEDV</code></a></span></li><li><span><a href=\"#3.B-Is-there-any-trend?-State-your-observation.\" data-toc-modified-id=\"3.B-Is-there-any-trend?-State-your-observation.-1.1.2.4\"><span class=\"toc-item-num\">1.1.2.4&nbsp;&nbsp;</span>3.B Is there any trend? State your observation.</a></span></li><li><span><a href=\"#4.-Define-Hypothesis\" data-toc-modified-id=\"4.-Define-Hypothesis-1.1.2.5\"><span class=\"toc-item-num\">1.1.2.5&nbsp;&nbsp;</span>4. Define Hypothesis</a></span></li><li><span><a href=\"#5.-Set-alpha-(Let-alpha-=-0.05)\" data-toc-modified-id=\"5.-Set-alpha-(Let-alpha-=-0.05)-1.1.2.6\"><span class=\"toc-item-num\">1.1.2.6&nbsp;&nbsp;</span>5. Set alpha (Let alpha = 0.05)</a></span></li><li><span><a href=\"#6.-Set-Data\" data-toc-modified-id=\"6.-Set-Data-1.1.2.7\"><span class=\"toc-item-num\">1.1.2.7&nbsp;&nbsp;</span>6. Set Data</a></span></li><li><span><a href=\"#6.A-[BONUS]-Build-histogram-for-both-Old-House-&amp;-New-House\" data-toc-modified-id=\"6.A-[BONUS]-Build-histogram-for-both-Old-House-&amp;-New-House-1.1.2.8\"><span class=\"toc-item-num\">1.1.2.8&nbsp;&nbsp;</span>6.A [BONUS] Build histogram for both <code>Old House</code> &amp; <code>New House</code></a></span></li><li><span><a href=\"#7.-Calculate-Variance\" data-toc-modified-id=\"7.-Calculate-Variance-1.1.2.9\"><span class=\"toc-item-num\">1.1.2.9&nbsp;&nbsp;</span>7. Calculate Variance</a></span></li><li><span><a href=\"#8.-Calculate-Standard-Deviation\" data-toc-modified-id=\"8.-Calculate-Standard-Deviation-1.1.2.10\"><span class=\"toc-item-num\">1.1.2.10&nbsp;&nbsp;</span>8. Calculate Standard Deviation</a></span></li><li><span><a href=\"#9.-Calculate-test-statistic\" data-toc-modified-id=\"9.-Calculate-test-statistic-1.1.2.11\"><span class=\"toc-item-num\">1.1.2.11&nbsp;&nbsp;</span>9. Calculate test statistic</a></span></li><li><span><a href=\"#10.-Calculate-Degree-of-Freedom\" data-toc-modified-id=\"10.-Calculate-Degree-of-Freedom-1.1.2.12\"><span class=\"toc-item-num\">1.1.2.12&nbsp;&nbsp;</span>10. Calculate Degree of Freedom</a></span></li><li><span><a href=\"#11.-Find-the-p-value\" data-toc-modified-id=\"11.-Find-the-p-value-1.1.2.13\"><span class=\"toc-item-num\">1.1.2.13&nbsp;&nbsp;</span>11. Find the p-value</a></span></li></ul></li><li><span><a href=\"#Interpret-results\" data-toc-modified-id=\"Interpret-results-1.1.3\"><span class=\"toc-item-num\">1.1.3&nbsp;&nbsp;</span>Interpret results</a></span><ul class=\"toc-item\"><li><span><a href=\"#12.-Write-a-Function-to-Test-Significance-of-p_value\" data-toc-modified-id=\"12.-Write-a-Function-to-Test-Significance-of-p_value-1.1.3.1\"><span class=\"toc-item-num\">1.1.3.1&nbsp;&nbsp;</span>12. Write a Function to Test Significance of <code>p_value</code></a></span></li><li><span><a href=\"#13.-[Bonus]-Write-a-function-to-calculate-t,-p_value-from-two-samples.\" data-toc-modified-id=\"13.-[Bonus]-Write-a-function-to-calculate-t,-p_value-from-two-samples.-1.1.3.2\"><span class=\"toc-item-num\">1.1.3.2&nbsp;&nbsp;</span>13. [Bonus] Write a function to calculate t, p_value from two samples.</a></span></li></ul></li><li><span><a href=\"#Use-Stats-Package\" data-toc-modified-id=\"Use-Stats-Package-1.1.4\"><span class=\"toc-item-num\">1.1.4&nbsp;&nbsp;</span>Use <code>Stats</code> Package</a></span><ul class=\"toc-item\"><li><span><a href=\"#14.-Calculate-the-T-test-for-the-means-of-two-independent-samples-of-scores\" data-toc-modified-id=\"14.-Calculate-the-T-test-for-the-means-of-two-independent-samples-of-scores-1.1.4.1\"><span class=\"toc-item-num\">1.1.4.1&nbsp;&nbsp;</span>14. Calculate the T-test for the means of <em>two independent</em> samples of scores</a></span></li></ul></li></ul></li></ul></li></ul></div>"
   ]
  },
  {
   "cell_type": "markdown",
   "metadata": {},
   "source": [
    "![alt text](https://i.imgur.com/1WaY7aA.png)"
   ]
  },
  {
   "cell_type": "markdown",
   "metadata": {},
   "source": [
    "# Lab 3.2.2 "
   ]
  },
  {
   "cell_type": "markdown",
   "metadata": {},
   "source": [
    "## Statistical Proof"
   ]
  },
  {
   "cell_type": "markdown",
   "metadata": {},
   "source": [
    "### Part 1: Student's t-Test\n",
    "\n",
    "The *t*-test is probably the most used statistical test. It measures the likelihood that a sample belongs to a given distribution, and incorporates a correction for the finite size of the sample.\n",
    "\n",
    "#### Using the t-test to compare two means\n",
    "\n",
    "Here, suppose we have two sets of measurements and we want to know if they both came from the same distribution.\n",
    "\n",
    "For example, in [this](https://archive.ics.uci.edu/ml/machine-learning-databases/housing/housing.data) dataset these could be age of house in one group and median value of house in another group, and we are testing the null hypothesis that there is no difference between the two groups.\n",
    "\n",
    "#### Collect Data\n",
    "\n",
    "You can find the original data [here](https://archive.ics.uci.edu/ml/machine-learning-databases/housing/housing.data).\n",
    "\n",
    "Data dictionary is available [here](https://www.cs.toronto.edu/~delve/data/boston/bostonDetail.html)."
   ]
  },
  {
   "cell_type": "code",
   "execution_count": 1,
   "metadata": {
    "ExecuteTime": {
     "end_time": "2019-04-13T02:33:18.884079Z",
     "start_time": "2019-04-13T02:33:17.589054Z"
    }
   },
   "outputs": [],
   "source": [
    "import pandas as pd\n",
    "import numpy as np\n",
    "import math\n",
    "import seaborn as sns\n",
    "import pandas as pd\n",
    "\n",
    "from scipy import stats\n",
    "from matplotlib import pyplot as plt\n",
    "\n",
    "%matplotlib inline"
   ]
  },
  {
   "cell_type": "code",
   "execution_count": 4,
   "metadata": {
    "ExecuteTime": {
     "end_time": "2019-04-13T02:33:56.015700Z",
     "start_time": "2019-04-13T02:33:55.991400Z"
    }
   },
   "outputs": [],
   "source": [
    "names = [\"CRIM\", \"ZN\", \"INDUS\", \"CHAS\", \"NOX\", \"RM\", \"AGE\", \"DIS\", \"RAD\", \"TAX\", \"PTRATIO\", \"B\", \"LSTAT\", \"MEDV\"]\n",
    "data = pd.read_csv(\"../../data/housing.data\", header=None, names=names, delim_whitespace=True)"
   ]
  },
  {
   "cell_type": "code",
   "execution_count": 5,
   "metadata": {
    "ExecuteTime": {
     "end_time": "2019-04-13T02:34:00.652114Z",
     "start_time": "2019-04-13T02:34:00.617105Z"
    }
   },
   "outputs": [
    {
     "data": {
      "text/html": [
       "<div>\n",
       "<style scoped>\n",
       "    .dataframe tbody tr th:only-of-type {\n",
       "        vertical-align: middle;\n",
       "    }\n",
       "\n",
       "    .dataframe tbody tr th {\n",
       "        vertical-align: top;\n",
       "    }\n",
       "\n",
       "    .dataframe thead th {\n",
       "        text-align: right;\n",
       "    }\n",
       "</style>\n",
       "<table border=\"1\" class=\"dataframe\">\n",
       "  <thead>\n",
       "    <tr style=\"text-align: right;\">\n",
       "      <th></th>\n",
       "      <th>CRIM</th>\n",
       "      <th>ZN</th>\n",
       "      <th>INDUS</th>\n",
       "      <th>CHAS</th>\n",
       "      <th>NOX</th>\n",
       "      <th>RM</th>\n",
       "      <th>AGE</th>\n",
       "      <th>DIS</th>\n",
       "      <th>RAD</th>\n",
       "      <th>TAX</th>\n",
       "      <th>PTRATIO</th>\n",
       "      <th>B</th>\n",
       "      <th>LSTAT</th>\n",
       "      <th>MEDV</th>\n",
       "    </tr>\n",
       "  </thead>\n",
       "  <tbody>\n",
       "    <tr>\n",
       "      <th>0</th>\n",
       "      <td>0.00632</td>\n",
       "      <td>18.0</td>\n",
       "      <td>2.31</td>\n",
       "      <td>0</td>\n",
       "      <td>0.538</td>\n",
       "      <td>6.575</td>\n",
       "      <td>65.2</td>\n",
       "      <td>4.0900</td>\n",
       "      <td>1</td>\n",
       "      <td>296.0</td>\n",
       "      <td>15.3</td>\n",
       "      <td>396.90</td>\n",
       "      <td>4.98</td>\n",
       "      <td>24.0</td>\n",
       "    </tr>\n",
       "    <tr>\n",
       "      <th>1</th>\n",
       "      <td>0.02731</td>\n",
       "      <td>0.0</td>\n",
       "      <td>7.07</td>\n",
       "      <td>0</td>\n",
       "      <td>0.469</td>\n",
       "      <td>6.421</td>\n",
       "      <td>78.9</td>\n",
       "      <td>4.9671</td>\n",
       "      <td>2</td>\n",
       "      <td>242.0</td>\n",
       "      <td>17.8</td>\n",
       "      <td>396.90</td>\n",
       "      <td>9.14</td>\n",
       "      <td>21.6</td>\n",
       "    </tr>\n",
       "    <tr>\n",
       "      <th>2</th>\n",
       "      <td>0.02729</td>\n",
       "      <td>0.0</td>\n",
       "      <td>7.07</td>\n",
       "      <td>0</td>\n",
       "      <td>0.469</td>\n",
       "      <td>7.185</td>\n",
       "      <td>61.1</td>\n",
       "      <td>4.9671</td>\n",
       "      <td>2</td>\n",
       "      <td>242.0</td>\n",
       "      <td>17.8</td>\n",
       "      <td>392.83</td>\n",
       "      <td>4.03</td>\n",
       "      <td>34.7</td>\n",
       "    </tr>\n",
       "    <tr>\n",
       "      <th>3</th>\n",
       "      <td>0.03237</td>\n",
       "      <td>0.0</td>\n",
       "      <td>2.18</td>\n",
       "      <td>0</td>\n",
       "      <td>0.458</td>\n",
       "      <td>6.998</td>\n",
       "      <td>45.8</td>\n",
       "      <td>6.0622</td>\n",
       "      <td>3</td>\n",
       "      <td>222.0</td>\n",
       "      <td>18.7</td>\n",
       "      <td>394.63</td>\n",
       "      <td>2.94</td>\n",
       "      <td>33.4</td>\n",
       "    </tr>\n",
       "    <tr>\n",
       "      <th>4</th>\n",
       "      <td>0.06905</td>\n",
       "      <td>0.0</td>\n",
       "      <td>2.18</td>\n",
       "      <td>0</td>\n",
       "      <td>0.458</td>\n",
       "      <td>7.147</td>\n",
       "      <td>54.2</td>\n",
       "      <td>6.0622</td>\n",
       "      <td>3</td>\n",
       "      <td>222.0</td>\n",
       "      <td>18.7</td>\n",
       "      <td>396.90</td>\n",
       "      <td>5.33</td>\n",
       "      <td>36.2</td>\n",
       "    </tr>\n",
       "  </tbody>\n",
       "</table>\n",
       "</div>"
      ],
      "text/plain": [
       "      CRIM    ZN  INDUS  CHAS    NOX     RM   AGE     DIS  RAD    TAX  \\\n",
       "0  0.00632  18.0   2.31     0  0.538  6.575  65.2  4.0900    1  296.0   \n",
       "1  0.02731   0.0   7.07     0  0.469  6.421  78.9  4.9671    2  242.0   \n",
       "2  0.02729   0.0   7.07     0  0.469  7.185  61.1  4.9671    2  242.0   \n",
       "3  0.03237   0.0   2.18     0  0.458  6.998  45.8  6.0622    3  222.0   \n",
       "4  0.06905   0.0   2.18     0  0.458  7.147  54.2  6.0622    3  222.0   \n",
       "\n",
       "   PTRATIO       B  LSTAT  MEDV  \n",
       "0     15.3  396.90   4.98  24.0  \n",
       "1     17.8  396.90   9.14  21.6  \n",
       "2     17.8  392.83   4.03  34.7  \n",
       "3     18.7  394.63   2.94  33.4  \n",
       "4     18.7  396.90   5.33  36.2  "
      ]
     },
     "execution_count": 5,
     "metadata": {},
     "output_type": "execute_result"
    }
   ],
   "source": [
    "# Head\n",
    "\n",
    "data.head()"
   ]
  },
  {
   "cell_type": "code",
   "execution_count": 6,
   "metadata": {
    "ExecuteTime": {
     "end_time": "2019-04-13T02:34:05.416378Z",
     "start_time": "2019-04-13T02:34:05.409582Z"
    }
   },
   "outputs": [
    {
     "data": {
      "text/plain": [
       "(506, 14)"
      ]
     },
     "execution_count": 6,
     "metadata": {},
     "output_type": "execute_result"
    }
   ],
   "source": [
    "# Shape\n",
    "\n",
    "data.shape"
   ]
  },
  {
   "cell_type": "markdown",
   "metadata": {},
   "source": [
    "##### 1. Plot Histogram of `AGE`"
   ]
  },
  {
   "cell_type": "code",
   "execution_count": 16,
   "metadata": {
    "ExecuteTime": {
     "end_time": "2019-04-13T02:38:43.631086Z",
     "start_time": "2019-04-13T02:38:43.618912Z"
    }
   },
   "outputs": [],
   "source": [
    "def plot_histogram(series, xlabel, figsize=(10, 6)):\n",
    "    \n",
    "    series.plot.hist(figsize=figsize)\n",
    "    plt.xlabel(xlabel)\n",
    "    \n",
    "    plt.show()"
   ]
  },
  {
   "cell_type": "code",
   "execution_count": 17,
   "metadata": {
    "ExecuteTime": {
     "end_time": "2019-04-13T02:39:01.161683Z",
     "start_time": "2019-04-13T02:39:00.967120Z"
    }
   },
   "outputs": [
    {
     "data": {
      "image/png": "[encoded data removed]",
      "text/plain": [
       "<Figure size 720x432 with 1 Axes>"
      ]
     },
     "metadata": {},
     "output_type": "display_data"
    }
   ],
   "source": [
    "#  ANSWER\n",
    "\n",
    "plot_histogram(data['AGE'], 'Age')"
   ]
  },
  {
   "cell_type": "markdown",
   "metadata": {},
   "source": [
    "##### 2. Plot Histogram of `MEDV`"
   ]
  },
  {
   "cell_type": "code",
   "execution_count": 19,
   "metadata": {
    "ExecuteTime": {
     "end_time": "2019-04-13T02:39:25.247893Z",
     "start_time": "2019-04-13T02:39:25.057579Z"
    }
   },
   "outputs": [
    {
     "data": {
      "image/png": "[encoded data removed]",
      "text/plain": [
       "<Figure size 720x432 with 1 Axes>"
      ]
     },
     "metadata": {},
     "output_type": "display_data"
    }
   ],
   "source": [
    "# ANSWER\n",
    "\n",
    "plot_histogram(data['MEDV'], 'Median value ($1000s)')"
   ]
  },
  {
   "cell_type": "markdown",
   "metadata": {},
   "source": [
    "##### 3.A Draw Scatter Plot of `AGE` & `MEDV`"
   ]
  },
  {
   "cell_type": "code",
   "execution_count": 15,
   "metadata": {
    "ExecuteTime": {
     "end_time": "2019-04-13T02:37:03.056439Z",
     "start_time": "2019-04-13T02:37:02.814649Z"
    }
   },
   "outputs": [
    {
     "data": {
      "image/png": "[encoded data removed]",
      "text/plain": [
       "<Figure size 1008x504 with 1 Axes>"
      ]
     },
     "metadata": {},
     "output_type": "display_data"
    }
   ],
   "source": [
    "# ANSWER\n",
    "\n",
    "data.plot.scatter(x='AGE', y='MEDV', figsize=(14, 7))\n",
    "plt.xlabel('Age')\n",
    "plt.ylabel('Median value ($1000)')\n",
    "plt.show()"
   ]
  },
  {
   "cell_type": "markdown",
   "metadata": {},
   "source": [
    "##### 3.B Is there any trend? State your observation."
   ]
  },
  {
   "cell_type": "markdown",
   "metadata": {},
   "source": [
    "**ANSWER:**: Generally, as house age increases, the median value of houses of that age decreases. "
   ]
  },
  {
   "cell_type": "markdown",
   "metadata": {},
   "source": [
    "We'll be using following steps:\n",
    "\n",
    "- Define hypothesis\n",
    "- Set alpha (Let alpha = 0.05)\n",
    "- Calculate point estimate\n",
    "- Calculate test statistic\n",
    "- Find the p-value\n",
    "- Interpret results"
   ]
  },
  {
   "cell_type": "markdown",
   "metadata": {},
   "source": [
    "##### 4. Define Hypothesis\n",
    "\n",
    "Let's assume if `AGE` of house is more than 60, they are old house. Other houses are new. Price of houses decreases when the `AGE` increases.\n",
    "\n",
    "**ANSWER:**\n",
    "\n",
    "    H0: There is no difference between distribution of `Old House` & `New House`\n",
    "    H1: There is difference between distribution of `Old House` & `New House`"
   ]
  },
  {
   "cell_type": "markdown",
   "metadata": {},
   "source": [
    "##### 5. Set alpha (Let alpha = 0.05)"
   ]
  },
  {
   "cell_type": "markdown",
   "metadata": {},
   "source": [
    "First, we should specify our criterion for statistical significance. Traditionally, we allow for no more than a 1-in-20 chance of a spurious rejection of the null hypothesis:"
   ]
  },
  {
   "cell_type": "code",
   "execution_count": 20,
   "metadata": {
    "ExecuteTime": {
     "end_time": "2019-04-13T02:41:33.300366Z",
     "start_time": "2019-04-13T02:41:33.296739Z"
    }
   },
   "outputs": [],
   "source": [
    "# ANSWER\n",
    "\n",
    "alpha = 0.05"
   ]
  },
  {
   "cell_type": "markdown",
   "metadata": {},
   "source": [
    "##### 6. Set Data\n",
    "\n",
    "Now, let's create two sets of data \n",
    "- Old House: House aged more than 60 years.\n",
    "- New House: House aged less than or equal to 60 years.\n",
    "\n",
    "Take sample of 100 house in each dataste."
   ]
  },
  {
   "cell_type": "code",
   "execution_count": 55,
   "metadata": {
    "ExecuteTime": {
     "end_time": "2019-04-13T04:02:08.795406Z",
     "start_time": "2019-04-13T04:02:08.769747Z"
    }
   },
   "outputs": [],
   "source": [
    "# ANSWER\n",
    "\n",
    "old_house_sample = data[data['AGE'] > 60].sample(100)\n",
    "new_house_sample = data[data['AGE'] <= 60].sample(100)"
   ]
  },
  {
   "cell_type": "markdown",
   "metadata": {},
   "source": [
    "##### 6.A [BONUS] Build histogram for both `Old House` & `New House`"
   ]
  },
  {
   "cell_type": "code",
   "execution_count": 119,
   "metadata": {
    "ExecuteTime": {
     "end_time": "2019-04-13T04:33:06.594105Z",
     "start_time": "2019-04-13T04:33:06.332099Z"
    }
   },
   "outputs": [
    {
     "data": {
      "image/png": "[encoded data removed]",
      "text/plain": [
       "<Figure size 720x432 with 1 Axes>"
      ]
     },
     "metadata": {},
     "output_type": "display_data"
    }
   ],
   "source": [
    "# ANSWER\n",
    "\n",
    "old_house_sample['MEDV'].plot.hist(alpha=0.5, figsize=(10, 6), label=\"Old House\")\n",
    "new_house_sample['MEDV'].plot.hist(alpha=0.5, figsize=(10, 6), label=\"New House\")\n",
    "\n",
    "plt.xlabel(\"Median value ($1000)\")\n",
    "\n",
    "plt.legend()\n",
    "plt.show()"
   ]
  },
  {
   "cell_type": "markdown",
   "metadata": {},
   "source": [
    "##### 7. Calculate Variance"
   ]
  },
  {
   "cell_type": "markdown",
   "metadata": {},
   "source": [
    "Calculate variance for both samples."
   ]
  },
  {
   "cell_type": "code",
   "execution_count": 57,
   "metadata": {
    "ExecuteTime": {
     "end_time": "2019-04-13T04:02:15.578399Z",
     "start_time": "2019-04-13T04:02:15.562012Z"
    }
   },
   "outputs": [
    {
     "name": "stdout",
     "output_type": "stream",
     "text": [
      "Variance of old house median value: 92.50656464646465\n",
      "Variance of new house median value: 234.93419292929292\n"
     ]
    }
   ],
   "source": [
    "# ANSWER\n",
    "\n",
    "old_var = old_house_sample['MEDV'].var()\n",
    "new_var = new_house_sample['MEDV'].var()\n",
    "\n",
    "print(\"Variance of old house median value: {}\".format(old_house_sample['AGE'].var()))\n",
    "print(\"Variance of new house median value: {}\".format(new_house_sample['AGE'].var()))"
   ]
  },
  {
   "cell_type": "markdown",
   "metadata": {},
   "source": [
    "##### 8. Calculate Standard Deviation"
   ]
  },
  {
   "cell_type": "markdown",
   "metadata": {},
   "source": [
    "\n",
    "Because we are dealing with two samples we need to compute the joint standard deviation. \n",
    "\n",
    "Here sp is the pooled standard deviation for n = n1 = n2 and s^2\n",
    "X1 and s^2 X2 are the unbiased estimators of the variances of the two samples."
   ]
  },
  {
   "cell_type": "markdown",
   "metadata": {},
   "source": [
    "![](https://wikimedia.org/api/rest_v1/media/math/render/svg/f63e99c30c01445668ea2cce9832da0f6810cb4b)"
   ]
  },
  {
   "cell_type": "code",
   "execution_count": 147,
   "metadata": {
    "ExecuteTime": {
     "end_time": "2019-04-13T05:35:59.427819Z",
     "start_time": "2019-04-13T05:35:59.413851Z"
    }
   },
   "outputs": [
    {
     "data": {
      "text/plain": [
       "8.435753365792818"
      ]
     },
     "execution_count": 147,
     "metadata": {},
     "output_type": "execute_result"
    }
   ],
   "source": [
    "# ANSWER\n",
    "\n",
    "pooled_std = np.sqrt((old_var + new_var) / 2)\n",
    "\n",
    "pooled_std"
   ]
  },
  {
   "cell_type": "code",
   "execution_count": 146,
   "metadata": {
    "ExecuteTime": {
     "end_time": "2019-04-13T05:34:29.745751Z",
     "start_time": "2019-04-13T05:34:29.736604Z"
    }
   },
   "outputs": [
    {
     "data": {
      "text/plain": [
       "8.697233913722224"
      ]
     },
     "execution_count": 146,
     "metadata": {},
     "output_type": "execute_result"
    }
   ],
   "source": [
    "# The formula given above looks the same as just pooling both samples and calculating the standard deviation...\n",
    "# Is it?\n",
    "\n",
    "np.concatenate([old_house_sample['MEDV'], new_house_sample['MEDV']]).std()"
   ]
  },
  {
   "cell_type": "markdown",
   "metadata": {},
   "source": [
    "##### 9. Calculate test statistic"
   ]
  },
  {
   "cell_type": "markdown",
   "metadata": {},
   "source": [
    "The *t*-statistic depends on the difference between the sample means and their joint standard deviation:\n",
    "\n",
    "![](https://wikimedia.org/api/rest_v1/media/math/render/svg/070d365e1b347ea5f83f0147043868fa120b6646)\n"
   ]
  },
  {
   "cell_type": "code",
   "execution_count": 97,
   "metadata": {
    "ExecuteTime": {
     "end_time": "2019-04-13T04:22:52.734653Z",
     "start_time": "2019-04-13T04:22:52.720256Z"
    }
   },
   "outputs": [
    {
     "name": "stdout",
     "output_type": "stream",
     "text": [
      "T-statistic for median value of old and new house samples: -3.8197958879802503\n"
     ]
    }
   ],
   "source": [
    "# ANSWER\n",
    "\n",
    "t_num = old_house_sample['MEDV'].mean() - new_house_sample['MEDV'].mean()\n",
    "t_denom = pooled_std * np.sqrt(2 / len(old_house_sample))\n",
    "\n",
    "t_stat = t_num / t_denom\n",
    "\n",
    "print(\"T-statistic for median value of old and new house samples: {}\".format(t_stat))"
   ]
  },
  {
   "cell_type": "markdown",
   "metadata": {},
   "source": [
    "##### 10. Calculate Degree of Freedom\n",
    "\n",
    "The number of degrees of freedom is the total number of samples (here, this is N from each set) minus the number of statistics in the computation (1 for each sample mean):"
   ]
  },
  {
   "cell_type": "code",
   "execution_count": 135,
   "metadata": {
    "ExecuteTime": {
     "end_time": "2019-04-13T04:50:27.963547Z",
     "start_time": "2019-04-13T04:50:27.948563Z"
    }
   },
   "outputs": [
    {
     "name": "stdout",
     "output_type": "stream",
     "text": [
      "Degrees of freedom: 198\n"
     ]
    }
   ],
   "source": [
    "# ANSWER\n",
    "\n",
    "dof = 2 * len(old_house_sample) - 2\n",
    "\n",
    "print(\"Degrees of freedom: {}\".format(dof))"
   ]
  },
  {
   "cell_type": "markdown",
   "metadata": {},
   "source": [
    "##### 11. Find the p-value"
   ]
  },
  {
   "cell_type": "markdown",
   "metadata": {},
   "source": [
    "Now we can compute the probability of the above *t*-statistic from the cumulative density function:\n",
    "\n",
    "> stats.t.cdf\n",
    "\n",
    "> p_value = 1 - cdf(t) "
   ]
  },
  {
   "cell_type": "code",
   "execution_count": 134,
   "metadata": {
    "ExecuteTime": {
     "end_time": "2019-04-13T04:50:17.726773Z",
     "start_time": "2019-04-13T04:50:17.713590Z"
    }
   },
   "outputs": [
    {
     "name": "stdout",
     "output_type": "stream",
     "text": [
      "P-value of t-statistic: 8.934025927131994e-05\n"
     ]
    }
   ],
   "source": [
    "# ANSWER\n",
    "\n",
    "p_value = 1-stats.t.cdf(abs(t_stat), 198)\n",
    "\n",
    "print(\"P-value of t-statistic: {}\".format(p_value))"
   ]
  },
  {
   "cell_type": "markdown",
   "metadata": {},
   "source": [
    "#### Interpret results\n",
    "\n",
    "There is a probabilty of 5.5% that the median values of old and new houses are the same. "
   ]
  },
  {
   "cell_type": "markdown",
   "metadata": {},
   "source": [
    "##### 12. Write a Function to Test Significance of `p_value`\n",
    "\n",
    "Write a funtion which will take p_value and alpha as input. If p_value < alpha, print reject null hypothesis message. Otherwise print a fail to reject null hypothesis message. "
   ]
  },
  {
   "cell_type": "code",
   "execution_count": 101,
   "metadata": {
    "ExecuteTime": {
     "end_time": "2019-04-13T04:24:21.674260Z",
     "start_time": "2019-04-13T04:24:21.666747Z"
    }
   },
   "outputs": [],
   "source": [
    "# ANSWER\n",
    "\n",
    "def compute_significance(p_value, alpha):\n",
    "    if p_value <= alpha:\n",
    "        print(\"Reject H0: Difference in median value of old vs. new houses\")\n",
    "    elif p_value > alpha:\n",
    "        print(\"Accept H0: No difference in median value of old vs. new houses\")  \n",
    "    else:\n",
    "        print(\"Inconclusive result\")"
   ]
  },
  {
   "cell_type": "code",
   "execution_count": 132,
   "metadata": {
    "ExecuteTime": {
     "end_time": "2019-04-13T04:42:48.958601Z",
     "start_time": "2019-04-13T04:42:48.948678Z"
    }
   },
   "outputs": [
    {
     "name": "stdout",
     "output_type": "stream",
     "text": [
      "Reject H0: Difference in median value of old vs. new houses\n"
     ]
    }
   ],
   "source": [
    "# ANSWER\n",
    "\n",
    "compute_significance(p_value, alpha)"
   ]
  },
  {
   "cell_type": "markdown",
   "metadata": {},
   "source": [
    "##### 13. [Bonus] Write a function to calculate t, p_value from two samples.\n",
    "\n",
    "Calculate the T-test for the means of *two independent* samples of scores.\n",
    "\n",
    "This is a two-sided test for the null hypothesis that 2 independent samples\n",
    "have identical average (expected) values."
   ]
  },
  {
   "cell_type": "code",
   "execution_count": 141,
   "metadata": {
    "ExecuteTime": {
     "end_time": "2019-04-13T05:03:24.424923Z",
     "start_time": "2019-04-13T05:03:24.402058Z"
    }
   },
   "outputs": [],
   "source": [
    "# ANSWER\n",
    "\n",
    "def calculate_two_t(sample1, sample2, two_tailed=False):\n",
    "    \n",
    "    # Calculate variance of samples\n",
    "    sample1_var = sample1.var()\n",
    "    sample2_var = sample2.var()\n",
    "    \n",
    "    # Calculate pooled standard deviation\n",
    "    pooled_std = np.sqrt((sample1_var + sample2_var) / 2)\n",
    "    \n",
    "    # Calculate t statistic\n",
    "    t_stat = (sample1.mean() - sample2.mean()) / (pooled_std * np.sqrt(2 / len(sample1)))\n",
    "    \n",
    "    # Calculate degrees of freedom\n",
    "    dof = 2 * len(sample1) - 2\n",
    "    \n",
    "    # Calculate p-value using CDF of t distribution\n",
    "    p_value = 1 - stats.t.cdf(abs(t_stat), dof)\n",
    "    \n",
    "    # Multiply by two for two-tailed p_value\n",
    "    if two_tailed == True:\n",
    "        p_value = 2*p_value\n",
    "    \n",
    "    return (t_stat, p_value)"
   ]
  },
  {
   "cell_type": "code",
   "execution_count": 137,
   "metadata": {
    "ExecuteTime": {
     "end_time": "2019-04-13T04:50:37.193343Z",
     "start_time": "2019-04-13T04:50:37.189405Z"
    }
   },
   "outputs": [],
   "source": [
    "t_stat, p_value = calculate_two_t(old_house_sample['MEDV'], new_house_sample['MEDV'])"
   ]
  },
  {
   "cell_type": "markdown",
   "metadata": {},
   "source": [
    "#### Use `Stats` Package"
   ]
  },
  {
   "cell_type": "markdown",
   "metadata": {},
   "source": [
    "##### 14. Calculate the T-test for the means of *two independent* samples of scores\n",
    "\n",
    "using following method of stats calculate the T-test for the means of two independent samples of scores.\n",
    "\n",
    "> ttest_ind"
   ]
  },
  {
   "cell_type": "code",
   "execution_count": 105,
   "metadata": {
    "ExecuteTime": {
     "end_time": "2019-04-13T04:25:55.366003Z",
     "start_time": "2019-04-13T04:25:55.352175Z"
    }
   },
   "outputs": [
    {
     "name": "stdout",
     "output_type": "stream",
     "text": [
      "Reject H0: Difference in median value of old vs. new houses\n"
     ]
    }
   ],
   "source": [
    "# ANSWER\n",
    "\n",
    "ttind_stat, scipy_p_value = stats.ttest_ind(old_house_sample['MEDV'], new_house_sample['MEDV'])\n",
    "\n",
    "compute_significance(scipy_p_value, alpha)"
   ]
  },
  {
   "cell_type": "code",
   "execution_count": 142,
   "metadata": {
    "ExecuteTime": {
     "end_time": "2019-04-13T05:10:02.409319Z",
     "start_time": "2019-04-13T05:10:02.400237Z"
    }
   },
   "outputs": [
    {
     "name": "stdout",
     "output_type": "stream",
     "text": [
      " Scipy t statistic: -3.8197958879802494\n",
      "Custom t statistic: -3.8197958879802503\n"
     ]
    }
   ],
   "source": [
    "# Compare t statistics\n",
    "\n",
    "print(\" Scipy t statistic: {}\".format(ttind_stat))\n",
    "print(\"Custom t statistic: {}\".format(t_stat))"
   ]
  },
  {
   "cell_type": "code",
   "execution_count": 143,
   "metadata": {
    "ExecuteTime": {
     "end_time": "2019-04-13T05:10:09.722227Z",
     "start_time": "2019-04-13T05:10:09.712542Z"
    }
   },
   "outputs": [
    {
     "name": "stdout",
     "output_type": "stream",
     "text": [
      " Scipy p_value: 0.0002\n",
      "Custom p_value: 0.0002\n"
     ]
    }
   ],
   "source": [
    "# Compare p_values\n",
    "\n",
    "print(\" Scipy p_value: {}\".format(round(scipy_p_value, 4)))\n",
    "print(\"Custom p_value: {}\".format(round(2*p_value, 4)))"
   ]
  },
  {
   "cell_type": "markdown",
   "metadata": {},
   "source": [
    "> ** © 2019 Data Science Institute of Australia**"
   ]
  }
 ],
 "metadata": {
  "kernelspec": {
   "display_name": "Python [default]",
   "language": "python",
   "name": "python3"
  },
  "language_info": {
   "codemirror_mode": {
    "name": "ipython",
    "version": 3
   },
   "file_extension": ".py",
   "mimetype": "text/x-python",
   "name": "python",
   "nbconvert_exporter": "python",
   "pygments_lexer": "ipython3",
   "version": "3.6.8"
  },
  "toc": {
   "nav_menu": {},
   "number_sections": true,
   "sideBar": true,
   "skip_h1_title": true,
   "title_cell": "Table of Contents",
   "title_sidebar": "Contents",
   "toc_cell": true,
   "toc_position": {},
   "toc_section_display": true,
   "toc_window_display": false
  }
 },
 "nbformat": 4,
 "nbformat_minor": 2
}
