{
 "cells": [
  {
   "cell_type": "markdown",
   "metadata": {
    "toc": true
   },
   "source": [
    "<h1>Table of Contents<span class=\"tocSkip\"></span></h1>\n",
    "<div class=\"toc\"><ul class=\"toc-item\"><li><span><a href=\"#Statistical-Inference\" data-toc-modified-id=\"Statistical-Inference-1\"><span class=\"toc-item-num\">1&nbsp;&nbsp;</span>Statistical Inference</a></span><ul class=\"toc-item\"><li><span><a href=\"#Data\" data-toc-modified-id=\"Data-1.1\"><span class=\"toc-item-num\">1.1&nbsp;&nbsp;</span>Data</a></span></li><li><span><a href=\"#Libraries\" data-toc-modified-id=\"Libraries-1.2\"><span class=\"toc-item-num\">1.2&nbsp;&nbsp;</span>Libraries</a></span><ul class=\"toc-item\"><li><span><a href=\"#1.-Find-the-mean,-standard-deviation,-and-the-standard-error-of-the-mean-for-variable-AGE\" data-toc-modified-id=\"1.-Find-the-mean,-standard-deviation,-and-the-standard-error-of-the-mean-for-variable-AGE-1.2.1\"><span class=\"toc-item-num\">1.2.1&nbsp;&nbsp;</span>1. Find the mean, standard deviation, and the standard error of the mean for variable <code>AGE</code></a></span></li><li><span><a href=\"#2.-Cenral-Limit-Theoram\" data-toc-modified-id=\"2.-Cenral-Limit-Theoram-1.2.2\"><span class=\"toc-item-num\">1.2.2&nbsp;&nbsp;</span>2. Cenral Limit Theoram</a></span><ul class=\"toc-item\"><li><span><a href=\"#2.A-Find-the-sample-mean,-sample-standard-deviation,-and-the-sample-standard-error-of-the-mean-for-variable-AGE-Using-CLT\" data-toc-modified-id=\"2.A-Find-the-sample-mean,-sample-standard-deviation,-and-the-sample-standard-error-of-the-mean-for-variable-AGE-Using-CLT-1.2.2.1\"><span class=\"toc-item-num\">1.2.2.1&nbsp;&nbsp;</span>2.A Find the sample mean, sample standard deviation, and the sample standard error of the mean for variable <code>AGE</code> Using CLT</a></span></li><li><span><a href=\"#[BONUS]-2.B-Visualize-Distribution-of-Sample-Mean\" data-toc-modified-id=\"[BONUS]-2.B-Visualize-Distribution-of-Sample-Mean-1.2.2.2\"><span class=\"toc-item-num\">1.2.2.2&nbsp;&nbsp;</span>[BONUS] 2.B Visualize Distribution of Sample Mean</a></span></li><li><span><a href=\"#[BONUS]-2.C-Visualize-Distribution-of-Sample-Mean-and-Population-together\" data-toc-modified-id=\"[BONUS]-2.C-Visualize-Distribution-of-Sample-Mean-and-Population-together-1.2.2.3\"><span class=\"toc-item-num\">1.2.2.3&nbsp;&nbsp;</span>[BONUS] 2.C Visualize Distribution of Sample Mean and Population together</a></span></li></ul></li><li><span><a href=\"#3.-Confidence-Intervals\" data-toc-modified-id=\"3.-Confidence-Intervals-1.2.3\"><span class=\"toc-item-num\">1.2.3&nbsp;&nbsp;</span>3. Confidence Intervals</a></span></li></ul></li><li><span><a href=\"#$$-\\text{CI}-=-\\text{sample-mean}-\\pm-\\text{multiplier}-\\cdot-\\text{standard-error}-\\\\&#10;\\text{CI}-=-\\bar{x}-\\pm-z_-\\cdot-\\frac{s}{\\sqrt{n}}$$\" data-toc-modified-id=\"$$-\\text{CI}-=-\\text{sample-mean}-\\pm-\\text{multiplier}-\\cdot-\\text{standard-error}-\\\\\n",
    "\\text{CI}-=-\\bar{x}-\\pm-z_-\\cdot-\\frac{s}{\\sqrt{n}}$$-1.3\"><span class=\"toc-item-num\">1.3&nbsp;&nbsp;</span><div class=\"MathJax_Display MathJax_Processing\"></div><script type=\"math/tex; mode=display\" id=\"MathJax-Element-1\"> \\text{CI} = \\text{sample mean} \\pm \\text{multiplier} \\cdot \\text{standard error} \\\\\n",
    "\\text{CI} = \\bar{x} \\pm z_ \\cdot \\frac{s}{\\sqrt{n}}</script></a></span><ul class=\"toc-item\"><li><ul class=\"toc-item\"><li><span><a href=\"#3.A-Age-of-Mary's-house-has-a-z-score-of-1.50.-Overall,-the-area-had-a-mean-age-of-68-with-a-standard-deviation-of-3.-What-was-actual-age-of-Mary's-house?\" data-toc-modified-id=\"3.A-Age-of-Mary's-house-has-a-z-score-of-1.50.-Overall,-the-area-had-a-mean-age-of-68-with-a-standard-deviation-of-3.-What-was-actual-age-of-Mary's-house?-1.3.0.1\"><span class=\"toc-item-num\">1.3.0.1&nbsp;&nbsp;</span>3.A Age of Mary's house has a z-score of 1.50. Overall, the area had a mean age of 68 with a standard deviation of 3. What was actual age of Mary's house?</a></span></li><li><span><a href=\"#3.B-Generate-a-90%,-95%,-and-99%-confidence-interval-for-AGE-Using-t-interval\" data-toc-modified-id=\"3.B-Generate-a-90%,-95%,-and-99%-confidence-interval-for-AGE-Using-t-interval-1.3.0.2\"><span class=\"toc-item-num\">1.3.0.2&nbsp;&nbsp;</span>3.B Generate a 90%, 95%, and 99% confidence interval for <code>AGE</code> Using t-interval</a></span></li><li><span><a href=\"#3.C-Generate-a-90%,-95%,-and-99%-confidence-interval-for-AGE-Using-z-interval\" data-toc-modified-id=\"3.C-Generate-a-90%,-95%,-and-99%-confidence-interval-for-AGE-Using-z-interval-1.3.0.3\"><span class=\"toc-item-num\">1.3.0.3&nbsp;&nbsp;</span>3.C Generate a 90%, 95%, and 99% confidence interval for <code>AGE</code> Using z-interval</a></span></li></ul></li><li><span><a href=\"#Diabetics-Data\" data-toc-modified-id=\"Diabetics-Data-1.3.1\"><span class=\"toc-item-num\">1.3.1&nbsp;&nbsp;</span>Diabetics Data</a></span><ul class=\"toc-item\"><li><span><a href=\"#4.-What-is-the-standard-error-of-the-mean?\" data-toc-modified-id=\"4.-What-is-the-standard-error-of-the-mean?-1.3.1.1\"><span class=\"toc-item-num\">1.3.1.1&nbsp;&nbsp;</span>4. What is the standard error of the mean?</a></span></li><li><span><a href=\"#5.-If-all-patients-start-dieting,-what-is-the-probability-that-their-collective-mean-will-be-175-or-less?\" data-toc-modified-id=\"5.-If-all-patients-start-dieting,-what-is-the-probability-that-their-collective-mean-will-be-175-or-less?-1.3.1.2\"><span class=\"toc-item-num\">1.3.1.2&nbsp;&nbsp;</span>5. If all patients start dieting, what is the probability that their collective mean will be 175 or less?</a></span></li><li><span><a href=\"#6.-Can-the-doctor-conclude-that-dieting-will-reduce-blood-sugar-by-5-points-on-average?\" data-toc-modified-id=\"6.-Can-the-doctor-conclude-that-dieting-will-reduce-blood-sugar-by-5-points-on-average?-1.3.1.3\"><span class=\"toc-item-num\">1.3.1.3&nbsp;&nbsp;</span>6. Can the doctor conclude that dieting will reduce blood sugar by 5 points on average?</a></span></li><li><span><a href=\"#7.-What-should-the-doctor-try-next?-Make-some-suitable-assumptions-and-try-to-prove-your-idea-with-a-calculation.\" data-toc-modified-id=\"7.-What-should-the-doctor-try-next?-Make-some-suitable-assumptions-and-try-to-prove-your-idea-with-a-calculation.-1.3.1.4\"><span class=\"toc-item-num\">1.3.1.4&nbsp;&nbsp;</span>7. What should the doctor try next? Make some suitable assumptions and try to prove your idea with a calculation.</a></span></li></ul></li></ul></li></ul></li><li><span><a href=\"#References\" data-toc-modified-id=\"References-2\"><span class=\"toc-item-num\">2&nbsp;&nbsp;</span>References</a></span></li><li><span><a href=\"#===-End-===\" data-toc-modified-id=\"===-End-===-3\"><span class=\"toc-item-num\">3&nbsp;&nbsp;</span>=== End ===</a></span></li></ul></div>"
   ]
  },
  {
   "cell_type": "markdown",
   "metadata": {
    "colab_type": "text",
    "id": "pnuFCWMAORxw"
   },
   "source": [
    "![alt text](https://i.imgur.com/1WaY7aA.png)\n",
    "\n",
    "---\n",
    "\n",
    "\n",
    "\n",
    "---\n",
    "\n"
   ]
  },
  {
   "cell_type": "markdown",
   "metadata": {
    "colab_type": "text",
    "id": "iM_6Cey1ORx2"
   },
   "source": [
    "# Lab 3.2.3 \n",
    "## Statistical Inference"
   ]
  },
  {
   "cell_type": "markdown",
   "metadata": {},
   "source": [
    "### Data\n",
    "\n",
    "You can find the original data [here](https://archive.ics.uci.edu/ml/machine-learning-databases/housing/housing.data).\n",
    "\n",
    "Data dictionary is available [here](https://www.cs.toronto.edu/~delve/data/boston/bostonDetail.html)."
   ]
  },
  {
   "cell_type": "markdown",
   "metadata": {},
   "source": [
    "### Libraries"
   ]
  },
  {
   "cell_type": "code",
   "execution_count": 4,
   "metadata": {
    "ExecuteTime": {
     "end_time": "2019-04-15T08:12:53.192870Z",
     "start_time": "2019-04-15T08:12:51.503380Z"
    }
   },
   "outputs": [],
   "source": [
    "import pandas as pd\n",
    "import numpy as np\n",
    "import math\n",
    "\n",
    "from scipy import stats\n",
    "from matplotlib import pyplot as plt\n",
    "\n",
    "import seaborn as sns\n",
    "sns.set(rc={'figure.figsize': (15, 10)})\n",
    "\n",
    "import pandas as pd\n",
    "pd.set_option(\"display.max_rows\", 120)\n",
    "pd.set_option(\"display.max_columns\", 120)\n",
    "\n",
    "%matplotlib inline"
   ]
  },
  {
   "cell_type": "code",
   "execution_count": 6,
   "metadata": {
    "ExecuteTime": {
     "end_time": "2019-04-15T08:13:00.129761Z",
     "start_time": "2019-04-15T08:13:00.106768Z"
    }
   },
   "outputs": [],
   "source": [
    "# Read CSV\n",
    "names = [\"CRIM\", \"ZN\", \"INDUS\", \"CHAS\", \"NOX\", \"RM\", \"AGE\", \"DIS\", \"RAD\", \"TAX\", \"PTRATIO\", \"B\", \"LSTAT\", \"MEDV\"]\n",
    "data = pd.read_csv(\"../../data/housing.data\", header=None, names=names, delim_whitespace=True)"
   ]
  },
  {
   "cell_type": "code",
   "execution_count": 11,
   "metadata": {
    "ExecuteTime": {
     "end_time": "2019-04-15T08:13:57.165491Z",
     "start_time": "2019-04-15T08:13:57.157207Z"
    }
   },
   "outputs": [],
   "source": [
    "# AGE\n",
    "AGE = data['AGE'].values"
   ]
  },
  {
   "cell_type": "code",
   "execution_count": 12,
   "metadata": {
    "ExecuteTime": {
     "end_time": "2019-04-15T08:13:57.794210Z",
     "start_time": "2019-04-15T08:13:57.765913Z"
    }
   },
   "outputs": [
    {
     "data": {
      "text/plain": [
       "0       65.2\n",
       "1       78.9\n",
       "2       61.1\n",
       "3       45.8\n",
       "4       54.2\n",
       "5       58.7\n",
       "6       66.6\n",
       "7       96.1\n",
       "8      100.0\n",
       "9       85.9\n",
       "10      94.3\n",
       "11      82.9\n",
       "12      39.0\n",
       "13      61.8\n",
       "14      84.5\n",
       "15      56.5\n",
       "16      29.3\n",
       "17      81.7\n",
       "18      36.6\n",
       "19      69.5\n",
       "20      98.1\n",
       "21      89.2\n",
       "22      91.7\n",
       "23     100.0\n",
       "24      94.1\n",
       "25      85.7\n",
       "26      90.3\n",
       "27      88.8\n",
       "28      94.4\n",
       "29      87.3\n",
       "30      94.1\n",
       "31     100.0\n",
       "32      82.0\n",
       "33      95.0\n",
       "34      96.9\n",
       "35      68.2\n",
       "36      61.4\n",
       "37      41.5\n",
       "38      30.2\n",
       "39      21.8\n",
       "40      15.8\n",
       "41       2.9\n",
       "42       6.6\n",
       "43       6.5\n",
       "44      40.0\n",
       "45      33.8\n",
       "46      33.3\n",
       "47      85.5\n",
       "48      95.3\n",
       "49      62.0\n",
       "50      45.7\n",
       "51      63.0\n",
       "52      21.1\n",
       "53      21.4\n",
       "54      47.6\n",
       "55      21.9\n",
       "56      35.7\n",
       "57      40.5\n",
       "58      29.2\n",
       "59      47.2\n",
       "       ...  \n",
       "446     96.4\n",
       "447     96.6\n",
       "448     98.7\n",
       "449     98.3\n",
       "450     92.6\n",
       "451     98.2\n",
       "452     91.8\n",
       "453     99.3\n",
       "454     94.1\n",
       "455     86.5\n",
       "456     87.9\n",
       "457     80.3\n",
       "458     83.7\n",
       "459     84.4\n",
       "460     90.0\n",
       "461     88.4\n",
       "462     83.0\n",
       "463     89.9\n",
       "464     65.4\n",
       "465     48.2\n",
       "466     84.7\n",
       "467     94.5\n",
       "468     71.0\n",
       "469     56.7\n",
       "470     84.0\n",
       "471     90.7\n",
       "472     75.0\n",
       "473     67.6\n",
       "474     95.4\n",
       "475     97.4\n",
       "476     93.6\n",
       "477     97.3\n",
       "478     96.7\n",
       "479     88.0\n",
       "480     64.7\n",
       "481     74.9\n",
       "482     77.0\n",
       "483     40.3\n",
       "484     41.9\n",
       "485     51.9\n",
       "486     79.8\n",
       "487     53.2\n",
       "488     92.7\n",
       "489     98.3\n",
       "490     98.0\n",
       "491     98.8\n",
       "492     83.5\n",
       "493     54.0\n",
       "494     42.6\n",
       "495     28.8\n",
       "496     72.9\n",
       "497     70.6\n",
       "498     65.3\n",
       "499     73.5\n",
       "500     79.7\n",
       "501     69.1\n",
       "502     76.7\n",
       "503     91.0\n",
       "504     89.3\n",
       "505     80.8\n",
       "Name: AGE, Length: 506, dtype: float64"
      ]
     },
     "execution_count": 12,
     "metadata": {},
     "output_type": "execute_result"
    }
   ],
   "source": [
    "data['AGE']"
   ]
  },
  {
   "cell_type": "markdown",
   "metadata": {},
   "source": [
    "#### 1. Find the mean, standard deviation, and the standard error of the mean for variable `AGE`\n",
    "\n",
    "Hint: The standard error of the mean (SEM) can be expressed as:\n",
    "\n",
    "![](https://wikimedia.org/api/rest_v1/media/math/render/svg/f9dac77577c2717cbb973388e4d6563915705742)"
   ]
  },
  {
   "cell_type": "code",
   "execution_count": 13,
   "metadata": {
    "ExecuteTime": {
     "end_time": "2019-04-15T08:13:59.223040Z",
     "start_time": "2019-04-15T08:13:59.216331Z"
    }
   },
   "outputs": [
    {
     "name": "stdout",
     "output_type": "stream",
     "text": [
      "Mean: 68.57490118577076\n",
      "Standard Deviation: 28.121032570236867\n",
      "Standard Error of The Mean: 1.250132382568063\n"
     ]
    }
   ],
   "source": [
    "# ANSWER\n",
    "\n",
    "mean_age = np.mean(data['AGE'])\n",
    "\n",
    "print(\"Mean:\", np.mean(data['AGE']))\n",
    "print(\"Standard Deviation:\", np.std(data['AGE']))\n",
    "print(\"Standard Error of The Mean:\", np.std(data['AGE']) / math.sqrt(len(AGE)))"
   ]
  },
  {
   "cell_type": "markdown",
   "metadata": {},
   "source": [
    "#### 2. Cenral Limit Theoram\n",
    "\n",
    "Recall that the central limit theorem dictates that the distribution of sample means (calculated across different random samples from our overall population) will be normally distributed.\n",
    "\n",
    "We will depend on the Central Limit Theorem again and again in order to do normal probability calculations when we use sample means to draw conclusions about a population mean. We now know that we can do this even if the population distribution is not normal.\n",
    "\n",
    "##### 2.A Find the sample mean, sample standard deviation, and the sample standard error of the mean for variable `AGE` Using CLT"
   ]
  },
  {
   "cell_type": "code",
   "execution_count": 14,
   "metadata": {
    "ExecuteTime": {
     "end_time": "2019-04-15T08:14:02.248500Z",
     "start_time": "2019-04-15T08:14:02.225417Z"
    }
   },
   "outputs": [],
   "source": [
    "def calculate_sample_mean(df, column_name, N=10, sample_size=5):\n",
    "    '''\n",
    "    df: DataFrame\n",
    "    column_name: String, column_name\n",
    "    N: Number of samples\n",
    "    sample_size: Size of sample for each sample\n",
    "    '''\n",
    "    sample_mean_list = []\n",
    "\n",
    "    for i in range(N):\n",
    "        df_sample = df.sample(n=sample_size)\n",
    "        sample_mean = df_sample[column_name].mean()\n",
    "        sample_mean_list.append(sample_mean)\n",
    "    \n",
    "    return sample_mean_list"
   ]
  },
  {
   "cell_type": "code",
   "execution_count": 15,
   "metadata": {
    "ExecuteTime": {
     "end_time": "2019-04-15T08:14:03.138359Z",
     "start_time": "2019-04-15T08:14:03.083669Z"
    }
   },
   "outputs": [],
   "source": [
    "def visual_sample_mean(population_mean, sample_mean_list):\n",
    "    '''\n",
    "    population_mean: mean of entire population\n",
    "    sample_mean_list: list of sample mean\n",
    "    '''\n",
    "    \n",
    "    sample_mean = np.mean(sample_mean_list)\n",
    "    \n",
    "    ax = sns.distplot(sample_mean_list);\n",
    "    \n",
    "    # plot a vertical line for population mean and sample mean\n",
    "    ax.axvline(population_mean, color='black', linestyle='solid', lw=1)\n",
    "    ax.axvline(sample_mean, color='red', linestyle='dashed', lw=1)\n",
    "    \n",
    "    plt.xlabel('Mean of Samples')\n",
    "    plt.ylabel('Frequency')\n",
    "\n",
    "    plt.show()"
   ]
  },
  {
   "cell_type": "code",
   "execution_count": 16,
   "metadata": {
    "ExecuteTime": {
     "end_time": "2019-04-15T08:14:05.437326Z",
     "start_time": "2019-04-15T08:14:04.994939Z"
    }
   },
   "outputs": [
    {
     "name": "stdout",
     "output_type": "stream",
     "text": [
      "Mean: 68.61379000000001\n",
      "Standard Deviation: 3.853610843858004\n",
      "Standard Error of The Mean: 0.12186187482514783\n"
     ]
    }
   ],
   "source": [
    "# ANSWER\n",
    "sample_mean_list = calculate_sample_mean(data\n",
    "                                         , 'AGE'\n",
    "                                         , N=1000\n",
    "                                         , sample_size=50)\n",
    "print(\"Mean:\", np.mean(sample_mean_list))\n",
    "print(\"Standard Deviation:\", np.std(sample_mean_list))\n",
    "print(\"Standard Error of The Mean:\", np.std(sample_mean_list) / math.sqrt(len(sample_mean_list)))"
   ]
  },
  {
   "cell_type": "markdown",
   "metadata": {},
   "source": [
    "##### [BONUS] 2.B Visualize Distribution of Sample Mean "
   ]
  },
  {
   "cell_type": "code",
   "execution_count": 17,
   "metadata": {
    "ExecuteTime": {
     "end_time": "2019-04-15T08:14:06.982226Z",
     "start_time": "2019-04-15T08:14:06.605988Z"
    }
   },
   "outputs": [
    {
     "data": {
      "image/png": "[encoded data removed]",
      "text/plain": [
       "<Figure size 432x288 with 1 Axes>"
      ]
     },
     "metadata": {},
     "output_type": "display_data"
    }
   ],
   "source": [
    "# ANSWER\n",
    "visual_sample_mean(mean_age, sample_mean_list)"
   ]
  },
  {
   "cell_type": "markdown",
   "metadata": {},
   "source": [
    "##### [BONUS] 2.C Visualize Distribution of Sample Mean and Population together"
   ]
  },
  {
   "cell_type": "code",
   "execution_count": 18,
   "metadata": {
    "ExecuteTime": {
     "end_time": "2019-04-15T08:14:08.448461Z",
     "start_time": "2019-04-15T08:14:08.176548Z"
    }
   },
   "outputs": [
    {
     "data": {
      "image/png": "[encoded data removed]",
      "text/plain": [
       "<Figure size 576x432 with 1 Axes>"
      ]
     },
     "metadata": {},
     "output_type": "display_data"
    }
   ],
   "source": [
    "# ANSWER\n",
    "single = data['AGE']\n",
    "\n",
    "fig, ax = plt.subplots(figsize=(8,6))\n",
    "ax = sns.distplot(single, bins=40, kde=False)\n",
    "sns.distplot(sample_mean_list, bins=40, kde=False, ax=ax)\n",
    "ax.axvline(mean_age, linewidth=2, ls='dashed', c='black')\n",
    "\n",
    "plt.show();"
   ]
  },
  {
   "cell_type": "markdown",
   "metadata": {},
   "source": [
    "#### 3. Confidence Intervals\n",
    "\n",
    "A confidence interval describes a set of possible values for the parameter based on a statistic. Confidence intervals will be centered at the point estimate and typically include +/- a few standard errors.\n",
    "\n",
    "Because the mean statistic is normally distributed, according to the CLT, our confidence interval for the sample mean will be:\n",
    "\n",
    "### $$ \\text{CI} = \\text{sample mean} \\pm \\text{multiplier} \\cdot \\text{standard error} \\\\\n",
    "\\text{CI} = \\bar{x} \\pm z_ \\cdot \\frac{s}{\\sqrt{n}}$$"
   ]
  },
  {
   "cell_type": "markdown",
   "metadata": {
    "colab_type": "text",
    "id": "qhgGicDJORyX"
   },
   "source": [
    "##### 3.A Age of Mary's house has a z-score of 1.50. Overall, the area had a mean age of 68 with a standard deviation of 3. What was actual age of Mary's house?\n",
    "\n",
    "Hint: If the population mean and population standard deviation are known, the standard score of a raw score x is calculated as:\n",
    "\n",
    "![](https://wikimedia.org/api/rest_v1/media/math/render/svg/5ceed701c4042bb34618535c9a902ca1a937a351)"
   ]
  },
  {
   "cell_type": "code",
   "execution_count": 19,
   "metadata": {
    "ExecuteTime": {
     "end_time": "2019-04-15T08:14:11.496841Z",
     "start_time": "2019-04-15T08:14:11.490402Z"
    },
    "colab": {},
    "colab_type": "code",
    "id": "oIdGxs6GORyc",
    "outputId": "36a9b269-f091-41e1-9d4b-08d3efa1b62e"
   },
   "outputs": [
    {
     "data": {
      "text/plain": [
       "72.5"
      ]
     },
     "execution_count": 19,
     "metadata": {},
     "output_type": "execute_result"
    }
   ],
   "source": [
    "# ANSWER\n",
    "z = 1.5\n",
    "Xmean = 68\n",
    "Xsdev = 3\n",
    "Xi = z * Xsdev + Xmean\n",
    "Xi"
   ]
  },
  {
   "cell_type": "markdown",
   "metadata": {
    "colab_type": "text",
    "id": "45h6kVo9ORz5"
   },
   "source": [
    "The z-score comes from the probability density function of a normal distribution with mean = 0 and standard deviation = 1.\n",
    "\n",
    "**If we want our confidence level — i.e., how confident we are that the true value of the parameter lies within the confidence interval — to be:**\n",
    "- **90%**: The z-score multiplier should be **z = 1.645**, because 90% of the area under the $Z ~ N(0, 1)$ normal distribution lies between -1.645 and 1.645.\n",
    "- **95%**: The z-score multiplier should be **z = 1.96**, because 95% of the area under the $Z ~ N(0, 1)$ normal distribution lies between -1.96 and 1.96.\n",
    "- **99%**: The z-score multiplier should be **z = 2.575**, because 99% of the area under the $Z ~ N(0, 1)$ normal distribution lies between -2.575 and 2.575."
   ]
  },
  {
   "cell_type": "markdown",
   "metadata": {
    "colab_type": "text",
    "id": "_BLQzJsAORz8"
   },
   "source": [
    "##### 3.B Generate a 90%, 95%, and 99% confidence interval for `AGE` Using t-interval\n",
    "\n",
    "```\n",
    "stats.t.interval(alpha, df, loc=0, scale=1)\n",
    "```\n",
    "\n",
    "> Arguments:\n",
    "- `df` = the degrees of freedom, will be the length of the vector -1.\n",
    "- `loc` = the mean of the t-distribution (your point estimate - mean of the variable)\n",
    "- `scale` = the standard deviation of the t-distribution (the standard error of your sample mean)"
   ]
  },
  {
   "cell_type": "code",
   "execution_count": 20,
   "metadata": {
    "ExecuteTime": {
     "end_time": "2019-04-15T08:14:40.659367Z",
     "start_time": "2019-04-15T08:14:40.639099Z"
    }
   },
   "outputs": [],
   "source": [
    "# ANSWER\n",
    "\n",
    "def generate_confidence_interval(variable, prob):\n",
    "\n",
    "    N = len(variable)\n",
    "    df = N-1\n",
    "    mean = np.mean(variable)\n",
    "    std = np.std(variable)\n",
    "    std_error = std / math.sqrt(N)\n",
    "\n",
    "    return stats.t.interval(prob, N-1, loc=mean, scale=std_error)"
   ]
  },
  {
   "cell_type": "code",
   "execution_count": 32,
   "metadata": {
    "ExecuteTime": {
     "end_time": "2019-04-15T08:21:30.754887Z",
     "start_time": "2019-04-15T08:21:30.750923Z"
    }
   },
   "outputs": [],
   "source": [
    "sample_data = data['AGE'].sample(50)"
   ]
  },
  {
   "cell_type": "code",
   "execution_count": 24,
   "metadata": {
    "ExecuteTime": {
     "end_time": "2019-04-15T08:14:47.101655Z",
     "start_time": "2019-04-15T08:14:47.076081Z"
    }
   },
   "outputs": [
    {
     "data": {
      "text/plain": [
       "(58.79582420366198, 71.90017579633802)"
      ]
     },
     "execution_count": 24,
     "metadata": {},
     "output_type": "execute_result"
    }
   ],
   "source": [
    "generate_confidence_interval(sample_data, 0.9)"
   ]
  },
  {
   "cell_type": "code",
   "execution_count": 25,
   "metadata": {
    "ExecuteTime": {
     "end_time": "2019-04-15T08:14:48.806181Z",
     "start_time": "2019-04-15T08:14:48.800080Z"
    }
   },
   "outputs": [
    {
     "data": {
      "text/plain": [
       "(57.49432238374435, 73.20167761625565)"
      ]
     },
     "execution_count": 25,
     "metadata": {},
     "output_type": "execute_result"
    }
   ],
   "source": [
    "generate_confidence_interval(sample_data, 0.95)"
   ]
  },
  {
   "cell_type": "code",
   "execution_count": 26,
   "metadata": {
    "ExecuteTime": {
     "end_time": "2019-04-15T08:14:51.345678Z",
     "start_time": "2019-04-15T08:14:51.335527Z"
    }
   },
   "outputs": [
    {
     "data": {
      "text/plain": [
       "(54.87440415410967, 75.82159584589033)"
      ]
     },
     "execution_count": 26,
     "metadata": {},
     "output_type": "execute_result"
    }
   ],
   "source": [
    "generate_confidence_interval(sample_data, 0.99)"
   ]
  },
  {
   "cell_type": "code",
   "execution_count": 35,
   "metadata": {
    "ExecuteTime": {
     "end_time": "2019-04-15T08:24:47.728794Z",
     "start_time": "2019-04-15T08:24:47.444235Z"
    }
   },
   "outputs": [
    {
     "data": {
      "image/png": "[encoded data removed]",
      "text/plain": [
       "<Figure size 576x432 with 1 Axes>"
      ]
     },
     "metadata": {},
     "output_type": "display_data"
    }
   ],
   "source": []
  },
  {
   "cell_type": "markdown",
   "metadata": {},
   "source": [
    "##### 3.C Generate a 90%, 95%, and 99% confidence interval for `AGE` Using z-interval"
   ]
  },
  {
   "cell_type": "markdown",
   "metadata": {},
   "source": [
    "Take a sample of 50 houses in Boston, find the mean AGE of that sample. Suppose that we also have reason to believe (from previous studies) that the population standard deviation of AGE is 28. Use this information to calculate a 95% confidence interval for the mean AGE of all houses in Boston."
   ]
  },
  {
   "cell_type": "code",
   "execution_count": 27,
   "metadata": {
    "ExecuteTime": {
     "end_time": "2019-04-15T08:15:45.323610Z",
     "start_time": "2019-04-15T08:15:45.293720Z"
    }
   },
   "outputs": [],
   "source": [
    "def generate_confidence_interval_z(sample_data, all_data, prob):\n",
    "\n",
    "    N = sample_data.shape[0]\n",
    "    Xmean = sample_data['AGE'].mean()\n",
    "    Xstd = all_data['AGE'].std()\n",
    "    Xstd_error = Xstd / math.sqrt(N)\n",
    "    \n",
    "    if prob >= 0.99:\n",
    "        prob = 2.575\n",
    "    elif prob >= 0.95 and prob < 0.99:\n",
    "        prob = 1.96\n",
    "    elif prob >= 0.90 and prob < 0.99:\n",
    "        prob = 1.645\n",
    "\n",
    "    return Xmean-prob*Xstd_error, Xmean+prob*Xstd_error"
   ]
  },
  {
   "cell_type": "code",
   "execution_count": 28,
   "metadata": {
    "ExecuteTime": {
     "end_time": "2019-04-15T08:15:46.303594Z",
     "start_time": "2019-04-15T08:15:46.299076Z"
    }
   },
   "outputs": [],
   "source": [
    "sample_data = data.sample(50)"
   ]
  },
  {
   "cell_type": "code",
   "execution_count": 29,
   "metadata": {
    "ExecuteTime": {
     "end_time": "2019-04-15T08:15:47.266983Z",
     "start_time": "2019-04-15T08:15:47.247429Z"
    }
   },
   "outputs": [
    {
     "data": {
      "text/plain": [
       "(57.74931084649655, 78.25068915350346)"
      ]
     },
     "execution_count": 29,
     "metadata": {},
     "output_type": "execute_result"
    }
   ],
   "source": [
    "generate_confidence_interval_z(sample_data, data, .99)"
   ]
  },
  {
   "cell_type": "code",
   "execution_count": 30,
   "metadata": {
    "ExecuteTime": {
     "end_time": "2019-04-15T08:15:49.628686Z",
     "start_time": "2019-04-15T08:15:49.620452Z"
    }
   },
   "outputs": [
    {
     "data": {
      "text/plain": [
       "(64.42350149222789, 78.77446630713271)"
      ]
     },
     "execution_count": 30,
     "metadata": {},
     "output_type": "execute_result"
    }
   ],
   "source": [
    "# ANSWER\n",
    "\n",
    "sample_data = data.sample(50)\n",
    "N = sample_data.shape[0]\n",
    "Xmean = sample_data['AGE'].mean()\n",
    "Xstd = data['AGE'].std()\n",
    "Xstd_error = Xstd / math.sqrt(N)\n",
    "\n",
    "Xmean-1.645*Xstd_error, Xmean+1.96*Xstd_error"
   ]
  },
  {
   "cell_type": "markdown",
   "metadata": {
    "colab_type": "text",
    "id": "SV9cx_ojOR0V"
   },
   "source": [
    "#### Diabetics Data\n",
    "\n",
    "A medical doctor wants to reduce blood sugar level of all his patients by altering their diet. He finds that the mean sugar level of all patients is 180 with a standard deviation of 18. Nine of his patients start dieting and the mean of that sample is 175. The doctor specifies a 99% confidence interval.\n",
    "\n",
    "##### 4. What is the standard error of the mean? "
   ]
  },
  {
   "cell_type": "code",
   "execution_count": 20,
   "metadata": {
    "colab": {},
    "colab_type": "code",
    "id": "qgqQqeh8OR0W",
    "outputId": "7751e091-9afc-434c-d65e-2780fffd63d6"
   },
   "outputs": [
    {
     "data": {
      "text/plain": [
       "6.0"
      ]
     },
     "execution_count": 20,
     "metadata": {},
     "output_type": "execute_result"
    }
   ],
   "source": [
    "# ANSWER\n",
    "n = 9\n",
    "Xsdev = 18\n",
    "Xsem = Xsdev / math.sqrt(n)\n",
    "Xsem"
   ]
  },
  {
   "cell_type": "markdown",
   "metadata": {
    "colab_type": "text",
    "id": "QT94PCGcOR0Y"
   },
   "source": [
    "##### 5. If all patients start dieting, what is the probability that their collective mean will be 175 or less?\n",
    "(Hint: When you have multiple samples and want to describe the standard deviation of those sample means (the standard error), you would use this z score formula:\n",
    "```\n",
    "z = (x – μ) / (σ / √n)\n",
    "```\n",
    "This z-score will tell you how many standard errors there are between the sample mean and the population mean.\n",
    "\n",
    "Treat 180 as the population mean, and use the `norm.cdf` function from `scipy.stats`.)"
   ]
  },
  {
   "cell_type": "code",
   "execution_count": 28,
   "metadata": {
    "colab": {},
    "colab_type": "code",
    "id": "JdHTcjjQOR0Y",
    "outputId": "2f3feba8-28a3-4bd3-fd49-200fc2cb0382"
   },
   "outputs": [
    {
     "data": {
      "text/plain": [
       "0.20232838096364308"
      ]
     },
     "execution_count": 28,
     "metadata": {},
     "output_type": "execute_result"
    }
   ],
   "source": [
    "#ANSWER\n",
    "# z = (sample mean - population mean) / Xsem\n",
    "z = (175 - 180) / Xsem\n",
    "p = stats.norm.cdf(z)\n",
    "p"
   ]
  },
  {
   "cell_type": "markdown",
   "metadata": {
    "colab_type": "text",
    "id": "uUxHoUNNOR0a"
   },
   "source": [
    "##### 6. Can the doctor conclude that dieting will reduce blood sugar by 5 points on average?"
   ]
  },
  {
   "cell_type": "code",
   "execution_count": 27,
   "metadata": {
    "colab": {},
    "colab_type": "code",
    "id": "h_vZ2ZNMOR0b",
    "outputId": "49850adc-40e7-46b8-98d0-f44824caeda1"
   },
   "outputs": [
    {
     "name": "stdout",
     "output_type": "stream",
     "text": [
      "Dieting does not reduce blood sugar at a 99% confidence interval.\n"
     ]
    }
   ],
   "source": [
    "#ANSWER\n",
    "if (1 - p) >= 0.99:\n",
    "    print('Dieting reduces blood sugar at a 99% confidence interval.')\n",
    "else:\n",
    "    print('Dieting does not reduce blood sugar at a 99% confidence interval.')"
   ]
  },
  {
   "cell_type": "markdown",
   "metadata": {
    "colab_type": "text",
    "id": "anvtQw7BOR0d"
   },
   "source": [
    "##### 7. What should the doctor try next? Make some suitable assumptions and try to prove your idea with a calculation."
   ]
  },
  {
   "cell_type": "code",
   "execution_count": 25,
   "metadata": {
    "colab": {},
    "colab_type": "code",
    "id": "T_JSvX3wOR0d",
    "outputId": "cb66db01-7914-474c-b5e7-a8f9f4aec0ad"
   },
   "outputs": [
    {
     "name": "stdout",
     "output_type": "stream",
     "text": [
      "0.0027366017862441435\n",
      "For a sample size of 100 patients, dieting reduces blood sugar at a 99% confidence interval.\n"
     ]
    }
   ],
   "source": [
    "#ANSWER\n",
    "# increase the number of patients in the diet study!\n",
    "n = 100\n",
    "p = stats.norm.cdf((175 - 180) / (Xsdev / math.sqrt(n)))\n",
    "print(p)\n",
    "if (1 - p) >= 0.99:\n",
    "    print('For a sample size of', n, 'patients, dieting reduces blood sugar at a 99% confidence interval.')\n",
    "else:\n",
    "    print('For a sample size of', n, 'patients, dieting does not reduce blood sugar at a 99% confidence interval.')"
   ]
  },
  {
   "cell_type": "markdown",
   "metadata": {},
   "source": [
    "References\n",
    "---\n",
    "\n",
    "[Z-Score: Definition, Formula and Calculation](https://www.statisticshowto.datasciencecentral.com/probability-and-statistics/z-score/)\n",
    "\n",
    "[Confidence Intervals](https://www.mathsisfun.com/data/confidence-interval.html)"
   ]
  },
  {
   "cell_type": "markdown",
   "metadata": {
    "colab_type": "text",
    "id": "YWgJ8wyBOR0g"
   },
   "source": [
    "## === End ==="
   ]
  },
  {
   "cell_type": "markdown",
   "metadata": {
    "colab_type": "text",
    "id": "Hj8GdoOXC-Lu"
   },
   "source": [
    "\n",
    "\n",
    "> \n",
    ">\n",
    ">\n",
    "\n",
    "\n"
   ]
  },
  {
   "cell_type": "markdown",
   "metadata": {
    "colab_type": "text",
    "id": "-YLHUmjnDDZq"
   },
   "source": [
    ">\n"
   ]
  },
  {
   "cell_type": "markdown",
   "metadata": {
    "colab_type": "text",
    "id": "3Nov8gGCDExO"
   },
   "source": [
    ">\n"
   ]
  },
  {
   "cell_type": "markdown",
   "metadata": {
    "colab_type": "text",
    "id": "w2asO3_lDFm8"
   },
   "source": [
    ">\n"
   ]
  },
  {
   "cell_type": "markdown",
   "metadata": {
    "colab_type": "text",
    "id": "MlasiTKgDGdA"
   },
   "source": [
    "\n",
    "\n",
    "---\n",
    "\n",
    "\n",
    "\n",
    "---\n",
    "\n",
    "> > > > > > > >   © 2019 Data Science Institute of Australia\n",
    "\n",
    "\n",
    "---\n",
    "\n",
    "\n",
    "\n",
    "---\n",
    "\n"
   ]
  },
  {
   "cell_type": "code",
   "execution_count": null,
   "metadata": {},
   "outputs": [],
   "source": []
  }
 ],
 "metadata": {
  "colab": {
   "collapsed_sections": [],
   "name": "DSIA Lab 3.2.3 - answers.ipynb",
   "provenance": [],
   "version": "0.3.2"
  },
  "kernelspec": {
   "display_name": "Python [default]",
   "language": "python",
   "name": "python3"
  },
  "language_info": {
   "codemirror_mode": {
    "name": "ipython",
    "version": 3
   },
   "file_extension": ".py",
   "mimetype": "text/x-python",
   "name": "python",
   "nbconvert_exporter": "python",
   "pygments_lexer": "ipython3",
   "version": "3.6.8"
  },
  "toc": {
   "nav_menu": {},
   "number_sections": true,
   "sideBar": true,
   "skip_h1_title": true,
   "title_cell": "Table of Contents",
   "title_sidebar": "Contents",
   "toc_cell": true,
   "toc_position": {},
   "toc_section_display": true,
   "toc_window_display": false
  }
 },
 "nbformat": 4,
 "nbformat_minor": 2
}
