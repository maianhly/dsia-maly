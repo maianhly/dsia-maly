{
 "cells": [
  {
   "cell_type": "markdown",
   "metadata": {
    "toc": true
   },
   "source": [
    "<h1>Table of Contents<span class=\"tocSkip\"></span></h1>\n",
    "<div class=\"toc\"><ul class=\"toc-item\"><li><span><a href=\"#Introduction\" data-toc-modified-id=\"Introduction-1\"><span class=\"toc-item-num\">1&nbsp;&nbsp;</span>Introduction</a></span></li><li><span><a href=\"#BigQuery-Web-UI\" data-toc-modified-id=\"BigQuery-Web-UI-2\"><span class=\"toc-item-num\">2&nbsp;&nbsp;</span>BigQuery Web UI</a></span></li><li><span><a href=\"#BigQuery-API\" data-toc-modified-id=\"BigQuery-API-3\"><span class=\"toc-item-num\">3&nbsp;&nbsp;</span>BigQuery API</a></span><ul class=\"toc-item\"><li><span><a href=\"#Authentication\" data-toc-modified-id=\"Authentication-3.1\"><span class=\"toc-item-num\">3.1&nbsp;&nbsp;</span>Authentication</a></span></li><li><span><a href=\"#Using-the-Python-API\" data-toc-modified-id=\"Using-the-Python-API-3.2\"><span class=\"toc-item-num\">3.2&nbsp;&nbsp;</span>Using the Python API</a></span><ul class=\"toc-item\"><li><span><a href=\"#Final-Notes\" data-toc-modified-id=\"Final-Notes-3.2.1\"><span class=\"toc-item-num\">3.2.1&nbsp;&nbsp;</span>Final Notes</a></span></li><li><span><a href=\"#Next-Steps\" data-toc-modified-id=\"Next-Steps-3.2.2\"><span class=\"toc-item-num\">3.2.2&nbsp;&nbsp;</span>Next Steps</a></span></li></ul></li></ul></li><li><span><a href=\"#EDA\" data-toc-modified-id=\"EDA-4\"><span class=\"toc-item-num\">4&nbsp;&nbsp;</span>EDA</a></span></li><li><span><a href=\"#--END--\" data-toc-modified-id=\"--END---5\"><span class=\"toc-item-num\">5&nbsp;&nbsp;</span>- END -</a></span></li></ul></div>"
   ]
  },
  {
   "cell_type": "markdown",
   "metadata": {
    "colab_type": "text",
    "id": "QaGbHIhQLFYq"
   },
   "source": [
    "![alt text](https://i.imgur.com/1WaY7aA.png)\n",
    "\n",
    "\n",
    "\n",
    "---\n",
    "\n",
    "\n",
    "\n",
    "---\n",
    "\n"
   ]
  },
  {
   "cell_type": "markdown",
   "metadata": {
    "colab_type": "text",
    "id": "sMx6dqz7LFYv"
   },
   "source": [
    "# Lab 2.2.4 \n",
    "# *The Google BigQuery UI and API*"
   ]
  },
  {
   "cell_type": "markdown",
   "metadata": {
    "colab_type": "text",
    "id": "SKGiPVSwLFYx"
   },
   "source": [
    "## Introduction"
   ]
  },
  {
   "cell_type": "markdown",
   "metadata": {
    "colab_type": "text",
    "id": "aKMV45iQLFY2"
   },
   "source": [
    "The Google BigQuery UI provides access to Google's extensive collection of public data sets via an SQL-based query engine. \n",
    "\n",
    "The BigQuery API provides programmatic access to the data sets.\n",
    "\n",
    "We can use the UI to discover interesting data before writing Python code to access it. Then we can reproduce it in an API request so as to aggregate large amounts of data on Google's infrastructure before pulling the results into our application."
   ]
  },
  {
   "cell_type": "markdown",
   "metadata": {
    "colab_type": "text",
    "id": "q3JonnfULFY6"
   },
   "source": [
    "## BigQuery Web UI\n",
    "\n",
    "Work through the Quickstart at https://cloud.google.com/bigquery/docs/quickstarts/quickstart-web-ui.\n",
    "\n",
    "You will need to set up a Google Cloud Platform account if you don't already have one. (This should not cost anything during the trial period unless you perform a large amount of querying. Afterwards, costs are based on actual resource usage, but most offerings have a free tier.)"
   ]
  },
  {
   "cell_type": "markdown",
   "metadata": {
    "colab_type": "text",
    "id": "QM5QOIBpLFY9"
   },
   "source": [
    "## BigQuery API\n",
    "\n",
    "You should already have the Google Cloud Client Library for Python installed (https://cloud.google.com/python/setup).\n",
    "\n",
    "- Open Google Cloud Console (https://console.cloud.google.com/home/) and select to create a project.\n",
    "- Under \"Getting Started\", select \"Enable APIs and get credentials such as keys\"."
   ]
  },
  {
   "cell_type": "markdown",
   "metadata": {
    "colab_type": "text",
    "id": "0Ni9g5D7LFY_"
   },
   "source": [
    "- In the API table, make sure the BigQuery API is enabled. Page back."
   ]
  },
  {
   "cell_type": "markdown",
   "metadata": {
    "colab_type": "text",
    "id": "FYjui9nrLFZC"
   },
   "source": [
    "### Authentication\n",
    "\n",
    "Go to https://cloud.google.com/docs/authentication/production and click the button to create a service account.\n"
   ]
  },
  {
   "cell_type": "markdown",
   "metadata": {
    "colab_type": "text",
    "id": "OYryTo8SLFZE"
   },
   "source": [
    "- Fill out the form, giving the account an appropriate name, and choose \"Project Owner\" for Account Type.\n",
    "\n",
    "- Click \"Create\"."
   ]
  },
  {
   "cell_type": "markdown",
   "metadata": {
    "colab_type": "text",
    "id": "lUx6uvpALFZF"
   },
   "source": [
    "- The keys will get saved to your computer:\n",
    "- Note the location and copy the file path (of the json file) to somewhere safe, for future reference."
   ]
  },
  {
   "cell_type": "markdown",
   "metadata": {
    "colab_type": "text",
    "id": "I1MMIwTULFZH"
   },
   "source": []
  },
  {
   "cell_type": "markdown",
   "metadata": {
    "colab_type": "text",
    "id": "DnYr6eJ-LFZH"
   },
   "source": [
    "- See here for more information:\n",
    "\n",
    "https://cloud.google.com/iam/docs/understanding-service-accounts?&_ga=2.173177830.-495703703.1532572448#managing_service_account_keys "
   ]
  },
  {
   "cell_type": "markdown",
   "metadata": {
    "colab_type": "text",
    "id": "pQKOrjk8LFZI"
   },
   "source": [
    "This is supposed to get implicit key retrieval working:\n",
    "\n",
    "- Windows:\n",
    "    `set GOOGLE_APPLICATION_CREDENTIALS=[PATH]`\n",
    "    \n",
    "- Linux, MacOS:\n",
    "    `export GOOGLE_APPLICATION_CREDENTIALS=[PATH]`\n",
    "    \n",
    "where `[PATH]` is the full file path of your json key file."
   ]
  },
  {
   "cell_type": "markdown",
   "metadata": {
    "colab_type": "text",
    "id": "5pvHgwVcLFZJ"
   },
   "source": [
    "### Using the Python API\n",
    "\n",
    "Google provides Python libraries for wrapping the Google APIs. For conda users, these are available on the \"conda-forge\" channel. (There are other Python libraries for Google APIs, possibly adding novel features or ease of use, but Google's is presumably the most current.)\n",
    "\n",
    "(Installing the \"google-cloud-storage\" and \"google-cloud-bigquery\" libraries should cover all the dependences for this lab.)"
   ]
  },
  {
   "cell_type": "code",
   "execution_count": null,
   "metadata": {
    "ExecuteTime": {
     "end_time": "2019-03-28T05:07:15.373918Z",
     "start_time": "2019-03-28T05:07:15.369927Z"
    }
   },
   "outputs": [],
   "source": [
    "# conda install -c conda-forge google-cloud-storage\n",
    "# conda install -c conda-forge google-cloud-bigquery"
   ]
  },
  {
   "cell_type": "code",
   "execution_count": 1,
   "metadata": {
    "ExecuteTime": {
     "end_time": "2019-03-30T01:32:00.603278Z",
     "start_time": "2019-03-30T01:31:59.953034Z"
    },
    "colab": {},
    "colab_type": "code",
    "id": "0o5eABcXLFZL"
   },
   "outputs": [],
   "source": [
    "from google.cloud import bigquery\n",
    "from google.cloud.bigquery import Dataset\n",
    "from google.cloud import storage"
   ]
  },
  {
   "cell_type": "markdown",
   "metadata": {
    "colab_type": "text",
    "id": "olVeVnL_LFZO"
   },
   "source": [
    "If you have managed to get implicit key retrieval working, you can call `.Client()` with no argument:"
   ]
  },
  {
   "cell_type": "code",
   "execution_count": 2,
   "metadata": {
    "ExecuteTime": {
     "end_time": "2019-03-30T01:32:00.610791Z",
     "start_time": "2019-03-30T01:32:00.605253Z"
    },
    "colab": {},
    "colab_type": "code",
    "id": "qR2cXGt4LFZP"
   },
   "outputs": [],
   "source": [
    "storage_client = storage.Client()"
   ]
  },
  {
   "cell_type": "markdown",
   "metadata": {
    "colab_type": "text",
    "id": "hHZQSxxqLFZR"
   },
   "source": [
    "If you aren't so lucky, you need to invoke a method of the `.Client` object that takes the path to your key files as a string argument:"
   ]
  },
  {
   "cell_type": "code",
   "execution_count": 3,
   "metadata": {
    "ExecuteTime": {
     "end_time": "2019-03-30T01:32:00.621750Z",
     "start_time": "2019-03-30T01:32:00.613499Z"
    },
    "colab": {},
    "colab_type": "code",
    "id": "8nTBh0TvLFZR"
   },
   "outputs": [],
   "source": [
    "#key_path = '[PATH]'  # put the path to your json key file here \n",
    "#,                    (or write code to load it from a file that your notebook can easily find)\n",
    "#key_path = 'C:/GCP/blackcatdataquery-72aee38227a6.json'"
   ]
  },
  {
   "cell_type": "markdown",
   "metadata": {
    "colab_type": "text",
    "id": "0XKIHVy8LFZT"
   },
   "source": [
    "This should not throw an error if key retrieval / assignemnt worked:"
   ]
  },
  {
   "cell_type": "code",
   "execution_count": 4,
   "metadata": {
    "ExecuteTime": {
     "end_time": "2019-03-30T01:32:00.632321Z",
     "start_time": "2019-03-30T01:32:00.623943Z"
    },
    "colab": {},
    "colab_type": "code",
    "id": "gfqDJPU9LFZT"
   },
   "outputs": [],
   "source": [
    "#storage_client = storage.Client.from_service_account_json(key_path)"
   ]
  },
  {
   "cell_type": "markdown",
   "metadata": {
    "colab_type": "text",
    "id": "Z1sntjgJLFZU"
   },
   "source": [
    "*Nb. The `storage` object was used in the above example, but there are other objects of interest that have polymorphic `Client` members that are used similarly, such as `bigquery`, which is used below.*"
   ]
  },
  {
   "cell_type": "markdown",
   "metadata": {
    "colab_type": "text",
    "id": "UBEZd1KiLFZV"
   },
   "source": [
    "If implicit key retrieval is working for you, execute this:"
   ]
  },
  {
   "cell_type": "code",
   "execution_count": 5,
   "metadata": {
    "ExecuteTime": {
     "end_time": "2019-03-30T01:32:00.645149Z",
     "start_time": "2019-03-30T01:32:00.633684Z"
    },
    "colab": {},
    "colab_type": "code",
    "id": "QL7DoAX7LFZV"
   },
   "outputs": [],
   "source": [
    "client = bigquery.Client()"
   ]
  },
  {
   "cell_type": "markdown",
   "metadata": {
    "colab_type": "text",
    "id": "zSA3wp7NLFZX"
   },
   "source": [
    "if not, execute this:"
   ]
  },
  {
   "cell_type": "code",
   "execution_count": 6,
   "metadata": {
    "ExecuteTime": {
     "end_time": "2019-03-30T01:32:00.656013Z",
     "start_time": "2019-03-30T01:32:00.647286Z"
    },
    "colab": {},
    "colab_type": "code",
    "id": "ljcqTlxXLFZX"
   },
   "outputs": [],
   "source": [
    "#client = bigquery.Client.from_service_account_json(key_path)"
   ]
  },
  {
   "cell_type": "markdown",
   "metadata": {
    "colab_type": "text",
    "id": "kS1b8GXYLFZY"
   },
   "source": [
    "This client is associated with the default project (which was set or defaulted in the BigQuery UI): "
   ]
  },
  {
   "cell_type": "code",
   "execution_count": 7,
   "metadata": {
    "ExecuteTime": {
     "end_time": "2019-03-30T01:32:00.675483Z",
     "start_time": "2019-03-30T01:32:00.658190Z"
    },
    "colab": {},
    "colab_type": "code",
    "id": "LflN4IlzLFZY"
   },
   "outputs": [
    {
     "data": {
      "text/plain": [
       "'magnetic-math-233501'"
      ]
     },
     "execution_count": 7,
     "metadata": {},
     "output_type": "execute_result"
    }
   ],
   "source": [
    "client.project"
   ]
  },
  {
   "cell_type": "markdown",
   "metadata": {
    "colab_type": "text",
    "id": "BXQNVF1XLFZb"
   },
   "source": [
    "A BigQuery project contains datasets. Datasets contain tables. To get at the data in a table we need to create a reference that covers this hierarchy; in the `bigquery` library this looks like `project.dataset.table`.  \n",
    "\n",
    "(Nb. Queries can be performed on prjects and datasets, but most queries are performed on tables.)"
   ]
  },
  {
   "cell_type": "markdown",
   "metadata": {
    "colab_type": "text",
    "id": "fOtLSyBdLFZb"
   },
   "source": [
    "To explore the public datasets we will start by reassgining our `client` variable using optional `project` parameter (set to `bigquery-public-data`):"
   ]
  },
  {
   "cell_type": "code",
   "execution_count": 8,
   "metadata": {
    "ExecuteTime": {
     "end_time": "2019-03-30T01:32:00.689234Z",
     "start_time": "2019-03-30T01:32:00.677818Z"
    },
    "colab": {},
    "colab_type": "code",
    "id": "SQTQ24whLFZc"
   },
   "outputs": [
    {
     "name": "stdout",
     "output_type": "stream",
     "text": [
      "bigquery-public-data\n"
     ]
    }
   ],
   "source": [
    "#project = 'bigquery-public-data'\n",
    "client = bigquery.Client(project = 'bigquery-public-data')\n",
    "print(client.project)"
   ]
  },
  {
   "cell_type": "markdown",
   "metadata": {
    "colab_type": "text",
    "id": "ZonWy10xLFZe"
   },
   "source": [
    "Here is how to get a list of the datasets in the current project:"
   ]
  },
  {
   "cell_type": "code",
   "execution_count": 9,
   "metadata": {
    "ExecuteTime": {
     "end_time": "2019-03-30T01:32:03.067568Z",
     "start_time": "2019-03-30T01:32:00.691785Z"
    },
    "colab": {},
    "colab_type": "code",
    "id": "yQan0v1vLFZe"
   },
   "outputs": [
    {
     "name": "stdout",
     "output_type": "stream",
     "text": [
      "[<google.cloud.bigquery.dataset.DatasetListItem object at 0x7f6eb070ec18>, <google.cloud.bigquery.dataset.DatasetListItem object at 0x7f6eb070ecf8>, <google.cloud.bigquery.dataset.DatasetListItem object at 0x7f6eb070ed30>, <google.cloud.bigquery.dataset.DatasetListItem object at 0x7f6eb072fe48>, <google.cloud.bigquery.dataset.DatasetListItem object at 0x7f6eb072f208>, <google.cloud.bigquery.dataset.DatasetListItem object at 0x7f6eb072fba8>, <google.cloud.bigquery.dataset.DatasetListItem object at 0x7f6eb07475f8>, <google.cloud.bigquery.dataset.DatasetListItem object at 0x7f6eb07479b0>, <google.cloud.bigquery.dataset.DatasetListItem object at 0x7f6eb0747c88>, <google.cloud.bigquery.dataset.DatasetListItem object at 0x7f6eb0747470>, <google.cloud.bigquery.dataset.DatasetListItem object at 0x7f6eb0747b70>, <google.cloud.bigquery.dataset.DatasetListItem object at 0x7f6eb0747550>, <google.cloud.bigquery.dataset.DatasetListItem object at 0x7f6eb07475c0>, <google.cloud.bigquery.dataset.DatasetListItem object at 0x7f6eb0747518>, <google.cloud.bigquery.dataset.DatasetListItem object at 0x7f6eb07474e0>, <google.cloud.bigquery.dataset.DatasetListItem object at 0x7f6eb07474a8>, <google.cloud.bigquery.dataset.DatasetListItem object at 0x7f6eb0747a58>, <google.cloud.bigquery.dataset.DatasetListItem object at 0x7f6eb0747be0>, <google.cloud.bigquery.dataset.DatasetListItem object at 0x7f6eb0747ba8>, <google.cloud.bigquery.dataset.DatasetListItem object at 0x7f6eb0747c18>, <google.cloud.bigquery.dataset.DatasetListItem object at 0x7f6eb07478d0>, <google.cloud.bigquery.dataset.DatasetListItem object at 0x7f6eb0747a90>, <google.cloud.bigquery.dataset.DatasetListItem object at 0x7f6eafe8f748>, <google.cloud.bigquery.dataset.DatasetListItem object at 0x7f6eafe8f780>, <google.cloud.bigquery.dataset.DatasetListItem object at 0x7f6eafe8f7b8>, <google.cloud.bigquery.dataset.DatasetListItem object at 0x7f6eafe8f7f0>, <google.cloud.bigquery.dataset.DatasetListItem object at 0x7f6eafe8f828>, <google.cloud.bigquery.dataset.DatasetListItem object at 0x7f6eafe8f860>, <google.cloud.bigquery.dataset.DatasetListItem object at 0x7f6eafe8f898>, <google.cloud.bigquery.dataset.DatasetListItem object at 0x7f6eafe8f8d0>, <google.cloud.bigquery.dataset.DatasetListItem object at 0x7f6eafe8f908>, <google.cloud.bigquery.dataset.DatasetListItem object at 0x7f6eafe8f940>, <google.cloud.bigquery.dataset.DatasetListItem object at 0x7f6eafe8f978>, <google.cloud.bigquery.dataset.DatasetListItem object at 0x7f6eafe8f9b0>, <google.cloud.bigquery.dataset.DatasetListItem object at 0x7f6eafe8f9e8>, <google.cloud.bigquery.dataset.DatasetListItem object at 0x7f6eafe8fa20>, <google.cloud.bigquery.dataset.DatasetListItem object at 0x7f6eafe8fa58>, <google.cloud.bigquery.dataset.DatasetListItem object at 0x7f6eafe8fa90>, <google.cloud.bigquery.dataset.DatasetListItem object at 0x7f6eafe8fac8>, <google.cloud.bigquery.dataset.DatasetListItem object at 0x7f6eafe8fb00>, <google.cloud.bigquery.dataset.DatasetListItem object at 0x7f6eafe8fb38>, <google.cloud.bigquery.dataset.DatasetListItem object at 0x7f6eafe8fb70>, <google.cloud.bigquery.dataset.DatasetListItem object at 0x7f6eafe8fba8>, <google.cloud.bigquery.dataset.DatasetListItem object at 0x7f6eafe8fbe0>, <google.cloud.bigquery.dataset.DatasetListItem object at 0x7f6eafe8fc18>, <google.cloud.bigquery.dataset.DatasetListItem object at 0x7f6eafe8fc50>, <google.cloud.bigquery.dataset.DatasetListItem object at 0x7f6eafe8fc88>, <google.cloud.bigquery.dataset.DatasetListItem object at 0x7f6eafe8fcc0>, <google.cloud.bigquery.dataset.DatasetListItem object at 0x7f6eafe8fcf8>, <google.cloud.bigquery.dataset.DatasetListItem object at 0x7f6eafe8fd30>, <google.cloud.bigquery.dataset.DatasetListItem object at 0x7f6ed84bef98>, <google.cloud.bigquery.dataset.DatasetListItem object at 0x7f6eb070ec88>, <google.cloud.bigquery.dataset.DatasetListItem object at 0x7f6eafe8fd68>, <google.cloud.bigquery.dataset.DatasetListItem object at 0x7f6eafe8feb8>, <google.cloud.bigquery.dataset.DatasetListItem object at 0x7f6eafe8fe80>, <google.cloud.bigquery.dataset.DatasetListItem object at 0x7f6eafe8fe48>, <google.cloud.bigquery.dataset.DatasetListItem object at 0x7f6eafe8ff98>, <google.cloud.bigquery.dataset.DatasetListItem object at 0x7f6eafe8fdd8>, <google.cloud.bigquery.dataset.DatasetListItem object at 0x7f6eb0747b38>, <google.cloud.bigquery.dataset.DatasetListItem object at 0x7f6eb07476d8>, <google.cloud.bigquery.dataset.DatasetListItem object at 0x7f6eb07477b8>, <google.cloud.bigquery.dataset.DatasetListItem object at 0x7f6eb07476a0>, <google.cloud.bigquery.dataset.DatasetListItem object at 0x7f6eb0747780>, <google.cloud.bigquery.dataset.DatasetListItem object at 0x7f6eb0747748>, <google.cloud.bigquery.dataset.DatasetListItem object at 0x7f6eb0747710>, <google.cloud.bigquery.dataset.DatasetListItem object at 0x7f6eafe95048>, <google.cloud.bigquery.dataset.DatasetListItem object at 0x7f6eafe95208>, <google.cloud.bigquery.dataset.DatasetListItem object at 0x7f6eafe95400>, <google.cloud.bigquery.dataset.DatasetListItem object at 0x7f6eafe952b0>, <google.cloud.bigquery.dataset.DatasetListItem object at 0x7f6eafe95390>, <google.cloud.bigquery.dataset.DatasetListItem object at 0x7f6eafe95358>, <google.cloud.bigquery.dataset.DatasetListItem object at 0x7f6eafe95320>, <google.cloud.bigquery.dataset.DatasetListItem object at 0x7f6eafe952e8>, <google.cloud.bigquery.dataset.DatasetListItem object at 0x7f6eafe95278>, <google.cloud.bigquery.dataset.DatasetListItem object at 0x7f6eafe95d68>, <google.cloud.bigquery.dataset.DatasetListItem object at 0x7f6eafe95da0>, <google.cloud.bigquery.dataset.DatasetListItem object at 0x7f6eafe95dd8>, <google.cloud.bigquery.dataset.DatasetListItem object at 0x7f6eafe95e10>, <google.cloud.bigquery.dataset.DatasetListItem object at 0x7f6eafe95e48>, <google.cloud.bigquery.dataset.DatasetListItem object at 0x7f6eafe95e80>, <google.cloud.bigquery.dataset.DatasetListItem object at 0x7f6eafe95eb8>, <google.cloud.bigquery.dataset.DatasetListItem object at 0x7f6eafe95ef0>, <google.cloud.bigquery.dataset.DatasetListItem object at 0x7f6eafe95f28>, <google.cloud.bigquery.dataset.DatasetListItem object at 0x7f6eafe95f60>, <google.cloud.bigquery.dataset.DatasetListItem object at 0x7f6eafe95f98>, <google.cloud.bigquery.dataset.DatasetListItem object at 0x7f6eafe95fd0>, <google.cloud.bigquery.dataset.DatasetListItem object at 0x7f6eafe9e048>, <google.cloud.bigquery.dataset.DatasetListItem object at 0x7f6eafe9e080>, <google.cloud.bigquery.dataset.DatasetListItem object at 0x7f6eafe9e0b8>, <google.cloud.bigquery.dataset.DatasetListItem object at 0x7f6eafe9e0f0>, <google.cloud.bigquery.dataset.DatasetListItem object at 0x7f6eafe9e128>, <google.cloud.bigquery.dataset.DatasetListItem object at 0x7f6eafe9e160>, <google.cloud.bigquery.dataset.DatasetListItem object at 0x7f6eafe9e198>, <google.cloud.bigquery.dataset.DatasetListItem object at 0x7f6eafe9e1d0>, <google.cloud.bigquery.dataset.DatasetListItem object at 0x7f6eafe9e208>]\n"
     ]
    }
   ],
   "source": [
    "datasets = list(client.list_datasets())\n",
    "print(datasets)"
   ]
  },
  {
   "cell_type": "markdown",
   "metadata": {
    "colab_type": "text",
    "id": "_UoYS4suLFZg"
   },
   "source": [
    "That wasn't helpful. We need to go deeper into the object structure to get at something meaningful. Actually, the `dataset_id` member contains the name attribute of a `dataset` object; write some code to print that name for each member of the list that was created above:"
   ]
  },
  {
   "cell_type": "code",
   "execution_count": 10,
   "metadata": {
    "ExecuteTime": {
     "end_time": "2019-03-30T01:32:03.087271Z",
     "start_time": "2019-03-30T01:32:03.069980Z"
    },
    "colab": {},
    "colab_type": "code",
    "id": "MBV3-c21LFZi"
   },
   "outputs": [
    {
     "name": "stdout",
     "output_type": "stream",
     "text": [
      "austin_311\n",
      "austin_bikeshare\n",
      "austin_crime\n",
      "austin_incidents\n",
      "austin_waste\n",
      "baseball\n",
      "bitcoin_blockchain\n",
      "bls\n",
      "census_bureau_construction\n",
      "census_bureau_international\n",
      "census_bureau_usa\n",
      "census_fips_codes\n",
      "chicago_crime\n",
      "chicago_taxi_trips\n",
      "cloud_storage_geo_index\n",
      "cms_codes\n",
      "cms_medicare\n",
      "crypto_bitcoin\n",
      "crypto_bitcoin_cash\n",
      "crypto_dash\n",
      "crypto_dogecoin\n",
      "crypto_ethereum\n",
      "crypto_ethereum_classic\n",
      "crypto_litecoin\n",
      "crypto_zcash\n",
      "eclipse_megamovie\n",
      "epa_historical_air_quality\n",
      "ethereum_blockchain\n",
      "fda_drug\n",
      "fda_food\n",
      "fec\n",
      "genomics_cannabis\n",
      "genomics_rice\n",
      "geo_us_boundaries\n",
      "geolite2\n",
      "ghcn_d\n",
      "ghcn_m\n",
      "github_repos\n",
      "google_analytics_sample\n",
      "google_political_ads\n",
      "hacker_news\n",
      "human_genome_variants\n",
      "human_variant_annotation\n",
      "irs_990\n",
      "libraries_io\n",
      "london_bicycles\n",
      "london_crime\n",
      "london_fire_brigade\n",
      "medicare\n",
      "ml_datasets\n",
      "moon_phases\n",
      "nasa_wildfire\n",
      "ncaa_basketball\n",
      "new_york\n",
      "new_york_311\n",
      "new_york_citibike\n",
      "new_york_mv_collisions\n",
      "new_york_taxi_trips\n",
      "new_york_trees\n",
      "nhtsa_traffic_fatalities\n",
      "nlm_rxnorm\n",
      "noaa_goes16\n",
      "noaa_goes17\n",
      "noaa_gsod\n",
      "noaa_hurricanes\n",
      "noaa_icoads\n",
      "noaa_lightning\n",
      "noaa_severe_storms\n",
      "noaa_significant_earthquakes\n",
      "noaa_tsunami\n",
      "nppes\n",
      "open_images\n",
      "openaq\n",
      "samples\n",
      "san_francisco\n",
      "san_francisco_311\n",
      "san_francisco_bikeshare\n",
      "san_francisco_film_locations\n",
      "san_francisco_sffd_service_calls\n",
      "san_francisco_sfpd_incidents\n",
      "san_francisco_trees\n",
      "sec_quarterly_financials\n",
      "stackoverflow\n",
      "sunroof_solar\n",
      "the_met\n",
      "un_sdg\n",
      "usa_names\n",
      "usda_nass_agriculture\n",
      "usfs_fia\n",
      "utility_eu\n",
      "utility_us\n",
      "world_bank_health_population\n",
      "world_bank_intl_debt\n",
      "world_bank_intl_education\n",
      "world_bank_wdi\n"
     ]
    }
   ],
   "source": [
    "for dataset in datasets:\n",
    "    print(dataset.dataset_id)"
   ]
  },
  {
   "cell_type": "markdown",
   "metadata": {
    "colab_type": "text",
    "id": "1VKuobUSLFZk"
   },
   "source": [
    "The google API objects in the `bigquery` library have their own overloads of the format() function that make them easier to read. Below is a function that exploits the `format` method of `project` and `dataset_id`, providing an easy way to list datasets:"
   ]
  },
  {
   "cell_type": "code",
   "execution_count": 11,
   "metadata": {
    "ExecuteTime": {
     "end_time": "2019-03-30T01:32:03.103451Z",
     "start_time": "2019-03-30T01:32:03.090849Z"
    },
    "colab": {},
    "colab_type": "code",
    "id": "obqd0X0vLFZl"
   },
   "outputs": [],
   "source": [
    "# function for listing datasets in a project:\n",
    "def printDatasetList(client):\n",
    "    project = client.project    #: only one project can be associated with a client instance\n",
    "    datasets = list(client.list_datasets())\n",
    "    if datasets:\n",
    "        print('Datasets in project {}:'.format(project))\n",
    "        for dataset in datasets:  \n",
    "            print('\\t{}'.format(dataset.dataset_id))\n",
    "        found = True\n",
    "    else:\n",
    "        print('{} project does not contain any datasets.'.format(project))\n",
    "        found = False\n",
    "    return found"
   ]
  },
  {
   "cell_type": "code",
   "execution_count": 12,
   "metadata": {
    "ExecuteTime": {
     "end_time": "2019-03-30T01:32:04.499383Z",
     "start_time": "2019-03-30T01:32:03.106662Z"
    },
    "colab": {},
    "colab_type": "code",
    "id": "TcS8DXenLFZn"
   },
   "outputs": [
    {
     "name": "stdout",
     "output_type": "stream",
     "text": [
      "Datasets in project bigquery-public-data:\n",
      "\taustin_311\n",
      "\taustin_bikeshare\n",
      "\taustin_crime\n",
      "\taustin_incidents\n",
      "\taustin_waste\n",
      "\tbaseball\n",
      "\tbitcoin_blockchain\n",
      "\tbls\n",
      "\tcensus_bureau_construction\n",
      "\tcensus_bureau_international\n",
      "\tcensus_bureau_usa\n",
      "\tcensus_fips_codes\n",
      "\tchicago_crime\n",
      "\tchicago_taxi_trips\n",
      "\tcloud_storage_geo_index\n",
      "\tcms_codes\n",
      "\tcms_medicare\n",
      "\tcrypto_bitcoin\n",
      "\tcrypto_bitcoin_cash\n",
      "\tcrypto_dash\n",
      "\tcrypto_dogecoin\n",
      "\tcrypto_ethereum\n",
      "\tcrypto_ethereum_classic\n",
      "\tcrypto_litecoin\n",
      "\tcrypto_zcash\n",
      "\teclipse_megamovie\n",
      "\tepa_historical_air_quality\n",
      "\tethereum_blockchain\n",
      "\tfda_drug\n",
      "\tfda_food\n",
      "\tfec\n",
      "\tgenomics_cannabis\n",
      "\tgenomics_rice\n",
      "\tgeo_us_boundaries\n",
      "\tgeolite2\n",
      "\tghcn_d\n",
      "\tghcn_m\n",
      "\tgithub_repos\n",
      "\tgoogle_analytics_sample\n",
      "\tgoogle_political_ads\n",
      "\thacker_news\n",
      "\thuman_genome_variants\n",
      "\thuman_variant_annotation\n",
      "\tirs_990\n",
      "\tlibraries_io\n",
      "\tlondon_bicycles\n",
      "\tlondon_crime\n",
      "\tlondon_fire_brigade\n",
      "\tmedicare\n",
      "\tml_datasets\n",
      "\tmoon_phases\n",
      "\tnasa_wildfire\n",
      "\tncaa_basketball\n",
      "\tnew_york\n",
      "\tnew_york_311\n",
      "\tnew_york_citibike\n",
      "\tnew_york_mv_collisions\n",
      "\tnew_york_taxi_trips\n",
      "\tnew_york_trees\n",
      "\tnhtsa_traffic_fatalities\n",
      "\tnlm_rxnorm\n",
      "\tnoaa_goes16\n",
      "\tnoaa_goes17\n",
      "\tnoaa_gsod\n",
      "\tnoaa_hurricanes\n",
      "\tnoaa_icoads\n",
      "\tnoaa_lightning\n",
      "\tnoaa_severe_storms\n",
      "\tnoaa_significant_earthquakes\n",
      "\tnoaa_tsunami\n",
      "\tnppes\n",
      "\topen_images\n",
      "\topenaq\n",
      "\tsamples\n",
      "\tsan_francisco\n",
      "\tsan_francisco_311\n",
      "\tsan_francisco_bikeshare\n",
      "\tsan_francisco_film_locations\n",
      "\tsan_francisco_sffd_service_calls\n",
      "\tsan_francisco_sfpd_incidents\n",
      "\tsan_francisco_trees\n",
      "\tsec_quarterly_financials\n",
      "\tstackoverflow\n",
      "\tsunroof_solar\n",
      "\tthe_met\n",
      "\tun_sdg\n",
      "\tusa_names\n",
      "\tusda_nass_agriculture\n",
      "\tusfs_fia\n",
      "\tutility_eu\n",
      "\tutility_us\n",
      "\tworld_bank_health_population\n",
      "\tworld_bank_intl_debt\n",
      "\tworld_bank_intl_education\n",
      "\tworld_bank_wdi\n"
     ]
    }
   ],
   "source": [
    "# list datasets in the default project:\n",
    "flag = printDatasetList(client)  #: assigning to `flag` suppresses printing the return value (normally `True`)"
   ]
  },
  {
   "cell_type": "markdown",
   "metadata": {
    "colab_type": "text",
    "id": "81uawTW5LFZo"
   },
   "source": [
    "This list should correspond to what is shown here https://bigquery.cloud.google.com/publicdatasets under the **bigquery-public-data** item."
   ]
  },
  {
   "cell_type": "markdown",
   "metadata": {
    "colab_type": "text",
    "id": "bEAfjVxOLFZo"
   },
   "source": [
    "Here is how to create a dataset reference object by assigning a project and a dataset name:"
   ]
  },
  {
   "cell_type": "code",
   "execution_count": 13,
   "metadata": {
    "ExecuteTime": {
     "end_time": "2019-03-30T01:32:04.555991Z",
     "start_time": "2019-03-30T01:32:04.543553Z"
    },
    "colab": {},
    "colab_type": "code",
    "id": "ZrSaLIkWLFZo"
   },
   "outputs": [],
   "source": [
    "dataset_id = 'samples'\n",
    "dataset_ref = client.dataset(dataset_id)"
   ]
  },
  {
   "cell_type": "markdown",
   "metadata": {
    "colab_type": "text",
    "id": "5BlLbSA7LFZp"
   },
   "source": [
    "If our current project was something other than `bigquery-public-data`, we could still create this reference by specifying the project that contains the dataset:"
   ]
  },
  {
   "cell_type": "code",
   "execution_count": 14,
   "metadata": {
    "ExecuteTime": {
     "end_time": "2019-03-30T01:32:04.578512Z",
     "start_time": "2019-03-30T01:32:04.569354Z"
    },
    "colab": {},
    "colab_type": "code",
    "id": "NJK5yM9BLFZq"
   },
   "outputs": [],
   "source": [
    "dataset_id = 'samples'\n",
    "dataset_ref = client.dataset(dataset_id, project = 'bigquery-public-data')"
   ]
  },
  {
   "cell_type": "markdown",
   "metadata": {
    "colab_type": "text",
    "id": "6_fYqMyGLFZr"
   },
   "source": [
    "How can we get the path of the dataset?"
   ]
  },
  {
   "cell_type": "code",
   "execution_count": 15,
   "metadata": {
    "ExecuteTime": {
     "end_time": "2019-03-30T01:32:04.603357Z",
     "start_time": "2019-03-30T01:32:04.585868Z"
    },
    "colab": {},
    "colab_type": "code",
    "id": "otqzZohpLFZs"
   },
   "outputs": [
    {
     "data": {
      "text/plain": [
       "'/projects/bigquery-public-data/datasets/samples'"
      ]
     },
     "execution_count": 15,
     "metadata": {},
     "output_type": "execute_result"
    }
   ],
   "source": [
    "dataset_ref.path"
   ]
  },
  {
   "cell_type": "markdown",
   "metadata": {
    "colab_type": "text",
    "id": "dRzK-hTuLFZt"
   },
   "source": [
    "Explore more of this object's members:\n",
    "\n",
    "*(HINT: Jupyter Notebooks does not support code completion, but Spyder and other Python IDEs do. If you copy all the above code to a Python file within the IDE, you can type `dataset_ref.` in a new line, then hit the [Tab] key to see the available members for the object.)*"
   ]
  },
  {
   "cell_type": "markdown",
   "metadata": {
    "colab_type": "text",
    "id": "NZB6yeerLFZu"
   },
   "source": [
    "Here is a function for listing the tables in a dataset: "
   ]
  },
  {
   "cell_type": "code",
   "execution_count": 16,
   "metadata": {
    "ExecuteTime": {
     "end_time": "2019-03-30T01:32:04.619815Z",
     "start_time": "2019-03-30T01:32:04.606454Z"
    },
    "colab": {},
    "colab_type": "code",
    "id": "_E5S-MhtLFZu"
   },
   "outputs": [],
   "source": [
    "# function for listing tables in a dataset:\n",
    "def printTableList(client, dataset_id):\n",
    "    project = client.project\n",
    "    dataset_ref = client.dataset(dataset_id, project = project)    \n",
    "    tables = list(client.list_tables(dataset_ref))\n",
    "    if tables:\n",
    "        print('Tables in dataset {}:'.format(dataset_id))\n",
    "        for table in tables: \n",
    "            print('\\t{}'.format(table.table_id))\n",
    "        found = True\n",
    "    else:\n",
    "        print('{} dataset does not contain any tables.'.format(dataset_id))\n",
    "        found = False\n",
    "    return found"
   ]
  },
  {
   "cell_type": "markdown",
   "metadata": {
    "colab_type": "text",
    "id": "ksp2VbNcLFZv"
   },
   "source": [
    "Use this function to list the tables in the current dataset:"
   ]
  },
  {
   "cell_type": "code",
   "execution_count": 17,
   "metadata": {
    "ExecuteTime": {
     "end_time": "2019-03-30T01:32:05.220611Z",
     "start_time": "2019-03-30T01:32:04.621744Z"
    },
    "colab": {},
    "colab_type": "code",
    "id": "F2KEisFzLFZv"
   },
   "outputs": [
    {
     "name": "stdout",
     "output_type": "stream",
     "text": [
      "Tables in dataset samples:\n",
      "\tgithub_nested\n",
      "\tgithub_timeline\n",
      "\tgsod\n",
      "\tmodel\n",
      "\tnatality\n",
      "\tshakespeare\n",
      "\ttrigrams\n",
      "\twikipedia\n"
     ]
    },
    {
     "data": {
      "text/plain": [
       "True"
      ]
     },
     "execution_count": 17,
     "metadata": {},
     "output_type": "execute_result"
    }
   ],
   "source": [
    "printTableList(client, dataset_id)"
   ]
  },
  {
   "cell_type": "markdown",
   "metadata": {
    "colab_type": "text",
    "id": "XoZPwFx1LFZx"
   },
   "source": [
    "To create a reference to a table within the dataset, we use the `table_id` attribute:"
   ]
  },
  {
   "cell_type": "code",
   "execution_count": 18,
   "metadata": {
    "ExecuteTime": {
     "end_time": "2019-03-30T01:32:05.226573Z",
     "start_time": "2019-03-30T01:32:05.223063Z"
    },
    "colab": {},
    "colab_type": "code",
    "id": "rYXUHik0LFZx"
   },
   "outputs": [],
   "source": [
    "table_id = 'shakespeare'\n",
    "table_ref = dataset_ref.table(table_id)"
   ]
  },
  {
   "cell_type": "markdown",
   "metadata": {
    "colab_type": "text",
    "id": "3MZOaAuiLFZy"
   },
   "source": [
    "Check the name of the table that `table_ref` now points to:"
   ]
  },
  {
   "cell_type": "code",
   "execution_count": 19,
   "metadata": {
    "ExecuteTime": {
     "end_time": "2019-03-30T01:32:05.242271Z",
     "start_time": "2019-03-30T01:32:05.228188Z"
    },
    "colab": {},
    "colab_type": "code",
    "id": "6B9AAg4tLFZz"
   },
   "outputs": [
    {
     "data": {
      "text/plain": [
       "'shakespeare'"
      ]
     },
     "execution_count": 19,
     "metadata": {},
     "output_type": "execute_result"
    }
   ],
   "source": [
    "table_ref.table_id"
   ]
  },
  {
   "cell_type": "markdown",
   "metadata": {
    "colab_type": "text",
    "id": "gOo7O5lVLFZ0"
   },
   "source": [
    "To access the data in the table itself, we use the `get_table()` method:"
   ]
  },
  {
   "cell_type": "code",
   "execution_count": 20,
   "metadata": {
    "ExecuteTime": {
     "end_time": "2019-03-30T01:32:05.852572Z",
     "start_time": "2019-03-30T01:32:05.244489Z"
    },
    "colab": {},
    "colab_type": "code",
    "id": "rjnXTIoULFZ0"
   },
   "outputs": [],
   "source": [
    "table = client.get_table(table_ref)  # API Request"
   ]
  },
  {
   "cell_type": "markdown",
   "metadata": {
    "colab_type": "text",
    "id": "Ggy5pIrYLFZ2"
   },
   "source": [
    "NOTE: The contents of the table are not actually in our memory after this call! We are working with a Big Data platform, now, and we could easily end up pulling GBs or TBs of data by accident. \n",
    "\n",
    "To minimise data bandwidth, memory consumption, and processing time, Big Data platforms employ ***lazy evaluation***. This means that no computation or data transfer actually takes place until we *realise* (use) the data. Even if we execute subsequent code that performs calculations on the data, no data flow or computation actually occurs until we request output (e.g. by executing a print to stdout or writing to a file). "
   ]
  },
  {
   "cell_type": "markdown",
   "metadata": {
    "colab_type": "text",
    "id": "5Sa9uV6tLFZ2"
   },
   "source": [
    "What kind of object is returned by `client.get_table`?"
   ]
  },
  {
   "cell_type": "code",
   "execution_count": 21,
   "metadata": {
    "ExecuteTime": {
     "end_time": "2019-03-30T01:32:05.877538Z",
     "start_time": "2019-03-30T01:32:05.868005Z"
    },
    "colab": {},
    "colab_type": "code",
    "id": "cdmNEp6ZLFZ3"
   },
   "outputs": [
    {
     "data": {
      "text/plain": [
       "google.cloud.bigquery.table.Table"
      ]
     },
     "execution_count": 21,
     "metadata": {},
     "output_type": "execute_result"
    }
   ],
   "source": [
    "#?\n",
    "type(table)"
   ]
  },
  {
   "cell_type": "markdown",
   "metadata": {
    "colab_type": "text",
    "id": "rcaJMPCNLFZ4"
   },
   "source": [
    "How can we view the design of the table (cOlumn names and types? The name of the boject attribute we need is the same term we learned in the module on databases:"
   ]
  },
  {
   "cell_type": "code",
   "execution_count": 22,
   "metadata": {
    "ExecuteTime": {
     "end_time": "2019-03-30T01:32:05.892183Z",
     "start_time": "2019-03-30T01:32:05.883414Z"
    },
    "colab": {},
    "colab_type": "code",
    "id": "gt4FQZ88LFZ4"
   },
   "outputs": [
    {
     "data": {
      "text/plain": [
       "[SchemaField('word', 'STRING', 'REQUIRED', 'A single unique word (where whitespace is the delimiter) extracted from a corpus.', ()),\n",
       " SchemaField('word_count', 'INTEGER', 'REQUIRED', 'The number of times this word appears in this corpus.', ()),\n",
       " SchemaField('corpus', 'STRING', 'REQUIRED', 'The work from which this word was extracted.', ()),\n",
       " SchemaField('corpus_date', 'INTEGER', 'REQUIRED', 'The year in which this corpus was published.', ())]"
      ]
     },
     "execution_count": 22,
     "metadata": {},
     "output_type": "execute_result"
    }
   ],
   "source": [
    "table.schema"
   ]
  },
  {
   "cell_type": "markdown",
   "metadata": {
    "colab_type": "text",
    "id": "FfaKrQRSLFZ6"
   },
   "source": [
    "Again, this is messy. If we wanted to refer to the column names and types in code, we might use something like this (which we could then parse into a dict):"
   ]
  },
  {
   "cell_type": "code",
   "execution_count": 23,
   "metadata": {
    "ExecuteTime": {
     "end_time": "2019-03-30T01:32:05.921656Z",
     "start_time": "2019-03-30T01:32:05.904281Z"
    },
    "colab": {},
    "colab_type": "code",
    "id": "8187Fu57LFZ6"
   },
   "outputs": [
    {
     "name": "stdout",
     "output_type": "stream",
     "text": [
      "['word STRING', 'word_count INTEGER', 'corpus STRING', 'corpus_date INTEGER']\n"
     ]
    }
   ],
   "source": [
    "result = [\"{0} {1}\".format(schema.name,schema.field_type) for schema in table.schema]\n",
    "print(result)"
   ]
  },
  {
   "cell_type": "markdown",
   "metadata": {
    "colab_type": "text",
    "id": "ZQz7xhfwLFZ7"
   },
   "source": [
    "But if we just want to print them, here is another neat function for that:"
   ]
  },
  {
   "cell_type": "code",
   "execution_count": 24,
   "metadata": {
    "ExecuteTime": {
     "end_time": "2019-03-30T01:32:05.932544Z",
     "start_time": "2019-03-30T01:32:05.926037Z"
    },
    "colab": {},
    "colab_type": "code",
    "id": "_LqvAXo3LFZ7"
   },
   "outputs": [],
   "source": [
    "# function to print a table schema:\n",
    "def printTableSchema(aTable):\n",
    "    schemas = list(aTable.schema)\n",
    "    if schemas:\n",
    "        print('Table schema for {}:'.format(aTable.table_id))\n",
    "        for aSchema in schemas:\n",
    "            print('\\t{0} {1}'.format(aSchema.name, aSchema.field_type))\n",
    "        found = True\n",
    "    else:\n",
    "        found = False\n",
    "    return found"
   ]
  },
  {
   "cell_type": "markdown",
   "metadata": {
    "colab_type": "text",
    "id": "SROTDIm8LFZ8"
   },
   "source": [
    "Use this function to print the table schema:"
   ]
  },
  {
   "cell_type": "code",
   "execution_count": 25,
   "metadata": {
    "ExecuteTime": {
     "end_time": "2019-03-30T01:32:05.946708Z",
     "start_time": "2019-03-30T01:32:05.934694Z"
    },
    "colab": {},
    "colab_type": "code",
    "id": "DpmWRmXmLFZ9"
   },
   "outputs": [
    {
     "name": "stdout",
     "output_type": "stream",
     "text": [
      "Table schema for shakespeare:\n",
      "\tword STRING\n",
      "\tword_count INTEGER\n",
      "\tcorpus STRING\n",
      "\tcorpus_date INTEGER\n"
     ]
    },
    {
     "data": {
      "text/plain": [
       "True"
      ]
     },
     "execution_count": 25,
     "metadata": {},
     "output_type": "execute_result"
    }
   ],
   "source": [
    "printTableSchema(table)"
   ]
  },
  {
   "cell_type": "markdown",
   "metadata": {
    "colab_type": "text",
    "id": "Q1YugUUhLFZ-"
   },
   "source": [
    "Now that we know what the columns are, we can write queries. Actually, we construct a query job by assigning an SQL statement to a method of the `client` object:"
   ]
  },
  {
   "cell_type": "code",
   "execution_count": 26,
   "metadata": {
    "ExecuteTime": {
     "end_time": "2019-03-30T01:32:06.585537Z",
     "start_time": "2019-03-30T01:32:05.948903Z"
    },
    "colab": {},
    "colab_type": "code",
    "id": "Gq7cGALfLFZ-"
   },
   "outputs": [
    {
     "ename": "Forbidden",
     "evalue": "403 POST https://www.googleapis.com/bigquery/v2/projects/bigquery-public-data/jobs: Access Denied: Project bigquery-public-data: The user maiiam-service@magnetic-math-233501.iam.gserviceaccount.com does not have bigquery.jobs.create permission in project bigquery-public-data.",
     "output_type": "error",
     "traceback": [
      "\u001b[0;31m---------------------------------------------------------------------------\u001b[0m",
      "\u001b[0;31mForbidden\u001b[0m                                 Traceback (most recent call last)",
      "\u001b[0;32m<ipython-input-26-7b84bddb1973>\u001b[0m in \u001b[0;36m<module>\u001b[0;34m\u001b[0m\n\u001b[1;32m      1\u001b[0m \u001b[0msql\u001b[0m \u001b[0;34m=\u001b[0m \u001b[0;34m\"SELECT COUNT(1) FROM `bigquery-public-data.samples.shakespeare`\"\u001b[0m\u001b[0;34m\u001b[0m\u001b[0;34m\u001b[0m\u001b[0m\n\u001b[0;32m----> 2\u001b[0;31m \u001b[0mquery_job\u001b[0m \u001b[0;34m=\u001b[0m \u001b[0mclient\u001b[0m\u001b[0;34m.\u001b[0m\u001b[0mquery\u001b[0m\u001b[0;34m(\u001b[0m\u001b[0msql\u001b[0m\u001b[0;34m)\u001b[0m\u001b[0;34m\u001b[0m\u001b[0;34m\u001b[0m\u001b[0m\n\u001b[0m",
      "\u001b[0;32m~/miniconda3/envs/datsci/lib/python3.6/site-packages/google/cloud/bigquery/client.py\u001b[0m in \u001b[0;36mquery\u001b[0;34m(self, query, job_config, job_id, job_id_prefix, location, project, retry)\u001b[0m\n\u001b[1;32m   1474\u001b[0m         \u001b[0mjob_ref\u001b[0m \u001b[0;34m=\u001b[0m \u001b[0mjob\u001b[0m\u001b[0;34m.\u001b[0m\u001b[0m_JobReference\u001b[0m\u001b[0;34m(\u001b[0m\u001b[0mjob_id\u001b[0m\u001b[0;34m,\u001b[0m \u001b[0mproject\u001b[0m\u001b[0;34m=\u001b[0m\u001b[0mproject\u001b[0m\u001b[0;34m,\u001b[0m \u001b[0mlocation\u001b[0m\u001b[0;34m=\u001b[0m\u001b[0mlocation\u001b[0m\u001b[0;34m)\u001b[0m\u001b[0;34m\u001b[0m\u001b[0;34m\u001b[0m\u001b[0m\n\u001b[1;32m   1475\u001b[0m         \u001b[0mquery_job\u001b[0m \u001b[0;34m=\u001b[0m \u001b[0mjob\u001b[0m\u001b[0;34m.\u001b[0m\u001b[0mQueryJob\u001b[0m\u001b[0;34m(\u001b[0m\u001b[0mjob_ref\u001b[0m\u001b[0;34m,\u001b[0m \u001b[0mquery\u001b[0m\u001b[0;34m,\u001b[0m \u001b[0mclient\u001b[0m\u001b[0;34m=\u001b[0m\u001b[0mself\u001b[0m\u001b[0;34m,\u001b[0m \u001b[0mjob_config\u001b[0m\u001b[0;34m=\u001b[0m\u001b[0mjob_config\u001b[0m\u001b[0;34m)\u001b[0m\u001b[0;34m\u001b[0m\u001b[0;34m\u001b[0m\u001b[0m\n\u001b[0;32m-> 1476\u001b[0;31m         \u001b[0mquery_job\u001b[0m\u001b[0;34m.\u001b[0m\u001b[0m_begin\u001b[0m\u001b[0;34m(\u001b[0m\u001b[0mretry\u001b[0m\u001b[0;34m=\u001b[0m\u001b[0mretry\u001b[0m\u001b[0;34m)\u001b[0m\u001b[0;34m\u001b[0m\u001b[0;34m\u001b[0m\u001b[0m\n\u001b[0m\u001b[1;32m   1477\u001b[0m \u001b[0;34m\u001b[0m\u001b[0m\n\u001b[1;32m   1478\u001b[0m         \u001b[0;32mreturn\u001b[0m \u001b[0mquery_job\u001b[0m\u001b[0;34m\u001b[0m\u001b[0;34m\u001b[0m\u001b[0m\n",
      "\u001b[0;32m~/miniconda3/envs/datsci/lib/python3.6/site-packages/google/cloud/bigquery/job.py\u001b[0m in \u001b[0;36m_begin\u001b[0;34m(self, client, retry)\u001b[0m\n\u001b[1;32m    551\u001b[0m         \u001b[0;31m# job has an ID.\u001b[0m\u001b[0;34m\u001b[0m\u001b[0;34m\u001b[0m\u001b[0;34m\u001b[0m\u001b[0m\n\u001b[1;32m    552\u001b[0m         api_response = client._call_api(\n\u001b[0;32m--> 553\u001b[0;31m             \u001b[0mretry\u001b[0m\u001b[0;34m,\u001b[0m \u001b[0mmethod\u001b[0m\u001b[0;34m=\u001b[0m\u001b[0;34m\"POST\"\u001b[0m\u001b[0;34m,\u001b[0m \u001b[0mpath\u001b[0m\u001b[0;34m=\u001b[0m\u001b[0mpath\u001b[0m\u001b[0;34m,\u001b[0m \u001b[0mdata\u001b[0m\u001b[0;34m=\u001b[0m\u001b[0mself\u001b[0m\u001b[0;34m.\u001b[0m\u001b[0mto_api_repr\u001b[0m\u001b[0;34m(\u001b[0m\u001b[0;34m)\u001b[0m\u001b[0;34m\u001b[0m\u001b[0;34m\u001b[0m\u001b[0m\n\u001b[0m\u001b[1;32m    554\u001b[0m         )\n\u001b[1;32m    555\u001b[0m         \u001b[0mself\u001b[0m\u001b[0;34m.\u001b[0m\u001b[0m_set_properties\u001b[0m\u001b[0;34m(\u001b[0m\u001b[0mapi_response\u001b[0m\u001b[0;34m)\u001b[0m\u001b[0;34m\u001b[0m\u001b[0;34m\u001b[0m\u001b[0m\n",
      "\u001b[0;32m~/miniconda3/envs/datsci/lib/python3.6/site-packages/google/cloud/bigquery/client.py\u001b[0m in \u001b[0;36m_call_api\u001b[0;34m(self, retry, **kwargs)\u001b[0m\n\u001b[1;32m    398\u001b[0m         \u001b[0;32mif\u001b[0m \u001b[0mretry\u001b[0m\u001b[0;34m:\u001b[0m\u001b[0;34m\u001b[0m\u001b[0;34m\u001b[0m\u001b[0m\n\u001b[1;32m    399\u001b[0m             \u001b[0mcall\u001b[0m \u001b[0;34m=\u001b[0m \u001b[0mretry\u001b[0m\u001b[0;34m(\u001b[0m\u001b[0mcall\u001b[0m\u001b[0;34m)\u001b[0m\u001b[0;34m\u001b[0m\u001b[0;34m\u001b[0m\u001b[0m\n\u001b[0;32m--> 400\u001b[0;31m         \u001b[0;32mreturn\u001b[0m \u001b[0mcall\u001b[0m\u001b[0;34m(\u001b[0m\u001b[0;34m)\u001b[0m\u001b[0;34m\u001b[0m\u001b[0;34m\u001b[0m\u001b[0m\n\u001b[0m\u001b[1;32m    401\u001b[0m \u001b[0;34m\u001b[0m\u001b[0m\n\u001b[1;32m    402\u001b[0m     \u001b[0;32mdef\u001b[0m \u001b[0mget_dataset\u001b[0m\u001b[0;34m(\u001b[0m\u001b[0mself\u001b[0m\u001b[0;34m,\u001b[0m \u001b[0mdataset_ref\u001b[0m\u001b[0;34m,\u001b[0m \u001b[0mretry\u001b[0m\u001b[0;34m=\u001b[0m\u001b[0mDEFAULT_RETRY\u001b[0m\u001b[0;34m)\u001b[0m\u001b[0;34m:\u001b[0m\u001b[0;34m\u001b[0m\u001b[0;34m\u001b[0m\u001b[0m\n",
      "\u001b[0;32m~/miniconda3/envs/datsci/lib/python3.6/site-packages/google/api_core/retry.py\u001b[0m in \u001b[0;36mretry_wrapped_func\u001b[0;34m(*args, **kwargs)\u001b[0m\n\u001b[1;32m    268\u001b[0m                 \u001b[0msleep_generator\u001b[0m\u001b[0;34m,\u001b[0m\u001b[0;34m\u001b[0m\u001b[0;34m\u001b[0m\u001b[0m\n\u001b[1;32m    269\u001b[0m                 \u001b[0mself\u001b[0m\u001b[0;34m.\u001b[0m\u001b[0m_deadline\u001b[0m\u001b[0;34m,\u001b[0m\u001b[0;34m\u001b[0m\u001b[0;34m\u001b[0m\u001b[0m\n\u001b[0;32m--> 270\u001b[0;31m                 \u001b[0mon_error\u001b[0m\u001b[0;34m=\u001b[0m\u001b[0mon_error\u001b[0m\u001b[0;34m,\u001b[0m\u001b[0;34m\u001b[0m\u001b[0;34m\u001b[0m\u001b[0m\n\u001b[0m\u001b[1;32m    271\u001b[0m             )\n\u001b[1;32m    272\u001b[0m \u001b[0;34m\u001b[0m\u001b[0m\n",
      "\u001b[0;32m~/miniconda3/envs/datsci/lib/python3.6/site-packages/google/api_core/retry.py\u001b[0m in \u001b[0;36mretry_target\u001b[0;34m(target, predicate, sleep_generator, deadline, on_error)\u001b[0m\n\u001b[1;32m    177\u001b[0m     \u001b[0;32mfor\u001b[0m \u001b[0msleep\u001b[0m \u001b[0;32min\u001b[0m \u001b[0msleep_generator\u001b[0m\u001b[0;34m:\u001b[0m\u001b[0;34m\u001b[0m\u001b[0;34m\u001b[0m\u001b[0m\n\u001b[1;32m    178\u001b[0m         \u001b[0;32mtry\u001b[0m\u001b[0;34m:\u001b[0m\u001b[0;34m\u001b[0m\u001b[0;34m\u001b[0m\u001b[0m\n\u001b[0;32m--> 179\u001b[0;31m             \u001b[0;32mreturn\u001b[0m \u001b[0mtarget\u001b[0m\u001b[0;34m(\u001b[0m\u001b[0;34m)\u001b[0m\u001b[0;34m\u001b[0m\u001b[0;34m\u001b[0m\u001b[0m\n\u001b[0m\u001b[1;32m    180\u001b[0m \u001b[0;34m\u001b[0m\u001b[0m\n\u001b[1;32m    181\u001b[0m         \u001b[0;31m# pylint: disable=broad-except\u001b[0m\u001b[0;34m\u001b[0m\u001b[0;34m\u001b[0m\u001b[0;34m\u001b[0m\u001b[0m\n",
      "\u001b[0;32m~/miniconda3/envs/datsci/lib/python3.6/site-packages/google/cloud/_http.py\u001b[0m in \u001b[0;36mapi_request\u001b[0;34m(self, method, path, query_params, data, content_type, headers, api_base_url, api_version, expect_json, _target_object)\u001b[0m\n\u001b[1;32m    317\u001b[0m \u001b[0;34m\u001b[0m\u001b[0m\n\u001b[1;32m    318\u001b[0m         \u001b[0;32mif\u001b[0m \u001b[0;32mnot\u001b[0m \u001b[0;36m200\u001b[0m \u001b[0;34m<=\u001b[0m \u001b[0mresponse\u001b[0m\u001b[0;34m.\u001b[0m\u001b[0mstatus_code\u001b[0m \u001b[0;34m<\u001b[0m \u001b[0;36m300\u001b[0m\u001b[0;34m:\u001b[0m\u001b[0;34m\u001b[0m\u001b[0;34m\u001b[0m\u001b[0m\n\u001b[0;32m--> 319\u001b[0;31m             \u001b[0;32mraise\u001b[0m \u001b[0mexceptions\u001b[0m\u001b[0;34m.\u001b[0m\u001b[0mfrom_http_response\u001b[0m\u001b[0;34m(\u001b[0m\u001b[0mresponse\u001b[0m\u001b[0;34m)\u001b[0m\u001b[0;34m\u001b[0m\u001b[0;34m\u001b[0m\u001b[0m\n\u001b[0m\u001b[1;32m    320\u001b[0m \u001b[0;34m\u001b[0m\u001b[0m\n\u001b[1;32m    321\u001b[0m         \u001b[0;32mif\u001b[0m \u001b[0mexpect_json\u001b[0m \u001b[0;32mand\u001b[0m \u001b[0mresponse\u001b[0m\u001b[0;34m.\u001b[0m\u001b[0mcontent\u001b[0m\u001b[0;34m:\u001b[0m\u001b[0;34m\u001b[0m\u001b[0;34m\u001b[0m\u001b[0m\n",
      "\u001b[0;31mForbidden\u001b[0m: 403 POST https://www.googleapis.com/bigquery/v2/projects/bigquery-public-data/jobs: Access Denied: Project bigquery-public-data: The user maiiam-service@magnetic-math-233501.iam.gserviceaccount.com does not have bigquery.jobs.create permission in project bigquery-public-data."
     ]
    }
   ],
   "source": [
    "sql = \"SELECT COUNT(1) FROM `bigquery-public-data.samples.shakespeare`\"\n",
    "query_job = client.query(sql)"
   ]
  },
  {
   "cell_type": "markdown",
   "metadata": {
    "colab_type": "text",
    "id": "DJVssU3mLFZ_"
   },
   "source": [
    "Why does this throw an error?"
   ]
  },
  {
   "cell_type": "markdown",
   "metadata": {
    "colab_type": "text",
    "id": "4feq3JaqLFZ_"
   },
   "source": [
    "ANSWER: \n",
    "\n",
    "My account does not have permission to create data for `big-query-public-data`.\n",
    "_____________________________________________________\n",
    "\n",
    "So, what can we do?"
   ]
  },
  {
   "cell_type": "code",
   "execution_count": 27,
   "metadata": {
    "ExecuteTime": {
     "end_time": "2019-03-30T01:32:19.947870Z",
     "start_time": "2019-03-30T01:32:18.605805Z"
    },
    "colab": {},
    "colab_type": "code",
    "id": "hCVH3AxrLFaA"
   },
   "outputs": [],
   "source": [
    "# Point client to own project name:\n",
    "\n",
    "project_name = 'magnetic-math-233501'\n",
    "client = bigquery.Client(project = project_name)\n",
    "\n",
    "# Execute query\n",
    "\n",
    "sql = \"SELECT COUNT(1) FROM `bigquery-public-data.samples.shakespeare`\"\n",
    "query_job = client.query(sql)"
   ]
  },
  {
   "cell_type": "markdown",
   "metadata": {
    "colab_type": "text",
    "id": "TTfuF8J0LFaA"
   },
   "source": [
    "If that worked, show what query_job is:"
   ]
  },
  {
   "cell_type": "code",
   "execution_count": 28,
   "metadata": {
    "ExecuteTime": {
     "end_time": "2019-03-30T01:32:22.102454Z",
     "start_time": "2019-03-30T01:32:22.097425Z"
    },
    "colab": {},
    "colab_type": "code",
    "id": "ZmiGhS0ALFaA"
   },
   "outputs": [
    {
     "data": {
      "text/plain": [
       "google.cloud.bigquery.job.QueryJob"
      ]
     },
     "execution_count": 28,
     "metadata": {},
     "output_type": "execute_result"
    }
   ],
   "source": [
    "type(query_job)"
   ]
  },
  {
   "cell_type": "markdown",
   "metadata": {
    "colab_type": "text",
    "id": "Src6_5auLFaB"
   },
   "source": [
    "Once again, due to lazy execution, no actual execution occurs until we request output:"
   ]
  },
  {
   "cell_type": "code",
   "execution_count": 29,
   "metadata": {
    "ExecuteTime": {
     "end_time": "2019-03-30T01:32:26.307034Z",
     "start_time": "2019-03-30T01:32:23.498679Z"
    },
    "colab": {},
    "colab_type": "code",
    "id": "FCz4Yw9jLFaB"
   },
   "outputs": [
    {
     "name": "stdout",
     "output_type": "stream",
     "text": [
      "Row((164656,), {'f0_': 0})\n"
     ]
    }
   ],
   "source": [
    "for row in query_job:  # API request - fetches results\n",
    "    print(row)"
   ]
  },
  {
   "cell_type": "markdown",
   "metadata": {
    "colab_type": "text",
    "id": "CQG3a1oALFaC"
   },
   "source": [
    "And, again, we need to manipulate this to make it neat. Each member of the rowset is a list and we only want to extract the value, which is in the first member:"
   ]
  },
  {
   "cell_type": "code",
   "execution_count": 30,
   "metadata": {
    "ExecuteTime": {
     "end_time": "2019-03-30T01:32:27.091938Z",
     "start_time": "2019-03-30T01:32:27.064819Z"
    },
    "colab": {},
    "colab_type": "code",
    "id": "Qcq2F5vzLFaC"
   },
   "outputs": [
    {
     "name": "stdout",
     "output_type": "stream",
     "text": [
      "164656\n"
     ]
    }
   ],
   "source": [
    "print(row[0])"
   ]
  },
  {
   "cell_type": "markdown",
   "metadata": {
    "colab_type": "text",
    "id": "cPqWb1_YLFaD"
   },
   "source": [
    "So, we now know that this table has 164,656 rows. (We would not want to print it!)"
   ]
  },
  {
   "cell_type": "markdown",
   "metadata": {
    "colab_type": "text",
    "id": "6idZY0-3LFaD"
   },
   "source": [
    "A better coding practice is to write SQL statements that assign names (aliases) to derived values, so we don't forget what the resulting rowset contains. Rewite the above SQL statement so that the value returned is aliased a \"num_rows\", and assign the QueryJob as above:"
   ]
  },
  {
   "cell_type": "code",
   "execution_count": 31,
   "metadata": {
    "ExecuteTime": {
     "end_time": "2019-03-30T01:32:30.250711Z",
     "start_time": "2019-03-30T01:32:29.601145Z"
    },
    "colab": {},
    "colab_type": "code",
    "id": "NeHVJAm5LFaD"
   },
   "outputs": [],
   "source": [
    "sql = \"SELECT COUNT(1) AS num_rows FROM `bigquery-public-data.samples.shakespeare`\"\n",
    "query_job = client.query(sql)"
   ]
  },
  {
   "cell_type": "markdown",
   "metadata": {
    "colab_type": "text",
    "id": "XUFlZ66lLFaE"
   },
   "source": [
    "Now we could use Python's `assert` statement to build a test into the first code block that operates on the rowset:"
   ]
  },
  {
   "cell_type": "code",
   "execution_count": 32,
   "metadata": {
    "ExecuteTime": {
     "end_time": "2019-03-30T01:32:33.985524Z",
     "start_time": "2019-03-30T01:32:31.228116Z"
    },
    "colab": {},
    "colab_type": "code",
    "id": "6MHaNZh0LFaE"
   },
   "outputs": [
    {
     "name": "stdout",
     "output_type": "stream",
     "text": [
      "164656\n"
     ]
    }
   ],
   "source": [
    "for row in query_job:  # API request - fetches results\n",
    "    # Row values can be accessed by field name or index:\n",
    "    assert row[0] == row.num_rows == row['num_rows']  #: for debugging bad sql\n",
    "    print(row.num_rows)"
   ]
  },
  {
   "cell_type": "markdown",
   "metadata": {
    "colab_type": "text",
    "id": "fP4GpU02LFaF"
   },
   "source": [
    "The above code checks that the name attribute of the value in `row[0]` is what we expected (i.e. \"num_rows\"). Also, it shows that we can refer to a field in a row by its object member `num_rows` or by using the same notation we use for Python dictionaries, `['num_rows']`. "
   ]
  },
  {
   "cell_type": "markdown",
   "metadata": {
    "colab_type": "text",
    "id": "y83gunLZLFaF"
   },
   "source": [
    "Write, execute, and print the results of a query that fetches 10 rows from the table, each containing the \"word\", \"word_count\", and \"corpus\" fields: "
   ]
  },
  {
   "cell_type": "code",
   "execution_count": 33,
   "metadata": {
    "ExecuteTime": {
     "end_time": "2019-03-30T01:32:35.756161Z",
     "start_time": "2019-03-30T01:32:34.807414Z"
    },
    "colab": {},
    "colab_type": "code",
    "id": "xhvBwHzpLFaG"
   },
   "outputs": [],
   "source": [
    "sql = \"\"\"\n",
    "      SELECT word, word_count, corpus \n",
    "      FROM `bigquery-public-data.samples.shakespeare`\n",
    "      LIMIT 10;\n",
    "      \"\"\"\n",
    "\n",
    "query_job = client.query(sql)"
   ]
  },
  {
   "cell_type": "code",
   "execution_count": 34,
   "metadata": {
    "ExecuteTime": {
     "end_time": "2019-03-30T01:32:38.902865Z",
     "start_time": "2019-03-30T01:32:36.106410Z"
    }
   },
   "outputs": [
    {
     "name": "stdout",
     "output_type": "stream",
     "text": [
      "LVII\n",
      "augurs\n",
      "dimm'd\n",
      "plagues\n",
      "treason\n",
      "surmise\n",
      "heed\n",
      "Unthrifty\n",
      "quality\n",
      "wherever\n"
     ]
    }
   ],
   "source": [
    "for row in query_job:\n",
    "    assert row[0] == row.word == row['word']\n",
    "    print(row.word)"
   ]
  },
  {
   "cell_type": "markdown",
   "metadata": {
    "colab_type": "text",
    "id": "OlGpm9dmLFaH"
   },
   "source": [
    "(NOTE: Using `assert` religiously is good practice and will make debugging easier, but is probably overkill for non-production code.)"
   ]
  },
  {
   "cell_type": "markdown",
   "metadata": {
    "colab_type": "text",
    "id": "md6tWVvHLFaH"
   },
   "source": [
    "Whenever you catch yourself writing a swag of code to do something that seems rudimentary or low-level, there is a very good chance that you don't need to. A much easier way to handle the above requirement is to use the `to_dataframe` method of the QueryJob object:"
   ]
  },
  {
   "cell_type": "code",
   "execution_count": 35,
   "metadata": {
    "ExecuteTime": {
     "end_time": "2019-03-30T01:32:40.572934Z",
     "start_time": "2019-03-30T01:32:38.913959Z"
    },
    "colab": {},
    "colab_type": "code",
    "id": "19bjagBHLFaH"
   },
   "outputs": [
    {
     "name": "stdout",
     "output_type": "stream",
     "text": [
      "        word  word_count   corpus\n",
      "0       LVII           1  sonnets\n",
      "1     augurs           1  sonnets\n",
      "2     dimm'd           1  sonnets\n",
      "3    plagues           1  sonnets\n",
      "4    treason           1  sonnets\n",
      "5    surmise           1  sonnets\n",
      "6       heed           1  sonnets\n",
      "7  Unthrifty           1  sonnets\n",
      "8    quality           1  sonnets\n",
      "9   wherever           1  sonnets\n"
     ]
    }
   ],
   "source": [
    "df = query_job.to_dataframe()\n",
    "print(df)    "
   ]
  },
  {
   "cell_type": "markdown",
   "metadata": {
    "colab_type": "text",
    "id": "Qc7vdIfALFaJ"
   },
   "source": [
    "Although the above doesn't use `assert` (which you might still want to include in some test code), you will be able to tell at a glance if something is wrong with the contents of the DataFrame."
   ]
  },
  {
   "cell_type": "markdown",
   "metadata": {
    "colab_type": "text",
    "id": "DsWSuO95LFaJ"
   },
   "source": [
    "#### Final Notes"
   ]
  },
  {
   "cell_type": "markdown",
   "metadata": {
    "colab_type": "text",
    "id": "4mKynMuNLFaJ"
   },
   "source": [
    "1. Here is a readable way to code long SQL statements:"
   ]
  },
  {
   "cell_type": "code",
   "execution_count": null,
   "metadata": {
    "ExecuteTime": {
     "end_time": "2019-03-30T01:32:06.602962Z",
     "start_time": "2019-03-30T01:32:00.140Z"
    },
    "colab": {},
    "colab_type": "code",
    "id": "8nm7i1-rLFaJ"
   },
   "outputs": [],
   "source": [
    "sql = \"\"\"\n",
    "    SELECT word, word_count, corpus \n",
    "    FROM `bigquery-public-data.samples.shakespeare` \n",
    "    LIMIT 10\n",
    "    \"\"\""
   ]
  },
  {
   "cell_type": "markdown",
   "metadata": {
    "colab_type": "text",
    "id": "1j2w1aovLFaK"
   },
   "source": [
    "2. If you had an application that needed to modify the tables or datasets in the `bigquery-public-data` is project, you could copy them to our own project, where you would have the permissions to do as you please with the data (subject to Google's terms of use)."
   ]
  },
  {
   "cell_type": "markdown",
   "metadata": {
    "colab_type": "text",
    "id": "mOAZyGTcLFaL"
   },
   "source": [
    "3. We aren't limited to the datasets that are already in BigQuery. We can upload tables from our computer, and we can pull data in from other online souces. We will cover these tasks in another module."
   ]
  },
  {
   "cell_type": "markdown",
   "metadata": {
    "colab_type": "text",
    "id": "PJmK2n7vLFaL"
   },
   "source": [
    "#### Next Steps\n",
    "\n",
    "If you wish to pick up a few more skills you can go to https://cloud.google.com/bigquery/create-simple-app-api. (Note that we have already been through the preliminaries, so you can start at \"Download the sample code\".)\n",
    "\n",
    "Alternatively, you can take a deeper dive into the API here: https://googlecloudplatform.github.io/google-cloud-python/latest/bigquery/usage.html."
   ]
  },
  {
   "cell_type": "markdown",
   "metadata": {},
   "source": [
    "## EDA"
   ]
  },
  {
   "cell_type": "code",
   "execution_count": 38,
   "metadata": {
    "ExecuteTime": {
     "end_time": "2019-03-30T01:36:43.006313Z",
     "start_time": "2019-03-30T01:36:39.724884Z"
    }
   },
   "outputs": [],
   "source": [
    "# import data manip\n",
    "import pandas as pd\n",
    "\n",
    "# import data viz\n",
    "import matplotlib as plt\n",
    "import seaborn as sns\n",
    "\n",
    "# import NLP\n",
    "import nltk "
   ]
  },
  {
   "cell_type": "code",
   "execution_count": 39,
   "metadata": {
    "ExecuteTime": {
     "end_time": "2019-03-30T01:36:44.779063Z",
     "start_time": "2019-03-30T01:36:44.199135Z"
    }
   },
   "outputs": [
    {
     "name": "stdout",
     "output_type": "stream",
     "text": [
      "[nltk_data] Downloading package stopwords to /home/maianh/nltk_data...\n",
      "[nltk_data]   Unzipping corpora/stopwords.zip.\n"
     ]
    },
    {
     "data": {
      "text/plain": [
       "True"
      ]
     },
     "execution_count": 39,
     "metadata": {},
     "output_type": "execute_result"
    }
   ],
   "source": [
    "# download stopwords\n",
    "\n",
    "nltk.download('stopwords')"
   ]
  },
  {
   "cell_type": "code",
   "execution_count": 40,
   "metadata": {
    "ExecuteTime": {
     "end_time": "2019-03-30T01:37:16.453403Z",
     "start_time": "2019-03-30T01:37:16.446604Z"
    }
   },
   "outputs": [],
   "source": [
    "from nltk.corpus import stopwords"
   ]
  },
  {
   "cell_type": "code",
   "execution_count": 36,
   "metadata": {
    "ExecuteTime": {
     "end_time": "2019-03-30T01:32:47.147175Z",
     "start_time": "2019-03-30T01:32:43.509957Z"
    }
   },
   "outputs": [
    {
     "data": {
      "text/html": [
       "<div>\n",
       "<style scoped>\n",
       "    .dataframe tbody tr th:only-of-type {\n",
       "        vertical-align: middle;\n",
       "    }\n",
       "\n",
       "    .dataframe tbody tr th {\n",
       "        vertical-align: top;\n",
       "    }\n",
       "\n",
       "    .dataframe thead th {\n",
       "        text-align: right;\n",
       "    }\n",
       "</style>\n",
       "<table border=\"1\" class=\"dataframe\">\n",
       "  <thead>\n",
       "    <tr style=\"text-align: right;\">\n",
       "      <th></th>\n",
       "      <th>corpus</th>\n",
       "    </tr>\n",
       "  </thead>\n",
       "  <tbody>\n",
       "    <tr>\n",
       "      <th>0</th>\n",
       "      <td>1kinghenryiv</td>\n",
       "    </tr>\n",
       "    <tr>\n",
       "      <th>1</th>\n",
       "      <td>1kinghenryvi</td>\n",
       "    </tr>\n",
       "    <tr>\n",
       "      <th>2</th>\n",
       "      <td>2kinghenryiv</td>\n",
       "    </tr>\n",
       "    <tr>\n",
       "      <th>3</th>\n",
       "      <td>2kinghenryvi</td>\n",
       "    </tr>\n",
       "    <tr>\n",
       "      <th>4</th>\n",
       "      <td>3kinghenryvi</td>\n",
       "    </tr>\n",
       "    <tr>\n",
       "      <th>5</th>\n",
       "      <td>allswellthatendswell</td>\n",
       "    </tr>\n",
       "    <tr>\n",
       "      <th>6</th>\n",
       "      <td>antonyandcleopatra</td>\n",
       "    </tr>\n",
       "    <tr>\n",
       "      <th>7</th>\n",
       "      <td>asyoulikeit</td>\n",
       "    </tr>\n",
       "    <tr>\n",
       "      <th>8</th>\n",
       "      <td>comedyoferrors</td>\n",
       "    </tr>\n",
       "    <tr>\n",
       "      <th>9</th>\n",
       "      <td>coriolanus</td>\n",
       "    </tr>\n",
       "  </tbody>\n",
       "</table>\n",
       "</div>"
      ],
      "text/plain": [
       "                 corpus\n",
       "0          1kinghenryiv\n",
       "1          1kinghenryvi\n",
       "2          2kinghenryiv\n",
       "3          2kinghenryvi\n",
       "4          3kinghenryvi\n",
       "5  allswellthatendswell\n",
       "6    antonyandcleopatra\n",
       "7           asyoulikeit\n",
       "8        comedyoferrors\n",
       "9            coriolanus"
      ]
     },
     "execution_count": 36,
     "metadata": {},
     "output_type": "execute_result"
    }
   ],
   "source": [
    "# Find corpus names in shakespeare\n",
    "\n",
    "sql = \"\"\"\n",
    "    SELECT corpus\n",
    "    FROM `bigquery-public-data.samples.shakespeare` \n",
    "    GROUP BY corpus\n",
    "    ORDER BY corpus\n",
    "    LIMIT 10\n",
    "    \"\"\"\n",
    "\n",
    "query_df = client.query(sql).to_dataframe()\n",
    "\n",
    "query_df"
   ]
  },
  {
   "cell_type": "code",
   "execution_count": 110,
   "metadata": {
    "ExecuteTime": {
     "end_time": "2019-03-30T02:34:56.746907Z",
     "start_time": "2019-03-30T02:34:53.135125Z"
    }
   },
   "outputs": [
    {
     "data": {
      "text/html": [
       "<div>\n",
       "<style scoped>\n",
       "    .dataframe tbody tr th:only-of-type {\n",
       "        vertical-align: middle;\n",
       "    }\n",
       "\n",
       "    .dataframe tbody tr th {\n",
       "        vertical-align: top;\n",
       "    }\n",
       "\n",
       "    .dataframe thead th {\n",
       "        text-align: right;\n",
       "    }\n",
       "</style>\n",
       "<table border=\"1\" class=\"dataframe\">\n",
       "  <thead>\n",
       "    <tr style=\"text-align: right;\">\n",
       "      <th></th>\n",
       "      <th>corpus</th>\n",
       "      <th>num_words</th>\n",
       "    </tr>\n",
       "  </thead>\n",
       "  <tbody>\n",
       "    <tr>\n",
       "      <th>0</th>\n",
       "      <td>hamlet</td>\n",
       "      <td>32446</td>\n",
       "    </tr>\n",
       "    <tr>\n",
       "      <th>1</th>\n",
       "      <td>kingrichardiii</td>\n",
       "      <td>31868</td>\n",
       "    </tr>\n",
       "    <tr>\n",
       "      <th>2</th>\n",
       "      <td>coriolanus</td>\n",
       "      <td>29535</td>\n",
       "    </tr>\n",
       "    <tr>\n",
       "      <th>3</th>\n",
       "      <td>cymbeline</td>\n",
       "      <td>29231</td>\n",
       "    </tr>\n",
       "    <tr>\n",
       "      <th>4</th>\n",
       "      <td>2kinghenryiv</td>\n",
       "      <td>28241</td>\n",
       "    </tr>\n",
       "  </tbody>\n",
       "</table>\n",
       "</div>"
      ],
      "text/plain": [
       "           corpus  num_words\n",
       "0          hamlet      32446\n",
       "1  kingrichardiii      31868\n",
       "2      coriolanus      29535\n",
       "3       cymbeline      29231\n",
       "4    2kinghenryiv      28241"
      ]
     },
     "execution_count": 110,
     "metadata": {},
     "output_type": "execute_result"
    }
   ],
   "source": [
    "# Count words in each corpus\n",
    "\n",
    "sql = \"\"\"\n",
    "    SELECT corpus, SUM(word_count) as num_words\n",
    "    FROM `bigquery-public-data.samples.shakespeare` \n",
    "    GROUP BY corpus\n",
    "    ORDER BY num_words DESC\n",
    "    \"\"\"\n",
    "\n",
    "num_words_df = client.query(sql).to_dataframe()\n",
    "\n",
    "num_words_df.head()"
   ]
  },
  {
   "cell_type": "code",
   "execution_count": 37,
   "metadata": {
    "ExecuteTime": {
     "end_time": "2019-03-30T01:33:06.757394Z",
     "start_time": "2019-03-30T01:33:03.286299Z"
    }
   },
   "outputs": [
    {
     "data": {
      "text/html": [
       "<div>\n",
       "<style scoped>\n",
       "    .dataframe tbody tr th:only-of-type {\n",
       "        vertical-align: middle;\n",
       "    }\n",
       "\n",
       "    .dataframe tbody tr th {\n",
       "        vertical-align: top;\n",
       "    }\n",
       "\n",
       "    .dataframe thead th {\n",
       "        text-align: right;\n",
       "    }\n",
       "</style>\n",
       "<table border=\"1\" class=\"dataframe\">\n",
       "  <thead>\n",
       "    <tr style=\"text-align: right;\">\n",
       "      <th></th>\n",
       "      <th>corpus</th>\n",
       "      <th>distinct_words</th>\n",
       "    </tr>\n",
       "  </thead>\n",
       "  <tbody>\n",
       "    <tr>\n",
       "      <th>0</th>\n",
       "      <td>hamlet</td>\n",
       "      <td>5318</td>\n",
       "    </tr>\n",
       "    <tr>\n",
       "      <th>1</th>\n",
       "      <td>kinghenryv</td>\n",
       "      <td>5104</td>\n",
       "    </tr>\n",
       "    <tr>\n",
       "      <th>2</th>\n",
       "      <td>cymbeline</td>\n",
       "      <td>4875</td>\n",
       "    </tr>\n",
       "    <tr>\n",
       "      <th>3</th>\n",
       "      <td>troilusandcressida</td>\n",
       "      <td>4795</td>\n",
       "    </tr>\n",
       "    <tr>\n",
       "      <th>4</th>\n",
       "      <td>kinglear</td>\n",
       "      <td>4784</td>\n",
       "    </tr>\n",
       "  </tbody>\n",
       "</table>\n",
       "</div>"
      ],
      "text/plain": [
       "               corpus  distinct_words\n",
       "0              hamlet            5318\n",
       "1          kinghenryv            5104\n",
       "2           cymbeline            4875\n",
       "3  troilusandcressida            4795\n",
       "4            kinglear            4784"
      ]
     },
     "execution_count": 37,
     "metadata": {},
     "output_type": "execute_result"
    }
   ],
   "source": [
    "# Count distinct words in each corpus\n",
    "\n",
    "sql = \"\"\"\n",
    "    SELECT corpus, COUNT(DISTINCT word) as distinct_words\n",
    "    FROM `bigquery-public-data.samples.shakespeare` \n",
    "    GROUP BY corpus\n",
    "    ORDER BY distinct_words DESC\n",
    "    \"\"\"\n",
    "\n",
    "distinct_words_df = client.query(sql).to_dataframe()\n",
    "\n",
    "distinct_words_df.head()"
   ]
  },
  {
   "cell_type": "code",
   "execution_count": 53,
   "metadata": {
    "ExecuteTime": {
     "end_time": "2019-03-30T01:10:17.005912Z",
     "start_time": "2019-03-30T01:10:13.883945Z"
    }
   },
   "outputs": [],
   "source": [
    "# Find most common words in each corpus in shakespeare\n",
    "\n",
    "sql = \"\"\"\n",
    "    SELECT corpus, word, SUM(word_count) as total_count\n",
    "    FROM `bigquery-public-data.samples.shakespeare` \n",
    "    GROUP BY corpus, word\n",
    "    ORDER BY total_count DESC\n",
    "    LIMIT 10\n",
    "    \"\"\"\n",
    "\n",
    "query_df = client.query(sql).to_dataframe()"
   ]
  },
  {
   "cell_type": "code",
   "execution_count": 54,
   "metadata": {
    "ExecuteTime": {
     "end_time": "2019-03-30T01:10:22.188853Z",
     "start_time": "2019-03-30T01:10:22.165002Z"
    }
   },
   "outputs": [
    {
     "data": {
      "text/html": [
       "<div>\n",
       "<style scoped>\n",
       "    .dataframe tbody tr th:only-of-type {\n",
       "        vertical-align: middle;\n",
       "    }\n",
       "\n",
       "    .dataframe tbody tr th {\n",
       "        vertical-align: top;\n",
       "    }\n",
       "\n",
       "    .dataframe thead th {\n",
       "        text-align: right;\n",
       "    }\n",
       "</style>\n",
       "<table border=\"1\" class=\"dataframe\">\n",
       "  <thead>\n",
       "    <tr style=\"text-align: right;\">\n",
       "      <th></th>\n",
       "      <th>corpus</th>\n",
       "      <th>word</th>\n",
       "      <th>total_count</th>\n",
       "    </tr>\n",
       "  </thead>\n",
       "  <tbody>\n",
       "    <tr>\n",
       "      <th>0</th>\n",
       "      <td>hamlet</td>\n",
       "      <td>the</td>\n",
       "      <td>995</td>\n",
       "    </tr>\n",
       "    <tr>\n",
       "      <th>1</th>\n",
       "      <td>coriolanus</td>\n",
       "      <td>the</td>\n",
       "      <td>942</td>\n",
       "    </tr>\n",
       "    <tr>\n",
       "      <th>2</th>\n",
       "      <td>kinghenryv</td>\n",
       "      <td>the</td>\n",
       "      <td>937</td>\n",
       "    </tr>\n",
       "    <tr>\n",
       "      <th>3</th>\n",
       "      <td>2kinghenryiv</td>\n",
       "      <td>the</td>\n",
       "      <td>894</td>\n",
       "    </tr>\n",
       "    <tr>\n",
       "      <th>4</th>\n",
       "      <td>kingrichardiii</td>\n",
       "      <td>the</td>\n",
       "      <td>848</td>\n",
       "    </tr>\n",
       "    <tr>\n",
       "      <th>5</th>\n",
       "      <td>2kinghenryvi</td>\n",
       "      <td>the</td>\n",
       "      <td>841</td>\n",
       "    </tr>\n",
       "    <tr>\n",
       "      <th>6</th>\n",
       "      <td>othello</td>\n",
       "      <td>I</td>\n",
       "      <td>828</td>\n",
       "    </tr>\n",
       "    <tr>\n",
       "      <th>7</th>\n",
       "      <td>kinghenryv</td>\n",
       "      <td>and</td>\n",
       "      <td>809</td>\n",
       "    </tr>\n",
       "    <tr>\n",
       "      <th>8</th>\n",
       "      <td>kinglear</td>\n",
       "      <td>the</td>\n",
       "      <td>786</td>\n",
       "    </tr>\n",
       "    <tr>\n",
       "      <th>9</th>\n",
       "      <td>merrywivesofwindsor</td>\n",
       "      <td>I</td>\n",
       "      <td>782</td>\n",
       "    </tr>\n",
       "  </tbody>\n",
       "</table>\n",
       "</div>"
      ],
      "text/plain": [
       "                corpus word  total_count\n",
       "0               hamlet  the          995\n",
       "1           coriolanus  the          942\n",
       "2           kinghenryv  the          937\n",
       "3         2kinghenryiv  the          894\n",
       "4       kingrichardiii  the          848\n",
       "5         2kinghenryvi  the          841\n",
       "6              othello    I          828\n",
       "7           kinghenryv  and          809\n",
       "8             kinglear  the          786\n",
       "9  merrywivesofwindsor    I          782"
      ]
     },
     "execution_count": 54,
     "metadata": {},
     "output_type": "execute_result"
    }
   ],
   "source": [
    "query_df"
   ]
  },
  {
   "cell_type": "markdown",
   "metadata": {},
   "source": [
    "Unsurprisingly, the top words are all __stop words__, and so, not very meaningful."
   ]
  },
  {
   "cell_type": "code",
   "execution_count": 64,
   "metadata": {
    "ExecuteTime": {
     "end_time": "2019-03-30T01:56:47.490270Z",
     "start_time": "2019-03-30T01:56:47.478101Z"
    },
    "scrolled": false
   },
   "outputs": [
    {
     "data": {
      "text/plain": [
       "['me', 'my', 'myself', 'we', 'our', 'ours', 'ourselves', 'you', \"you're\"]"
      ]
     },
     "execution_count": 64,
     "metadata": {},
     "output_type": "execute_result"
    }
   ],
   "source": [
    "# import stopwords from NLTK\n",
    "eng_stopwords = [word.strip() for word in stopwords.words('english')]\n",
    "\n",
    "eng_stopwords[1:10]"
   ]
  },
  {
   "cell_type": "code",
   "execution_count": 67,
   "metadata": {
    "ExecuteTime": {
     "end_time": "2019-03-30T01:58:23.000331Z",
     "start_time": "2019-03-30T01:58:22.995266Z"
    }
   },
   "outputs": [],
   "source": [
    "eng_title = [word.strip().title() for word in stopwords.words('english')]\n",
    "eng_upper = [word.strip().upper() for word in stopwords.words('english')]\n",
    "\n",
    "eng_stopwords = eng_stopwords + eng_title + eng_upper"
   ]
  },
  {
   "cell_type": "code",
   "execution_count": 117,
   "metadata": {
    "ExecuteTime": {
     "end_time": "2019-03-30T02:43:50.906415Z",
     "start_time": "2019-03-30T02:43:50.902565Z"
    }
   },
   "outputs": [
    {
     "name": "stdout",
     "output_type": "stream",
     "text": [
      "\n",
      "    SELECT corpus, LOWER(word), SUM(word_count) as total_count\n",
      "    FROM `bigquery-public-data.samples.shakespeare` \n",
      "    WHERE LOWER(word) NOT IN ('i', 'me', 'my', 'myself', 'we', 'our', 'ours', 'ourselves', 'you', \"you're\", \"you've\", \"you'll\", \"you'd\", 'your', 'yours', 'yourself', 'yourselves', 'he', 'him', 'his', 'himself', 'she', \"she's\", 'her', 'hers', 'herself', 'it', \"it's\", 'its', 'itself', 'they', 'them', 'their', 'theirs', 'themselves', 'what', 'which', 'who', 'whom', 'this', 'that', \"that'll\", 'these', 'those', 'am', 'is', 'are', 'was', 'were', 'be', 'been', 'being', 'have', 'has', 'had', 'having', 'do', 'does', 'did', 'doing', 'a', 'an', 'the', 'and', 'but', 'if', 'or', 'because', 'as', 'until', 'while', 'of', 'at', 'by', 'for', 'with', 'about', 'against', 'between', 'into', 'through', 'during', 'before', 'after', 'above', 'below', 'to', 'from', 'up', 'down', 'in', 'out', 'on', 'off', 'over', 'under', 'again', 'further', 'then', 'once', 'here', 'there', 'when', 'where', 'why', 'how', 'all', 'any', 'both', 'each', 'few', 'more', 'most', 'other', 'some', 'such', 'no', 'nor', 'not', 'only', 'own', 'same', 'so', 'than', 'too', 'very', 's', 't', 'can', 'will', 'just', 'don', \"don't\", 'should', \"should've\", 'now', 'd', 'll', 'm', 'o', 're', 've', 'y', 'ain', 'aren', \"aren't\", 'couldn', \"couldn't\", 'didn', \"didn't\", 'doesn', \"doesn't\", 'hadn', \"hadn't\", 'hasn', \"hasn't\", 'haven', \"haven't\", 'isn', \"isn't\", 'ma', 'mightn', \"mightn't\", 'mustn', \"mustn't\", 'needn', \"needn't\", 'shan', \"shan't\", 'shouldn', \"shouldn't\", 'wasn', \"wasn't\", 'weren', \"weren't\", 'won', \"won't\", 'wouldn', \"wouldn't\", 'I', 'I', 'Me', 'My', 'Myself', 'We', 'Our', 'Ours', 'Ourselves', 'You', \"You'Re\", \"You'Ve\", \"You'Ll\", \"You'D\", 'Your', 'Yours', 'Yourself', 'Yourselves', 'He', 'Him', 'His', 'Himself', 'She', \"She'S\", 'Her', 'Hers', 'Herself', 'It', \"It'S\", 'Its', 'Itself', 'They', 'Them', 'Their', 'Theirs', 'Themselves', 'What', 'Which', 'Who', 'Whom', 'This', 'That', \"That'Ll\", 'These', 'Those', 'Am', 'Is', 'Are', 'Was', 'Were', 'Be', 'Been', 'Being', 'Have', 'Has', 'Had', 'Having', 'Do', 'Does', 'Did', 'Doing', 'A', 'An', 'The', 'And', 'But', 'If', 'Or', 'Because', 'As', 'Until', 'While', 'Of', 'At', 'By', 'For', 'With', 'About', 'Against', 'Between', 'Into', 'Through', 'During', 'Before', 'After', 'Above', 'Below', 'To', 'From', 'Up', 'Down', 'In', 'Out', 'On', 'Off', 'Over', 'Under', 'Again', 'Further', 'Then', 'Once', 'Here', 'There', 'When', 'Where', 'Why', 'How', 'All', 'Any', 'Both', 'Each', 'Few', 'More', 'Most', 'Other', 'Some', 'Such', 'No', 'Nor', 'Not', 'Only', 'Own', 'Same', 'So', 'Than', 'Too', 'Very', 'S', 'T', 'Can', 'Will', 'Just', 'Don', \"Don'T\", 'Should', \"Should'Ve\", 'Now', 'D', 'Ll', 'M', 'O', 'Re', 'Ve', 'Y', 'Ain', 'Aren', \"Aren'T\", 'Couldn', \"Couldn'T\", 'Didn', \"Didn'T\", 'Doesn', \"Doesn'T\", 'Hadn', \"Hadn'T\", 'Hasn', \"Hasn'T\", 'Haven', \"Haven'T\", 'Isn', \"Isn'T\", 'Ma', 'Mightn', \"Mightn'T\", 'Mustn', \"Mustn'T\", 'Needn', \"Needn'T\", 'Shan', \"Shan'T\", 'Shouldn', \"Shouldn'T\", 'Wasn', \"Wasn'T\", 'Weren', \"Weren'T\", 'Won', \"Won'T\", 'Wouldn', \"Wouldn'T\", 'I', 'ME', 'MY', 'MYSELF', 'WE', 'OUR', 'OURS', 'OURSELVES', 'YOU', \"YOU'RE\", \"YOU'VE\", \"YOU'LL\", \"YOU'D\", 'YOUR', 'YOURS', 'YOURSELF', 'YOURSELVES', 'HE', 'HIM', 'HIS', 'HIMSELF', 'SHE', \"SHE'S\", 'HER', 'HERS', 'HERSELF', 'IT', \"IT'S\", 'ITS', 'ITSELF', 'THEY', 'THEM', 'THEIR', 'THEIRS', 'THEMSELVES', 'WHAT', 'WHICH', 'WHO', 'WHOM', 'THIS', 'THAT', \"THAT'LL\", 'THESE', 'THOSE', 'AM', 'IS', 'ARE', 'WAS', 'WERE', 'BE', 'BEEN', 'BEING', 'HAVE', 'HAS', 'HAD', 'HAVING', 'DO', 'DOES', 'DID', 'DOING', 'A', 'AN', 'THE', 'AND', 'BUT', 'IF', 'OR', 'BECAUSE', 'AS', 'UNTIL', 'WHILE', 'OF', 'AT', 'BY', 'FOR', 'WITH', 'ABOUT', 'AGAINST', 'BETWEEN', 'INTO', 'THROUGH', 'DURING', 'BEFORE', 'AFTER', 'ABOVE', 'BELOW', 'TO', 'FROM', 'UP', 'DOWN', 'IN', 'OUT', 'ON', 'OFF', 'OVER', 'UNDER', 'AGAIN', 'FURTHER', 'THEN', 'ONCE', 'HERE', 'THERE', 'WHEN', 'WHERE', 'WHY', 'HOW', 'ALL', 'ANY', 'BOTH', 'EACH', 'FEW', 'MORE', 'MOST', 'OTHER', 'SOME', 'SUCH', 'NO', 'NOR', 'NOT', 'ONLY', 'OWN', 'SAME', 'SO', 'THAN', 'TOO', 'VERY', 'S', 'T', 'CAN', 'WILL', 'JUST', 'DON', \"DON'T\", 'SHOULD', \"SHOULD'VE\", 'NOW', 'D', 'LL', 'M', 'O', 'RE', 'VE', 'Y', 'AIN', 'AREN', \"AREN'T\", 'COULDN', \"COULDN'T\", 'DIDN', \"DIDN'T\", 'DOESN', \"DOESN'T\", 'HADN', \"HADN'T\", 'HASN', \"HASN'T\", 'HAVEN', \"HAVEN'T\", 'ISN', \"ISN'T\", 'MA', 'MIGHTN', \"MIGHTN'T\", 'MUSTN', \"MUSTN'T\", 'NEEDN', \"NEEDN'T\", 'SHAN', \"SHAN'T\", 'SHOULDN', \"SHOULDN'T\", 'WASN', \"WASN'T\", 'WEREN', \"WEREN'T\", 'WON', \"WON'T\", 'WOULDN', \"WOULDN'T\")\n",
      "    GROUP BY corpus, LOWER(word)\n",
      "    ORDER BY total_count DESC, corpus ASC\n",
      "    \n"
     ]
    }
   ],
   "source": [
    "# Create sql query with stopwords filter\n",
    "\n",
    "sql = \"\"\"\n",
    "    SELECT corpus, LOWER(word), SUM(word_count) as total_count\n",
    "    FROM `bigquery-public-data.samples.shakespeare` \n",
    "    WHERE LOWER(word) NOT IN ({})\n",
    "    GROUP BY corpus, LOWER(word)\n",
    "    ORDER BY total_count DESC, corpus ASC\n",
    "    \"\"\"\n",
    "\n",
    "print(sql.format(str(eng_stopwords)[1:-1]))"
   ]
  },
  {
   "cell_type": "code",
   "execution_count": 119,
   "metadata": {
    "ExecuteTime": {
     "end_time": "2019-03-30T02:44:32.940360Z",
     "start_time": "2019-03-30T02:44:20.897579Z"
    }
   },
   "outputs": [
    {
     "data": {
      "text/html": [
       "<div>\n",
       "<style scoped>\n",
       "    .dataframe tbody tr th:only-of-type {\n",
       "        vertical-align: middle;\n",
       "    }\n",
       "\n",
       "    .dataframe tbody tr th {\n",
       "        vertical-align: top;\n",
       "    }\n",
       "\n",
       "    .dataframe thead th {\n",
       "        text-align: right;\n",
       "    }\n",
       "</style>\n",
       "<table border=\"1\" class=\"dataframe\">\n",
       "  <thead>\n",
       "    <tr style=\"text-align: right;\">\n",
       "      <th></th>\n",
       "      <th>corpus</th>\n",
       "      <th>f0_</th>\n",
       "      <th>total_count</th>\n",
       "    </tr>\n",
       "  </thead>\n",
       "  <tbody>\n",
       "    <tr>\n",
       "      <th>0</th>\n",
       "      <td>hamlet</td>\n",
       "      <td>hamlet</td>\n",
       "      <td>484</td>\n",
       "    </tr>\n",
       "    <tr>\n",
       "      <th>1</th>\n",
       "      <td>twelfthnight</td>\n",
       "      <td>sir</td>\n",
       "      <td>453</td>\n",
       "    </tr>\n",
       "    <tr>\n",
       "      <th>2</th>\n",
       "      <td>antonyandcleopatra</td>\n",
       "      <td>antony</td>\n",
       "      <td>419</td>\n",
       "    </tr>\n",
       "    <tr>\n",
       "      <th>3</th>\n",
       "      <td>3kinghenryvi</td>\n",
       "      <td>king</td>\n",
       "      <td>396</td>\n",
       "    </tr>\n",
       "    <tr>\n",
       "      <th>4</th>\n",
       "      <td>merrywivesofwindsor</td>\n",
       "      <td>mistress</td>\n",
       "      <td>396</td>\n",
       "    </tr>\n",
       "    <tr>\n",
       "      <th>5</th>\n",
       "      <td>juliuscaesar</td>\n",
       "      <td>brutus</td>\n",
       "      <td>371</td>\n",
       "    </tr>\n",
       "    <tr>\n",
       "      <th>6</th>\n",
       "      <td>othello</td>\n",
       "      <td>iago</td>\n",
       "      <td>361</td>\n",
       "    </tr>\n",
       "    <tr>\n",
       "      <th>7</th>\n",
       "      <td>merrywivesofwindsor</td>\n",
       "      <td>page</td>\n",
       "      <td>358</td>\n",
       "    </tr>\n",
       "    <tr>\n",
       "      <th>8</th>\n",
       "      <td>othello</td>\n",
       "      <td>othello</td>\n",
       "      <td>339</td>\n",
       "    </tr>\n",
       "    <tr>\n",
       "      <th>9</th>\n",
       "      <td>romeoandjuliet</td>\n",
       "      <td>romeo</td>\n",
       "      <td>322</td>\n",
       "    </tr>\n",
       "    <tr>\n",
       "      <th>10</th>\n",
       "      <td>timonofathens</td>\n",
       "      <td>timon</td>\n",
       "      <td>322</td>\n",
       "    </tr>\n",
       "    <tr>\n",
       "      <th>11</th>\n",
       "      <td>kinghenryv</td>\n",
       "      <td>king</td>\n",
       "      <td>315</td>\n",
       "    </tr>\n",
       "    <tr>\n",
       "      <th>12</th>\n",
       "      <td>hamlet</td>\n",
       "      <td>lord</td>\n",
       "      <td>312</td>\n",
       "    </tr>\n",
       "    <tr>\n",
       "      <th>13</th>\n",
       "      <td>kinglear</td>\n",
       "      <td>king</td>\n",
       "      <td>311</td>\n",
       "    </tr>\n",
       "    <tr>\n",
       "      <th>14</th>\n",
       "      <td>macbeth</td>\n",
       "      <td>macbeth</td>\n",
       "      <td>311</td>\n",
       "    </tr>\n",
       "  </tbody>\n",
       "</table>\n",
       "</div>"
      ],
      "text/plain": [
       "                 corpus       f0_  total_count\n",
       "0                hamlet    hamlet          484\n",
       "1          twelfthnight       sir          453\n",
       "2    antonyandcleopatra    antony          419\n",
       "3          3kinghenryvi      king          396\n",
       "4   merrywivesofwindsor  mistress          396\n",
       "5          juliuscaesar    brutus          371\n",
       "6               othello      iago          361\n",
       "7   merrywivesofwindsor      page          358\n",
       "8               othello   othello          339\n",
       "9        romeoandjuliet     romeo          322\n",
       "10        timonofathens     timon          322\n",
       "11           kinghenryv      king          315\n",
       "12               hamlet      lord          312\n",
       "13             kinglear      king          311\n",
       "14              macbeth   macbeth          311"
      ]
     },
     "execution_count": 119,
     "metadata": {},
     "output_type": "execute_result"
    }
   ],
   "source": [
    "# Find most common words in each corpus, omitting stop words\n",
    "\n",
    "word_freq_df = client.query(sql.format(str(eng_stopwords)[1:-1])).to_dataframe()\n",
    "\n",
    "word_freq_df.head(15)"
   ]
  },
  {
   "cell_type": "code",
   "execution_count": 108,
   "metadata": {
    "ExecuteTime": {
     "end_time": "2019-03-30T02:32:27.238961Z",
     "start_time": "2019-03-30T02:32:27.196577Z"
    }
   },
   "outputs": [
    {
     "data": {
      "text/html": [
       "<div>\n",
       "<style scoped>\n",
       "    .dataframe tbody tr th:only-of-type {\n",
       "        vertical-align: middle;\n",
       "    }\n",
       "\n",
       "    .dataframe tbody tr th {\n",
       "        vertical-align: top;\n",
       "    }\n",
       "\n",
       "    .dataframe thead th {\n",
       "        text-align: right;\n",
       "    }\n",
       "</style>\n",
       "<table border=\"1\" class=\"dataframe\">\n",
       "  <thead>\n",
       "    <tr style=\"text-align: right;\">\n",
       "      <th></th>\n",
       "      <th>corpus</th>\n",
       "      <th>f0_</th>\n",
       "      <th>total_count</th>\n",
       "    </tr>\n",
       "  </thead>\n",
       "  <tbody>\n",
       "    <tr>\n",
       "      <th>0</th>\n",
       "      <td>hamlet</td>\n",
       "      <td>hamlet</td>\n",
       "      <td>484</td>\n",
       "    </tr>\n",
       "    <tr>\n",
       "      <th>1</th>\n",
       "      <td>twelfthnight</td>\n",
       "      <td>sir</td>\n",
       "      <td>453</td>\n",
       "    </tr>\n",
       "    <tr>\n",
       "      <th>2</th>\n",
       "      <td>antonyandcleopatra</td>\n",
       "      <td>antony</td>\n",
       "      <td>419</td>\n",
       "    </tr>\n",
       "    <tr>\n",
       "      <th>3</th>\n",
       "      <td>3kinghenryvi</td>\n",
       "      <td>king</td>\n",
       "      <td>396</td>\n",
       "    </tr>\n",
       "    <tr>\n",
       "      <th>4</th>\n",
       "      <td>merrywivesofwindsor</td>\n",
       "      <td>mistress</td>\n",
       "      <td>396</td>\n",
       "    </tr>\n",
       "    <tr>\n",
       "      <th>5</th>\n",
       "      <td>juliuscaesar</td>\n",
       "      <td>brutus</td>\n",
       "      <td>371</td>\n",
       "    </tr>\n",
       "    <tr>\n",
       "      <th>6</th>\n",
       "      <td>othello</td>\n",
       "      <td>iago</td>\n",
       "      <td>361</td>\n",
       "    </tr>\n",
       "    <tr>\n",
       "      <th>9</th>\n",
       "      <td>romeoandjuliet</td>\n",
       "      <td>romeo</td>\n",
       "      <td>322</td>\n",
       "    </tr>\n",
       "    <tr>\n",
       "      <th>10</th>\n",
       "      <td>timonofathens</td>\n",
       "      <td>timon</td>\n",
       "      <td>322</td>\n",
       "    </tr>\n",
       "    <tr>\n",
       "      <th>11</th>\n",
       "      <td>kinghenryv</td>\n",
       "      <td>king</td>\n",
       "      <td>315</td>\n",
       "    </tr>\n",
       "    <tr>\n",
       "      <th>13</th>\n",
       "      <td>kinglear</td>\n",
       "      <td>king</td>\n",
       "      <td>311</td>\n",
       "    </tr>\n",
       "    <tr>\n",
       "      <th>14</th>\n",
       "      <td>macbeth</td>\n",
       "      <td>macbeth</td>\n",
       "      <td>311</td>\n",
       "    </tr>\n",
       "    <tr>\n",
       "      <th>16</th>\n",
       "      <td>kingrichardiii</td>\n",
       "      <td>king</td>\n",
       "      <td>300</td>\n",
       "    </tr>\n",
       "    <tr>\n",
       "      <th>19</th>\n",
       "      <td>asyoulikeit</td>\n",
       "      <td>rosalind</td>\n",
       "      <td>274</td>\n",
       "    </tr>\n",
       "    <tr>\n",
       "      <th>21</th>\n",
       "      <td>kingrichardii</td>\n",
       "      <td>king</td>\n",
       "      <td>271</td>\n",
       "    </tr>\n",
       "    <tr>\n",
       "      <th>22</th>\n",
       "      <td>sonnets</td>\n",
       "      <td>thy</td>\n",
       "      <td>266</td>\n",
       "    </tr>\n",
       "    <tr>\n",
       "      <th>23</th>\n",
       "      <td>troilusandcressida</td>\n",
       "      <td>troilus</td>\n",
       "      <td>264</td>\n",
       "    </tr>\n",
       "    <tr>\n",
       "      <th>25</th>\n",
       "      <td>measureforemeasure</td>\n",
       "      <td>duke</td>\n",
       "      <td>260</td>\n",
       "    </tr>\n",
       "    <tr>\n",
       "      <th>28</th>\n",
       "      <td>1kinghenryiv</td>\n",
       "      <td>henry</td>\n",
       "      <td>255</td>\n",
       "    </tr>\n",
       "    <tr>\n",
       "      <th>32</th>\n",
       "      <td>titusandronicus</td>\n",
       "      <td>andronicus</td>\n",
       "      <td>248</td>\n",
       "    </tr>\n",
       "    <tr>\n",
       "      <th>35</th>\n",
       "      <td>coriolanus</td>\n",
       "      <td>coriolanus</td>\n",
       "      <td>242</td>\n",
       "    </tr>\n",
       "    <tr>\n",
       "      <th>36</th>\n",
       "      <td>kingjohn</td>\n",
       "      <td>king</td>\n",
       "      <td>242</td>\n",
       "    </tr>\n",
       "    <tr>\n",
       "      <th>37</th>\n",
       "      <td>2kinghenryvi</td>\n",
       "      <td>king</td>\n",
       "      <td>241</td>\n",
       "    </tr>\n",
       "    <tr>\n",
       "      <th>40</th>\n",
       "      <td>comedyoferrors</td>\n",
       "      <td>syracuse</td>\n",
       "      <td>232</td>\n",
       "    </tr>\n",
       "    <tr>\n",
       "      <th>45</th>\n",
       "      <td>2kinghenryiv</td>\n",
       "      <td>lord</td>\n",
       "      <td>223</td>\n",
       "    </tr>\n",
       "    <tr>\n",
       "      <th>49</th>\n",
       "      <td>kinghenryviii</td>\n",
       "      <td>king</td>\n",
       "      <td>221</td>\n",
       "    </tr>\n",
       "    <tr>\n",
       "      <th>53</th>\n",
       "      <td>twogentlemenofverona</td>\n",
       "      <td>proteus</td>\n",
       "      <td>218</td>\n",
       "    </tr>\n",
       "    <tr>\n",
       "      <th>55</th>\n",
       "      <td>allswellthatendswell</td>\n",
       "      <td>lord</td>\n",
       "      <td>212</td>\n",
       "    </tr>\n",
       "    <tr>\n",
       "      <th>56</th>\n",
       "      <td>periclesprinceoftyre</td>\n",
       "      <td>pericles</td>\n",
       "      <td>212</td>\n",
       "    </tr>\n",
       "    <tr>\n",
       "      <th>60</th>\n",
       "      <td>tamingoftheshrew</td>\n",
       "      <td>petruchio</td>\n",
       "      <td>208</td>\n",
       "    </tr>\n",
       "    <tr>\n",
       "      <th>69</th>\n",
       "      <td>muchadoaboutnothing</td>\n",
       "      <td>benedick</td>\n",
       "      <td>199</td>\n",
       "    </tr>\n",
       "    <tr>\n",
       "      <th>75</th>\n",
       "      <td>loveslabourslost</td>\n",
       "      <td>biron</td>\n",
       "      <td>194</td>\n",
       "    </tr>\n",
       "    <tr>\n",
       "      <th>80</th>\n",
       "      <td>tempest</td>\n",
       "      <td>thou</td>\n",
       "      <td>184</td>\n",
       "    </tr>\n",
       "    <tr>\n",
       "      <th>91</th>\n",
       "      <td>1kinghenryvi</td>\n",
       "      <td>thou</td>\n",
       "      <td>174</td>\n",
       "    </tr>\n",
       "    <tr>\n",
       "      <th>107</th>\n",
       "      <td>cymbeline</td>\n",
       "      <td>thou</td>\n",
       "      <td>165</td>\n",
       "    </tr>\n",
       "    <tr>\n",
       "      <th>127</th>\n",
       "      <td>merchantofvenice</td>\n",
       "      <td>portia</td>\n",
       "      <td>148</td>\n",
       "    </tr>\n",
       "    <tr>\n",
       "      <th>131</th>\n",
       "      <td>winterstale</td>\n",
       "      <td>leontes</td>\n",
       "      <td>144</td>\n",
       "    </tr>\n",
       "    <tr>\n",
       "      <th>236</th>\n",
       "      <td>midsummersnightsdream</td>\n",
       "      <td>thou</td>\n",
       "      <td>116</td>\n",
       "    </tr>\n",
       "    <tr>\n",
       "      <th>245</th>\n",
       "      <td>rapeoflucrece</td>\n",
       "      <td>thy</td>\n",
       "      <td>114</td>\n",
       "    </tr>\n",
       "    <tr>\n",
       "      <th>638</th>\n",
       "      <td>venusandadonis</td>\n",
       "      <td>thou</td>\n",
       "      <td>68</td>\n",
       "    </tr>\n",
       "    <tr>\n",
       "      <th>1448</th>\n",
       "      <td>various</td>\n",
       "      <td>love</td>\n",
       "      <td>42</td>\n",
       "    </tr>\n",
       "    <tr>\n",
       "      <th>8759</th>\n",
       "      <td>loverscomplaint</td>\n",
       "      <td>would</td>\n",
       "      <td>10</td>\n",
       "    </tr>\n",
       "  </tbody>\n",
       "</table>\n",
       "</div>"
      ],
      "text/plain": [
       "                     corpus         f0_  total_count\n",
       "0                    hamlet      hamlet          484\n",
       "1              twelfthnight         sir          453\n",
       "2        antonyandcleopatra      antony          419\n",
       "3              3kinghenryvi        king          396\n",
       "4       merrywivesofwindsor    mistress          396\n",
       "5              juliuscaesar      brutus          371\n",
       "6                   othello        iago          361\n",
       "9            romeoandjuliet       romeo          322\n",
       "10            timonofathens       timon          322\n",
       "11               kinghenryv        king          315\n",
       "13                 kinglear        king          311\n",
       "14                  macbeth     macbeth          311\n",
       "16           kingrichardiii        king          300\n",
       "19              asyoulikeit    rosalind          274\n",
       "21            kingrichardii        king          271\n",
       "22                  sonnets         thy          266\n",
       "23       troilusandcressida     troilus          264\n",
       "25       measureforemeasure        duke          260\n",
       "28             1kinghenryiv       henry          255\n",
       "32          titusandronicus  andronicus          248\n",
       "35               coriolanus  coriolanus          242\n",
       "36                 kingjohn        king          242\n",
       "37             2kinghenryvi        king          241\n",
       "40           comedyoferrors    syracuse          232\n",
       "45             2kinghenryiv        lord          223\n",
       "49            kinghenryviii        king          221\n",
       "53     twogentlemenofverona     proteus          218\n",
       "55     allswellthatendswell        lord          212\n",
       "56     periclesprinceoftyre    pericles          212\n",
       "60         tamingoftheshrew   petruchio          208\n",
       "69      muchadoaboutnothing    benedick          199\n",
       "75         loveslabourslost       biron          194\n",
       "80                  tempest        thou          184\n",
       "91             1kinghenryvi        thou          174\n",
       "107               cymbeline        thou          165\n",
       "127        merchantofvenice      portia          148\n",
       "131             winterstale     leontes          144\n",
       "236   midsummersnightsdream        thou          116\n",
       "245           rapeoflucrece         thy          114\n",
       "638          venusandadonis        thou           68\n",
       "1448                various        love           42\n",
       "8759        loverscomplaint       would           10"
      ]
     },
     "execution_count": 108,
     "metadata": {},
     "output_type": "execute_result"
    }
   ],
   "source": [
    "top_word = word_freq_df.groupby(['corpus']).head(1)\n",
    "\n",
    "top_word"
   ]
  },
  {
   "cell_type": "markdown",
   "metadata": {},
   "source": [
    "Some works have _thou_ or _thy_ as one of the most common words. Again, this is not suprising: it's Shakespeare! These words are not part of the stop words list but probably should be included for this dataset."
   ]
  },
  {
   "cell_type": "code",
   "execution_count": 120,
   "metadata": {
    "ExecuteTime": {
     "end_time": "2019-03-30T02:49:05.402047Z",
     "start_time": "2019-03-30T02:48:51.748227Z"
    }
   },
   "outputs": [
    {
     "data": {
      "text/html": [
       "<div>\n",
       "<style scoped>\n",
       "    .dataframe tbody tr th:only-of-type {\n",
       "        vertical-align: middle;\n",
       "    }\n",
       "\n",
       "    .dataframe tbody tr th {\n",
       "        vertical-align: top;\n",
       "    }\n",
       "\n",
       "    .dataframe thead th {\n",
       "        text-align: right;\n",
       "    }\n",
       "</style>\n",
       "<table border=\"1\" class=\"dataframe\">\n",
       "  <thead>\n",
       "    <tr style=\"text-align: right;\">\n",
       "      <th></th>\n",
       "      <th>corpus</th>\n",
       "      <th>f0_</th>\n",
       "      <th>total_count</th>\n",
       "    </tr>\n",
       "  </thead>\n",
       "  <tbody>\n",
       "    <tr>\n",
       "      <th>0</th>\n",
       "      <td>hamlet</td>\n",
       "      <td>hamlet</td>\n",
       "      <td>484</td>\n",
       "    </tr>\n",
       "    <tr>\n",
       "      <th>1</th>\n",
       "      <td>twelfthnight</td>\n",
       "      <td>sir</td>\n",
       "      <td>453</td>\n",
       "    </tr>\n",
       "    <tr>\n",
       "      <th>2</th>\n",
       "      <td>antonyandcleopatra</td>\n",
       "      <td>antony</td>\n",
       "      <td>419</td>\n",
       "    </tr>\n",
       "    <tr>\n",
       "      <th>3</th>\n",
       "      <td>3kinghenryvi</td>\n",
       "      <td>king</td>\n",
       "      <td>396</td>\n",
       "    </tr>\n",
       "    <tr>\n",
       "      <th>4</th>\n",
       "      <td>merrywivesofwindsor</td>\n",
       "      <td>mistress</td>\n",
       "      <td>396</td>\n",
       "    </tr>\n",
       "    <tr>\n",
       "      <th>5</th>\n",
       "      <td>juliuscaesar</td>\n",
       "      <td>brutus</td>\n",
       "      <td>371</td>\n",
       "    </tr>\n",
       "    <tr>\n",
       "      <th>6</th>\n",
       "      <td>othello</td>\n",
       "      <td>iago</td>\n",
       "      <td>361</td>\n",
       "    </tr>\n",
       "    <tr>\n",
       "      <th>9</th>\n",
       "      <td>romeoandjuliet</td>\n",
       "      <td>romeo</td>\n",
       "      <td>322</td>\n",
       "    </tr>\n",
       "    <tr>\n",
       "      <th>10</th>\n",
       "      <td>timonofathens</td>\n",
       "      <td>timon</td>\n",
       "      <td>322</td>\n",
       "    </tr>\n",
       "    <tr>\n",
       "      <th>11</th>\n",
       "      <td>kinghenryv</td>\n",
       "      <td>king</td>\n",
       "      <td>315</td>\n",
       "    </tr>\n",
       "    <tr>\n",
       "      <th>13</th>\n",
       "      <td>kinglear</td>\n",
       "      <td>king</td>\n",
       "      <td>311</td>\n",
       "    </tr>\n",
       "    <tr>\n",
       "      <th>14</th>\n",
       "      <td>macbeth</td>\n",
       "      <td>macbeth</td>\n",
       "      <td>311</td>\n",
       "    </tr>\n",
       "    <tr>\n",
       "      <th>16</th>\n",
       "      <td>kingrichardiii</td>\n",
       "      <td>king</td>\n",
       "      <td>300</td>\n",
       "    </tr>\n",
       "    <tr>\n",
       "      <th>18</th>\n",
       "      <td>asyoulikeit</td>\n",
       "      <td>rosalind</td>\n",
       "      <td>274</td>\n",
       "    </tr>\n",
       "    <tr>\n",
       "      <th>20</th>\n",
       "      <td>kingrichardii</td>\n",
       "      <td>king</td>\n",
       "      <td>271</td>\n",
       "    </tr>\n",
       "    <tr>\n",
       "      <th>21</th>\n",
       "      <td>troilusandcressida</td>\n",
       "      <td>troilus</td>\n",
       "      <td>264</td>\n",
       "    </tr>\n",
       "    <tr>\n",
       "      <th>23</th>\n",
       "      <td>measureforemeasure</td>\n",
       "      <td>duke</td>\n",
       "      <td>260</td>\n",
       "    </tr>\n",
       "    <tr>\n",
       "      <th>26</th>\n",
       "      <td>1kinghenryiv</td>\n",
       "      <td>henry</td>\n",
       "      <td>255</td>\n",
       "    </tr>\n",
       "    <tr>\n",
       "      <th>29</th>\n",
       "      <td>titusandronicus</td>\n",
       "      <td>andronicus</td>\n",
       "      <td>248</td>\n",
       "    </tr>\n",
       "    <tr>\n",
       "      <th>32</th>\n",
       "      <td>coriolanus</td>\n",
       "      <td>coriolanus</td>\n",
       "      <td>242</td>\n",
       "    </tr>\n",
       "    <tr>\n",
       "      <th>33</th>\n",
       "      <td>kingjohn</td>\n",
       "      <td>king</td>\n",
       "      <td>242</td>\n",
       "    </tr>\n",
       "    <tr>\n",
       "      <th>34</th>\n",
       "      <td>2kinghenryvi</td>\n",
       "      <td>king</td>\n",
       "      <td>241</td>\n",
       "    </tr>\n",
       "    <tr>\n",
       "      <th>36</th>\n",
       "      <td>comedyoferrors</td>\n",
       "      <td>syracuse</td>\n",
       "      <td>232</td>\n",
       "    </tr>\n",
       "    <tr>\n",
       "      <th>41</th>\n",
       "      <td>2kinghenryiv</td>\n",
       "      <td>lord</td>\n",
       "      <td>223</td>\n",
       "    </tr>\n",
       "    <tr>\n",
       "      <th>45</th>\n",
       "      <td>kinghenryviii</td>\n",
       "      <td>king</td>\n",
       "      <td>221</td>\n",
       "    </tr>\n",
       "    <tr>\n",
       "      <th>47</th>\n",
       "      <td>twogentlemenofverona</td>\n",
       "      <td>proteus</td>\n",
       "      <td>218</td>\n",
       "    </tr>\n",
       "    <tr>\n",
       "      <th>49</th>\n",
       "      <td>allswellthatendswell</td>\n",
       "      <td>lord</td>\n",
       "      <td>212</td>\n",
       "    </tr>\n",
       "    <tr>\n",
       "      <th>50</th>\n",
       "      <td>periclesprinceoftyre</td>\n",
       "      <td>pericles</td>\n",
       "      <td>212</td>\n",
       "    </tr>\n",
       "    <tr>\n",
       "      <th>52</th>\n",
       "      <td>tamingoftheshrew</td>\n",
       "      <td>petruchio</td>\n",
       "      <td>208</td>\n",
       "    </tr>\n",
       "    <tr>\n",
       "      <th>58</th>\n",
       "      <td>muchadoaboutnothing</td>\n",
       "      <td>benedick</td>\n",
       "      <td>199</td>\n",
       "    </tr>\n",
       "    <tr>\n",
       "      <th>63</th>\n",
       "      <td>loveslabourslost</td>\n",
       "      <td>biron</td>\n",
       "      <td>194</td>\n",
       "    </tr>\n",
       "    <tr>\n",
       "      <th>78</th>\n",
       "      <td>1kinghenryvi</td>\n",
       "      <td>talbot</td>\n",
       "      <td>167</td>\n",
       "    </tr>\n",
       "    <tr>\n",
       "      <th>81</th>\n",
       "      <td>sonnets</td>\n",
       "      <td>love</td>\n",
       "      <td>167</td>\n",
       "    </tr>\n",
       "    <tr>\n",
       "      <th>87</th>\n",
       "      <td>cymbeline</td>\n",
       "      <td>imogen</td>\n",
       "      <td>162</td>\n",
       "    </tr>\n",
       "    <tr>\n",
       "      <th>102</th>\n",
       "      <td>merchantofvenice</td>\n",
       "      <td>portia</td>\n",
       "      <td>148</td>\n",
       "    </tr>\n",
       "    <tr>\n",
       "      <th>105</th>\n",
       "      <td>winterstale</td>\n",
       "      <td>leontes</td>\n",
       "      <td>144</td>\n",
       "    </tr>\n",
       "    <tr>\n",
       "      <th>108</th>\n",
       "      <td>tempest</td>\n",
       "      <td>prospero</td>\n",
       "      <td>142</td>\n",
       "    </tr>\n",
       "    <tr>\n",
       "      <th>229</th>\n",
       "      <td>midsummersnightsdream</td>\n",
       "      <td>love</td>\n",
       "      <td>109</td>\n",
       "    </tr>\n",
       "    <tr>\n",
       "      <th>554</th>\n",
       "      <td>rapeoflucrece</td>\n",
       "      <td>doth</td>\n",
       "      <td>69</td>\n",
       "    </tr>\n",
       "    <tr>\n",
       "      <th>572</th>\n",
       "      <td>venusandadonis</td>\n",
       "      <td>'</td>\n",
       "      <td>68</td>\n",
       "    </tr>\n",
       "    <tr>\n",
       "      <th>1370</th>\n",
       "      <td>various</td>\n",
       "      <td>love</td>\n",
       "      <td>42</td>\n",
       "    </tr>\n",
       "    <tr>\n",
       "      <th>8655</th>\n",
       "      <td>loverscomplaint</td>\n",
       "      <td>would</td>\n",
       "      <td>10</td>\n",
       "    </tr>\n",
       "  </tbody>\n",
       "</table>\n",
       "</div>"
      ],
      "text/plain": [
       "                     corpus         f0_  total_count\n",
       "0                    hamlet      hamlet          484\n",
       "1              twelfthnight         sir          453\n",
       "2        antonyandcleopatra      antony          419\n",
       "3              3kinghenryvi        king          396\n",
       "4       merrywivesofwindsor    mistress          396\n",
       "5              juliuscaesar      brutus          371\n",
       "6                   othello        iago          361\n",
       "9            romeoandjuliet       romeo          322\n",
       "10            timonofathens       timon          322\n",
       "11               kinghenryv        king          315\n",
       "13                 kinglear        king          311\n",
       "14                  macbeth     macbeth          311\n",
       "16           kingrichardiii        king          300\n",
       "18              asyoulikeit    rosalind          274\n",
       "20            kingrichardii        king          271\n",
       "21       troilusandcressida     troilus          264\n",
       "23       measureforemeasure        duke          260\n",
       "26             1kinghenryiv       henry          255\n",
       "29          titusandronicus  andronicus          248\n",
       "32               coriolanus  coriolanus          242\n",
       "33                 kingjohn        king          242\n",
       "34             2kinghenryvi        king          241\n",
       "36           comedyoferrors    syracuse          232\n",
       "41             2kinghenryiv        lord          223\n",
       "45            kinghenryviii        king          221\n",
       "47     twogentlemenofverona     proteus          218\n",
       "49     allswellthatendswell        lord          212\n",
       "50     periclesprinceoftyre    pericles          212\n",
       "52         tamingoftheshrew   petruchio          208\n",
       "58      muchadoaboutnothing    benedick          199\n",
       "63         loveslabourslost       biron          194\n",
       "78             1kinghenryvi      talbot          167\n",
       "81                  sonnets        love          167\n",
       "87                cymbeline      imogen          162\n",
       "102        merchantofvenice      portia          148\n",
       "105             winterstale     leontes          144\n",
       "108                 tempest    prospero          142\n",
       "229   midsummersnightsdream        love          109\n",
       "554           rapeoflucrece        doth           69\n",
       "572          venusandadonis           '           68\n",
       "1370                various        love           42\n",
       "8655        loverscomplaint       would           10"
      ]
     },
     "execution_count": 120,
     "metadata": {},
     "output_type": "execute_result"
    }
   ],
   "source": [
    "# Add old pronouns to stopwords and execute new query\n",
    "\n",
    "archaic_pronouns = ['thou', 'thy', 'thine']\n",
    "\n",
    "eng_stopwords = eng_stopwords + archaic_pronouns\n",
    "\n",
    "sql = \"\"\"\n",
    "    SELECT corpus, LOWER(word), SUM(word_count) as total_count\n",
    "    FROM `bigquery-public-data.samples.shakespeare` \n",
    "    WHERE LOWER(word) NOT IN ({})\n",
    "    GROUP BY corpus, LOWER(word)\n",
    "    ORDER BY total_count DESC, corpus ASC\n",
    "    \"\"\"\n",
    "\n",
    "word_freq_df = client.query(sql.format(str(eng_stopwords)[1:-1])).to_dataframe()\n",
    "\n",
    "top_word = word_freq_df.groupby(['corpus']).head(1)\n",
    "\n",
    "top_word"
   ]
  },
  {
   "cell_type": "markdown",
   "metadata": {},
   "source": [
    "Many top words seem to be shared across Shakespeare's works. For example, _king_ is the top word for Macbeth and King Lear. Other top words are character names, most often the protagonist of the work.  "
   ]
  },
  {
   "cell_type": "code",
   "execution_count": 123,
   "metadata": {
    "ExecuteTime": {
     "end_time": "2019-03-30T02:51:28.926186Z",
     "start_time": "2019-03-30T02:51:28.903153Z"
    }
   },
   "outputs": [
    {
     "data": {
      "text/html": [
       "<div>\n",
       "<style scoped>\n",
       "    .dataframe tbody tr th:only-of-type {\n",
       "        vertical-align: middle;\n",
       "    }\n",
       "\n",
       "    .dataframe tbody tr th {\n",
       "        vertical-align: top;\n",
       "    }\n",
       "\n",
       "    .dataframe thead th {\n",
       "        text-align: right;\n",
       "    }\n",
       "</style>\n",
       "<table border=\"1\" class=\"dataframe\">\n",
       "  <thead>\n",
       "    <tr style=\"text-align: right;\">\n",
       "      <th></th>\n",
       "      <th>corpus</th>\n",
       "      <th>f0_</th>\n",
       "      <th>total_count</th>\n",
       "    </tr>\n",
       "  </thead>\n",
       "  <tbody>\n",
       "    <tr>\n",
       "      <th>572</th>\n",
       "      <td>venusandadonis</td>\n",
       "      <td>'</td>\n",
       "      <td>68</td>\n",
       "    </tr>\n",
       "    <tr>\n",
       "      <th>29</th>\n",
       "      <td>titusandronicus</td>\n",
       "      <td>andronicus</td>\n",
       "      <td>248</td>\n",
       "    </tr>\n",
       "    <tr>\n",
       "      <th>2</th>\n",
       "      <td>antonyandcleopatra</td>\n",
       "      <td>antony</td>\n",
       "      <td>419</td>\n",
       "    </tr>\n",
       "    <tr>\n",
       "      <th>58</th>\n",
       "      <td>muchadoaboutnothing</td>\n",
       "      <td>benedick</td>\n",
       "      <td>199</td>\n",
       "    </tr>\n",
       "    <tr>\n",
       "      <th>63</th>\n",
       "      <td>loveslabourslost</td>\n",
       "      <td>biron</td>\n",
       "      <td>194</td>\n",
       "    </tr>\n",
       "    <tr>\n",
       "      <th>5</th>\n",
       "      <td>juliuscaesar</td>\n",
       "      <td>brutus</td>\n",
       "      <td>371</td>\n",
       "    </tr>\n",
       "    <tr>\n",
       "      <th>32</th>\n",
       "      <td>coriolanus</td>\n",
       "      <td>coriolanus</td>\n",
       "      <td>242</td>\n",
       "    </tr>\n",
       "    <tr>\n",
       "      <th>554</th>\n",
       "      <td>rapeoflucrece</td>\n",
       "      <td>doth</td>\n",
       "      <td>69</td>\n",
       "    </tr>\n",
       "    <tr>\n",
       "      <th>23</th>\n",
       "      <td>measureforemeasure</td>\n",
       "      <td>duke</td>\n",
       "      <td>260</td>\n",
       "    </tr>\n",
       "    <tr>\n",
       "      <th>0</th>\n",
       "      <td>hamlet</td>\n",
       "      <td>hamlet</td>\n",
       "      <td>484</td>\n",
       "    </tr>\n",
       "    <tr>\n",
       "      <th>26</th>\n",
       "      <td>1kinghenryiv</td>\n",
       "      <td>henry</td>\n",
       "      <td>255</td>\n",
       "    </tr>\n",
       "    <tr>\n",
       "      <th>6</th>\n",
       "      <td>othello</td>\n",
       "      <td>iago</td>\n",
       "      <td>361</td>\n",
       "    </tr>\n",
       "    <tr>\n",
       "      <th>87</th>\n",
       "      <td>cymbeline</td>\n",
       "      <td>imogen</td>\n",
       "      <td>162</td>\n",
       "    </tr>\n",
       "    <tr>\n",
       "      <th>45</th>\n",
       "      <td>kinghenryviii</td>\n",
       "      <td>king</td>\n",
       "      <td>221</td>\n",
       "    </tr>\n",
       "    <tr>\n",
       "      <th>34</th>\n",
       "      <td>2kinghenryvi</td>\n",
       "      <td>king</td>\n",
       "      <td>241</td>\n",
       "    </tr>\n",
       "    <tr>\n",
       "      <th>33</th>\n",
       "      <td>kingjohn</td>\n",
       "      <td>king</td>\n",
       "      <td>242</td>\n",
       "    </tr>\n",
       "    <tr>\n",
       "      <th>20</th>\n",
       "      <td>kingrichardii</td>\n",
       "      <td>king</td>\n",
       "      <td>271</td>\n",
       "    </tr>\n",
       "    <tr>\n",
       "      <th>16</th>\n",
       "      <td>kingrichardiii</td>\n",
       "      <td>king</td>\n",
       "      <td>300</td>\n",
       "    </tr>\n",
       "    <tr>\n",
       "      <th>13</th>\n",
       "      <td>kinglear</td>\n",
       "      <td>king</td>\n",
       "      <td>311</td>\n",
       "    </tr>\n",
       "    <tr>\n",
       "      <th>11</th>\n",
       "      <td>kinghenryv</td>\n",
       "      <td>king</td>\n",
       "      <td>315</td>\n",
       "    </tr>\n",
       "    <tr>\n",
       "      <th>3</th>\n",
       "      <td>3kinghenryvi</td>\n",
       "      <td>king</td>\n",
       "      <td>396</td>\n",
       "    </tr>\n",
       "    <tr>\n",
       "      <th>105</th>\n",
       "      <td>winterstale</td>\n",
       "      <td>leontes</td>\n",
       "      <td>144</td>\n",
       "    </tr>\n",
       "    <tr>\n",
       "      <th>49</th>\n",
       "      <td>allswellthatendswell</td>\n",
       "      <td>lord</td>\n",
       "      <td>212</td>\n",
       "    </tr>\n",
       "    <tr>\n",
       "      <th>41</th>\n",
       "      <td>2kinghenryiv</td>\n",
       "      <td>lord</td>\n",
       "      <td>223</td>\n",
       "    </tr>\n",
       "    <tr>\n",
       "      <th>1370</th>\n",
       "      <td>various</td>\n",
       "      <td>love</td>\n",
       "      <td>42</td>\n",
       "    </tr>\n",
       "    <tr>\n",
       "      <th>229</th>\n",
       "      <td>midsummersnightsdream</td>\n",
       "      <td>love</td>\n",
       "      <td>109</td>\n",
       "    </tr>\n",
       "    <tr>\n",
       "      <th>81</th>\n",
       "      <td>sonnets</td>\n",
       "      <td>love</td>\n",
       "      <td>167</td>\n",
       "    </tr>\n",
       "    <tr>\n",
       "      <th>14</th>\n",
       "      <td>macbeth</td>\n",
       "      <td>macbeth</td>\n",
       "      <td>311</td>\n",
       "    </tr>\n",
       "    <tr>\n",
       "      <th>4</th>\n",
       "      <td>merrywivesofwindsor</td>\n",
       "      <td>mistress</td>\n",
       "      <td>396</td>\n",
       "    </tr>\n",
       "    <tr>\n",
       "      <th>50</th>\n",
       "      <td>periclesprinceoftyre</td>\n",
       "      <td>pericles</td>\n",
       "      <td>212</td>\n",
       "    </tr>\n",
       "    <tr>\n",
       "      <th>52</th>\n",
       "      <td>tamingoftheshrew</td>\n",
       "      <td>petruchio</td>\n",
       "      <td>208</td>\n",
       "    </tr>\n",
       "    <tr>\n",
       "      <th>102</th>\n",
       "      <td>merchantofvenice</td>\n",
       "      <td>portia</td>\n",
       "      <td>148</td>\n",
       "    </tr>\n",
       "    <tr>\n",
       "      <th>108</th>\n",
       "      <td>tempest</td>\n",
       "      <td>prospero</td>\n",
       "      <td>142</td>\n",
       "    </tr>\n",
       "    <tr>\n",
       "      <th>47</th>\n",
       "      <td>twogentlemenofverona</td>\n",
       "      <td>proteus</td>\n",
       "      <td>218</td>\n",
       "    </tr>\n",
       "    <tr>\n",
       "      <th>9</th>\n",
       "      <td>romeoandjuliet</td>\n",
       "      <td>romeo</td>\n",
       "      <td>322</td>\n",
       "    </tr>\n",
       "    <tr>\n",
       "      <th>18</th>\n",
       "      <td>asyoulikeit</td>\n",
       "      <td>rosalind</td>\n",
       "      <td>274</td>\n",
       "    </tr>\n",
       "    <tr>\n",
       "      <th>1</th>\n",
       "      <td>twelfthnight</td>\n",
       "      <td>sir</td>\n",
       "      <td>453</td>\n",
       "    </tr>\n",
       "    <tr>\n",
       "      <th>36</th>\n",
       "      <td>comedyoferrors</td>\n",
       "      <td>syracuse</td>\n",
       "      <td>232</td>\n",
       "    </tr>\n",
       "    <tr>\n",
       "      <th>78</th>\n",
       "      <td>1kinghenryvi</td>\n",
       "      <td>talbot</td>\n",
       "      <td>167</td>\n",
       "    </tr>\n",
       "    <tr>\n",
       "      <th>10</th>\n",
       "      <td>timonofathens</td>\n",
       "      <td>timon</td>\n",
       "      <td>322</td>\n",
       "    </tr>\n",
       "    <tr>\n",
       "      <th>21</th>\n",
       "      <td>troilusandcressida</td>\n",
       "      <td>troilus</td>\n",
       "      <td>264</td>\n",
       "    </tr>\n",
       "    <tr>\n",
       "      <th>8655</th>\n",
       "      <td>loverscomplaint</td>\n",
       "      <td>would</td>\n",
       "      <td>10</td>\n",
       "    </tr>\n",
       "  </tbody>\n",
       "</table>\n",
       "</div>"
      ],
      "text/plain": [
       "                     corpus         f0_  total_count\n",
       "572          venusandadonis           '           68\n",
       "29          titusandronicus  andronicus          248\n",
       "2        antonyandcleopatra      antony          419\n",
       "58      muchadoaboutnothing    benedick          199\n",
       "63         loveslabourslost       biron          194\n",
       "5              juliuscaesar      brutus          371\n",
       "32               coriolanus  coriolanus          242\n",
       "554           rapeoflucrece        doth           69\n",
       "23       measureforemeasure        duke          260\n",
       "0                    hamlet      hamlet          484\n",
       "26             1kinghenryiv       henry          255\n",
       "6                   othello        iago          361\n",
       "87                cymbeline      imogen          162\n",
       "45            kinghenryviii        king          221\n",
       "34             2kinghenryvi        king          241\n",
       "33                 kingjohn        king          242\n",
       "20            kingrichardii        king          271\n",
       "16           kingrichardiii        king          300\n",
       "13                 kinglear        king          311\n",
       "11               kinghenryv        king          315\n",
       "3              3kinghenryvi        king          396\n",
       "105             winterstale     leontes          144\n",
       "49     allswellthatendswell        lord          212\n",
       "41             2kinghenryiv        lord          223\n",
       "1370                various        love           42\n",
       "229   midsummersnightsdream        love          109\n",
       "81                  sonnets        love          167\n",
       "14                  macbeth     macbeth          311\n",
       "4       merrywivesofwindsor    mistress          396\n",
       "50     periclesprinceoftyre    pericles          212\n",
       "52         tamingoftheshrew   petruchio          208\n",
       "102        merchantofvenice      portia          148\n",
       "108                 tempest    prospero          142\n",
       "47     twogentlemenofverona     proteus          218\n",
       "9            romeoandjuliet       romeo          322\n",
       "18              asyoulikeit    rosalind          274\n",
       "1              twelfthnight         sir          453\n",
       "36           comedyoferrors    syracuse          232\n",
       "78             1kinghenryvi      talbot          167\n",
       "10            timonofathens       timon          322\n",
       "21       troilusandcressida     troilus          264\n",
       "8655        loverscomplaint       would           10"
      ]
     },
     "execution_count": 123,
     "metadata": {},
     "output_type": "execute_result"
    }
   ],
   "source": [
    "top_word.sort_values(['f0_', 'total_count'])"
   ]
  },
  {
   "cell_type": "code",
   "execution_count": 115,
   "metadata": {
    "ExecuteTime": {
     "end_time": "2019-03-30T02:39:15.728728Z",
     "start_time": "2019-03-30T02:39:15.700599Z"
    }
   },
   "outputs": [
    {
     "data": {
      "text/html": [
       "<div>\n",
       "<style scoped>\n",
       "    .dataframe tbody tr th:only-of-type {\n",
       "        vertical-align: middle;\n",
       "    }\n",
       "\n",
       "    .dataframe tbody tr th {\n",
       "        vertical-align: top;\n",
       "    }\n",
       "\n",
       "    .dataframe thead th {\n",
       "        text-align: right;\n",
       "    }\n",
       "</style>\n",
       "<table border=\"1\" class=\"dataframe\">\n",
       "  <thead>\n",
       "    <tr style=\"text-align: right;\">\n",
       "      <th></th>\n",
       "      <th>corpus</th>\n",
       "      <th>num_words</th>\n",
       "      <th>f0_</th>\n",
       "      <th>total_count</th>\n",
       "      <th>freq</th>\n",
       "    </tr>\n",
       "  </thead>\n",
       "  <tbody>\n",
       "    <tr>\n",
       "      <th>41</th>\n",
       "      <td>loverscomplaint</td>\n",
       "      <td>2586</td>\n",
       "      <td>would</td>\n",
       "      <td>10</td>\n",
       "      <td>0.386698</td>\n",
       "    </tr>\n",
       "    <tr>\n",
       "      <th>15</th>\n",
       "      <td>winterstale</td>\n",
       "      <td>26181</td>\n",
       "      <td>leontes</td>\n",
       "      <td>144</td>\n",
       "      <td>0.550017</td>\n",
       "    </tr>\n",
       "    <tr>\n",
       "      <th>3</th>\n",
       "      <td>cymbeline</td>\n",
       "      <td>29231</td>\n",
       "      <td>thou</td>\n",
       "      <td>165</td>\n",
       "      <td>0.564469</td>\n",
       "    </tr>\n",
       "    <tr>\n",
       "      <th>24</th>\n",
       "      <td>merchantofvenice</td>\n",
       "      <td>22448</td>\n",
       "      <td>portia</td>\n",
       "      <td>148</td>\n",
       "      <td>0.659301</td>\n",
       "    </tr>\n",
       "    <tr>\n",
       "      <th>36</th>\n",
       "      <td>midsummersnightsdream</td>\n",
       "      <td>17348</td>\n",
       "      <td>thou</td>\n",
       "      <td>116</td>\n",
       "      <td>0.668665</td>\n",
       "    </tr>\n",
       "    <tr>\n",
       "      <th>39</th>\n",
       "      <td>venusandadonis</td>\n",
       "      <td>10035</td>\n",
       "      <td>thou</td>\n",
       "      <td>68</td>\n",
       "      <td>0.677628</td>\n",
       "    </tr>\n",
       "    <tr>\n",
       "      <th>20</th>\n",
       "      <td>1kinghenryvi</td>\n",
       "      <td>23272</td>\n",
       "      <td>thou</td>\n",
       "      <td>174</td>\n",
       "      <td>0.747680</td>\n",
       "    </tr>\n",
       "    <tr>\n",
       "      <th>38</th>\n",
       "      <td>rapeoflucrece</td>\n",
       "      <td>15221</td>\n",
       "      <td>thy</td>\n",
       "      <td>114</td>\n",
       "      <td>0.748965</td>\n",
       "    </tr>\n",
       "    <tr>\n",
       "      <th>4</th>\n",
       "      <td>2kinghenryiv</td>\n",
       "      <td>28241</td>\n",
       "      <td>lord</td>\n",
       "      <td>223</td>\n",
       "      <td>0.789632</td>\n",
       "    </tr>\n",
       "    <tr>\n",
       "      <th>2</th>\n",
       "      <td>coriolanus</td>\n",
       "      <td>29535</td>\n",
       "      <td>coriolanus</td>\n",
       "      <td>242</td>\n",
       "      <td>0.819367</td>\n",
       "    </tr>\n",
       "    <tr>\n",
       "      <th>21</th>\n",
       "      <td>loveslabourslost</td>\n",
       "      <td>23189</td>\n",
       "      <td>biron</td>\n",
       "      <td>194</td>\n",
       "      <td>0.836604</td>\n",
       "    </tr>\n",
       "    <tr>\n",
       "      <th>13</th>\n",
       "      <td>kinghenryviii</td>\n",
       "      <td>26265</td>\n",
       "      <td>king</td>\n",
       "      <td>221</td>\n",
       "      <td>0.841424</td>\n",
       "    </tr>\n",
       "    <tr>\n",
       "      <th>16</th>\n",
       "      <td>allswellthatendswell</td>\n",
       "      <td>24622</td>\n",
       "      <td>lord</td>\n",
       "      <td>212</td>\n",
       "      <td>0.861019</td>\n",
       "    </tr>\n",
       "    <tr>\n",
       "      <th>23</th>\n",
       "      <td>muchadoaboutnothing</td>\n",
       "      <td>22760</td>\n",
       "      <td>benedick</td>\n",
       "      <td>199</td>\n",
       "      <td>0.874341</td>\n",
       "    </tr>\n",
       "    <tr>\n",
       "      <th>10</th>\n",
       "      <td>2kinghenryvi</td>\n",
       "      <td>27165</td>\n",
       "      <td>king</td>\n",
       "      <td>241</td>\n",
       "      <td>0.887171</td>\n",
       "    </tr>\n",
       "    <tr>\n",
       "      <th>25</th>\n",
       "      <td>tamingoftheshrew</td>\n",
       "      <td>22358</td>\n",
       "      <td>petruchio</td>\n",
       "      <td>208</td>\n",
       "      <td>0.930316</td>\n",
       "    </tr>\n",
       "    <tr>\n",
       "      <th>1</th>\n",
       "      <td>kingrichardiii</td>\n",
       "      <td>31868</td>\n",
       "      <td>king</td>\n",
       "      <td>300</td>\n",
       "      <td>0.941383</td>\n",
       "    </tr>\n",
       "    <tr>\n",
       "      <th>8</th>\n",
       "      <td>troilusandcressida</td>\n",
       "      <td>27837</td>\n",
       "      <td>troilus</td>\n",
       "      <td>264</td>\n",
       "      <td>0.948378</td>\n",
       "    </tr>\n",
       "    <tr>\n",
       "      <th>11</th>\n",
       "      <td>1kinghenryiv</td>\n",
       "      <td>26401</td>\n",
       "      <td>henry</td>\n",
       "      <td>255</td>\n",
       "      <td>0.965873</td>\n",
       "    </tr>\n",
       "    <tr>\n",
       "      <th>35</th>\n",
       "      <td>tempest</td>\n",
       "      <td>17593</td>\n",
       "      <td>thou</td>\n",
       "      <td>184</td>\n",
       "      <td>1.045871</td>\n",
       "    </tr>\n",
       "    <tr>\n",
       "      <th>30</th>\n",
       "      <td>periclesprinceoftyre</td>\n",
       "      <td>19846</td>\n",
       "      <td>pericles</td>\n",
       "      <td>212</td>\n",
       "      <td>1.068225</td>\n",
       "    </tr>\n",
       "    <tr>\n",
       "      <th>26</th>\n",
       "      <td>kingjohn</td>\n",
       "      <td>21983</td>\n",
       "      <td>king</td>\n",
       "      <td>242</td>\n",
       "      <td>1.100851</td>\n",
       "    </tr>\n",
       "    <tr>\n",
       "      <th>6</th>\n",
       "      <td>kinglear</td>\n",
       "      <td>28001</td>\n",
       "      <td>king</td>\n",
       "      <td>311</td>\n",
       "      <td>1.110675</td>\n",
       "    </tr>\n",
       "    <tr>\n",
       "      <th>19</th>\n",
       "      <td>measureforemeasure</td>\n",
       "      <td>23303</td>\n",
       "      <td>duke</td>\n",
       "      <td>260</td>\n",
       "      <td>1.115736</td>\n",
       "    </tr>\n",
       "    <tr>\n",
       "      <th>17</th>\n",
       "      <td>kingrichardii</td>\n",
       "      <td>24150</td>\n",
       "      <td>king</td>\n",
       "      <td>271</td>\n",
       "      <td>1.122153</td>\n",
       "    </tr>\n",
       "    <tr>\n",
       "      <th>7</th>\n",
       "      <td>kinghenryv</td>\n",
       "      <td>27894</td>\n",
       "      <td>king</td>\n",
       "      <td>315</td>\n",
       "      <td>1.129275</td>\n",
       "    </tr>\n",
       "    <tr>\n",
       "      <th>27</th>\n",
       "      <td>titusandronicus</td>\n",
       "      <td>21911</td>\n",
       "      <td>andronicus</td>\n",
       "      <td>248</td>\n",
       "      <td>1.131852</td>\n",
       "    </tr>\n",
       "    <tr>\n",
       "      <th>32</th>\n",
       "      <td>twogentlemenofverona</td>\n",
       "      <td>18493</td>\n",
       "      <td>proteus</td>\n",
       "      <td>218</td>\n",
       "      <td>1.178824</td>\n",
       "    </tr>\n",
       "    <tr>\n",
       "      <th>40</th>\n",
       "      <td>various</td>\n",
       "      <td>3545</td>\n",
       "      <td>love</td>\n",
       "      <td>42</td>\n",
       "      <td>1.184767</td>\n",
       "    </tr>\n",
       "    <tr>\n",
       "      <th>22</th>\n",
       "      <td>asyoulikeit</td>\n",
       "      <td>23087</td>\n",
       "      <td>rosalind</td>\n",
       "      <td>274</td>\n",
       "      <td>1.186815</td>\n",
       "    </tr>\n",
       "    <tr>\n",
       "      <th>14</th>\n",
       "      <td>romeoandjuliet</td>\n",
       "      <td>26192</td>\n",
       "      <td>romeo</td>\n",
       "      <td>322</td>\n",
       "      <td>1.229383</td>\n",
       "    </tr>\n",
       "    <tr>\n",
       "      <th>5</th>\n",
       "      <td>othello</td>\n",
       "      <td>28076</td>\n",
       "      <td>iago</td>\n",
       "      <td>361</td>\n",
       "      <td>1.285796</td>\n",
       "    </tr>\n",
       "    <tr>\n",
       "      <th>37</th>\n",
       "      <td>comedyoferrors</td>\n",
       "      <td>16361</td>\n",
       "      <td>syracuse</td>\n",
       "      <td>232</td>\n",
       "      <td>1.418006</td>\n",
       "    </tr>\n",
       "    <tr>\n",
       "      <th>0</th>\n",
       "      <td>hamlet</td>\n",
       "      <td>32446</td>\n",
       "      <td>hamlet</td>\n",
       "      <td>484</td>\n",
       "      <td>1.491709</td>\n",
       "    </tr>\n",
       "    <tr>\n",
       "      <th>34</th>\n",
       "      <td>sonnets</td>\n",
       "      <td>17805</td>\n",
       "      <td>thy</td>\n",
       "      <td>266</td>\n",
       "      <td>1.493962</td>\n",
       "    </tr>\n",
       "    <tr>\n",
       "      <th>12</th>\n",
       "      <td>3kinghenryvi</td>\n",
       "      <td>26288</td>\n",
       "      <td>king</td>\n",
       "      <td>396</td>\n",
       "      <td>1.506391</td>\n",
       "    </tr>\n",
       "    <tr>\n",
       "      <th>9</th>\n",
       "      <td>antonyandcleopatra</td>\n",
       "      <td>27310</td>\n",
       "      <td>antony</td>\n",
       "      <td>419</td>\n",
       "      <td>1.534237</td>\n",
       "    </tr>\n",
       "    <tr>\n",
       "      <th>31</th>\n",
       "      <td>timonofathens</td>\n",
       "      <td>19841</td>\n",
       "      <td>timon</td>\n",
       "      <td>322</td>\n",
       "      <td>1.622902</td>\n",
       "    </tr>\n",
       "    <tr>\n",
       "      <th>18</th>\n",
       "      <td>merrywivesofwindsor</td>\n",
       "      <td>24033</td>\n",
       "      <td>mistress</td>\n",
       "      <td>396</td>\n",
       "      <td>1.647734</td>\n",
       "    </tr>\n",
       "    <tr>\n",
       "      <th>33</th>\n",
       "      <td>macbeth</td>\n",
       "      <td>18439</td>\n",
       "      <td>macbeth</td>\n",
       "      <td>311</td>\n",
       "      <td>1.686642</td>\n",
       "    </tr>\n",
       "    <tr>\n",
       "      <th>29</th>\n",
       "      <td>juliuscaesar</td>\n",
       "      <td>21052</td>\n",
       "      <td>brutus</td>\n",
       "      <td>371</td>\n",
       "      <td>1.762303</td>\n",
       "    </tr>\n",
       "    <tr>\n",
       "      <th>28</th>\n",
       "      <td>twelfthnight</td>\n",
       "      <td>21633</td>\n",
       "      <td>sir</td>\n",
       "      <td>453</td>\n",
       "      <td>2.094023</td>\n",
       "    </tr>\n",
       "  </tbody>\n",
       "</table>\n",
       "</div>"
      ],
      "text/plain": [
       "                   corpus  num_words         f0_  total_count      freq\n",
       "41        loverscomplaint       2586       would           10  0.386698\n",
       "15            winterstale      26181     leontes          144  0.550017\n",
       "3               cymbeline      29231        thou          165  0.564469\n",
       "24       merchantofvenice      22448      portia          148  0.659301\n",
       "36  midsummersnightsdream      17348        thou          116  0.668665\n",
       "39         venusandadonis      10035        thou           68  0.677628\n",
       "20           1kinghenryvi      23272        thou          174  0.747680\n",
       "38          rapeoflucrece      15221         thy          114  0.748965\n",
       "4            2kinghenryiv      28241        lord          223  0.789632\n",
       "2              coriolanus      29535  coriolanus          242  0.819367\n",
       "21       loveslabourslost      23189       biron          194  0.836604\n",
       "13          kinghenryviii      26265        king          221  0.841424\n",
       "16   allswellthatendswell      24622        lord          212  0.861019\n",
       "23    muchadoaboutnothing      22760    benedick          199  0.874341\n",
       "10           2kinghenryvi      27165        king          241  0.887171\n",
       "25       tamingoftheshrew      22358   petruchio          208  0.930316\n",
       "1          kingrichardiii      31868        king          300  0.941383\n",
       "8      troilusandcressida      27837     troilus          264  0.948378\n",
       "11           1kinghenryiv      26401       henry          255  0.965873\n",
       "35                tempest      17593        thou          184  1.045871\n",
       "30   periclesprinceoftyre      19846    pericles          212  1.068225\n",
       "26               kingjohn      21983        king          242  1.100851\n",
       "6                kinglear      28001        king          311  1.110675\n",
       "19     measureforemeasure      23303        duke          260  1.115736\n",
       "17          kingrichardii      24150        king          271  1.122153\n",
       "7              kinghenryv      27894        king          315  1.129275\n",
       "27        titusandronicus      21911  andronicus          248  1.131852\n",
       "32   twogentlemenofverona      18493     proteus          218  1.178824\n",
       "40                various       3545        love           42  1.184767\n",
       "22            asyoulikeit      23087    rosalind          274  1.186815\n",
       "14         romeoandjuliet      26192       romeo          322  1.229383\n",
       "5                 othello      28076        iago          361  1.285796\n",
       "37         comedyoferrors      16361    syracuse          232  1.418006\n",
       "0                  hamlet      32446      hamlet          484  1.491709\n",
       "34                sonnets      17805         thy          266  1.493962\n",
       "12           3kinghenryvi      26288        king          396  1.506391\n",
       "9      antonyandcleopatra      27310      antony          419  1.534237\n",
       "31          timonofathens      19841       timon          322  1.622902\n",
       "18    merrywivesofwindsor      24033    mistress          396  1.647734\n",
       "33                macbeth      18439     macbeth          311  1.686642\n",
       "29           juliuscaesar      21052      brutus          371  1.762303\n",
       "28           twelfthnight      21633         sir          453  2.094023"
      ]
     },
     "execution_count": 115,
     "metadata": {},
     "output_type": "execute_result"
    }
   ],
   "source": [
    "# Join top words with num words\n",
    "\n",
    "shakes_words = pd.merge(num_words_df, top_word, on='corpus')\n",
    "shakes_words['freq'] = shakes_words['total_count'] / shakes_words['num_words'] * 100\n",
    "\n",
    "shakes_words.sort_values('freq')"
   ]
  },
  {
   "cell_type": "markdown",
   "metadata": {
    "colab_type": "text",
    "id": "OFNsekmxLFaM"
   },
   "source": [
    "## - END -"
   ]
  },
  {
   "cell_type": "markdown",
   "metadata": {
    "colab_type": "text",
    "id": "KBAJLLeXLHs8"
   },
   "source": [
    ">\n",
    ">\n"
   ]
  },
  {
   "cell_type": "markdown",
   "metadata": {
    "colab_type": "text",
    "id": "V1AVU7q-LIuO"
   },
   "source": [
    ">\n",
    ">\n"
   ]
  },
  {
   "cell_type": "markdown",
   "metadata": {
    "colab_type": "text",
    "id": "Fpehj_5ELJk9"
   },
   "source": [
    "\n",
    "\n",
    "---\n",
    "\n",
    "\n",
    "\n",
    "---\n",
    "\n",
    "> > > > > > > > > © 2019 Data Science Institute of Australia\n",
    "\n",
    "\n",
    "---\n",
    "\n",
    "\n",
    "\n",
    "---\n",
    "\n"
   ]
  }
 ],
 "metadata": {
  "colab": {
   "collapsed_sections": [
    "DsWSuO95LFaJ",
    "PJmK2n7vLFaL"
   ],
   "name": "DSIA Lab 2.2.4 .ipynb",
   "provenance": [],
   "version": "0.3.2"
  },
  "kernelspec": {
   "display_name": "Python [conda env:datsci]",
   "language": "python",
   "name": "conda-env-datsci-py"
  },
  "language_info": {
   "codemirror_mode": {
    "name": "ipython",
    "version": 3
   },
   "file_extension": ".py",
   "mimetype": "text/x-python",
   "name": "python",
   "nbconvert_exporter": "python",
   "pygments_lexer": "ipython3",
   "version": "3.6.7"
  },
  "toc": {
   "nav_menu": {},
   "number_sections": true,
   "sideBar": true,
   "skip_h1_title": true,
   "title_cell": "Table of Contents",
   "title_sidebar": "Contents",
   "toc_cell": true,
   "toc_position": {},
   "toc_section_display": true,
   "toc_window_display": false
  },
  "varInspector": {
   "cols": {
    "lenName": 16,
    "lenType": 16,
    "lenVar": 40
   },
   "kernels_config": {
    "python": {
     "delete_cmd_postfix": "",
     "delete_cmd_prefix": "del ",
     "library": "var_list.py",
     "varRefreshCmd": "print(var_dic_list())"
    },
    "r": {
     "delete_cmd_postfix": ") ",
     "delete_cmd_prefix": "rm(",
     "library": "var_list.r",
     "varRefreshCmd": "cat(var_dic_list()) "
    }
   },
   "types_to_exclude": [
    "module",
    "function",
    "builtin_function_or_method",
    "instance",
    "_Feature"
   ],
   "window_display": false
  }
 },
 "nbformat": 4,
 "nbformat_minor": 1
}
