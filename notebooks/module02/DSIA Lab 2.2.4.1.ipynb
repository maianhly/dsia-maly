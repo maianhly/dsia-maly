{
 "cells": [
  {
   "cell_type": "markdown",
   "metadata": {
    "toc": true
   },
   "source": [
    "<h1>Table of Contents<span class=\"tocSkip\"></span></h1>\n",
    "<div class=\"toc\"><ul class=\"toc-item\"><li><span><a href=\"#Sample-Questions\" data-toc-modified-id=\"Sample-Questions-1\"><span class=\"toc-item-num\">1&nbsp;&nbsp;</span>Sample Questions</a></span><ul class=\"toc-item\"><li><span><a href=\"#1.-What-percentage-of-questions-have-been-answered-over-the-years?\" data-toc-modified-id=\"1.-What-percentage-of-questions-have-been-answered-over-the-years?-1.1\"><span class=\"toc-item-num\">1.1&nbsp;&nbsp;</span>1. What percentage of questions have been answered over the years?</a></span></li><li><span><a href=\"#2.-What-are-the-10-‘easiest’-gold-badges-to-earn?\" data-toc-modified-id=\"2.-What-are-the-10-‘easiest’-gold-badges-to-earn?-1.2\"><span class=\"toc-item-num\">1.2&nbsp;&nbsp;</span>2. What are the 10 ‘easiest’ gold badges to earn?</a></span></li><li><span><a href=\"#3.-Which-day-of-the-week-has-most-questions-answered-within-an-hour?\" data-toc-modified-id=\"3.-Which-day-of-the-week-has-most-questions-answered-within-an-hour?-1.3\"><span class=\"toc-item-num\">1.3&nbsp;&nbsp;</span>3. Which day of the week has most questions answered within an hour?</a></span></li><li><span><a href=\"#4.-Does-adding-a-“?”-actually-help-user-to-get-answers?\" data-toc-modified-id=\"4.-Does-adding-a-“?”-actually-help-user-to-get-answers?-1.4\"><span class=\"toc-item-num\">1.4&nbsp;&nbsp;</span>4. Does adding a “?” actually help user to get answers?</a></span></li></ul></li><li><span><a href=\"#What's-Next?\" data-toc-modified-id=\"What's-Next?-2\"><span class=\"toc-item-num\">2&nbsp;&nbsp;</span>What's Next?</a></span></li></ul></div>"
   ]
  },
  {
   "cell_type": "markdown",
   "metadata": {},
   "source": [
    "[Date Functions in Standard SQL\n",
    "](https://cloud.google.com/bigquery/docs/reference/standard-sql/date_functions)"
   ]
  },
  {
   "cell_type": "code",
   "execution_count": 19,
   "metadata": {
    "ExecuteTime": {
     "end_time": "2019-03-30T03:27:23.619524Z",
     "start_time": "2019-03-30T03:27:23.264827Z"
    }
   },
   "outputs": [],
   "source": [
    "# Import Necessary Libraries\n",
    "\n",
    "from google.cloud import bigquery\n",
    "from google.cloud.bigquery import Dataset\n",
    "from google.cloud import storage\n",
    "\n",
    "import pandas as pd\n",
    "\n",
    "import matplotlib.pyplot as plt\n",
    "import seaborn as sns"
   ]
  },
  {
   "cell_type": "code",
   "execution_count": 2,
   "metadata": {
    "ExecuteTime": {
     "end_time": "2019-03-30T02:53:34.453377Z",
     "start_time": "2019-03-30T02:53:34.420892Z"
    }
   },
   "outputs": [],
   "source": [
    "# Project created as a owner\n",
    "private_project = 'magnetic-math-233501'\n",
    "\n",
    "# Public project of big query\n",
    "public_project = 'bigquery-public-data'\n",
    "\n",
    "# Set storage client\n",
    "storage_client = storage.Client()\n",
    "\n",
    "# Set big query client\n",
    "client = bigquery.Client(project=public_project)"
   ]
  },
  {
   "cell_type": "code",
   "execution_count": 3,
   "metadata": {
    "ExecuteTime": {
     "end_time": "2019-03-30T02:53:37.200054Z",
     "start_time": "2019-03-30T02:53:37.191604Z"
    }
   },
   "outputs": [],
   "source": [
    "dataset_id = 'stackoverflow'\n",
    "\n",
    "# Get the public dataset\n",
    "dataset_ref = client.dataset(dataset_id, project=public_project)"
   ]
  },
  {
   "cell_type": "code",
   "execution_count": 4,
   "metadata": {
    "ExecuteTime": {
     "end_time": "2019-03-30T02:53:39.118863Z",
     "start_time": "2019-03-30T02:53:39.112533Z"
    }
   },
   "outputs": [],
   "source": [
    "def printTableList(client, dataset_id):\n",
    "    project = client.project\n",
    "    dataset_ref = client.dataset(dataset_id, project = project)    \n",
    "    tables = list(client.list_tables(dataset_ref))\n",
    "    if tables:\n",
    "        print('Tables in dataset {}:'.format(dataset_id))\n",
    "        for table in tables: \n",
    "            print('\\t{}'.format(table.table_id))\n",
    "        found = True\n",
    "    else:\n",
    "        print('{} dataset does not contain any tables.'.format(dataset_id))\n",
    "        found = False\n",
    "    return found"
   ]
  },
  {
   "cell_type": "code",
   "execution_count": 5,
   "metadata": {
    "ExecuteTime": {
     "end_time": "2019-03-30T02:53:41.882569Z",
     "start_time": "2019-03-30T02:53:40.678666Z"
    }
   },
   "outputs": [
    {
     "name": "stdout",
     "output_type": "stream",
     "text": [
      "Tables in dataset stackoverflow:\n",
      "\tbadges\n",
      "\tcomments\n",
      "\tpost_history\n",
      "\tpost_links\n",
      "\tposts_answers\n",
      "\tposts_moderator_nomination\n",
      "\tposts_orphaned_tag_wiki\n",
      "\tposts_privilege_wiki\n",
      "\tposts_questions\n",
      "\tposts_tag_wiki\n",
      "\tposts_tag_wiki_excerpt\n",
      "\tposts_wiki_placeholder\n",
      "\tstackoverflow_posts\n",
      "\ttags\n",
      "\tusers\n",
      "\tvotes\n"
     ]
    },
    {
     "data": {
      "text/plain": [
       "True"
      ]
     },
     "execution_count": 5,
     "metadata": {},
     "output_type": "execute_result"
    }
   ],
   "source": [
    "printTableList(client, dataset_id)"
   ]
  },
  {
   "cell_type": "code",
   "execution_count": 7,
   "metadata": {
    "ExecuteTime": {
     "end_time": "2019-03-30T02:53:54.715368Z",
     "start_time": "2019-03-30T02:53:54.708323Z"
    }
   },
   "outputs": [],
   "source": [
    "# Set the project as private to run queries\n",
    "client = bigquery.Client(project=private_project)"
   ]
  },
  {
   "cell_type": "markdown",
   "metadata": {},
   "source": [
    "### Sample Questions"
   ]
  },
  {
   "cell_type": "markdown",
   "metadata": {},
   "source": [
    "#### 1. What percentage of questions have been answered over the years?\n",
    "\n",
    "Use following table \n",
    "\n",
    "> `bigquery-public-data.stackoverflow.posts_questions`\n",
    "\n",
    "Present data visually."
   ]
  },
  {
   "cell_type": "code",
   "execution_count": 11,
   "metadata": {
    "ExecuteTime": {
     "end_time": "2019-03-30T03:05:48.698017Z",
     "start_time": "2019-03-30T03:05:48.679518Z"
    }
   },
   "outputs": [],
   "source": [
    "# function to print a table schema:\n",
    "def printTableSchema(aTable):\n",
    "    schemas = list(aTable.schema)\n",
    "    if schemas:\n",
    "        print('Table schema for {}:'.format(aTable.table_id))\n",
    "        for aSchema in schemas:\n",
    "            print('\\t{0} {1}'.format(aSchema.name, aSchema.field_type))\n",
    "        found = True\n",
    "    else:\n",
    "        found = False\n",
    "    return found"
   ]
  },
  {
   "cell_type": "code",
   "execution_count": 12,
   "metadata": {
    "ExecuteTime": {
     "end_time": "2019-03-30T03:06:06.042074Z",
     "start_time": "2019-03-30T03:06:06.020770Z"
    }
   },
   "outputs": [
    {
     "name": "stdout",
     "output_type": "stream",
     "text": [
      "Table schema for posts_questions:\n",
      "\tid INTEGER\n",
      "\ttitle STRING\n",
      "\tbody STRING\n",
      "\taccepted_answer_id INTEGER\n",
      "\tanswer_count INTEGER\n",
      "\tcomment_count INTEGER\n",
      "\tcommunity_owned_date TIMESTAMP\n",
      "\tcreation_date TIMESTAMP\n",
      "\tfavorite_count INTEGER\n",
      "\tlast_activity_date TIMESTAMP\n",
      "\tlast_edit_date TIMESTAMP\n",
      "\tlast_editor_display_name STRING\n",
      "\tlast_editor_user_id INTEGER\n",
      "\towner_display_name STRING\n",
      "\towner_user_id INTEGER\n",
      "\tpost_type_id INTEGER\n",
      "\tscore INTEGER\n",
      "\ttags STRING\n",
      "\tview_count INTEGER\n"
     ]
    },
    {
     "data": {
      "text/plain": [
       "True"
      ]
     },
     "execution_count": 12,
     "metadata": {},
     "output_type": "execute_result"
    }
   ],
   "source": [
    "table_ref = dataset_ref.table('posts_questions')\n",
    "table = client.get_table(table_ref)\n",
    "printTableSchema(table)"
   ]
  },
  {
   "cell_type": "code",
   "execution_count": 17,
   "metadata": {
    "ExecuteTime": {
     "end_time": "2019-03-30T03:26:16.601664Z",
     "start_time": "2019-03-30T03:26:12.421437Z"
    }
   },
   "outputs": [
    {
     "data": {
      "text/html": [
       "<div>\n",
       "<style scoped>\n",
       "    .dataframe tbody tr th:only-of-type {\n",
       "        vertical-align: middle;\n",
       "    }\n",
       "\n",
       "    .dataframe tbody tr th {\n",
       "        vertical-align: top;\n",
       "    }\n",
       "\n",
       "    .dataframe thead th {\n",
       "        text-align: right;\n",
       "    }\n",
       "</style>\n",
       "<table border=\"1\" class=\"dataframe\">\n",
       "  <thead>\n",
       "    <tr style=\"text-align: right;\">\n",
       "      <th></th>\n",
       "      <th>year</th>\n",
       "      <th>num_questions</th>\n",
       "    </tr>\n",
       "  </thead>\n",
       "  <tbody>\n",
       "    <tr>\n",
       "      <th>0</th>\n",
       "      <td>2016</td>\n",
       "      <td>2219199</td>\n",
       "    </tr>\n",
       "    <tr>\n",
       "      <th>1</th>\n",
       "      <td>2017</td>\n",
       "      <td>2137687</td>\n",
       "    </tr>\n",
       "    <tr>\n",
       "      <th>2</th>\n",
       "      <td>2008</td>\n",
       "      <td>58153</td>\n",
       "    </tr>\n",
       "    <tr>\n",
       "      <th>3</th>\n",
       "      <td>2009</td>\n",
       "      <td>343139</td>\n",
       "    </tr>\n",
       "    <tr>\n",
       "      <th>4</th>\n",
       "      <td>2012</td>\n",
       "      <td>1642687</td>\n",
       "    </tr>\n",
       "  </tbody>\n",
       "</table>\n",
       "</div>"
      ],
      "text/plain": [
       "   year  num_questions\n",
       "0  2016        2219199\n",
       "1  2017        2137687\n",
       "2  2008          58153\n",
       "3  2009         343139\n",
       "4  2012        1642687"
      ]
     },
     "execution_count": 17,
     "metadata": {},
     "output_type": "execute_result"
    }
   ],
   "source": [
    "# Get num of posts by year\n",
    "\n",
    "query = \"\"\"\n",
    "        SELECT EXTRACT(YEAR FROM creation_date) AS year, COUNT(id) AS num_questions\n",
    "        FROM `bigquery-public-data.stackoverflow.posts_questions`\n",
    "        GROUP BY year\n",
    "        \"\"\"\n",
    "\n",
    "num_questions = client.query(query).to_dataframe()\n",
    "\n",
    "num_questions.head()"
   ]
  },
  {
   "cell_type": "code",
   "execution_count": 16,
   "metadata": {
    "ExecuteTime": {
     "end_time": "2019-03-30T03:25:08.893189Z",
     "start_time": "2019-03-30T03:25:04.305283Z"
    }
   },
   "outputs": [
    {
     "data": {
      "text/html": [
       "<div>\n",
       "<style scoped>\n",
       "    .dataframe tbody tr th:only-of-type {\n",
       "        vertical-align: middle;\n",
       "    }\n",
       "\n",
       "    .dataframe tbody tr th {\n",
       "        vertical-align: top;\n",
       "    }\n",
       "\n",
       "    .dataframe thead th {\n",
       "        text-align: right;\n",
       "    }\n",
       "</style>\n",
       "<table border=\"1\" class=\"dataframe\">\n",
       "  <thead>\n",
       "    <tr style=\"text-align: right;\">\n",
       "      <th></th>\n",
       "      <th>year</th>\n",
       "      <th>num_accepted_answers</th>\n",
       "    </tr>\n",
       "  </thead>\n",
       "  <tbody>\n",
       "    <tr>\n",
       "      <th>0</th>\n",
       "      <td>2017</td>\n",
       "      <td>981702</td>\n",
       "    </tr>\n",
       "    <tr>\n",
       "      <th>1</th>\n",
       "      <td>2016</td>\n",
       "      <td>1062314</td>\n",
       "    </tr>\n",
       "    <tr>\n",
       "      <th>2</th>\n",
       "      <td>2008</td>\n",
       "      <td>44010</td>\n",
       "    </tr>\n",
       "    <tr>\n",
       "      <th>3</th>\n",
       "      <td>2018</td>\n",
       "      <td>836234</td>\n",
       "    </tr>\n",
       "    <tr>\n",
       "      <th>4</th>\n",
       "      <td>2010</td>\n",
       "      <td>495828</td>\n",
       "    </tr>\n",
       "  </tbody>\n",
       "</table>\n",
       "</div>"
      ],
      "text/plain": [
       "   year  num_accepted_answers\n",
       "0  2017                981702\n",
       "1  2016               1062314\n",
       "2  2008                 44010\n",
       "3  2018                836234\n",
       "4  2010                495828"
      ]
     },
     "execution_count": 16,
     "metadata": {},
     "output_type": "execute_result"
    }
   ],
   "source": [
    "# Get count of accepted answers by year\n",
    "\n",
    "query = \"\"\"\n",
    "        SELECT EXTRACT(YEAR FROM creation_date) AS year, COUNT(accepted_answer_id) AS num_accepted_answers\n",
    "        FROM `bigquery-public-data.stackoverflow.posts_questions`\n",
    "        WHERE accepted_answer_id IS NOT NULL\n",
    "        GROUP BY year\n",
    "        \"\"\"\n",
    "\n",
    "accepted_answer = client.query(query).to_dataframe()\n",
    "\n",
    "accepted_answer.head()"
   ]
  },
  {
   "cell_type": "code",
   "execution_count": 22,
   "metadata": {
    "ExecuteTime": {
     "end_time": "2019-03-30T03:28:32.233106Z",
     "start_time": "2019-03-30T03:28:32.204787Z"
    }
   },
   "outputs": [
    {
     "data": {
      "text/html": [
       "<div>\n",
       "<style scoped>\n",
       "    .dataframe tbody tr th:only-of-type {\n",
       "        vertical-align: middle;\n",
       "    }\n",
       "\n",
       "    .dataframe tbody tr th {\n",
       "        vertical-align: top;\n",
       "    }\n",
       "\n",
       "    .dataframe thead th {\n",
       "        text-align: right;\n",
       "    }\n",
       "</style>\n",
       "<table border=\"1\" class=\"dataframe\">\n",
       "  <thead>\n",
       "    <tr style=\"text-align: right;\">\n",
       "      <th></th>\n",
       "      <th>year</th>\n",
       "      <th>num_questions</th>\n",
       "      <th>num_accepted_answers</th>\n",
       "      <th>perc_answered</th>\n",
       "    </tr>\n",
       "  </thead>\n",
       "  <tbody>\n",
       "    <tr>\n",
       "      <th>2</th>\n",
       "      <td>2008</td>\n",
       "      <td>58153</td>\n",
       "      <td>44010</td>\n",
       "      <td>75.679673</td>\n",
       "    </tr>\n",
       "    <tr>\n",
       "      <th>3</th>\n",
       "      <td>2009</td>\n",
       "      <td>343139</td>\n",
       "      <td>250297</td>\n",
       "      <td>72.943326</td>\n",
       "    </tr>\n",
       "    <tr>\n",
       "      <th>11</th>\n",
       "      <td>2010</td>\n",
       "      <td>693332</td>\n",
       "      <td>495828</td>\n",
       "      <td>71.513791</td>\n",
       "    </tr>\n",
       "    <tr>\n",
       "      <th>8</th>\n",
       "      <td>2011</td>\n",
       "      <td>1198587</td>\n",
       "      <td>823894</td>\n",
       "      <td>68.738773</td>\n",
       "    </tr>\n",
       "    <tr>\n",
       "      <th>4</th>\n",
       "      <td>2012</td>\n",
       "      <td>1642687</td>\n",
       "      <td>1063072</td>\n",
       "      <td>64.715433</td>\n",
       "    </tr>\n",
       "    <tr>\n",
       "      <th>7</th>\n",
       "      <td>2013</td>\n",
       "      <td>2056613</td>\n",
       "      <td>1172818</td>\n",
       "      <td>57.026674</td>\n",
       "    </tr>\n",
       "    <tr>\n",
       "      <th>6</th>\n",
       "      <td>2014</td>\n",
       "      <td>2160361</td>\n",
       "      <td>1156325</td>\n",
       "      <td>53.524619</td>\n",
       "    </tr>\n",
       "    <tr>\n",
       "      <th>5</th>\n",
       "      <td>2015</td>\n",
       "      <td>2214389</td>\n",
       "      <td>1110554</td>\n",
       "      <td>50.151712</td>\n",
       "    </tr>\n",
       "    <tr>\n",
       "      <th>0</th>\n",
       "      <td>2016</td>\n",
       "      <td>2219199</td>\n",
       "      <td>1062314</td>\n",
       "      <td>47.869254</td>\n",
       "    </tr>\n",
       "    <tr>\n",
       "      <th>1</th>\n",
       "      <td>2017</td>\n",
       "      <td>2137687</td>\n",
       "      <td>981702</td>\n",
       "      <td>45.923561</td>\n",
       "    </tr>\n",
       "    <tr>\n",
       "      <th>10</th>\n",
       "      <td>2018</td>\n",
       "      <td>2168086</td>\n",
       "      <td>836234</td>\n",
       "      <td>38.570149</td>\n",
       "    </tr>\n",
       "    <tr>\n",
       "      <th>9</th>\n",
       "      <td>2019</td>\n",
       "      <td>386476</td>\n",
       "      <td>125297</td>\n",
       "      <td>32.420383</td>\n",
       "    </tr>\n",
       "  </tbody>\n",
       "</table>\n",
       "</div>"
      ],
      "text/plain": [
       "    year  num_questions  num_accepted_answers  perc_answered\n",
       "2   2008          58153                 44010      75.679673\n",
       "3   2009         343139                250297      72.943326\n",
       "11  2010         693332                495828      71.513791\n",
       "8   2011        1198587                823894      68.738773\n",
       "4   2012        1642687               1063072      64.715433\n",
       "7   2013        2056613               1172818      57.026674\n",
       "6   2014        2160361               1156325      53.524619\n",
       "5   2015        2214389               1110554      50.151712\n",
       "0   2016        2219199               1062314      47.869254\n",
       "1   2017        2137687                981702      45.923561\n",
       "10  2018        2168086                836234      38.570149\n",
       "9   2019         386476                125297      32.420383"
      ]
     },
     "execution_count": 22,
     "metadata": {},
     "output_type": "execute_result"
    }
   ],
   "source": [
    "# Merge questions and answer counts\n",
    "\n",
    "qanda = pd.merge(num_questions, accepted_answer, on='year')\n",
    "\n",
    "qanda['perc_answered'] = qanda['num_accepted_answers'] / qanda['num_questions'] * 100\n",
    "\n",
    "qanda.sort_values('year')"
   ]
  },
  {
   "cell_type": "code",
   "execution_count": 25,
   "metadata": {
    "ExecuteTime": {
     "end_time": "2019-03-30T03:29:54.931220Z",
     "start_time": "2019-03-30T03:29:54.747076Z"
    }
   },
   "outputs": [
    {
     "data": {
      "text/plain": [
       "<matplotlib.axes._subplots.AxesSubplot at 0x7f17a80f0d68>"
      ]
     },
     "execution_count": 25,
     "metadata": {},
     "output_type": "execute_result"
    },
    {
     "data": {
      "image/png": "[encoded data removed]",
      "text/plain": [
       "<Figure size 1080x432 with 1 Axes>"
      ]
     },
     "metadata": {
      "needs_background": "light"
     },
     "output_type": "display_data"
    }
   ],
   "source": [
    "plt.figure(figsize=(15, 6))\n",
    "qanda.sort_values('year').set_index('year')['perc_answered'].plot()"
   ]
  },
  {
   "cell_type": "markdown",
   "metadata": {},
   "source": [
    "#### 2. What are the 10 ‘easiest’ gold badges to earn?\n",
    "\n",
    "Use following tables:\n",
    "\n",
    "> - `bigquery-public-data.stackoverflow.badges`\n",
    "- `bigquery-public-data.stackoverflow.users`\n",
    "\n",
    "- How many classes are there?\n",
    "- Badges of which classes are easy to earn?"
   ]
  },
  {
   "cell_type": "markdown",
   "metadata": {},
   "source": [
    "#### 3. Which day of the week has most questions answered within an hour?\n",
    "\n",
    "Use following tables:\n",
    "\n",
    "> - `bigquery-public-data.stackoverflow.posts_answers`\n",
    "- `bigquery-public-data.stackoverflow.posts_questions`"
   ]
  },
  {
   "cell_type": "markdown",
   "metadata": {},
   "source": [
    "#### 4. Does adding a “?” actually help user to get answers?\n",
    "\n",
    "Sara Robinson claimed that only 21% questions end with a question mark(?).\n",
    "\n",
    "<blockquote class=\"twitter-tweet\" data-lang=\"en\"><p lang=\"en\" dir=\"ltr\">Did you know...only 21% of <a href=\"https://twitter.com/StackOverflow?ref_src=twsrc%5Etfw\">@StackOverflow</a> questions end with a question mark? <a href=\"https://t.co/b939b3xwU0\">https://t.co/b939b3xwU0</a> <a href=\"https://t.co/LfVnjrPPJw\">pic.twitter.com/LfVnjrPPJw</a></p>&mdash; Sara Robinson (@SRobTweets) <a href=\"https://twitter.com/SRobTweets/status/810892697116545024?ref_src=twsrc%5Etfw\">December 19, 2016</a></blockquote>\n",
    "<script async src=\"https://platform.twitter.com/widgets.js\" charset=\"utf-8\"></script>\n",
    "\n",
    "- Verify her claim.\n",
    "\n",
    "- Do you think adding question mark(?) at the end of question help user to get answer?"
   ]
  },
  {
   "cell_type": "markdown",
   "metadata": {},
   "source": [
    "### What's Next?\n",
    "\n",
    "This is only a start. Using tables of stackoverflow create your own question and answer them using data!\n",
    "\n",
    "For inspiration try to answer [these](https://data.stackexchange.com/stackoverflow/queries) queries."
   ]
  }
 ],
 "metadata": {
  "kernelspec": {
   "display_name": "Python [conda env:datsci]",
   "language": "python",
   "name": "conda-env-datsci-py"
  },
  "language_info": {
   "codemirror_mode": {
    "name": "ipython",
    "version": 3
   },
   "file_extension": ".py",
   "mimetype": "text/x-python",
   "name": "python",
   "nbconvert_exporter": "python",
   "pygments_lexer": "ipython3",
   "version": "3.6.7"
  },
  "toc": {
   "nav_menu": {},
   "number_sections": true,
   "sideBar": true,
   "skip_h1_title": true,
   "title_cell": "Table of Contents",
   "title_sidebar": "Contents",
   "toc_cell": true,
   "toc_position": {},
   "toc_section_display": true,
   "toc_window_display": false
  },
  "varInspector": {
   "cols": {
    "lenName": 16,
    "lenType": 16,
    "lenVar": 40
   },
   "kernels_config": {
    "python": {
     "delete_cmd_postfix": "",
     "delete_cmd_prefix": "del ",
     "library": "var_list.py",
     "varRefreshCmd": "print(var_dic_list())"
    },
    "r": {
     "delete_cmd_postfix": ") ",
     "delete_cmd_prefix": "rm(",
     "library": "var_list.r",
     "varRefreshCmd": "cat(var_dic_list()) "
    }
   },
   "types_to_exclude": [
    "module",
    "function",
    "builtin_function_or_method",
    "instance",
    "_Feature"
   ],
   "window_display": false
  }
 },
 "nbformat": 4,
 "nbformat_minor": 2
}
