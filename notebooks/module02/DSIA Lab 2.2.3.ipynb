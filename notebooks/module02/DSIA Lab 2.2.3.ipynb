{
 "cells": [
  {
   "cell_type": "markdown",
   "metadata": {
    "toc": true
   },
   "source": [
    "<h1>Table of Contents<span class=\"tocSkip\"></span></h1>\n",
    "<div class=\"toc\"><ul class=\"toc-item\"><li><span><a href=\"#The-Reddit-API-and-the-PRAW-Package\" data-toc-modified-id=\"The-Reddit-API-and-the-PRAW-Package-1\"><span class=\"toc-item-num\">1&nbsp;&nbsp;</span>The Reddit API and the PRAW Package</a></span><ul class=\"toc-item\"><li><span><a href=\"#1.-Create-a-Reddit-App\" data-toc-modified-id=\"1.-Create-a-Reddit-App-1.1\"><span class=\"toc-item-num\">1.1&nbsp;&nbsp;</span>1. Create a Reddit App</a></span></li><li><span><a href=\"#2.-Register-for-API-Access\" data-toc-modified-id=\"2.-Register-for-API-Access-1.2\"><span class=\"toc-item-num\">1.2&nbsp;&nbsp;</span>2. Register for API Access</a></span></li><li><span><a href=\"#3.-Load-Python-Libraries\" data-toc-modified-id=\"3.-Load-Python-Libraries-1.3\"><span class=\"toc-item-num\">1.3&nbsp;&nbsp;</span>3. Load Python Libraries</a></span></li><li><span><a href=\"#4.-Authenticate-from-your-Python-script\" data-toc-modified-id=\"4.-Authenticate-from-your-Python-script-1.4\"><span class=\"toc-item-num\">1.4&nbsp;&nbsp;</span>4. Authenticate from your Python script</a></span></li><li><span><a href=\"#5.-Exploring-the-API\" data-toc-modified-id=\"5.-Exploring-the-API-1.5\"><span class=\"toc-item-num\">1.5&nbsp;&nbsp;</span>5. Exploring the API</a></span><ul class=\"toc-item\"><li><span><a href=\"#Posting-to-Reddit\" data-toc-modified-id=\"Posting-to-Reddit-1.5.1\"><span class=\"toc-item-num\">1.5.1&nbsp;&nbsp;</span>Posting to Reddit</a></span></li></ul></li></ul></li></ul></div>"
   ]
  },
  {
   "cell_type": "markdown",
   "metadata": {
    "colab_type": "text",
    "id": "nOGGU7gNKck0"
   },
   "source": [
    " ![alt text](https://i.imgur.com/1WaY7aA.png)\n",
    "\n",
    "---\n",
    "\n",
    "\n",
    "\n",
    "---\n",
    "\n"
   ]
  },
  {
   "cell_type": "markdown",
   "metadata": {
    "colab_type": "text",
    "id": "_D_idRWZKck4"
   },
   "source": [
    "# Lab 2.2.3 \n",
    "# *Mining Social Media on Reddit*"
   ]
  },
  {
   "cell_type": "markdown",
   "metadata": {
    "colab_type": "text",
    "id": "atJ1XMr3Kck7"
   },
   "source": [
    "## The Reddit API and the PRAW Package"
   ]
  },
  {
   "cell_type": "markdown",
   "metadata": {
    "colab_type": "text",
    "id": "aJ9o1EfAKck-"
   },
   "source": [
    "The Reddit API is rich and complex, with many endpoints (https://www.reddit.com/dev/api/). It includes methods for navigating its collections, which include various kinds of media as well as comments. Fortunately, the Python library PRAW reduces much of this complexity.\n",
    "\n",
    "Reddit requires developers to create and authenticate an app before they can use the API, but the process is much less onerus than some, and does not have waiting period for approval of new developers (as of 18 August 2018)."
   ]
  },
  {
   "cell_type": "markdown",
   "metadata": {
    "colab_type": "text",
    "id": "egz9IUhlKclB"
   },
   "source": [
    "### 1. Create a Reddit App\n",
    "\n",
    "Go to https://www.reddit.com/prefs/apps and click \"create an app\".\n",
    "\n",
    "Enter the following in the form:\n",
    "\n",
    "- a name for your app\n",
    "- select \"script\" radio button\n",
    "- a description\n",
    "- a redirect URI\n",
    "\n",
    "(Nb. For pulling data into a data science experiment, a local port can be used for the Redirect URI; try http://127.0.0.1:1410)\n",
    "\n",
    "![image.png](attachment:image.png)\n",
    "\n",
    "- click \"create app\"\n",
    "- from the form that displays, copy the following to a local text file (or to this notebook):\n",
    "\n",
    "  - name (the name you gave to your app)\n",
    "  - redirect URI\n",
    "  - personal use script (this is your OAuth 2 Client ID)\n",
    "  - secret (this is your OAuth 2 Secret)"
   ]
  },
  {
   "cell_type": "markdown",
   "metadata": {
    "colab_type": "text",
    "id": "LF9V-LJ2KclE"
   },
   "source": [
    "### 2. Register for API Access\n",
    "\n",
    "- follow the link at https://www.reddit.com/wiki/api and read the terms of use for Reddit API access \n",
    "- fill in the form fields at the bottom \n",
    "  - make sure to enter your new OAuth Client ID where indicated\n",
    "  - your use case could be something like \"Training in API usage for data science projects\"\n",
    "  - your platform could be something like \"Jupyter Notebooks / Python\"\n",
    "  \n",
    "- click \"SUBMIT\"\n",
    " \n",
    "- when asked for User-Agent, enter something that fits this pattern:\n",
    "  `your_os-python:your_reddit_appname:v1.0 (by /u/your_reddit_username)`"
   ]
  },
  {
   "cell_type": "markdown",
   "metadata": {
    "colab_type": "text",
    "id": "JIsv8YAMKclG"
   },
   "source": [
    "### 3. Load Python Libraries"
   ]
  },
  {
   "cell_type": "code",
   "execution_count": 1,
   "metadata": {
    "ExecuteTime": {
     "end_time": "2019-03-29T00:57:14.995100Z",
     "start_time": "2019-03-29T00:57:14.722683Z"
    },
    "colab": {},
    "colab_type": "code",
    "id": "xqi2BT66KclI"
   },
   "outputs": [],
   "source": [
    "import praw\n",
    "import requests\n",
    "import json\n",
    "import pprint\n",
    "from datetime import datetime, date, time"
   ]
  },
  {
   "cell_type": "markdown",
   "metadata": {
    "colab_type": "text",
    "id": "wwXaO9GPKclP"
   },
   "source": [
    "### 4. Authenticate from your Python script"
   ]
  },
  {
   "cell_type": "markdown",
   "metadata": {
    "colab_type": "text",
    "id": "ZF5oh54RKclR"
   },
   "source": [
    "You could assign your authentication details explicitly, as follows:"
   ]
  },
  {
   "cell_type": "code",
   "execution_count": 0,
   "metadata": {
    "colab": {},
    "colab_type": "code",
    "id": "qH2-X9juKclS"
   },
   "outputs": [],
   "source": [
    "my_user_agent = ''   # your user Agent string goes in here\n",
    "my_client_id = ''   # your Client ID string goes in here\n",
    "my_client_secret = ''   # your Secret string goes in here"
   ]
  },
  {
   "cell_type": "markdown",
   "metadata": {
    "colab_type": "text",
    "id": "1TmzPxHIKclX"
   },
   "source": [
    "A better way would be to store these details externally, so they are not displayed in the notebook:\n",
    "\n",
    "- create a file called \"auth_reddit.json\" in your \"notebooks\" directory, and save your credentials there in JSON format:\n",
    "\n",
    "`{   \"my_client_id\": \"your Client ID string goes in here\",` <br>\n",
    "&nbsp;&nbsp;&nbsp;&nbsp;&nbsp;&nbsp;&nbsp;&nbsp;` \"my_client_secret\": \"your Secret string goes in here\",` <br>\n",
    "&nbsp;&nbsp;&nbsp;&nbsp;&nbsp;&nbsp;&nbsp;&nbsp;`\"my_user_agent\": \"your user Agent string goes in here\"` <br>\n",
    "`}`\n",
    "\n",
    "Use the following code to load the credentials:  "
   ]
  },
  {
   "cell_type": "code",
   "execution_count": 0,
   "metadata": {
    "colab": {},
    "colab_type": "code",
    "id": "mFbFWGnVKclY"
   },
   "outputs": [],
   "source": [
    "pwd()  # make sure your working directory is where the file is"
   ]
  },
  {
   "cell_type": "code",
   "execution_count": 2,
   "metadata": {
    "ExecuteTime": {
     "end_time": "2019-03-29T00:57:19.703854Z",
     "start_time": "2019-03-29T00:57:19.698535Z"
    },
    "colab": {},
    "colab_type": "code",
    "id": "Jc5_dh-jKclc"
   },
   "outputs": [],
   "source": [
    "path_auth = '../auth_reddit.json'\n",
    "auth = json.loads(open(path_auth).read())\n",
    "pp = pprint.PrettyPrinter(indent=4)\n",
    "# For debugging only:\n",
    "#pp.pprint(auth)\n",
    "\n",
    "my_user_agent = auth['my_user_agent']\n",
    "my_client_id = auth['my_client_id']\n",
    "my_client_secret = auth['my_client_secret']"
   ]
  },
  {
   "cell_type": "markdown",
   "metadata": {
    "colab_type": "text",
    "id": "lVKFy9rZKclf"
   },
   "source": [
    "Security considerations: \n",
    "- this method only keeps your credentials invisible as long as nobody else gets access to this notebook file \n",
    "- if you wanted another user to have access to the executable notebook without divulging your credentials you should set up an OAuth 2.0 workflow to let them obtain and apply their own API tokens when using your app\n",
    "- if you just want to share your analyses, you could use a separate script (which you don't share) to fetch the data and save it locally, then use a second notebook (with no API access) to load and analyse the locally stored data"
   ]
  },
  {
   "cell_type": "markdown",
   "metadata": {
    "colab_type": "text",
    "id": "fgHqt72rKclg"
   },
   "source": [
    "### 5. Exploring the API"
   ]
  },
  {
   "cell_type": "markdown",
   "metadata": {
    "colab_type": "text",
    "id": "ByEQS6QsKclh"
   },
   "source": [
    "Here is how to connect to Reddit with read-only access:"
   ]
  },
  {
   "cell_type": "code",
   "execution_count": 3,
   "metadata": {
    "ExecuteTime": {
     "end_time": "2019-03-29T00:57:27.852289Z",
     "start_time": "2019-03-29T00:57:26.210941Z"
    },
    "colab": {},
    "colab_type": "code",
    "id": "8hkZJlcJKcli"
   },
   "outputs": [
    {
     "name": "stdout",
     "output_type": "stream",
     "text": [
      "Read-only = True\n"
     ]
    }
   ],
   "source": [
    "reddit = praw.Reddit(client_id = my_client_id, \n",
    "                     client_secret = my_client_secret, \n",
    "                     user_agent = my_user_agent)\n",
    "\n",
    "print('Read-only = ' + str(reddit.read_only))  # Output: True"
   ]
  },
  {
   "cell_type": "markdown",
   "metadata": {
    "colab_type": "text",
    "id": "slGz0lS5Kclk"
   },
   "source": [
    "In the next cell, put the cursor after the '.' and hit the [tab] key to see the available members and methods in the response object:"
   ]
  },
  {
   "cell_type": "code",
   "execution_count": 7,
   "metadata": {
    "ExecuteTime": {
     "end_time": "2019-03-29T00:58:37.568224Z",
     "start_time": "2019-03-29T00:58:37.560229Z"
    },
    "colab": {},
    "colab_type": "code",
    "id": "6MvyYewEKcll"
   },
   "outputs": [
    {
     "name": "stdout",
     "output_type": "stream",
     "text": [
      "<bound method Reddit.random_subreddit of <praw.reddit.Reddit object at 0x7f3258b18320>>\n"
     ]
    }
   ],
   "source": [
    "print(reddit.random_subreddit)"
   ]
  },
  {
   "cell_type": "markdown",
   "metadata": {
    "colab_type": "text",
    "id": "AKfXBu7yKcln"
   },
   "source": [
    "Consult the PRAW and Reddit API documentation. Print a few of the response members below:"
   ]
  },
  {
   "cell_type": "code",
   "execution_count": 0,
   "metadata": {
    "colab": {},
    "colab_type": "code",
    "id": "31Njl99lKcln"
   },
   "outputs": [],
   "source": []
  },
  {
   "cell_type": "markdown",
   "metadata": {
    "colab_type": "text",
    "id": "5L10cuKfKclp"
   },
   "source": [
    "Content in Reddit is grouped by topics called \"subreddits\". Content, called \"submissions\", is fetched by calling the `subreddit` method of the connection object (which is our `reddit` variable) with an argument that matches an actual topic. \n",
    "\n",
    "We also need to append a further method call to a \"subinstance\", such as one of the following:\n",
    "\n",
    "- controversial\n",
    "- gilded\n",
    "- hot\n",
    "- new\n",
    "- rising\n",
    "- top\n",
    "\n",
    "One of the submission objects members is `title`. Fetch and print 10 submission titles from the 'learnpython' subreddit using one of the subinstances above:"
   ]
  },
  {
   "cell_type": "code",
   "execution_count": 5,
   "metadata": {
    "ExecuteTime": {
     "end_time": "2019-03-29T00:58:12.104429Z",
     "start_time": "2019-03-29T00:58:10.954136Z"
    },
    "colab": {},
    "colab_type": "code",
    "id": "2W1iCDE9Kclp"
   },
   "outputs": [
    {
     "name": "stdout",
     "output_type": "stream",
     "text": [
      "Ask Anything Monday - Weekly Thread\n",
      "Triggering your python scripts via keyboard shortcut in 10 steps using AutoHotKey\n",
      "Forest Fire Simulation Program Help\n",
      "What is the difference ?\n",
      "Script to download images (and automatically set wallpaper) from hot section of any subreddit\n",
      "Best python IDE for android mobile phones?\n",
      "API for the English Premier League\n",
      "How do I preserve each result of a recursive loop as exactly the way it looks, when I append it to a list?\n",
      "This function is meant to remove all vowels from a string, but for some reason it also removes the letter after the vowel.\n",
      "Max Number of Nested Decorators\n"
     ]
    }
   ],
   "source": [
    "for submission in reddit.subreddit('learnpython').hot(limit=10):\n",
    "    print(submission.title)"
   ]
  },
  {
   "cell_type": "markdown",
   "metadata": {
    "colab_type": "text",
    "id": "00coF0YJKclr"
   },
   "source": [
    "Now retrieve 10 authors:"
   ]
  },
  {
   "cell_type": "code",
   "execution_count": 6,
   "metadata": {
    "ExecuteTime": {
     "end_time": "2019-03-29T00:58:20.130562Z",
     "start_time": "2019-03-29T00:58:18.931367Z"
    },
    "colab": {},
    "colab_type": "code",
    "id": "U1vTByCGKclr"
   },
   "outputs": [
    {
     "name": "stdout",
     "output_type": "stream",
     "text": [
      "AutoModerator\n",
      "AdventurousHuman\n",
      "Jeff_98\n",
      "bthnccklr\n",
      "tsarjak\n",
      "aop42\n",
      "Nosa2k\n",
      "proesten\n",
      "Manusman123\n",
      "spilled_electrons\n"
     ]
    }
   ],
   "source": [
    "for submission in reddit.subreddit('learnpython').hot(limit=10):\n",
    "    print(submission.author)"
   ]
  },
  {
   "cell_type": "markdown",
   "metadata": {
    "colab_type": "text",
    "id": "dOFMMl6AKclt"
   },
   "source": [
    "Note that we obtained the titles and authors from separate API calls. Can we expect these to correspond to the same submissions? If not, how could we gurantee that they do?"
   ]
  },
  {
   "cell_type": "code",
   "execution_count": 0,
   "metadata": {
    "colab": {},
    "colab_type": "code",
    "id": "eIPVr-WaKclu"
   },
   "outputs": [],
   "source": []
  },
  {
   "cell_type": "markdown",
   "metadata": {
    "colab_type": "text",
    "id": "IjIJ6ojAKclv"
   },
   "source": [
    "Why doesn't the next cell produce output?"
   ]
  },
  {
   "cell_type": "code",
   "execution_count": 0,
   "metadata": {
    "colab": {},
    "colab_type": "code",
    "id": "ifxjcJ2aKclw"
   },
   "outputs": [],
   "source": [
    "for submission in submissions:\n",
    "    print(submission.comments)"
   ]
  },
  {
   "cell_type": "code",
   "execution_count": 0,
   "metadata": {
    "colab": {},
    "colab_type": "code",
    "id": "kPNVNapBKcly"
   },
   "outputs": [],
   "source": []
  },
  {
   "cell_type": "markdown",
   "metadata": {
    "colab_type": "text",
    "id": "4aZ2OSd_Kclz"
   },
   "source": [
    "Print two comments associated with each of these submissions:"
   ]
  },
  {
   "cell_type": "code",
   "execution_count": 8,
   "metadata": {
    "ExecuteTime": {
     "end_time": "2019-03-29T00:59:16.774875Z",
     "start_time": "2019-03-29T00:59:10.546141Z"
    },
    "colab": {},
    "colab_type": "code",
    "id": "RO4ppDPJKcl0",
    "scrolled": false
   },
   "outputs": [
    {
     "name": "stdout",
     "output_type": "stream",
     "text": [
      " What is the best way to get into machine learning?\n",
      "\n",
      "I've  had like 1-2 lectures on it in uni, so I have an idea of inputs,  weights, hidden layers, supervised and unsupervised etc., but it's all  mostly superficial knowledge and I'm fairly clueless as to how to apply  it, what algorithms there are and so on.\n",
      "\n",
      "Are there any quality tutorials or courses you guys could recommend?\n",
      "Why can't I figure out how to run python on my computer? I've got Windows 10 and have Notepad + + downloaded and also Python installed from their website. I tried with the print \"hello world\" function and all that, it's the right way to input it but it still won't run? I have some simple programs ready to run but I can't figure out why I can't get the simplest program to run? What am I doing wrong? \n",
      "\n",
      "Can anyone just simply walk me through the steps? I feel so dumb about all of this ha. Like do I need to get into my command prompt or whatever it's called just to run simple scripts on my comp? \n",
      "The proper way is to execute it \"python <script>\". There's no guarantee how the default launch option is set for a .py file. \n",
      "You can also create keyboard shortcuts in Python. \n",
      "\n",
      "Here's one way with pynput https://nitratine.net/blog/post/how-to-make-hotkeys-in-python/#creating-the-script\n",
      "It sounds like you've thought quite a bit about how this might work. Try to distill that down into discrete, single-step statements. For example, an extremely vague way of stating it might be:\n",
      "\n",
      "1. For every cell in the grid, do the update step.\n",
      "2. The update step checks to see what the current cell is, and applies the appropriate rules to adjacent cells.\n",
      "\n",
      "Cell here meaning one of the elements of the forest grid.\n",
      "\n",
      "You'd have to expand this - both of these lines are multiple steps. Once you've figured out exactly what each step should be, you should be able to turn them into code. For example, \"for every cell in the grid\" could (assuming the grid is a 2D nested list) turn into:\n",
      "\n",
      "    for row_index in range(n_rows):\n",
      "        for column_index in range(n_cols):\n",
      "            do stuff\n",
      "\n",
      "Or, using more fancy Python:\n",
      "\n",
      "    for row_index, row in enumerate(grid):\n",
      "        for column_index, cell in enumerate(row):\n",
      "            do stuff\n",
      "\n",
      "The fancy way gives you direct access to each cell as you iterate through and you don't need to know n\\_rows or n\\_cols first, but that may or may not be necessary depending on your ruleset.\n",
      "\n",
      "I think this qualifies as a cellular automaton, like Conway's Game of Life. Looking up Game of Life simulation examples might point you in the right direction too.\n",
      "I personally would utilize two separate arrays. One will be for current state, the other will be for future state.\n",
      "\n",
      "If you process cells one by one and just overwrite based on neighboring cells you run into trouble, since if cell at 0,0 is processed first and was on fire it will turn to ash without being able to set anything else on fire. \n",
      "\n",
      "With two separate arrays the sequence of processing cells is irrelevant.\n",
      "\n",
      "I would make a function that would take X and Y coordinate as input and output the next state of the forest tile. \n",
      "\n",
      "The function would check the state of 5 cells in the \"current\" array- coordinate, north, south, east, west. Based on this it would know if it caught on fire, become ash or stay green. Run that function for all the coordinates and store results in \"future\" array. When done the \"future\" array becomes \"current\" array and you populate a new future array.\n",
      "\n",
      "This way you can store all the steps as consecutive arrays. This may be useful to calculate various statistics on the fire.\n",
      "`__str__` is human friendly, `__repr__` is programmer/python friendly. \n",
      "\n",
      "If you had a card object, for example, and wanted to show it to a human, you could make `__str__` return `'10♣'`, but `__repr__` could return `\"Card(value=10, suite='clubs', blackjack_mode=False)\"`. As a programmer, you could determine everything about that object just by looking at the string its `__repr__` returns. This brings me to my next point: there is a *de facto* standard that using `eval(repr(obj)) == obj `, meaning you can take any object's `__repr__` string, evaluate it as python code, and get an equivalent object back out. This isn't always possible, but generally you want your `__repr__` string to be similar to how you would create an object.\n",
      "\n",
      "More about the string that an object's `__repr__` method  and the built in `repr` function should return here:    \n",
      "https://docs.python.org/3/library/functions.html#repr\n",
      "\n",
      "edit: grammar\n",
      " [https://stackoverflow.com/questions/1436703/difference-between-str-and-repr](https://stackoverflow.com/questions/1436703/difference-between-str-and-repr) \n",
      "Just some quick suggestions:\n",
      "\n",
      "* snake case is the standard naming convention for python projects.\n",
      "* look into context managers, especially when opening files. You should close them manually if u aren’t using a context manager.\n",
      "I don't think there are many real IDEs for mobile, your best bet would probably be something web-based like Jupyter Lab. Even repl.it is practically a mini-IDE these days.\n",
      "Pydroid 3\n",
      "Have a look at the premier League fantasy football API, it has information about matches this season, player info, and other season summary information, also doesn't require authentication so it's just simple GET requests.\n",
      "[deleted]\n",
      "    fulldomain.append(basedom)\n",
      "    basedom[basedom.index(1)] = 2  \n",
      "\n",
      "You are repeatedly appending references of the same list, `basedom`, to `fulldomain`. Then you modify that one list `basedom`. `fulldomain` is full of repeated references to only one single list, hence each entry looks the same.\n",
      "So what do I do? Do I declare basedom under a new variable name after appending it to fulldomain, then replace one of it's indices?\n",
      "\n",
      "    fulldomain.append(basedom) \n",
      "    new_basedom = basedom\n",
      "    newbasedom[basedom.index(1)] = 2 \n",
      "    newbasedom[basedom.index(1)] = 0 \n",
      "\n",
      "I tried to run the code like this, but it still doesn't work. Suggestions?\n",
      "Several lessons to be learned here...\n",
      "\n",
      "\n",
      "1a. Strings are iterable so you don't need to convert them to a list first.\n",
      "\n",
      "    for letter in \"Strings are iterable\": \n",
      "        print(letter)\n",
      "\n",
      "​2. You should never mutate the iterable you are iterating. What's happening is the list is shifting when you remove an element so your iterator is skipping over elements.\n",
      "\n",
      "    x = [1, 2, 3, 4, 5, 6]\n",
      "    for num in x:\n",
      "        x.remove(num)\n",
      "    print(x) #[2, 4, 6]\n",
      "\n",
      "3. Python has membership testing so you can simplify your conditional logic to\n",
      "\n",
      "    if letter.lower() in 'aeiou':\n",
      "\n",
      "4. Since you're only looking for letters not in vowels you could further enhance your code with this conditional.\n",
      "\n",
      "    if letter.lower() not in 'aeiou':\n",
      "\n",
      "Putting it all together:\n",
      "\n",
      "    def anti_vowel(text):\n",
      "        final = \"\"\n",
      "        for letter in text:\n",
      "            if letter.lower() not in 'aeiou':\n",
      "                final += letter\n",
      "        return final\n",
      "\n",
      "...and once your skills advance, you'll eventually do something like this...\n",
      "\n",
      "    def anti_vowel(text):\n",
      "        return ''.join(c for c in text if c.lower() not in 'aeiou')\n",
      "Removing elements from a iterable while iterating over it causes unexpected results.  Instead of removing elements from the string being operated on, add the desired elements to a new list and return that list.\n",
      "\n",
      "You can see this by doing nothing in the first if clause\n",
      "\n",
      "\n",
      "    def anti_vowel(text):\n",
      "        letters = []\n",
      "        for letter in text:\n",
      "           letters.append(letter)\n",
      "        final = \"\"\n",
      "        for letter in letters:\n",
      "            if letter == \"A\" or letter == \"a\" or letter == \"O\" or letter == \"o\" or letter == \"U\" or letter == \"u\" or letter == \"I\" or letter == \"i\" or letter == \"E\" or letter == \"e\":\n",
      "                pass\n",
      "                #letters.remove(letter)\n",
      "            else:\n",
      "                final += letter\n",
      "        return final\n",
      "\n",
      "    print(anti_vowel('hello'))\n",
      "\n",
      "result: hll\n",
      "haha i think the max number of decorators would be the maximum recursion depth, but for humans it would probably be like 2 or 3 before the programmer starts losing his temper/sanity.\n",
      "Implement a decorator which can take a list of assets, like:\n",
      "\n",
      "    def find_guid(asset):\n",
      "        return guid\n",
      "    \n",
      "    def assets2guid(*assets):\n",
      "        def decorator(func):\n",
      "            def wrapper(*args, **kwargs):\n",
      "                guids = [find_guid(asset) for asset in assets]\n",
      "                kwargs[\"guids\"] = guids\n",
      "                return func(*args, **kwargs)\n",
      "            return wrapper\n",
      "        return decorator\n",
      "    \n",
      "    @assets2guid(\"foo\", \"bar\", \"xyz\")\n",
      "    def call_api(guids):\n",
      "        pass\n"
     ]
    }
   ],
   "source": [
    "submissions = reddit.subreddit('learnpython').hot(limit=10)\n",
    "for submission in submissions:\n",
    "    top_level_comments = list(submission.comments)\n",
    "    all_comments = submission.comments.list()[:2]\n",
    "    for comment in all_comments:\n",
    "        print(comment.body)"
   ]
  },
  {
   "cell_type": "markdown",
   "metadata": {
    "colab_type": "text",
    "id": "JvYEOesKKcl2"
   },
   "source": [
    "Referring to the API documentation, explore the submissions object and print some interesting data:"
   ]
  },
  {
   "cell_type": "code",
   "execution_count": 0,
   "metadata": {
    "colab": {},
    "colab_type": "code",
    "id": "glEShYZbKcl3"
   },
   "outputs": [],
   "source": []
  },
  {
   "cell_type": "markdown",
   "metadata": {
    "colab_type": "text",
    "id": "Khno5kpWKcl5"
   },
   "source": [
    "#### Posting to Reddit"
   ]
  },
  {
   "cell_type": "markdown",
   "metadata": {
    "colab_type": "text",
    "id": "zjnyN1OfKcl6"
   },
   "source": [
    "To be able to post to your Reddit account (i.e. contribute submissions), you need to connect to the API with read/write privilege. This requires an *authorised instance*, which is obtained by including your Reddit user name and password in the connection request: "
   ]
  },
  {
   "cell_type": "code",
   "execution_count": 0,
   "metadata": {
    "colab": {},
    "colab_type": "code",
    "id": "ZXG7kouZKcl7"
   },
   "outputs": [],
   "source": [
    "reddit = praw.Reddit(client_id='my client id',\n",
    "                     client_secret='my client secret',\n",
    "                     user_agent='my user agent',\n",
    "                     username='my username',\n",
    "                     password='my password')\n",
    "print(reddit.read_only)  # Output: False"
   ]
  },
  {
   "cell_type": "markdown",
   "metadata": {
    "colab_type": "text",
    "id": "nEjrsF9vKcl-"
   },
   "source": [
    "You could hide these last two credentials by adding them to your JSON file and then reading all five values at once."
   ]
  },
  {
   "cell_type": "code",
   "execution_count": 0,
   "metadata": {
    "colab": {},
    "colab_type": "code",
    "id": "BVcbR0K1Kcl_"
   },
   "outputs": [],
   "source": []
  },
  {
   "cell_type": "markdown",
   "metadata": {
    "colab_type": "text",
    "id": "WqBG4xS5Kk3X"
   },
   "source": [
    ">\n",
    ">\n"
   ]
  },
  {
   "cell_type": "markdown",
   "metadata": {
    "colab_type": "text",
    "id": "EfPDz2gEKnRn"
   },
   "source": [
    ">\n",
    ">\n"
   ]
  },
  {
   "cell_type": "markdown",
   "metadata": {
    "colab_type": "text",
    "id": "5Uo-KnYhKoRA"
   },
   "source": [
    "\n",
    "\n",
    "---\n",
    "\n",
    "\n",
    "\n",
    "---\n",
    "\n",
    "> > > > > > > > > © 2019 Data Science Institute of Australia\n",
    "\n",
    "\n",
    "---\n",
    "\n",
    "\n",
    "\n",
    "---\n",
    "\n"
   ]
  }
 ],
 "metadata": {
  "colab": {
   "collapsed_sections": [],
   "name": "DSIA Lab 2.2.3.ipynb",
   "provenance": [],
   "version": "0.3.2"
  },
  "kernelspec": {
   "display_name": "Python [conda env:datsci]",
   "language": "python",
   "name": "conda-env-datsci-py"
  },
  "language_info": {
   "codemirror_mode": {
    "name": "ipython",
    "version": 3
   },
   "file_extension": ".py",
   "mimetype": "text/x-python",
   "name": "python",
   "nbconvert_exporter": "python",
   "pygments_lexer": "ipython3",
   "version": "3.6.7"
  },
  "toc": {
   "nav_menu": {},
   "number_sections": true,
   "sideBar": true,
   "skip_h1_title": true,
   "title_cell": "Table of Contents",
   "title_sidebar": "Contents",
   "toc_cell": true,
   "toc_position": {},
   "toc_section_display": true,
   "toc_window_display": false
  }
 },
 "nbformat": 4,
 "nbformat_minor": 1
}
