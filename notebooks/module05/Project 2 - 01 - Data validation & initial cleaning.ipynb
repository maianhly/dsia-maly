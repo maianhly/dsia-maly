{
 "cells": [
  {
   "cell_type": "markdown",
   "metadata": {
    "toc": true
   },
   "source": [
    "<h1>Table of Contents<span class=\"tocSkip\"></span></h1>\n",
    "<div class=\"toc\"><ul class=\"toc-item\"><li><span><a href=\"#Data-validation\" data-toc-modified-id=\"Data-validation-1\"><span class=\"toc-item-num\">1&nbsp;&nbsp;</span>Data validation</a></span><ul class=\"toc-item\"><li><span><a href=\"#Numeric-data-check\" data-toc-modified-id=\"Numeric-data-check-1.1\"><span class=\"toc-item-num\">1.1&nbsp;&nbsp;</span>Numeric data check</a></span></li><li><span><a href=\"#Categorical-data-check\" data-toc-modified-id=\"Categorical-data-check-1.2\"><span class=\"toc-item-num\">1.2&nbsp;&nbsp;</span>Categorical data check</a></span><ul class=\"toc-item\"><li><span><a href=\"#Fix-Electrical-column\" data-toc-modified-id=\"Fix-Electrical-column-1.2.1\"><span class=\"toc-item-num\">1.2.1&nbsp;&nbsp;</span>Fix <code>Electrical</code> column</a></span></li><li><span><a href=\"#Fix-MasVnrType-column\" data-toc-modified-id=\"Fix-MasVnrType-column-1.2.2\"><span class=\"toc-item-num\">1.2.2&nbsp;&nbsp;</span>Fix <code>MasVnrType</code> column</a></span></li><li><span><a href=\"#Fix-values-in-BldgType-and-Exterior2nd\" data-toc-modified-id=\"Fix-values-in-BldgType-and-Exterior2nd-1.2.3\"><span class=\"toc-item-num\">1.2.3&nbsp;&nbsp;</span>Fix values in <code>BldgType</code> and <code>Exterior2nd</code></a></span></li></ul></li><li><span><a href=\"#Investigate-MS-SubClasses\" data-toc-modified-id=\"Investigate-MS-SubClasses-1.3\"><span class=\"toc-item-num\">1.3&nbsp;&nbsp;</span>Investigate MS SubClasses</a></span></li><li><span><a href=\"#Investigate-numeric-null-values\" data-toc-modified-id=\"Investigate-numeric-null-values-1.4\"><span class=\"toc-item-num\">1.4&nbsp;&nbsp;</span>Investigate numeric null values</a></span><ul class=\"toc-item\"><li><span><a href=\"#NaN-in-GarageYrBlt\" data-toc-modified-id=\"NaN-in-GarageYrBlt-1.4.1\"><span class=\"toc-item-num\">1.4.1&nbsp;&nbsp;</span><code>NaN</code> in <code>GarageYrBlt</code></a></span></li><li><span><a href=\"#NaN-in-LotFrontage\" data-toc-modified-id=\"NaN-in-LotFrontage-1.4.2\"><span class=\"toc-item-num\">1.4.2&nbsp;&nbsp;</span><code>NaN</code> in <code>LotFrontage</code></a></span></li></ul></li></ul></li><li><span><a href=\"#Save-initial-cleaned-dataset\" data-toc-modified-id=\"Save-initial-cleaned-dataset-2\"><span class=\"toc-item-num\">2&nbsp;&nbsp;</span>Save initial cleaned dataset</a></span></li></ul></div>"
   ]
  },
  {
   "cell_type": "markdown",
   "metadata": {},
   "source": [
    "# Project 2: Housing"
   ]
  },
  {
   "cell_type": "markdown",
   "metadata": {},
   "source": [
    "You have a dataset of housing sale data with a huge amount of features identifying different aspects of the house. The full description of the data features can be found in a separate file:\n",
    "\n",
    "    housing.csv\n",
    "    data_description.txt\n",
    "\n",
    "- Explore the dataset, clean data, add features (if you can think of any)\n",
    "- Identify features that can predict sale price of a house\n",
    "- Train a model on pre-2010 data and evaluate its performance on the 2010 houses.\n",
    "- Build a model. What are the best predictors of price?"
   ]
  },
  {
   "cell_type": "code",
   "execution_count": 1,
   "metadata": {
    "ExecuteTime": {
     "end_time": "2019-05-20T04:11:51.996468Z",
     "start_time": "2019-05-20T04:11:51.430613Z"
    }
   },
   "outputs": [],
   "source": [
    "import pandas as pd\n",
    "import numpy as np\n",
    "import matplotlib.pyplot as plt\n",
    "import seaborn as sns"
   ]
  },
  {
   "cell_type": "code",
   "execution_count": 2,
   "metadata": {
    "ExecuteTime": {
     "end_time": "2019-05-20T04:11:52.287793Z",
     "start_time": "2019-05-20T04:11:52.191451Z"
    }
   },
   "outputs": [
    {
     "data": {
      "text/html": [
       "<div>\n",
       "<style scoped>\n",
       "    .dataframe tbody tr th:only-of-type {\n",
       "        vertical-align: middle;\n",
       "    }\n",
       "\n",
       "    .dataframe tbody tr th {\n",
       "        vertical-align: top;\n",
       "    }\n",
       "\n",
       "    .dataframe thead th {\n",
       "        text-align: right;\n",
       "    }\n",
       "</style>\n",
       "<table border=\"1\" class=\"dataframe\">\n",
       "  <thead>\n",
       "    <tr style=\"text-align: right;\">\n",
       "      <th></th>\n",
       "      <th>MSSubClass</th>\n",
       "      <th>MSZoning</th>\n",
       "      <th>LotFrontage</th>\n",
       "      <th>LotArea</th>\n",
       "      <th>Street</th>\n",
       "      <th>Alley</th>\n",
       "      <th>LotShape</th>\n",
       "      <th>LandContour</th>\n",
       "      <th>Utilities</th>\n",
       "      <th>LotConfig</th>\n",
       "      <th>...</th>\n",
       "      <th>PoolArea</th>\n",
       "      <th>PoolQC</th>\n",
       "      <th>Fence</th>\n",
       "      <th>MiscFeature</th>\n",
       "      <th>MiscVal</th>\n",
       "      <th>MoSold</th>\n",
       "      <th>YrSold</th>\n",
       "      <th>SaleType</th>\n",
       "      <th>SaleCondition</th>\n",
       "      <th>SalePrice</th>\n",
       "    </tr>\n",
       "    <tr>\n",
       "      <th>Id</th>\n",
       "      <th></th>\n",
       "      <th></th>\n",
       "      <th></th>\n",
       "      <th></th>\n",
       "      <th></th>\n",
       "      <th></th>\n",
       "      <th></th>\n",
       "      <th></th>\n",
       "      <th></th>\n",
       "      <th></th>\n",
       "      <th></th>\n",
       "      <th></th>\n",
       "      <th></th>\n",
       "      <th></th>\n",
       "      <th></th>\n",
       "      <th></th>\n",
       "      <th></th>\n",
       "      <th></th>\n",
       "      <th></th>\n",
       "      <th></th>\n",
       "      <th></th>\n",
       "    </tr>\n",
       "  </thead>\n",
       "  <tbody>\n",
       "    <tr>\n",
       "      <th>1</th>\n",
       "      <td>60</td>\n",
       "      <td>RL</td>\n",
       "      <td>65.0</td>\n",
       "      <td>8450</td>\n",
       "      <td>Pave</td>\n",
       "      <td>NaN</td>\n",
       "      <td>Reg</td>\n",
       "      <td>Lvl</td>\n",
       "      <td>AllPub</td>\n",
       "      <td>Inside</td>\n",
       "      <td>...</td>\n",
       "      <td>0</td>\n",
       "      <td>NaN</td>\n",
       "      <td>NaN</td>\n",
       "      <td>NaN</td>\n",
       "      <td>0</td>\n",
       "      <td>2</td>\n",
       "      <td>2008</td>\n",
       "      <td>WD</td>\n",
       "      <td>Normal</td>\n",
       "      <td>208500</td>\n",
       "    </tr>\n",
       "    <tr>\n",
       "      <th>2</th>\n",
       "      <td>20</td>\n",
       "      <td>RL</td>\n",
       "      <td>80.0</td>\n",
       "      <td>9600</td>\n",
       "      <td>Pave</td>\n",
       "      <td>NaN</td>\n",
       "      <td>Reg</td>\n",
       "      <td>Lvl</td>\n",
       "      <td>AllPub</td>\n",
       "      <td>FR2</td>\n",
       "      <td>...</td>\n",
       "      <td>0</td>\n",
       "      <td>NaN</td>\n",
       "      <td>NaN</td>\n",
       "      <td>NaN</td>\n",
       "      <td>0</td>\n",
       "      <td>5</td>\n",
       "      <td>2007</td>\n",
       "      <td>WD</td>\n",
       "      <td>Normal</td>\n",
       "      <td>181500</td>\n",
       "    </tr>\n",
       "    <tr>\n",
       "      <th>3</th>\n",
       "      <td>60</td>\n",
       "      <td>RL</td>\n",
       "      <td>68.0</td>\n",
       "      <td>11250</td>\n",
       "      <td>Pave</td>\n",
       "      <td>NaN</td>\n",
       "      <td>IR1</td>\n",
       "      <td>Lvl</td>\n",
       "      <td>AllPub</td>\n",
       "      <td>Inside</td>\n",
       "      <td>...</td>\n",
       "      <td>0</td>\n",
       "      <td>NaN</td>\n",
       "      <td>NaN</td>\n",
       "      <td>NaN</td>\n",
       "      <td>0</td>\n",
       "      <td>9</td>\n",
       "      <td>2008</td>\n",
       "      <td>WD</td>\n",
       "      <td>Normal</td>\n",
       "      <td>223500</td>\n",
       "    </tr>\n",
       "    <tr>\n",
       "      <th>4</th>\n",
       "      <td>70</td>\n",
       "      <td>RL</td>\n",
       "      <td>60.0</td>\n",
       "      <td>9550</td>\n",
       "      <td>Pave</td>\n",
       "      <td>NaN</td>\n",
       "      <td>IR1</td>\n",
       "      <td>Lvl</td>\n",
       "      <td>AllPub</td>\n",
       "      <td>Corner</td>\n",
       "      <td>...</td>\n",
       "      <td>0</td>\n",
       "      <td>NaN</td>\n",
       "      <td>NaN</td>\n",
       "      <td>NaN</td>\n",
       "      <td>0</td>\n",
       "      <td>2</td>\n",
       "      <td>2006</td>\n",
       "      <td>WD</td>\n",
       "      <td>Abnorml</td>\n",
       "      <td>140000</td>\n",
       "    </tr>\n",
       "    <tr>\n",
       "      <th>5</th>\n",
       "      <td>60</td>\n",
       "      <td>RL</td>\n",
       "      <td>84.0</td>\n",
       "      <td>14260</td>\n",
       "      <td>Pave</td>\n",
       "      <td>NaN</td>\n",
       "      <td>IR1</td>\n",
       "      <td>Lvl</td>\n",
       "      <td>AllPub</td>\n",
       "      <td>FR2</td>\n",
       "      <td>...</td>\n",
       "      <td>0</td>\n",
       "      <td>NaN</td>\n",
       "      <td>NaN</td>\n",
       "      <td>NaN</td>\n",
       "      <td>0</td>\n",
       "      <td>12</td>\n",
       "      <td>2008</td>\n",
       "      <td>WD</td>\n",
       "      <td>Normal</td>\n",
       "      <td>250000</td>\n",
       "    </tr>\n",
       "  </tbody>\n",
       "</table>\n",
       "<p>5 rows × 80 columns</p>\n",
       "</div>"
      ],
      "text/plain": [
       "    MSSubClass MSZoning  LotFrontage  LotArea Street Alley LotShape  \\\n",
       "Id                                                                    \n",
       "1           60       RL         65.0     8450   Pave   NaN      Reg   \n",
       "2           20       RL         80.0     9600   Pave   NaN      Reg   \n",
       "3           60       RL         68.0    11250   Pave   NaN      IR1   \n",
       "4           70       RL         60.0     9550   Pave   NaN      IR1   \n",
       "5           60       RL         84.0    14260   Pave   NaN      IR1   \n",
       "\n",
       "   LandContour Utilities LotConfig    ...     PoolArea PoolQC Fence  \\\n",
       "Id                                    ...                             \n",
       "1          Lvl    AllPub    Inside    ...            0    NaN   NaN   \n",
       "2          Lvl    AllPub       FR2    ...            0    NaN   NaN   \n",
       "3          Lvl    AllPub    Inside    ...            0    NaN   NaN   \n",
       "4          Lvl    AllPub    Corner    ...            0    NaN   NaN   \n",
       "5          Lvl    AllPub       FR2    ...            0    NaN   NaN   \n",
       "\n",
       "   MiscFeature MiscVal MoSold  YrSold  SaleType  SaleCondition  SalePrice  \n",
       "Id                                                                         \n",
       "1          NaN       0      2    2008        WD         Normal     208500  \n",
       "2          NaN       0      5    2007        WD         Normal     181500  \n",
       "3          NaN       0      9    2008        WD         Normal     223500  \n",
       "4          NaN       0      2    2006        WD        Abnorml     140000  \n",
       "5          NaN       0     12    2008        WD         Normal     250000  \n",
       "\n",
       "[5 rows x 80 columns]"
      ]
     },
     "execution_count": 2,
     "metadata": {},
     "output_type": "execute_result"
    }
   ],
   "source": [
    "# Load housing data\n",
    "\n",
    "housing = pd.read_csv('../../data/housing.csv', index_col='Id')\n",
    "\n",
    "housing.head()"
   ]
  },
  {
   "cell_type": "code",
   "execution_count": 3,
   "metadata": {
    "ExecuteTime": {
     "end_time": "2019-05-20T04:11:54.422114Z",
     "start_time": "2019-05-20T04:11:54.417361Z"
    }
   },
   "outputs": [
    {
     "data": {
      "text/plain": [
       "(1460, 80)"
      ]
     },
     "execution_count": 3,
     "metadata": {},
     "output_type": "execute_result"
    }
   ],
   "source": [
    "housing.shape"
   ]
  },
  {
   "cell_type": "code",
   "execution_count": 4,
   "metadata": {
    "ExecuteTime": {
     "end_time": "2019-05-20T04:11:55.209955Z",
     "start_time": "2019-05-20T04:11:55.194311Z"
    },
    "scrolled": false
   },
   "outputs": [
    {
     "name": "stdout",
     "output_type": "stream",
     "text": [
      "MSSubClass: Identifies the type of dwelling involved in the sale.\t\n",
      "\n",
      "        20\t1-STORY 1946 & NEWER ALL STYLES\n",
      "        30\t1-STORY 1945 & OLDER\n",
      "        40\t1-STORY W/FINISHED ATTIC ALL AGES\n",
      "        45\t1-1/2 STORY - UNFINISHED ALL AGES\n",
      "        50\t1-1/2 STORY FINISHED ALL AGES\n",
      "        60\t2-STORY 1946 & NEWER\n",
      "        70\t2-STORY 1945 & OLDER\n",
      "        75\t2-1/2 STORY ALL AGES\n",
      "        80\tSPLIT OR MULTI-LEVEL\n",
      "        85\tSPLIT FOYER\n",
      "        90\tDUPLEX - ALL STYLES AND AGES\n",
      "       120\t1-STORY PUD (Planned Unit Development) - 1946 & NEWER\n",
      "       150\t1-1/2 STORY PUD - ALL AGES\n",
      "       160\t2-STORY PUD - 1946 & NEWER\n",
      "       180\tPUD - MULTILEVEL - INCL SPLIT LEV/FOYER\n",
      "       190\t2 FAMILY CONVERSION - ALL STYLES AND AGES\n",
      "\n",
      "MSZoning: Identifies the general zoning classification of the sale.\n",
      "\t\t\n",
      "       A\tAgriculture\n",
      "       C\tCommercial\n",
      "       FV\tFloating Village Residential\n",
      "       I\tIndustrial\n",
      "       RH\tResidential High Density\n",
      "       RL\tResidential Low Density\n",
      "       RP\tResidential Low Density Park \n",
      "       RM\tResidential Medium Density\n",
      "\t\n",
      "LotFrontage: Linear feet of street connected to property\n",
      "\n",
      "LotArea: Lot size in square feet\n",
      "\n",
      "Street: Type of road access to property\n",
      "\n",
      "       Grvl\tGravel\t\n",
      "       Pave\tPaved\n",
      "       \t\n",
      "Alley: Type of alley access to property\n",
      "\n",
      "       Grvl\tGravel\n",
      "       Pave\tPaved\n",
      "       NA \tNo alley access\n",
      "\t\t\n",
      "LotShape: General shape of property\n",
      "\n",
      "       Reg\tRegular\t\n",
      "       IR1\tSlightly irregular\n",
      "       IR2\tModerately Irregular\n",
      "       IR3\tIrregular\n",
      "       \n",
      "LandContour: Flatness of the property\n",
      "\n",
      "       Lvl\tNear Flat/Level\t\n",
      "       Bnk\tBanked - Quick and significant rise from street grade to building\n",
      "       HLS\tHillside - Significant slope from side to side\n",
      "       Low\tDepression\n",
      "\t\t\n",
      "Utilities: Type of utilities available\n",
      "\t\t\n",
      "       AllPub\tAll public Utilities (E,G,W,& S)\t\n",
      "       NoSewr\tElectricity, Gas, and Water (Septic Tank)\n",
      "       NoSeWa\tElectricity and Gas Only\n",
      "       ELO\tElectricity only\t\n",
      "\t\n",
      "LotConfig: Lot configuration\n",
      "\n",
      "       Inside\tInside lot\n",
      "       Corner\tCorner lot\n",
      "       CulDSac\tCul-de-sac\n",
      "       FR2\tFrontage on 2 sides of property\n",
      "       FR3\tFrontage on 3 sides of property\n",
      "\t\n",
      "LandSlope: Slope of property\n",
      "\t\t\n",
      "       Gtl\tGentle slope\n",
      "       Mod\tModerate Slope\t\n",
      "       Sev\tSevere Slope\n",
      "\t\n",
      "Neighborhood: Physical locations within Ames city limits\n",
      "\n",
      "       Blmngtn\tBloomington Heights\n",
      "       Blueste\tBluestem\n",
      "       BrDale\tBriardale\n",
      "       BrkSide\tBrookside\n",
      "       ClearCr\tClear Creek\n",
      "       CollgCr\tCollege Creek\n",
      "       Crawfor\tCrawford\n",
      "       Edwards\tEdwards\n",
      "       Gilbert\tGilbert\n",
      "       IDOTRR\tIowa DOT and Rail Road\n",
      "       MeadowV\tMeadow Village\n",
      "       Mitchel\tMitchell\n",
      "       Names\tNorth Ames\n",
      "       NoRidge\tNorthridge\n",
      "       NPkVill\tNorthpark Villa\n",
      "       NridgHt\tNorthridge Heights\n",
      "       NWAmes\tNorthwest Ames\n",
      "       OldTown\tOld Town\n",
      "       SWISU\tSouth & West of Iowa State University\n",
      "       Sawyer\tSawyer\n",
      "       SawyerW\tSawyer West\n",
      "       Somerst\tSomerset\n",
      "       StoneBr\tStone Brook\n",
      "       Timber\tTimberland\n",
      "       Veenker\tVeenker\n",
      "\t\t\t\n",
      "Condition1: Proximity to various conditions\n",
      "\t\n",
      "       Artery\tAdjacent to arterial street\n",
      "       Feedr\tAdjacent to feeder street\t\n",
      "       Norm\tNormal\t\n",
      "       RRNn\tWithin 200' of North-South Railroad\n",
      "       RRAn\tAdjacent to North-South Railroad\n",
      "       PosN\tNear positive off-site feature--park, greenbelt, etc.\n",
      "       PosA\tAdjacent to postive off-site feature\n",
      "       RRNe\tWithin 200' of East-West Railroad\n",
      "       RRAe\tAdjacent to East-West Railroad\n",
      "\t\n",
      "Condition2: Proximity to various conditions (if more than one is present)\n",
      "\t\t\n",
      "       Artery\tAdjacent to arterial street\n",
      "       Feedr\tAdjacent to feeder street\t\n",
      "       Norm\tNormal\t\n",
      "       RRNn\tWithin 200' of North-South Railroad\n",
      "       RRAn\tAdjacent to North-South Railroad\n",
      "       PosN\tNear positive off-site feature--park, greenbelt, etc.\n",
      "       PosA\tAdjacent to postive off-site feature\n",
      "       RRNe\tWithin 200' of East-West Railroad\n",
      "       RRAe\tAdjacent to East-West Railroad\n",
      "\t\n",
      "BldgType: Type of dwelling\n",
      "\t\t\n",
      "       1Fam\tSingle-family Detached\t\n",
      "       2FmCon\tTwo-family Conversion; originally built as one-family dwelling\n",
      "       Duplx\tDuplex\n",
      "       TwnhsE\tTownhouse End Unit\n",
      "       TwnhsI\tTownhouse Inside Unit\n",
      "\t\n",
      "HouseStyle: Style of dwelling\n",
      "\t\n",
      "       1Story\tOne story\n",
      "       1.5Fin\tOne and one-half story: 2nd level finished\n",
      "       1.5Unf\tOne and one-half story: 2nd level unfinished\n",
      "       2Story\tTwo story\n",
      "       2.5Fin\tTwo and one-half story: 2nd level finished\n",
      "       2.5Unf\tTwo and one-half story: 2nd level unfinished\n",
      "       SFoyer\tSplit Foyer\n",
      "       SLvl\tSplit Level\n",
      "\t\n",
      "OverallQual: Rates the overall material and finish of the house\n",
      "\n",
      "       10\tVery Excellent\n",
      "       9\tExcellent\n",
      "       8\tVery Good\n",
      "       7\tGood\n",
      "       6\tAbove Average\n",
      "       5\tAverage\n",
      "       4\tBelow Average\n",
      "       3\tFair\n",
      "       2\tPoor\n",
      "       1\tVery Poor\n",
      "\t\n",
      "OverallCond: Rates the overall condition of the house\n",
      "\n",
      "       10\tVery Excellent\n",
      "       9\tExcellent\n",
      "       8\tVery Good\n",
      "       7\tGood\n",
      "       6\tAbove Average\t\n",
      "       5\tAverage\n",
      "       4\tBelow Average\t\n",
      "       3\tFair\n",
      "       2\tPoor\n",
      "       1\tVery Poor\n",
      "\t\t\n",
      "YearBuilt: Original construction date\n",
      "\n",
      "YearRemodAdd: Remodel date (same as construction date if no remodeling or additions)\n",
      "\n",
      "RoofStyle: Type of roof\n",
      "\n",
      "       Flat\tFlat\n",
      "       Gable\tGable\n",
      "       Gambrel\tGabrel (Barn)\n",
      "       Hip\tHip\n",
      "       Mansard\tMansard\n",
      "       Shed\tShed\n",
      "\t\t\n",
      "RoofMatl: Roof material\n",
      "\n",
      "       ClyTile\tClay or Tile\n",
      "       CompShg\tStandard (Composite) Shingle\n",
      "       Membran\tMembrane\n",
      "       Metal\tMetal\n",
      "       Roll\tRoll\n",
      "       Tar&Grv\tGravel & Tar\n",
      "       WdShake\tWood Shakes\n",
      "       WdShngl\tWood Shingles\n",
      "\t\t\n",
      "Exterior1st: Exterior covering on house\n",
      "\n",
      "       AsbShng\tAsbestos Shingles\n",
      "       AsphShn\tAsphalt Shingles\n",
      "       BrkComm\tBrick Common\n",
      "       BrkFace\tBrick Face\n",
      "       CBlock\tCinder Block\n",
      "       CemntBd\tCement Board\n",
      "       HdBoard\tHard Board\n",
      "       ImStucc\tImitation Stucco\n",
      "       MetalSd\tMetal Siding\n",
      "       Other\tOther\n",
      "       Plywood\tPlywood\n",
      "       PreCast\tPreCast\t\n",
      "       Stone\tStone\n",
      "       Stucco\tStucco\n",
      "       VinylSd\tVinyl Siding\n",
      "       Wd Sdng\tWood Siding\n",
      "       WdShing\tWood Shingles\n",
      "\t\n",
      "Exterior2nd: Exterior covering on house (if more than one material)\n",
      "\n",
      "       AsbShng\tAsbestos Shingles\n",
      "       AsphShn\tAsphalt Shingles\n",
      "       BrkComm\tBrick Common\n",
      "       BrkFace\tBrick Face\n",
      "       CBlock\tCinder Block\n",
      "       CemntBd\tCement Board\n",
      "       HdBoard\tHard Board\n",
      "       ImStucc\tImitation Stucco\n",
      "       MetalSd\tMetal Siding\n",
      "       Other\tOther\n",
      "       Plywood\tPlywood\n",
      "       PreCast\tPreCast\n",
      "       Stone\tStone\n",
      "       Stucco\tStucco\n",
      "       VinylSd\tVinyl Siding\n",
      "       Wd Sdng\tWood Siding\n",
      "       WdShing\tWood Shingles\n",
      "\t\n",
      "MasVnrType: Masonry veneer type\n",
      "\n",
      "       BrkCmn\tBrick Common\n",
      "       BrkFace\tBrick Face\n",
      "       CBlock\tCinder Block\n",
      "       None\tNone\n",
      "       Stone\tStone\n",
      "\t\n",
      "MasVnrArea: Masonry veneer area in square feet\n",
      "\n",
      "ExterQual: Evaluates the quality of the material on the exterior \n",
      "\t\t\n",
      "       Ex\tExcellent\n",
      "       Gd\tGood\n",
      "       TA\tAverage/Typical\n",
      "       Fa\tFair\n",
      "       Po\tPoor\n",
      "\t\t\n",
      "ExterCond: Evaluates the present condition of the material on the exterior\n",
      "\t\t\n",
      "       Ex\tExcellent\n",
      "       Gd\tGood\n",
      "       TA\tAverage/Typical\n",
      "       Fa\tFair\n",
      "       Po\tPoor\n",
      "\t\t\n",
      "Foundation: Type of foundation\n",
      "\t\t\n",
      "       BrkTil\tBrick & Tile\n",
      "       CBlock\tCinder Block\n",
      "       PConc\tPoured Contrete\t\n",
      "       Slab\tSlab\n",
      "       Stone\tStone\n",
      "       Wood\tWood\n",
      "\t\t\n",
      "BsmtQual: Evaluates the height of the basement\n",
      "\n",
      "       Ex\tExcellent (100+ inches)\t\n",
      "       Gd\tGood (90-99 inches)\n",
      "       TA\tTypical (80-89 inches)\n",
      "       Fa\tFair (70-79 inches)\n",
      "       Po\tPoor (<70 inches\n",
      "       NA\tNo Basement\n",
      "\t\t\n",
      "BsmtCond: Evaluates the general condition of the basement\n",
      "\n",
      "       Ex\tExcellent\n",
      "       Gd\tGood\n",
      "       TA\tTypical - slight dampness allowed\n",
      "       Fa\tFair - dampness or some cracking or settling\n",
      "       Po\tPoor - Severe cracking, settling, or wetness\n",
      "       NA\tNo Basement\n",
      "\t\n",
      "BsmtExposure: Refers to walkout or garden level walls\n",
      "\n",
      "       Gd\tGood Exposure\n",
      "       Av\tAverage Exposure (split levels or foyers typically score average or above)\t\n",
      "       Mn\tMimimum Exposure\n",
      "       No\tNo Exposure\n",
      "       NA\tNo Basement\n",
      "\t\n",
      "BsmtFinType1: Rating of basement finished area\n",
      "\n",
      "       GLQ\tGood Living Quarters\n",
      "       ALQ\tAverage Living Quarters\n",
      "       BLQ\tBelow Average Living Quarters\t\n",
      "       Rec\tAverage Rec Room\n",
      "       LwQ\tLow Quality\n",
      "       Unf\tUnfinshed\n",
      "       NA\tNo Basement\n",
      "\t\t\n",
      "BsmtFinSF1: Type 1 finished square feet\n",
      "\n",
      "BsmtFinType2: Rating of basement finished area (if multiple types)\n",
      "\n",
      "       GLQ\tGood Living Quarters\n",
      "       ALQ\tAverage Living Quarters\n",
      "       BLQ\tBelow Average Living Quarters\t\n",
      "       Rec\tAverage Rec Room\n",
      "       LwQ\tLow Quality\n",
      "       Unf\tUnfinshed\n",
      "       NA\tNo Basement\n",
      "\n",
      "BsmtFinSF2: Type 2 finished square feet\n",
      "\n",
      "BsmtUnfSF: Unfinished square feet of basement area\n",
      "\n",
      "TotalBsmtSF: Total square feet of basement area\n",
      "\n",
      "Heating: Type of heating\n",
      "\t\t\n",
      "       Floor\tFloor Furnace\n",
      "       GasA\tGas forced warm air furnace\n",
      "       GasW\tGas hot water or steam heat\n",
      "       Grav\tGravity furnace\t\n",
      "       OthW\tHot water or steam heat other than gas\n",
      "       Wall\tWall furnace\n",
      "\t\t\n",
      "HeatingQC: Heating quality and condition\n",
      "\n",
      "       Ex\tExcellent\n",
      "       Gd\tGood\n",
      "       TA\tAverage/Typical\n",
      "       Fa\tFair\n",
      "       Po\tPoor\n",
      "\t\t\n",
      "CentralAir: Central air conditioning\n",
      "\n",
      "       N\tNo\n",
      "       Y\tYes\n",
      "\t\t\n",
      "Electrical: Electrical system\n",
      "\n",
      "       SBrkr\tStandard Circuit Breakers & Romex\n",
      "       FuseA\tFuse Box over 60 AMP and all Romex wiring (Average)\t\n",
      "       FuseF\t60 AMP Fuse Box and mostly Romex wiring (Fair)\n",
      "       FuseP\t60 AMP Fuse Box and mostly knob & tube wiring (poor)\n",
      "       Mix\tMixed\n",
      "\t\t\n",
      "1stFlrSF: First Floor square feet\n",
      " \n",
      "2ndFlrSF: Second floor square feet\n",
      "\n",
      "LowQualFinSF: Low quality finished square feet (all floors)\n",
      "\n",
      "GrLivArea: Above grade (ground) living area square feet\n",
      "\n",
      "BsmtFullBath: Basement full bathrooms\n",
      "\n",
      "BsmtHalfBath: Basement half bathrooms\n",
      "\n",
      "FullBath: Full bathrooms above grade\n",
      "\n",
      "HalfBath: Half baths above grade\n",
      "\n",
      "Bedroom: Bedrooms above grade (does NOT include basement bedrooms)\n",
      "\n",
      "Kitchen: Kitchens above grade\n",
      "\n",
      "KitchenQual: Kitchen quality\n",
      "\n",
      "       Ex\tExcellent\n",
      "       Gd\tGood\n",
      "       TA\tTypical/Average\n",
      "       Fa\tFair\n",
      "       Po\tPoor\n",
      "       \t\n",
      "TotRmsAbvGrd: Total rooms above grade (does not include bathrooms)\n",
      "\n",
      "Functional: Home functionality (Assume typical unless deductions are warranted)\n",
      "\n",
      "       Typ\tTypical Functionality\n",
      "       Min1\tMinor Deductions 1\n",
      "       Min2\tMinor Deductions 2\n",
      "       Mod\tModerate Deductions\n",
      "       Maj1\tMajor Deductions 1\n",
      "       Maj2\tMajor Deductions 2\n",
      "       Sev\tSeverely Damaged\n",
      "       Sal\tSalvage only\n",
      "\t\t\n",
      "Fireplaces: Number of fireplaces\n",
      "\n",
      "FireplaceQu: Fireplace quality\n",
      "\n",
      "       Ex\tExcellent - Exceptional Masonry Fireplace\n",
      "       Gd\tGood - Masonry Fireplace in main level\n",
      "       TA\tAverage - Prefabricated Fireplace in main living area or Masonry Fireplace in basement\n",
      "       Fa\tFair - Prefabricated Fireplace in basement\n",
      "       Po\tPoor - Ben Franklin Stove\n",
      "       NA\tNo Fireplace\n",
      "\t\t\n",
      "GarageType: Garage location\n",
      "\t\t\n",
      "       2Types\tMore than one type of garage\n",
      "       Attchd\tAttached to home\n",
      "       Basment\tBasement Garage\n",
      "       BuiltIn\tBuilt-In (Garage part of house - typically has room above garage)\n",
      "       CarPort\tCar Port\n",
      "       Detchd\tDetached from home\n",
      "       NA\tNo Garage\n",
      "\t\t\n",
      "GarageYrBlt: Year garage was built\n",
      "\t\t\n",
      "GarageFinish: Interior finish of the garage\n",
      "\n",
      "       Fin\tFinished\n",
      "       RFn\tRough Finished\t\n",
      "       Unf\tUnfinished\n",
      "       NA\tNo Garage\n",
      "\t\t\n",
      "GarageCars: Size of garage in car capacity\n",
      "\n",
      "GarageArea: Size of garage in square feet\n",
      "\n",
      "GarageQual: Garage quality\n",
      "\n",
      "       Ex\tExcellent\n",
      "       Gd\tGood\n",
      "       TA\tTypical/Average\n",
      "       Fa\tFair\n",
      "       Po\tPoor\n",
      "       NA\tNo Garage\n",
      "\t\t\n",
      "GarageCond: Garage condition\n",
      "\n",
      "       Ex\tExcellent\n",
      "       Gd\tGood\n",
      "       TA\tTypical/Average\n",
      "       Fa\tFair\n",
      "       Po\tPoor\n",
      "       NA\tNo Garage\n",
      "\t\t\n",
      "PavedDrive: Paved driveway\n",
      "\n",
      "       Y\tPaved \n",
      "       P\tPartial Pavement\n",
      "       N\tDirt/Gravel\n",
      "\t\t\n",
      "WoodDeckSF: Wood deck area in square feet\n",
      "\n",
      "OpenPorchSF: Open porch area in square feet\n",
      "\n",
      "EnclosedPorch: Enclosed porch area in square feet\n",
      "\n",
      "3SsnPorch: Three season porch area in square feet\n",
      "\n",
      "ScreenPorch: Screen porch area in square feet\n",
      "\n",
      "PoolArea: Pool area in square feet\n",
      "\n",
      "PoolQC: Pool quality\n",
      "\t\t\n",
      "       Ex\tExcellent\n",
      "       Gd\tGood\n",
      "       TA\tAverage/Typical\n",
      "       Fa\tFair\n",
      "       NA\tNo Pool\n",
      "\t\t\n",
      "Fence: Fence quality\n",
      "\t\t\n",
      "       GdPrv\tGood Privacy\n",
      "       MnPrv\tMinimum Privacy\n",
      "       GdWo\tGood Wood\n",
      "       MnWw\tMinimum Wood/Wire\n",
      "       NA\tNo Fence\n",
      "\t\n",
      "MiscFeature: Miscellaneous feature not covered in other categories\n",
      "\t\t\n",
      "       Elev\tElevator\n",
      "       Gar2\t2nd Garage (if not described in garage section)\n",
      "       Othr\tOther\n",
      "       Shed\tShed (over 100 SF)\n",
      "       TenC\tTennis Court\n",
      "       NA\tNone\n",
      "\t\t\n",
      "MiscVal: $Value of miscellaneous feature\n",
      "\n",
      "MoSold: Month Sold (MM)\n",
      "\n",
      "YrSold: Year Sold (YYYY)\n",
      "\n",
      "SaleType: Type of sale\n",
      "\t\t\n",
      "       WD \tWarranty Deed - Conventional\n",
      "       CWD\tWarranty Deed - Cash\n",
      "       VWD\tWarranty Deed - VA Loan\n",
      "       New\tHome just constructed and sold\n",
      "       COD\tCourt Officer Deed/Estate\n",
      "       Con\tContract 15% Down payment regular terms\n",
      "       ConLw\tContract Low Down payment and low interest\n",
      "       ConLI\tContract Low Interest\n",
      "       ConLD\tContract Low Down\n",
      "       Oth\tOther\n",
      "\t\t\n",
      "SaleCondition: Condition of sale\n",
      "\n",
      "       Normal\tNormal Sale\n",
      "       Abnorml\tAbnormal Sale -  trade, foreclosure, short sale\n",
      "       AdjLand\tAdjoining Land Purchase\n",
      "       Alloca\tAllocation - two linked properties with separate deeds, typically condo with a garage unit\t\n",
      "       Family\tSale between family members\n",
      "       Partial\tHome was not completed when last assessed (associated with New Homes)\n",
      "\n"
     ]
    }
   ],
   "source": [
    "# Open data descrption and print to notebook\n",
    "\n",
    "with open('../../data/data_description.txt', 'r') as file:\n",
    "    print(file.read())"
   ]
  },
  {
   "cell_type": "code",
   "execution_count": 5,
   "metadata": {
    "ExecuteTime": {
     "end_time": "2019-05-20T04:12:01.405815Z",
     "start_time": "2019-05-20T04:12:01.400670Z"
    }
   },
   "outputs": [
    {
     "name": "stdout",
     "output_type": "stream",
     "text": [
      "Data has 1460 houses with 80 features\n"
     ]
    }
   ],
   "source": [
    "print('Data has {} houses with {} features'.format(housing.shape[0], housing.shape[1]))"
   ]
  },
  {
   "cell_type": "code",
   "execution_count": 6,
   "metadata": {
    "ExecuteTime": {
     "end_time": "2019-05-20T04:12:02.863320Z",
     "start_time": "2019-05-20T04:12:02.837537Z"
    }
   },
   "outputs": [
    {
     "data": {
      "text/plain": [
       "LotFrontage      259\n",
       "Alley           1369\n",
       "MasVnrType         8\n",
       "MasVnrArea         8\n",
       "BsmtQual          37\n",
       "BsmtCond          37\n",
       "BsmtExposure      38\n",
       "BsmtFinType1      37\n",
       "BsmtFinType2      38\n",
       "Electrical         1\n",
       "FireplaceQu      690\n",
       "GarageType        81\n",
       "GarageYrBlt       81\n",
       "GarageFinish      81\n",
       "GarageQual        81\n",
       "GarageCond        81\n",
       "PoolQC          1453\n",
       "Fence           1179\n",
       "MiscFeature     1406\n",
       "dtype: int64"
      ]
     },
     "execution_count": 6,
     "metadata": {},
     "output_type": "execute_result"
    }
   ],
   "source": [
    "# Count null values\n",
    "\n",
    "housing.isnull().sum()[housing.isnull().sum() > 0]"
   ]
  },
  {
   "cell_type": "code",
   "execution_count": 7,
   "metadata": {
    "ExecuteTime": {
     "end_time": "2019-05-20T04:12:06.319077Z",
     "start_time": "2019-05-20T04:12:06.307478Z"
    }
   },
   "outputs": [
    {
     "data": {
      "text/plain": [
       "MSSubClass        int64\n",
       "MSZoning         object\n",
       "LotFrontage     float64\n",
       "LotArea           int64\n",
       "Street           object\n",
       "Alley            object\n",
       "LotShape         object\n",
       "LandContour      object\n",
       "Utilities        object\n",
       "LotConfig        object\n",
       "LandSlope        object\n",
       "Neighborhood     object\n",
       "Condition1       object\n",
       "Condition2       object\n",
       "BldgType         object\n",
       "HouseStyle       object\n",
       "OverallQual       int64\n",
       "OverallCond       int64\n",
       "YearBuilt         int64\n",
       "YearRemodAdd      int64\n",
       "RoofStyle        object\n",
       "RoofMatl         object\n",
       "Exterior1st      object\n",
       "Exterior2nd      object\n",
       "MasVnrType       object\n",
       "MasVnrArea      float64\n",
       "ExterQual        object\n",
       "ExterCond        object\n",
       "Foundation       object\n",
       "BsmtQual         object\n",
       "BsmtCond         object\n",
       "BsmtExposure     object\n",
       "BsmtFinType1     object\n",
       "BsmtFinSF1        int64\n",
       "BsmtFinType2     object\n",
       "BsmtFinSF2        int64\n",
       "BsmtUnfSF         int64\n",
       "TotalBsmtSF       int64\n",
       "Heating          object\n",
       "HeatingQC        object\n",
       "CentralAir       object\n",
       "dtype: object"
      ]
     },
     "metadata": {},
     "output_type": "display_data"
    },
    {
     "data": {
      "text/plain": [
       "Electrical        object\n",
       "1stFlrSF           int64\n",
       "2ndFlrSF           int64\n",
       "LowQualFinSF       int64\n",
       "GrLivArea          int64\n",
       "BsmtFullBath       int64\n",
       "BsmtHalfBath       int64\n",
       "FullBath           int64\n",
       "HalfBath           int64\n",
       "BedroomAbvGr       int64\n",
       "KitchenAbvGr       int64\n",
       "KitchenQual       object\n",
       "TotRmsAbvGrd       int64\n",
       "Functional        object\n",
       "Fireplaces         int64\n",
       "FireplaceQu       object\n",
       "GarageType        object\n",
       "GarageYrBlt      float64\n",
       "GarageFinish      object\n",
       "GarageCars         int64\n",
       "GarageArea         int64\n",
       "GarageQual        object\n",
       "GarageCond        object\n",
       "PavedDrive        object\n",
       "WoodDeckSF         int64\n",
       "OpenPorchSF        int64\n",
       "EnclosedPorch      int64\n",
       "3SsnPorch          int64\n",
       "ScreenPorch        int64\n",
       "PoolArea           int64\n",
       "PoolQC            object\n",
       "Fence             object\n",
       "MiscFeature       object\n",
       "MiscVal            int64\n",
       "MoSold             int64\n",
       "YrSold             int64\n",
       "SaleType          object\n",
       "SaleCondition     object\n",
       "SalePrice          int64\n",
       "dtype: object"
      ]
     },
     "metadata": {},
     "output_type": "display_data"
    }
   ],
   "source": [
    "# Find column data types\n",
    "\n",
    "display(housing.dtypes[:41])\n",
    "display(housing.dtypes[41:])"
   ]
  },
  {
   "cell_type": "markdown",
   "metadata": {},
   "source": [
    "## Data validation"
   ]
  },
  {
   "cell_type": "markdown",
   "metadata": {},
   "source": [
    "### Numeric data check"
   ]
  },
  {
   "cell_type": "code",
   "execution_count": 8,
   "metadata": {
    "ExecuteTime": {
     "end_time": "2019-05-20T04:12:10.446201Z",
     "start_time": "2019-05-20T04:12:10.415465Z"
    }
   },
   "outputs": [
    {
     "data": {
      "text/plain": [
       "MSSubClass          20.0\n",
       "LotFrontage         21.0\n",
       "LotArea           1300.0\n",
       "OverallQual          1.0\n",
       "OverallCond          1.0\n",
       "YearBuilt         1872.0\n",
       "YearRemodAdd      1950.0\n",
       "MasVnrArea           0.0\n",
       "BsmtFinSF1           0.0\n",
       "BsmtFinSF2           0.0\n",
       "BsmtUnfSF            0.0\n",
       "TotalBsmtSF          0.0\n",
       "1stFlrSF           334.0\n",
       "2ndFlrSF             0.0\n",
       "LowQualFinSF         0.0\n",
       "GrLivArea          334.0\n",
       "BsmtFullBath         0.0\n",
       "BsmtHalfBath         0.0\n",
       "FullBath             0.0\n",
       "HalfBath             0.0\n",
       "BedroomAbvGr         0.0\n",
       "KitchenAbvGr         0.0\n",
       "TotRmsAbvGrd         2.0\n",
       "Fireplaces           0.0\n",
       "GarageYrBlt       1900.0\n",
       "GarageCars           0.0\n",
       "GarageArea           0.0\n",
       "WoodDeckSF           0.0\n",
       "OpenPorchSF          0.0\n",
       "EnclosedPorch        0.0\n",
       "3SsnPorch            0.0\n",
       "ScreenPorch          0.0\n",
       "PoolArea             0.0\n",
       "MiscVal              0.0\n",
       "MoSold               1.0\n",
       "YrSold            2006.0\n",
       "SalePrice        34900.0\n",
       "dtype: float64"
      ]
     },
     "execution_count": 8,
     "metadata": {},
     "output_type": "execute_result"
    }
   ],
   "source": [
    "# Check minimum values of numeric data\n",
    "\n",
    "housing.select_dtypes(include='number').min()"
   ]
  },
  {
   "cell_type": "code",
   "execution_count": 9,
   "metadata": {
    "ExecuteTime": {
     "end_time": "2019-05-20T04:12:18.458125Z",
     "start_time": "2019-05-20T04:12:18.435121Z"
    }
   },
   "outputs": [
    {
     "data": {
      "text/plain": [
       "MSSubClass          190.0\n",
       "LotFrontage         313.0\n",
       "LotArea          215245.0\n",
       "OverallQual          10.0\n",
       "OverallCond           9.0\n",
       "YearBuilt          2010.0\n",
       "YearRemodAdd       2010.0\n",
       "MasVnrArea         1600.0\n",
       "BsmtFinSF1         5644.0\n",
       "BsmtFinSF2         1474.0\n",
       "BsmtUnfSF          2336.0\n",
       "TotalBsmtSF        6110.0\n",
       "1stFlrSF           4692.0\n",
       "2ndFlrSF           2065.0\n",
       "LowQualFinSF        572.0\n",
       "GrLivArea          5642.0\n",
       "BsmtFullBath          3.0\n",
       "BsmtHalfBath          2.0\n",
       "FullBath              3.0\n",
       "HalfBath              2.0\n",
       "BedroomAbvGr          8.0\n",
       "KitchenAbvGr          3.0\n",
       "TotRmsAbvGrd         14.0\n",
       "Fireplaces            3.0\n",
       "GarageYrBlt        2010.0\n",
       "GarageCars            4.0\n",
       "GarageArea         1418.0\n",
       "WoodDeckSF          857.0\n",
       "OpenPorchSF         547.0\n",
       "EnclosedPorch       552.0\n",
       "3SsnPorch           508.0\n",
       "ScreenPorch         480.0\n",
       "PoolArea            738.0\n",
       "MiscVal           15500.0\n",
       "MoSold               12.0\n",
       "YrSold             2010.0\n",
       "SalePrice        755000.0\n",
       "dtype: float64"
      ]
     },
     "execution_count": 9,
     "metadata": {},
     "output_type": "execute_result"
    }
   ],
   "source": [
    "# Check maximum values of numeric data\n",
    "\n",
    "housing.select_dtypes(include='number').max()"
   ]
  },
  {
   "cell_type": "markdown",
   "metadata": {},
   "source": [
    "Minimum and maximum values of numeric data seem appropriate"
   ]
  },
  {
   "cell_type": "markdown",
   "metadata": {},
   "source": [
    "### Categorical data check"
   ]
  },
  {
   "cell_type": "code",
   "execution_count": 10,
   "metadata": {
    "ExecuteTime": {
     "end_time": "2019-05-20T04:12:22.239328Z",
     "start_time": "2019-05-20T04:12:22.137803Z"
    },
    "scrolled": false
   },
   "outputs": [
    {
     "name": "stdout",
     "output_type": "stream",
     "text": [
      "Values for MSZoning: \n",
      "C (all), FV, RH, RL, RM\n",
      "\n",
      "\n",
      "Values for Street: \n",
      "Grvl, Pave\n",
      "\n",
      "\n",
      "Values for Alley: \n",
      "Grvl, Pave, nan\n",
      "\n",
      "\n",
      "Values for LotShape: \n",
      "IR1, IR2, IR3, Reg\n",
      "\n",
      "\n",
      "Values for LandContour: \n",
      "Bnk, HLS, Low, Lvl\n",
      "\n",
      "\n",
      "Values for Utilities: \n",
      "AllPub, NoSeWa\n",
      "\n",
      "\n",
      "Values for LotConfig: \n",
      "Corner, CulDSac, FR2, FR3, Inside\n",
      "\n",
      "\n",
      "Values for LandSlope: \n",
      "Gtl, Mod, Sev\n",
      "\n",
      "\n",
      "Values for Neighborhood: \n",
      "Blmngtn, Blueste, BrDale, BrkSide, ClearCr, CollgCr, Crawfor, Edwards, Gilbert, IDOTRR, MeadowV, Mitchel, NAmes, NPkVill, NWAmes, NoRidge, NridgHt, OldTown, SWISU, Sawyer, SawyerW, Somerst, StoneBr, Timber, Veenker\n",
      "\n",
      "\n",
      "Values for Condition1: \n",
      "Artery, Feedr, Norm, PosA, PosN, RRAe, RRAn, RRNe, RRNn\n",
      "\n",
      "\n",
      "Values for Condition2: \n",
      "Artery, Feedr, Norm, PosA, PosN, RRAe, RRAn, RRNn\n",
      "\n",
      "\n",
      "Values for BldgType: \n",
      "1Fam, 2fmCon, Duplex, Twnhs, TwnhsE\n",
      "\n",
      "\n",
      "Values for HouseStyle: \n",
      "1.5Fin, 1.5Unf, 1Story, 2.5Fin, 2.5Unf, 2Story, SFoyer, SLvl\n",
      "\n",
      "\n",
      "Values for RoofStyle: \n",
      "Flat, Gable, Gambrel, Hip, Mansard, Shed\n",
      "\n",
      "\n",
      "Values for RoofMatl: \n",
      "ClyTile, CompShg, Membran, Metal, Roll, Tar&Grv, WdShake, WdShngl\n",
      "\n",
      "\n",
      "Values for Exterior1st: \n",
      "AsbShng, AsphShn, BrkComm, BrkFace, CBlock, CemntBd, HdBoard, ImStucc, MetalSd, Plywood, Stone, Stucco, VinylSd, Wd Sdng, WdShing\n",
      "\n",
      "\n",
      "Values for Exterior2nd: \n",
      "AsbShng, AsphShn, Brk Cmn, BrkFace, CBlock, CmentBd, HdBoard, ImStucc, MetalSd, Other, Plywood, Stone, Stucco, VinylSd, Wd Sdng, Wd Shng\n",
      "\n",
      "\n",
      "Values for MasVnrType: \n",
      "BrkCmn, BrkFace, None, Stone, nan\n",
      "\n",
      "\n",
      "Values for ExterQual: \n",
      "Ex, Fa, Gd, TA\n",
      "\n",
      "\n",
      "Values for ExterCond: \n",
      "Ex, Fa, Gd, Po, TA\n",
      "\n",
      "\n",
      "Values for Foundation: \n",
      "BrkTil, CBlock, PConc, Slab, Stone, Wood\n",
      "\n",
      "\n",
      "Values for BsmtQual: \n",
      "Ex, Fa, Gd, TA, nan\n",
      "\n",
      "\n",
      "Values for BsmtCond: \n",
      "Fa, Gd, Po, TA, nan\n",
      "\n",
      "\n",
      "Values for BsmtExposure: \n",
      "Av, Gd, Mn, No, nan\n",
      "\n",
      "\n",
      "Values for BsmtFinType1: \n",
      "ALQ, BLQ, GLQ, LwQ, Rec, Unf, nan\n",
      "\n",
      "\n",
      "Values for BsmtFinType2: \n",
      "ALQ, BLQ, GLQ, LwQ, Rec, Unf, nan\n",
      "\n",
      "\n",
      "Values for Heating: \n",
      "Floor, GasA, GasW, Grav, OthW, Wall\n",
      "\n",
      "\n",
      "Values for HeatingQC: \n",
      "Ex, Fa, Gd, Po, TA\n",
      "\n",
      "\n",
      "Values for CentralAir: \n",
      "N, Y\n",
      "\n",
      "\n",
      "Values for Electrical: \n",
      "FuseA, FuseF, FuseP, Mix, SBrkr, nan\n",
      "\n",
      "\n",
      "Values for KitchenQual: \n",
      "Ex, Fa, Gd, TA\n",
      "\n",
      "\n",
      "Values for Functional: \n",
      "Maj1, Maj2, Min1, Min2, Mod, Sev, Typ\n",
      "\n",
      "\n",
      "Values for FireplaceQu: \n",
      "Ex, Fa, Gd, Po, TA, nan\n",
      "\n",
      "\n",
      "Values for GarageType: \n",
      "2Types, Attchd, Basment, BuiltIn, CarPort, Detchd, nan\n",
      "\n",
      "\n",
      "Values for GarageFinish: \n",
      "Fin, RFn, Unf, nan\n",
      "\n",
      "\n",
      "Values for GarageQual: \n",
      "Ex, Fa, Gd, Po, TA, nan\n",
      "\n",
      "\n",
      "Values for GarageCond: \n",
      "Ex, Fa, Gd, Po, TA, nan\n",
      "\n",
      "\n",
      "Values for PavedDrive: \n",
      "N, P, Y\n",
      "\n",
      "\n",
      "Values for PoolQC: \n",
      "Ex, Fa, Gd, nan\n",
      "\n",
      "\n",
      "Values for Fence: \n",
      "GdPrv, GdWo, MnPrv, MnWw, nan\n",
      "\n",
      "\n",
      "Values for MiscFeature: \n",
      "Gar2, Othr, Shed, TenC, nan\n",
      "\n",
      "\n",
      "Values for SaleType: \n",
      "COD, CWD, Con, ConLD, ConLI, ConLw, New, Oth, WD\n",
      "\n",
      "\n",
      "Values for SaleCondition: \n",
      "Abnorml, AdjLand, Alloca, Family, Normal, Partial\n",
      "\n",
      "\n"
     ]
    }
   ],
   "source": [
    "# Check values for categorical labels\n",
    "\n",
    "housing_str = housing.select_dtypes(exclude='number')\n",
    "\n",
    "for col in housing_str.columns:\n",
    "    print(\"Values for {}: \".format(col))\n",
    "    print(\", \".join([str(i) for i in housing_str[col].value_counts(dropna=False).sort_index().index]))\n",
    "    print(\"\\n\")"
   ]
  },
  {
   "cell_type": "markdown",
   "metadata": {},
   "source": [
    "Of the categorical labels:\n",
    "\n",
    "- `BldgType`: `Twnhs` label does not exist in the data description, though there are no `TwnhsI` values. Has `Twnhs` been mislabelled as `TwnhsI`?\n",
    "- `Exterior2nd`: `Wd Shng` label does not exist in the data description and appears to be a mispelling of `WdShing`\n",
    "- `MasVnrType`: `nan` and `None` exist. Perhaps `nan` values should be converted to `None`?\n",
    "- `Electrical`: `nan` values exist where the data description indicates there is no None category."
   ]
  },
  {
   "cell_type": "markdown",
   "metadata": {},
   "source": [
    "#### Fix `Electrical` column"
   ]
  },
  {
   "cell_type": "code",
   "execution_count": 11,
   "metadata": {
    "ExecuteTime": {
     "end_time": "2019-05-20T04:12:29.457375Z",
     "start_time": "2019-05-20T04:12:29.452263Z"
    }
   },
   "outputs": [
    {
     "data": {
      "text/plain": [
       "SBrkr    1334\n",
       "FuseA      94\n",
       "FuseF      27\n",
       "FuseP       3\n",
       "Mix         1\n",
       "NaN         1\n",
       "Name: Electrical, dtype: int64"
      ]
     },
     "execution_count": 11,
     "metadata": {},
     "output_type": "execute_result"
    }
   ],
   "source": [
    "# Check value counts for Electrical column\n",
    "\n",
    "housing['Electrical'].value_counts(dropna=False)"
   ]
  },
  {
   "cell_type": "markdown",
   "metadata": {},
   "source": [
    "`SBrkr` is by far the most common electrical type in the dataset. The data description for `Electrical` suggests that the type of electrical wiring in the house may be related to the age of the house."
   ]
  },
  {
   "cell_type": "code",
   "execution_count": 12,
   "metadata": {
    "ExecuteTime": {
     "end_time": "2019-05-20T04:12:31.013909Z",
     "start_time": "2019-05-20T04:12:31.007616Z"
    }
   },
   "outputs": [
    {
     "data": {
      "text/plain": [
       "2006"
      ]
     },
     "execution_count": 12,
     "metadata": {},
     "output_type": "execute_result"
    }
   ],
   "source": [
    "# Get year where Electrical is nan\n",
    "\n",
    "housing.loc[housing[housing['Electrical'].isnull()].index[0], 'YearBuilt']"
   ]
  },
  {
   "cell_type": "markdown",
   "metadata": {},
   "source": [
    "The house above was built in 2006, which for this dataset is quite recent."
   ]
  },
  {
   "cell_type": "code",
   "execution_count": 13,
   "metadata": {
    "ExecuteTime": {
     "end_time": "2019-05-20T04:12:33.796420Z",
     "start_time": "2019-05-20T04:12:33.354849Z"
    }
   },
   "outputs": [
    {
     "data": {
      "image/png": "[encoded data removed]",
      "text/plain": [
       "<Figure size 1080x432 with 1 Axes>"
      ]
     },
     "metadata": {},
     "output_type": "display_data"
    }
   ],
   "source": [
    "# Electrical may be related to age of house:\n",
    "\n",
    "housing[housing['Electrical'] != 'SBrkr']['YearBuilt'].value_counts().sort_index().plot.bar(figsize=(15, 6), \n",
    "                                                                                            color='darkred')\n",
    "plt.ylabel('Num. houses')\n",
    "plt.xlabel('Year built')\n",
    "plt.show()"
   ]
  },
  {
   "cell_type": "code",
   "execution_count": 14,
   "metadata": {
    "ExecuteTime": {
     "end_time": "2019-05-20T04:12:35.816345Z",
     "start_time": "2019-05-20T04:12:35.794905Z"
    }
   },
   "outputs": [
    {
     "data": {
      "text/plain": [
       "SBrkr    66\n",
       "NaN       1\n",
       "Name: Electrical, dtype: int64"
      ]
     },
     "execution_count": 14,
     "metadata": {},
     "output_type": "execute_result"
    }
   ],
   "source": [
    "# What are Electrical values for houses built in 2006?\n",
    "\n",
    "housing[housing['YearBuilt'] == 2006]['Electrical'].value_counts(dropna=False)"
   ]
  },
  {
   "cell_type": "markdown",
   "metadata": {},
   "source": [
    "The most recent house with electrical that is not `SBrkr` or `nan` was built in 1965. Additionally, all other houses in the dataset built in 2006 have `SBrkr` electrical, so it makes sense to fill the `nan` in `Electrical` with `SBrkr`."
   ]
  },
  {
   "cell_type": "code",
   "execution_count": 15,
   "metadata": {
    "ExecuteTime": {
     "end_time": "2019-05-20T04:12:37.248448Z",
     "start_time": "2019-05-20T04:12:37.240105Z"
    }
   },
   "outputs": [
    {
     "data": {
      "text/plain": [
       "SBrkr    1335\n",
       "FuseA      94\n",
       "FuseF      27\n",
       "FuseP       3\n",
       "Mix         1\n",
       "Name: Electrical, dtype: int64"
      ]
     },
     "execution_count": 15,
     "metadata": {},
     "output_type": "execute_result"
    }
   ],
   "source": [
    "# Fill NaN in Eletrical with SBrkr\n",
    "\n",
    "housing_v1 = housing.copy()\n",
    "\n",
    "housing_v1['Electrical'] = housing_v1['Electrical'].fillna('SBrkr')\n",
    "\n",
    "housing_v1['Electrical'].value_counts(dropna=False)"
   ]
  },
  {
   "cell_type": "markdown",
   "metadata": {},
   "source": [
    "#### Fix `MasVnrType` column"
   ]
  },
  {
   "cell_type": "code",
   "execution_count": 16,
   "metadata": {
    "ExecuteTime": {
     "end_time": "2019-05-20T04:12:40.516073Z",
     "start_time": "2019-05-20T04:12:40.509978Z"
    }
   },
   "outputs": [
    {
     "data": {
      "text/plain": [
       "None       864\n",
       "BrkFace    445\n",
       "Stone      128\n",
       "BrkCmn      15\n",
       "NaN          8\n",
       "Name: MasVnrType, dtype: int64"
      ]
     },
     "execution_count": 16,
     "metadata": {},
     "output_type": "execute_result"
    }
   ],
   "source": [
    "housing_v1['MasVnrType'].value_counts(dropna=False)"
   ]
  },
  {
   "cell_type": "markdown",
   "metadata": {},
   "source": [
    "`NaN` values exist in the column `MasVnrType`. It is unlclear if this means the same as `None` (i.e. there is no masonry veneer type) or if this value was just not recorded. \n",
    "\n",
    "The column `MasVnrArea` measures masonry veneer in sq. ft. If `NaN` values in this column correspond to `MasVnrType` `NaN` values, then these houses probably did not have masonry veneers."
   ]
  },
  {
   "cell_type": "code",
   "execution_count": 17,
   "metadata": {
    "ExecuteTime": {
     "end_time": "2019-05-20T04:12:41.622155Z",
     "start_time": "2019-05-20T04:12:41.606728Z"
    }
   },
   "outputs": [
    {
     "data": {
      "text/plain": [
       "Id\n",
       "235    NaN\n",
       "530    NaN\n",
       "651    NaN\n",
       "937    NaN\n",
       "974    NaN\n",
       "978    NaN\n",
       "1244   NaN\n",
       "1279   NaN\n",
       "Name: MasVnrArea, dtype: float64"
      ]
     },
     "execution_count": 17,
     "metadata": {},
     "output_type": "execute_result"
    }
   ],
   "source": [
    "# What are the values for MasVnrArea when MasVnrType is NaN?\n",
    "\n",
    "housing_v1[housing_v1['MasVnrType'].isnull()]['MasVnrArea']"
   ]
  },
  {
   "cell_type": "code",
   "execution_count": 18,
   "metadata": {
    "ExecuteTime": {
     "end_time": "2019-05-20T04:12:45.460395Z",
     "start_time": "2019-05-20T04:12:45.455231Z"
    }
   },
   "outputs": [
    {
     "data": {
      "text/plain": [
       "8"
      ]
     },
     "execution_count": 18,
     "metadata": {},
     "output_type": "execute_result"
    }
   ],
   "source": [
    "# How many NaN values in MasVnrArea?\n",
    "\n",
    "housing_v1['MasVnrArea'].isnull().sum()"
   ]
  },
  {
   "cell_type": "markdown",
   "metadata": {},
   "source": [
    "Therefore, we can fill `MasVnrType` `NaN` with `None` and `MasVnrArea` `NaN` with 0."
   ]
  },
  {
   "cell_type": "code",
   "execution_count": 19,
   "metadata": {
    "ExecuteTime": {
     "end_time": "2019-05-20T04:12:46.744933Z",
     "start_time": "2019-05-20T04:12:46.736078Z"
    }
   },
   "outputs": [],
   "source": [
    "housing_v2 = housing_v1.copy()\n",
    "\n",
    "housing_v2['MasVnrType'] = housing_v2['MasVnrType'].fillna('None')\n",
    "housing_v2['MasVnrArea'] = housing_v2['MasVnrArea'].fillna(0)"
   ]
  },
  {
   "cell_type": "markdown",
   "metadata": {},
   "source": [
    "#### Fix values in `BldgType` and `Exterior2nd`"
   ]
  },
  {
   "cell_type": "code",
   "execution_count": 20,
   "metadata": {
    "ExecuteTime": {
     "end_time": "2019-05-20T04:12:48.908675Z",
     "start_time": "2019-05-20T04:12:48.891608Z"
    }
   },
   "outputs": [
    {
     "data": {
      "text/plain": [
       "1Fam      1220\n",
       "TwnhsE     114\n",
       "Duplex      52\n",
       "Twnhs       43\n",
       "2fmCon      31\n",
       "Name: BldgType, dtype: int64"
      ]
     },
     "execution_count": 20,
     "metadata": {},
     "output_type": "execute_result"
    }
   ],
   "source": [
    "housing_v2['BldgType'].value_counts(dropna=False)"
   ]
  },
  {
   "cell_type": "code",
   "execution_count": 21,
   "metadata": {
    "ExecuteTime": {
     "end_time": "2019-05-20T04:12:52.822551Z",
     "start_time": "2019-05-20T04:12:52.803415Z"
    }
   },
   "outputs": [],
   "source": [
    "housing_v3 = housing_v2.copy()\n",
    "\n",
    "# Change Twnhs to TwnhsI\n",
    "\n",
    "housing_v3['BldgType'] = housing_v3['BldgType'].apply(lambda x: str(x)+'I' if x == 'Twnhs' else x)"
   ]
  },
  {
   "cell_type": "code",
   "execution_count": 22,
   "metadata": {
    "ExecuteTime": {
     "end_time": "2019-05-20T04:12:53.925400Z",
     "start_time": "2019-05-20T04:12:53.918447Z"
    }
   },
   "outputs": [
    {
     "data": {
      "text/plain": [
       "1Fam      1220\n",
       "TwnhsE     114\n",
       "Duplex      52\n",
       "TwnhsI      43\n",
       "2fmCon      31\n",
       "Name: BldgType, dtype: int64"
      ]
     },
     "execution_count": 22,
     "metadata": {},
     "output_type": "execute_result"
    }
   ],
   "source": [
    "housing_v3['BldgType'].value_counts(dropna=False)"
   ]
  },
  {
   "cell_type": "code",
   "execution_count": 23,
   "metadata": {
    "ExecuteTime": {
     "end_time": "2019-05-20T04:12:54.859852Z",
     "start_time": "2019-05-20T04:12:54.835052Z"
    }
   },
   "outputs": [
    {
     "data": {
      "text/plain": [
       "VinylSd    504\n",
       "MetalSd    214\n",
       "HdBoard    207\n",
       "Wd Sdng    197\n",
       "Plywood    142\n",
       "CmentBd     60\n",
       "Wd Shng     38\n",
       "Stucco      26\n",
       "BrkFace     25\n",
       "AsbShng     20\n",
       "ImStucc     10\n",
       "Brk Cmn      7\n",
       "Stone        5\n",
       "AsphShn      3\n",
       "Other        1\n",
       "CBlock       1\n",
       "Name: Exterior2nd, dtype: int64"
      ]
     },
     "execution_count": 23,
     "metadata": {},
     "output_type": "execute_result"
    }
   ],
   "source": [
    "housing_v3['Exterior2nd'].value_counts(dropna=False)"
   ]
  },
  {
   "cell_type": "code",
   "execution_count": 24,
   "metadata": {
    "ExecuteTime": {
     "end_time": "2019-05-20T04:12:57.003526Z",
     "start_time": "2019-05-20T04:12:56.986450Z"
    }
   },
   "outputs": [
    {
     "data": {
      "text/plain": [
       "VinylSd    515\n",
       "HdBoard    222\n",
       "MetalSd    220\n",
       "Wd Sdng    206\n",
       "Plywood    108\n",
       "CemntBd     61\n",
       "BrkFace     50\n",
       "WdShing     26\n",
       "Stucco      25\n",
       "AsbShng     20\n",
       "Stone        2\n",
       "BrkComm      2\n",
       "ImStucc      1\n",
       "AsphShn      1\n",
       "CBlock       1\n",
       "Name: Exterior1st, dtype: int64"
      ]
     },
     "execution_count": 24,
     "metadata": {},
     "output_type": "execute_result"
    }
   ],
   "source": [
    "housing_v3['Exterior1st'].value_counts(dropna=False)"
   ]
  },
  {
   "cell_type": "code",
   "execution_count": 25,
   "metadata": {
    "ExecuteTime": {
     "end_time": "2019-05-20T04:12:57.884956Z",
     "start_time": "2019-05-20T04:12:57.830262Z"
    }
   },
   "outputs": [
    {
     "data": {
      "text/plain": [
       "VinylSd    504\n",
       "MetalSd    214\n",
       "HdBoard    207\n",
       "Wd Sdng    197\n",
       "Plywood    142\n",
       "CemntBd     60\n",
       "WdShing     38\n",
       "Stucco      26\n",
       "BrkFace     25\n",
       "AsbShng     20\n",
       "ImStucc     10\n",
       "BrkComm      7\n",
       "Stone        5\n",
       "AsphShn      3\n",
       "Other        1\n",
       "CBlock       1\n",
       "Name: Exterior2nd, dtype: int64"
      ]
     },
     "execution_count": 25,
     "metadata": {},
     "output_type": "execute_result"
    }
   ],
   "source": [
    "housing_v3['Exterior2nd'] = housing_v3['Exterior2nd'].apply(lambda x: 'WdShing' if x == 'Wd Shng' else x)\n",
    "housing_v3['Exterior2nd'] = housing_v3['Exterior2nd'].apply(lambda x: 'CemntBd' if x == 'CmentBd' else x)\n",
    "housing_v3['Exterior2nd'] = housing_v3['Exterior2nd'].apply(lambda x: 'BrkComm' if x == 'Brk Cmn' else x)\n",
    "\n",
    "housing_v3['Exterior2nd'].value_counts(dropna=False)"
   ]
  },
  {
   "cell_type": "markdown",
   "metadata": {},
   "source": [
    "### Investigate MS SubClasses"
   ]
  },
  {
   "cell_type": "code",
   "execution_count": 26,
   "metadata": {
    "ExecuteTime": {
     "end_time": "2019-05-20T04:13:02.390665Z",
     "start_time": "2019-05-20T04:13:02.383082Z"
    }
   },
   "outputs": [],
   "source": [
    "# Check if subclasses are appropriate\n",
    "\n",
    "subclass_dict = {20: '1-STORY 1946 & NEWER ALL STYLES', \n",
    "                 30: '1-STORY 1945 & OLDER',\n",
    "                 40: '1-STORY W/FINISHED ATTIC ALL AGES',\n",
    "                 45: '1-1/2 STORY - UNFINISHED ALL AGES',\n",
    "                 50: '1-1/2 STORY FINISHED ALL AGES',\n",
    "                 60: '2-STORY 1946 & NEWER',\n",
    "                 70: '2-STORY 1945 & OLDER',\n",
    "                 75: '1-1/2 STORY ALL AGES',\n",
    "                 80: 'SPLIT OR MULTI-LEVEL',\n",
    "                 85: 'SPLIT FOYER',\n",
    "                 90: 'DUPLEX - ALL STYLES AND AGES',\n",
    "                 120: '1-STORY PUD (Planned Unit Development) - 1946 & NEWER',\n",
    "                 150: '1-1/2 STORY PUD - ALL AGES',\n",
    "                 160: '2-STORY PUD - 1946 & NEWER', \n",
    "                 180:'PUD - MULTILEVEL - INCL SPLIT LEV/FOYER',\n",
    "                 190: '2 FAMILY CONVERSION - ALL STYLES AND AGES'\n",
    "                }"
   ]
  },
  {
   "cell_type": "code",
   "execution_count": 27,
   "metadata": {
    "ExecuteTime": {
     "end_time": "2019-05-20T04:13:03.137282Z",
     "start_time": "2019-05-20T04:13:03.112293Z"
    }
   },
   "outputs": [
    {
     "data": {
      "text/plain": [
       "20     536\n",
       "60     299\n",
       "50     144\n",
       "120     87\n",
       "30      69\n",
       "160     63\n",
       "70      60\n",
       "80      58\n",
       "90      52\n",
       "190     30\n",
       "85      20\n",
       "75      16\n",
       "45      12\n",
       "180     10\n",
       "40       4\n",
       "Name: MSSubClass, dtype: int64"
      ]
     },
     "execution_count": 27,
     "metadata": {},
     "output_type": "execute_result"
    }
   ],
   "source": [
    "housing_v3['MSSubClass'].value_counts()"
   ]
  },
  {
   "cell_type": "code",
   "execution_count": 28,
   "metadata": {
    "ExecuteTime": {
     "end_time": "2019-05-20T04:13:05.077555Z",
     "start_time": "2019-05-20T04:13:05.066477Z"
    }
   },
   "outputs": [],
   "source": [
    "def get_subclass_summary(subclasses, df):\n",
    "    \n",
    "    for subclass in subclasses:\n",
    "        filtered_subclass = df[df['MSSubClass'] == subclass]\n",
    "        \n",
    "        print(subclass, subclass_dict[subclass])\n",
    "        print(\"Min. years houses built: {}\".format(filtered_subclass['YearBuilt'].min()))\n",
    "        print(\"Max. years houses built: {}\".format(filtered_subclass['YearBuilt'].max()))\n",
    "        print(\"\\n\")\n",
    "        print(filtered_subclass['BldgType'].value_counts())\n",
    "        print(\"\\n\")\n",
    "        print(filtered_subclass['HouseStyle'].value_counts())      \n",
    "        print(\"\\n\")"
   ]
  },
  {
   "cell_type": "code",
   "execution_count": 29,
   "metadata": {
    "ExecuteTime": {
     "end_time": "2019-05-20T04:13:06.148526Z",
     "start_time": "2019-05-20T04:13:06.043846Z"
    },
    "scrolled": false
   },
   "outputs": [
    {
     "name": "stdout",
     "output_type": "stream",
     "text": [
      "60 2-STORY 1946 & NEWER\n",
      "Min. years houses built: 1946\n",
      "Max. years houses built: 2009\n",
      "\n",
      "\n",
      "1Fam    299\n",
      "Name: BldgType, dtype: int64\n",
      "\n",
      "\n",
      "2Story    298\n",
      "SLvl        1\n",
      "Name: HouseStyle, dtype: int64\n",
      "\n",
      "\n",
      "20 1-STORY 1946 & NEWER ALL STYLES\n",
      "Min. years houses built: 1938\n",
      "Max. years houses built: 2010\n",
      "\n",
      "\n",
      "1Fam      535\n",
      "2fmCon      1\n",
      "Name: BldgType, dtype: int64\n",
      "\n",
      "\n",
      "1Story    534\n",
      "SLvl        1\n",
      "2Story      1\n",
      "Name: HouseStyle, dtype: int64\n",
      "\n",
      "\n",
      "70 2-STORY 1945 & OLDER\n",
      "Min. years houses built: 1872\n",
      "Max. years houses built: 1945\n",
      "\n",
      "\n",
      "1Fam    60\n",
      "Name: BldgType, dtype: int64\n",
      "\n",
      "\n",
      "2Story    59\n",
      "2.5Fin     1\n",
      "Name: HouseStyle, dtype: int64\n",
      "\n",
      "\n",
      "50 1-1/2 STORY FINISHED ALL AGES\n",
      "Min. years houses built: 1875\n",
      "Max. years houses built: 2003\n",
      "\n",
      "\n",
      "1Fam    144\n",
      "Name: BldgType, dtype: int64\n",
      "\n",
      "\n",
      "1.5Fin    141\n",
      "2Story      3\n",
      "Name: HouseStyle, dtype: int64\n",
      "\n",
      "\n",
      "190 2 FAMILY CONVERSION - ALL STYLES AND AGES\n",
      "Min. years houses built: 1885\n",
      "Max. years houses built: 1970\n",
      "\n",
      "\n",
      "2fmCon    30\n",
      "Name: BldgType, dtype: int64\n",
      "\n",
      "\n",
      "2Story    11\n",
      "1.5Fin     8\n",
      "1Story     6\n",
      "2.5Unf     2\n",
      "SLvl       1\n",
      "2.5Fin     1\n",
      "1.5Unf     1\n",
      "Name: HouseStyle, dtype: int64\n",
      "\n",
      "\n",
      "45 1-1/2 STORY - UNFINISHED ALL AGES\n",
      "Min. years houses built: 1922\n",
      "Max. years houses built: 1956\n",
      "\n",
      "\n",
      "1Fam    12\n",
      "Name: BldgType, dtype: int64\n",
      "\n",
      "\n",
      "1.5Unf    12\n",
      "Name: HouseStyle, dtype: int64\n",
      "\n",
      "\n",
      "90 DUPLEX - ALL STYLES AND AGES\n",
      "Min. years houses built: 1900\n",
      "Max. years houses built: 1997\n",
      "\n",
      "\n",
      "Duplex    52\n",
      "Name: BldgType, dtype: int64\n",
      "\n",
      "\n",
      "1Story    29\n",
      "SFoyer     9\n",
      "2Story     9\n",
      "1.5Fin     4\n",
      "SLvl       1\n",
      "Name: HouseStyle, dtype: int64\n",
      "\n",
      "\n",
      "120 1-STORY PUD (Planned Unit Development) - 1946 & NEWER\n",
      "Min. years houses built: 1976\n",
      "Max. years houses built: 2009\n",
      "\n",
      "\n",
      "TwnhsE    79\n",
      "TwnhsI     5\n",
      "1Fam       3\n",
      "Name: BldgType, dtype: int64\n",
      "\n",
      "\n",
      "1Story    86\n",
      "SFoyer     1\n",
      "Name: HouseStyle, dtype: int64\n",
      "\n",
      "\n",
      "30 1-STORY 1945 & OLDER\n",
      "Min. years houses built: 1885\n",
      "Max. years houses built: 1948\n",
      "\n",
      "\n",
      "1Fam    69\n",
      "Name: BldgType, dtype: int64\n",
      "\n",
      "\n",
      "1Story    67\n",
      "1.5Fin     1\n",
      "1.5Unf     1\n",
      "Name: HouseStyle, dtype: int64\n",
      "\n",
      "\n",
      "85 SPLIT FOYER\n",
      "Min. years houses built: 1961\n",
      "Max. years houses built: 2003\n",
      "\n",
      "\n",
      "1Fam    20\n",
      "Name: BldgType, dtype: int64\n",
      "\n",
      "\n",
      "SFoyer    20\n",
      "Name: HouseStyle, dtype: int64\n",
      "\n",
      "\n",
      "80 SPLIT OR MULTI-LEVEL\n",
      "Min. years houses built: 1955\n",
      "Max. years houses built: 2006\n",
      "\n",
      "\n",
      "1Fam    58\n",
      "Name: BldgType, dtype: int64\n",
      "\n",
      "\n",
      "SLvl    58\n",
      "Name: HouseStyle, dtype: int64\n",
      "\n",
      "\n",
      "160 2-STORY PUD - 1946 & NEWER\n",
      "Min. years houses built: 1970\n",
      "Max. years houses built: 2009\n",
      "\n",
      "\n",
      "TwnhsI    33\n",
      "TwnhsE    30\n",
      "Name: BldgType, dtype: int64\n",
      "\n",
      "\n",
      "2Story    63\n",
      "Name: HouseStyle, dtype: int64\n",
      "\n",
      "\n",
      "75 1-1/2 STORY ALL AGES\n",
      "Min. years houses built: 1880\n",
      "Max. years houses built: 1941\n",
      "\n",
      "\n",
      "1Fam    16\n",
      "Name: BldgType, dtype: int64\n",
      "\n",
      "\n",
      "2.5Unf    9\n",
      "2.5Fin    6\n",
      "2Story    1\n",
      "Name: HouseStyle, dtype: int64\n",
      "\n",
      "\n",
      "180 PUD - MULTILEVEL - INCL SPLIT LEV/FOYER\n",
      "Min. years houses built: 1970\n",
      "Max. years houses built: 2005\n",
      "\n",
      "\n",
      "TwnhsI    5\n",
      "TwnhsE    5\n",
      "Name: BldgType, dtype: int64\n",
      "\n",
      "\n",
      "SFoyer    7\n",
      "SLvl      3\n",
      "Name: HouseStyle, dtype: int64\n",
      "\n",
      "\n",
      "40 1-STORY W/FINISHED ATTIC ALL AGES\n",
      "Min. years houses built: 1926\n",
      "Max. years houses built: 1979\n",
      "\n",
      "\n",
      "1Fam    4\n",
      "Name: BldgType, dtype: int64\n",
      "\n",
      "\n",
      "1Story    4\n",
      "Name: HouseStyle, dtype: int64\n",
      "\n",
      "\n"
     ]
    }
   ],
   "source": [
    "get_subclass_summary(housing_v3['MSSubClass'].unique().tolist(), housing_v3)"
   ]
  },
  {
   "cell_type": "markdown",
   "metadata": {},
   "source": [
    "A large number of `MSSubClass` appear to be assigned incorrectly based on `HouseStyle` and `BldgType`. It would be easier to just reassign all of `MSSubClass` instead of finding each wrongly assigned one and correcting it."
   ]
  },
  {
   "cell_type": "code",
   "execution_count": 30,
   "metadata": {
    "ExecuteTime": {
     "end_time": "2019-05-20T04:13:10.952828Z",
     "start_time": "2019-05-20T04:13:10.855639Z"
    }
   },
   "outputs": [],
   "source": [
    "def reassign_subclass(x):\n",
    "    \n",
    "    if x['BldgType'] == '1Fam' and x['HouseStyle'] == '1Story' and x['YearBuilt'] > 1945 and x['MSSubClass'] != 40:\n",
    "        return 20 #1-STORY 1946 & NEWER ALL STYLES\n",
    "    elif x['BldgType'] == '1Fam' and x['HouseStyle'] == '1Story' and x['YearBuilt'] <= 1945 and x['MSSubClass'] != 40:\n",
    "        return 30 #1-STORY 1945 & OLDER\n",
    "    elif x['MSSubClass'] == 40:\n",
    "        return 40 #1-STORY W/FINISHED ATTIC ALL AGES\n",
    "    elif x['BldgType'] == '1Fam' and x['HouseStyle'] == '1.5Unf':\n",
    "        return 45 #1-1/2 STORY - UNFINISHED ALL AGES\n",
    "    elif x['BldgType'] == '1Fam' and x['HouseStyle'] == '1.5Fin':\n",
    "        return 50 #1-1/2 STORY FINISHED ALL AGES\n",
    "    elif x['BldgType'] == '1Fam' and x['HouseStyle'] == '2Story' and x['YearBuilt'] > 1945:\n",
    "        return 60 #2-STORY 1946 & NEWER\n",
    "    elif x['BldgType'] == '1Fam' and x['HouseStyle'] == '2Story' and x['YearBuilt'] <= 1945:\n",
    "        return 70 #2-STORY 1945 & OLDER\n",
    "    elif x['BldgType'] == '1Fam' and (x['HouseStyle'] == '2.5Unf' or x['HouseStyle'] == '2.5Fin'):\n",
    "        return 75 #2-1/2 STORY ALL AGES\n",
    "    elif x['BldgType'] == '1Fam' and x['HouseStyle'] == 'SLvl':\n",
    "        return 80 #SPLIT OR MULTI-LEVEL\n",
    "    elif x['BldgType'] == '1Fam' and x['HouseStyle'] == 'SFoyer':\n",
    "        return 85 #SPLIT FOYER\n",
    "    elif x['BldgType'] == 'Duplex':\n",
    "        return 90 #DUPLEX - ALL STYLES AND AGES\n",
    "    elif (x['BldgType'] == 'TwnhsE' or x['BldgType'] == 'TwnhsI') and x['HouseStyle'] == '1Story' and x['YearBuilt'] > 1945:\n",
    "        return 120 #1-STORY PUD (Planned Unit Development) - 1946 & NEWER\n",
    "    elif (x['BldgType'] == 'TwnhsE' or x['BldgType'] == 'TwnhsI') and (x['HouseStyle'] == '1.5Fin' or x['HouseStyle'] == '1.5Unf'):\n",
    "        return 150 #1-1/2 STORY PUD - ALL AGES\n",
    "    elif (x['BldgType'] == 'TwnhsE' or x['BldgType'] == 'TwnhsI') and x['HouseStyle'] == '2Story' and x['YearBuilt'] > 1945:\n",
    "        return 160 #2-STORY PUD - 1946 & NEWER\n",
    "    elif (x['BldgType'] == 'TwnhsE' or x['BldgType'] == 'TwnhsI') and (x['HouseStyle'] == 'SLvl' or x['HouseStyle'] == 'SFoyer') and x['YearBuilt'] > 1945:\n",
    "        return 180 #PUD - MULTILEVEL - INCL SPLIT LEV/FOYER\n",
    "    elif x['BldgType'] == '2fmCon':\n",
    "        return 190 #2 FAMILY CONVERSION - ALL STYLES AND AGES\n",
    "    else:\n",
    "        return np.nan"
   ]
  },
  {
   "cell_type": "code",
   "execution_count": 31,
   "metadata": {
    "ExecuteTime": {
     "end_time": "2019-05-20T04:13:13.027433Z",
     "start_time": "2019-05-20T04:13:12.914587Z"
    }
   },
   "outputs": [],
   "source": [
    "housing_v3['MSSubClass_fix'] = housing_v3.apply(reassign_subclass, axis=1)"
   ]
  },
  {
   "cell_type": "code",
   "execution_count": 32,
   "metadata": {
    "ExecuteTime": {
     "end_time": "2019-05-20T04:13:13.607300Z",
     "start_time": "2019-05-20T04:13:13.586226Z"
    }
   },
   "outputs": [
    {
     "data": {
      "text/plain": [
       "20     536\n",
       "60     299\n",
       "50     142\n",
       "120     83\n",
       "30      67\n",
       "160     63\n",
       "70      63\n",
       "80      60\n",
       "90      52\n",
       "190     31\n",
       "85      20\n",
       "75      16\n",
       "45      13\n",
       "180     11\n",
       "40       4\n",
       "Name: MSSubClass_fix, dtype: int64"
      ]
     },
     "execution_count": 32,
     "metadata": {},
     "output_type": "execute_result"
    }
   ],
   "source": [
    "# CHeck reassignment for NaN values\n",
    "\n",
    "housing_v3['MSSubClass_fix'].value_counts(dropna=False)"
   ]
  },
  {
   "cell_type": "code",
   "execution_count": 33,
   "metadata": {
    "ExecuteTime": {
     "end_time": "2019-05-20T04:13:16.865446Z",
     "start_time": "2019-05-20T04:13:16.850092Z"
    }
   },
   "outputs": [
    {
     "data": {
      "text/html": [
       "<div>\n",
       "<style scoped>\n",
       "    .dataframe tbody tr th:only-of-type {\n",
       "        vertical-align: middle;\n",
       "    }\n",
       "\n",
       "    .dataframe tbody tr th {\n",
       "        vertical-align: top;\n",
       "    }\n",
       "\n",
       "    .dataframe thead th {\n",
       "        text-align: right;\n",
       "    }\n",
       "</style>\n",
       "<table border=\"1\" class=\"dataframe\">\n",
       "  <thead>\n",
       "    <tr style=\"text-align: right;\">\n",
       "      <th></th>\n",
       "      <th>MSSubClass</th>\n",
       "      <th>MSSubClass_fix</th>\n",
       "    </tr>\n",
       "    <tr>\n",
       "      <th>Id</th>\n",
       "      <th></th>\n",
       "      <th></th>\n",
       "    </tr>\n",
       "  </thead>\n",
       "  <tbody>\n",
       "    <tr>\n",
       "      <th>75</th>\n",
       "      <td>50</td>\n",
       "      <td>70</td>\n",
       "    </tr>\n",
       "    <tr>\n",
       "      <th>80</th>\n",
       "      <td>50</td>\n",
       "      <td>70</td>\n",
       "    </tr>\n",
       "    <tr>\n",
       "      <th>198</th>\n",
       "      <td>75</td>\n",
       "      <td>70</td>\n",
       "    </tr>\n",
       "    <tr>\n",
       "      <th>352</th>\n",
       "      <td>120</td>\n",
       "      <td>20</td>\n",
       "    </tr>\n",
       "    <tr>\n",
       "      <th>544</th>\n",
       "      <td>120</td>\n",
       "      <td>180</td>\n",
       "    </tr>\n",
       "    <tr>\n",
       "      <th>608</th>\n",
       "      <td>20</td>\n",
       "      <td>60</td>\n",
       "    </tr>\n",
       "    <tr>\n",
       "      <th>683</th>\n",
       "      <td>120</td>\n",
       "      <td>20</td>\n",
       "    </tr>\n",
       "    <tr>\n",
       "      <th>721</th>\n",
       "      <td>120</td>\n",
       "      <td>20</td>\n",
       "    </tr>\n",
       "    <tr>\n",
       "      <th>730</th>\n",
       "      <td>30</td>\n",
       "      <td>50</td>\n",
       "    </tr>\n",
       "    <tr>\n",
       "      <th>822</th>\n",
       "      <td>20</td>\n",
       "      <td>190</td>\n",
       "    </tr>\n",
       "    <tr>\n",
       "      <th>837</th>\n",
       "      <td>30</td>\n",
       "      <td>20</td>\n",
       "    </tr>\n",
       "    <tr>\n",
       "      <th>945</th>\n",
       "      <td>20</td>\n",
       "      <td>80</td>\n",
       "    </tr>\n",
       "    <tr>\n",
       "      <th>1333</th>\n",
       "      <td>20</td>\n",
       "      <td>30</td>\n",
       "    </tr>\n",
       "    <tr>\n",
       "      <th>1440</th>\n",
       "      <td>60</td>\n",
       "      <td>80</td>\n",
       "    </tr>\n",
       "    <tr>\n",
       "      <th>1441</th>\n",
       "      <td>70</td>\n",
       "      <td>75</td>\n",
       "    </tr>\n",
       "    <tr>\n",
       "      <th>1444</th>\n",
       "      <td>30</td>\n",
       "      <td>45</td>\n",
       "    </tr>\n",
       "    <tr>\n",
       "      <th>1449</th>\n",
       "      <td>50</td>\n",
       "      <td>70</td>\n",
       "    </tr>\n",
       "  </tbody>\n",
       "</table>\n",
       "</div>"
      ],
      "text/plain": [
       "      MSSubClass  MSSubClass_fix\n",
       "Id                              \n",
       "75            50              70\n",
       "80            50              70\n",
       "198           75              70\n",
       "352          120              20\n",
       "544          120             180\n",
       "608           20              60\n",
       "683          120              20\n",
       "721          120              20\n",
       "730           30              50\n",
       "822           20             190\n",
       "837           30              20\n",
       "945           20              80\n",
       "1333          20              30\n",
       "1440          60              80\n",
       "1441          70              75\n",
       "1444          30              45\n",
       "1449          50              70"
      ]
     },
     "execution_count": 33,
     "metadata": {},
     "output_type": "execute_result"
    }
   ],
   "source": [
    "# Show changed MSSubClasses\n",
    "\n",
    "housing_v3[housing_v3['MSSubClass'] != housing_v3['MSSubClass_fix']][['MSSubClass', 'MSSubClass_fix']]"
   ]
  },
  {
   "cell_type": "markdown",
   "metadata": {},
   "source": [
    "### Investigate numeric null values"
   ]
  },
  {
   "cell_type": "code",
   "execution_count": 34,
   "metadata": {
    "ExecuteTime": {
     "end_time": "2019-05-20T04:13:21.971770Z",
     "start_time": "2019-05-20T04:13:21.931187Z"
    }
   },
   "outputs": [
    {
     "data": {
      "text/plain": [
       "LotFrontage    259\n",
       "GarageYrBlt     81\n",
       "dtype: int64"
      ]
     },
     "execution_count": 34,
     "metadata": {},
     "output_type": "execute_result"
    }
   ],
   "source": [
    "houses_numeric = housing_v3.select_dtypes(include='number')\n",
    "\n",
    "houses_numeric.isnull().sum()[houses_numeric.isnull().sum() > 0]"
   ]
  },
  {
   "cell_type": "markdown",
   "metadata": {},
   "source": [
    "#### `NaN` in `GarageYrBlt`\n",
    "\n",
    "Let's look at garages first. Do `NaN` values in `GarageYrBlt` mean that these houses have no garages?"
   ]
  },
  {
   "cell_type": "code",
   "execution_count": 35,
   "metadata": {
    "ExecuteTime": {
     "end_time": "2019-05-20T04:13:23.728494Z",
     "start_time": "2019-05-20T04:13:23.721098Z"
    }
   },
   "outputs": [
    {
     "data": {
      "text/plain": [
       "NaN    81\n",
       "Name: GarageType, dtype: int64"
      ]
     },
     "execution_count": 35,
     "metadata": {},
     "output_type": "execute_result"
    }
   ],
   "source": [
    "# Use GarageType column to determine if houses have a garage\n",
    "\n",
    "housing_v3[housing_v3['GarageYrBlt'].isnull()]['GarageType'].value_counts(dropna=False)"
   ]
  },
  {
   "cell_type": "markdown",
   "metadata": {},
   "source": [
    "All `NaN` values in `GarageYrBlt` correspond to houses that have no garage. Future wrangling of garage data may need to keep this in mind. \n",
    "\n",
    "#### `NaN` in `LotFrontage`\n",
    "\n",
    "`LotFrontage` is defined in the data descrption as linear feet of street connected to property and has 259 `NaN` values. "
   ]
  },
  {
   "cell_type": "code",
   "execution_count": 36,
   "metadata": {
    "ExecuteTime": {
     "end_time": "2019-05-20T04:13:36.749852Z",
     "start_time": "2019-05-20T04:13:36.745577Z"
    }
   },
   "outputs": [
    {
     "data": {
      "text/plain": [
       "21.0"
      ]
     },
     "execution_count": 36,
     "metadata": {},
     "output_type": "execute_result"
    }
   ],
   "source": [
    "# What is the minimum value for LotFrontage in the dataset?\n",
    "\n",
    "housing_v3['LotFrontage'].min()"
   ]
  },
  {
   "cell_type": "markdown",
   "metadata": {},
   "source": [
    "It is not clear if `NaN` in `LotFrontage` means that there is no lot frontage or if this value was not recorded. There are a few features in the dataset to detemine if this is possible:\n",
    "\n",
    "- `LotConfig` indicates if the lot has any frontage\n",
    "- `Street` and `Alley` indicates the type of roads that are accessible to the property\n",
    "- `MSZoning` and `MSSubClass` summarises the type of house and the zone the house is in."
   ]
  },
  {
   "cell_type": "code",
   "execution_count": 37,
   "metadata": {
    "ExecuteTime": {
     "end_time": "2019-05-20T04:13:38.635808Z",
     "start_time": "2019-05-20T04:13:38.627889Z"
    }
   },
   "outputs": [
    {
     "data": {
      "text/plain": [
       "Inside     134\n",
       "Corner      62\n",
       "CulDSac     49\n",
       "FR2         14\n",
       "Name: LotConfig, dtype: int64"
      ]
     },
     "execution_count": 37,
     "metadata": {},
     "output_type": "execute_result"
    }
   ],
   "source": [
    "nan_lotfront = housing_v3[housing_v3['LotFrontage'].isnull()]\n",
    "\n",
    "nan_lotfront['LotConfig'].value_counts(dropna=False)"
   ]
  },
  {
   "cell_type": "code",
   "execution_count": 38,
   "metadata": {
    "ExecuteTime": {
     "end_time": "2019-05-20T04:13:39.446991Z",
     "start_time": "2019-05-20T04:13:39.438798Z"
    }
   },
   "outputs": [
    {
     "data": {
      "text/plain": [
       "Pave    258\n",
       "Grvl      1\n",
       "Name: Street, dtype: int64"
      ]
     },
     "execution_count": 38,
     "metadata": {},
     "output_type": "execute_result"
    }
   ],
   "source": [
    "nan_lotfront['Street'].value_counts(dropna=False)"
   ]
  },
  {
   "cell_type": "code",
   "execution_count": 39,
   "metadata": {
    "ExecuteTime": {
     "end_time": "2019-05-20T04:13:41.490678Z",
     "start_time": "2019-05-20T04:13:41.479748Z"
    }
   },
   "outputs": [
    {
     "data": {
      "text/plain": [
       "NaN     254\n",
       "Grvl      3\n",
       "Pave      2\n",
       "Name: Alley, dtype: int64"
      ]
     },
     "execution_count": 39,
     "metadata": {},
     "output_type": "execute_result"
    }
   ],
   "source": [
    "nan_lotfront['Alley'].value_counts(dropna=False)"
   ]
  },
  {
   "cell_type": "code",
   "execution_count": 40,
   "metadata": {
    "ExecuteTime": {
     "end_time": "2019-05-20T04:13:42.207814Z",
     "start_time": "2019-05-20T04:13:42.187409Z"
    }
   },
   "outputs": [
    {
     "data": {
      "text/plain": [
       "RL    229\n",
       "RM     19\n",
       "FV      8\n",
       "RH      3\n",
       "Name: MSZoning, dtype: int64"
      ]
     },
     "execution_count": 40,
     "metadata": {},
     "output_type": "execute_result"
    }
   ],
   "source": [
    "nan_lotfront['MSZoning'].value_counts(dropna=False)"
   ]
  },
  {
   "cell_type": "code",
   "execution_count": 41,
   "metadata": {
    "ExecuteTime": {
     "end_time": "2019-05-20T04:13:42.910263Z",
     "start_time": "2019-05-20T04:13:42.886645Z"
    }
   },
   "outputs": [
    {
     "data": {
      "text/plain": [
       "20     99\n",
       "60     69\n",
       "120    20\n",
       "80     20\n",
       "50     16\n",
       "160     8\n",
       "85      6\n",
       "30      6\n",
       "90      5\n",
       "70      5\n",
       "190     3\n",
       "75      1\n",
       "40      1\n",
       "Name: MSSubClass, dtype: int64"
      ]
     },
     "execution_count": 41,
     "metadata": {},
     "output_type": "execute_result"
    }
   ],
   "source": [
    "nan_lotfront['MSSubClass'].value_counts(dropna=False)"
   ]
  },
  {
   "cell_type": "markdown",
   "metadata": {},
   "source": [
    "Houses with `NaN` `LotFrontage` tend to be residential standalone houses accessible by road. `LotConfig` value indicates that there should be some kind of frontage for all of these houses, so there is no reason why these `NaN` values exist. \n",
    "\n",
    "__What assumptions can we make to impute__ `NaN` __values in__ `LotFrontage`__? Is it reasonable to assume building types in the same neighbourhood have similar lots?__"
   ]
  },
  {
   "cell_type": "code",
   "execution_count": 42,
   "metadata": {
    "ExecuteTime": {
     "end_time": "2019-05-20T04:13:45.824692Z",
     "start_time": "2019-05-20T04:13:45.783486Z"
    }
   },
   "outputs": [
    {
     "data": {
      "text/html": [
       "<div>\n",
       "<style scoped>\n",
       "    .dataframe tbody tr th:only-of-type {\n",
       "        vertical-align: middle;\n",
       "    }\n",
       "\n",
       "    .dataframe tbody tr th {\n",
       "        vertical-align: top;\n",
       "    }\n",
       "\n",
       "    .dataframe thead th {\n",
       "        text-align: right;\n",
       "    }\n",
       "</style>\n",
       "<table border=\"1\" class=\"dataframe\">\n",
       "  <thead>\n",
       "    <tr style=\"text-align: right;\">\n",
       "      <th></th>\n",
       "      <th></th>\n",
       "      <th>count</th>\n",
       "      <th>mean</th>\n",
       "      <th>std</th>\n",
       "      <th>median</th>\n",
       "      <th>amin</th>\n",
       "      <th>amax</th>\n",
       "    </tr>\n",
       "    <tr>\n",
       "      <th>Neighborhood</th>\n",
       "      <th>BldgType</th>\n",
       "      <th></th>\n",
       "      <th></th>\n",
       "      <th></th>\n",
       "      <th></th>\n",
       "      <th></th>\n",
       "      <th></th>\n",
       "    </tr>\n",
       "  </thead>\n",
       "  <tbody>\n",
       "    <tr>\n",
       "      <th rowspan=\"2\" valign=\"top\">Blmngtn</th>\n",
       "      <th>1Fam</th>\n",
       "      <td>1</td>\n",
       "      <td>43.000000</td>\n",
       "      <td>NaN</td>\n",
       "      <td>43.0</td>\n",
       "      <td>43.0</td>\n",
       "      <td>43.0</td>\n",
       "    </tr>\n",
       "    <tr>\n",
       "      <th>TwnhsE</th>\n",
       "      <td>13</td>\n",
       "      <td>47.461538</td>\n",
       "      <td>5.043401</td>\n",
       "      <td>43.0</td>\n",
       "      <td>43.0</td>\n",
       "      <td>53.0</td>\n",
       "    </tr>\n",
       "    <tr>\n",
       "      <th rowspan=\"2\" valign=\"top\">Blueste</th>\n",
       "      <th>TwnhsE</th>\n",
       "      <td>1</td>\n",
       "      <td>24.000000</td>\n",
       "      <td>NaN</td>\n",
       "      <td>24.0</td>\n",
       "      <td>24.0</td>\n",
       "      <td>24.0</td>\n",
       "    </tr>\n",
       "    <tr>\n",
       "      <th>TwnhsI</th>\n",
       "      <td>1</td>\n",
       "      <td>24.000000</td>\n",
       "      <td>NaN</td>\n",
       "      <td>24.0</td>\n",
       "      <td>24.0</td>\n",
       "      <td>24.0</td>\n",
       "    </tr>\n",
       "    <tr>\n",
       "      <th>BrDale</th>\n",
       "      <th>TwnhsE</th>\n",
       "      <td>4</td>\n",
       "      <td>23.250000</td>\n",
       "      <td>1.500000</td>\n",
       "      <td>24.0</td>\n",
       "      <td>21.0</td>\n",
       "      <td>24.0</td>\n",
       "    </tr>\n",
       "  </tbody>\n",
       "</table>\n",
       "</div>"
      ],
      "text/plain": [
       "                       count       mean       std  median  amin  amax\n",
       "Neighborhood BldgType                                                \n",
       "Blmngtn      1Fam          1  43.000000       NaN    43.0  43.0  43.0\n",
       "             TwnhsE       13  47.461538  5.043401    43.0  43.0  53.0\n",
       "Blueste      TwnhsE        1  24.000000       NaN    24.0  24.0  24.0\n",
       "             TwnhsI        1  24.000000       NaN    24.0  24.0  24.0\n",
       "BrDale       TwnhsE        4  23.250000  1.500000    24.0  21.0  24.0"
      ]
     },
     "execution_count": 42,
     "metadata": {},
     "output_type": "execute_result"
    }
   ],
   "source": [
    "# Calculate stats for LotFrontage when houses are grouped by neighbourhood and building type \n",
    "\n",
    "neig_bldgtype_stats = housing_v3.groupby(['Neighborhood', 'BldgType'])['LotFrontage'].agg(['count', np.mean, np.std, np.median, np.min, np.max])\n",
    "\n",
    "neig_bldgtype_stats.head()"
   ]
  },
  {
   "cell_type": "code",
   "execution_count": 43,
   "metadata": {
    "ExecuteTime": {
     "end_time": "2019-05-20T04:13:46.655313Z",
     "start_time": "2019-05-20T04:13:46.609864Z"
    }
   },
   "outputs": [
    {
     "data": {
      "text/html": [
       "<div>\n",
       "<style scoped>\n",
       "    .dataframe tbody tr th:only-of-type {\n",
       "        vertical-align: middle;\n",
       "    }\n",
       "\n",
       "    .dataframe tbody tr th {\n",
       "        vertical-align: top;\n",
       "    }\n",
       "\n",
       "    .dataframe thead th {\n",
       "        text-align: right;\n",
       "    }\n",
       "</style>\n",
       "<table border=\"1\" class=\"dataframe\">\n",
       "  <thead>\n",
       "    <tr style=\"text-align: right;\">\n",
       "      <th></th>\n",
       "      <th></th>\n",
       "      <th>Num_nan_front</th>\n",
       "      <th>Num_all</th>\n",
       "      <th>perc_nan_front</th>\n",
       "    </tr>\n",
       "    <tr>\n",
       "      <th>Neighborhood</th>\n",
       "      <th>BldgType</th>\n",
       "      <th></th>\n",
       "      <th></th>\n",
       "      <th></th>\n",
       "    </tr>\n",
       "  </thead>\n",
       "  <tbody>\n",
       "    <tr>\n",
       "      <th>Mitchel</th>\n",
       "      <th>2fmCon</th>\n",
       "      <td>1</td>\n",
       "      <td>1</td>\n",
       "      <td>100.000000</td>\n",
       "    </tr>\n",
       "    <tr>\n",
       "      <th>Timber</th>\n",
       "      <th>2fmCon</th>\n",
       "      <td>1</td>\n",
       "      <td>1</td>\n",
       "      <td>100.000000</td>\n",
       "    </tr>\n",
       "    <tr>\n",
       "      <th>CollgCr</th>\n",
       "      <th>TwnhsE</th>\n",
       "      <td>7</td>\n",
       "      <td>10</td>\n",
       "      <td>70.000000</td>\n",
       "    </tr>\n",
       "    <tr>\n",
       "      <th>ClearCr</th>\n",
       "      <th>1Fam</th>\n",
       "      <td>15</td>\n",
       "      <td>28</td>\n",
       "      <td>53.571429</td>\n",
       "    </tr>\n",
       "    <tr>\n",
       "      <th>NWAmes</th>\n",
       "      <th>Duplex</th>\n",
       "      <td>1</td>\n",
       "      <td>2</td>\n",
       "      <td>50.000000</td>\n",
       "    </tr>\n",
       "    <tr>\n",
       "      <th>Veenker</th>\n",
       "      <th>1Fam</th>\n",
       "      <td>4</td>\n",
       "      <td>8</td>\n",
       "      <td>50.000000</td>\n",
       "    </tr>\n",
       "    <tr>\n",
       "      <th>Gilbert</th>\n",
       "      <th>1Fam</th>\n",
       "      <td>30</td>\n",
       "      <td>78</td>\n",
       "      <td>38.461538</td>\n",
       "    </tr>\n",
       "    <tr>\n",
       "      <th>NWAmes</th>\n",
       "      <th>1Fam</th>\n",
       "      <td>27</td>\n",
       "      <td>71</td>\n",
       "      <td>38.028169</td>\n",
       "    </tr>\n",
       "    <tr>\n",
       "      <th>Sawyer</th>\n",
       "      <th>1Fam</th>\n",
       "      <td>25</td>\n",
       "      <td>67</td>\n",
       "      <td>37.313433</td>\n",
       "    </tr>\n",
       "    <tr>\n",
       "      <th>NPkVill</th>\n",
       "      <th>TwnhsE</th>\n",
       "      <td>2</td>\n",
       "      <td>6</td>\n",
       "      <td>33.333333</td>\n",
       "    </tr>\n",
       "    <tr>\n",
       "      <th>SWISU</th>\n",
       "      <th>2fmCon</th>\n",
       "      <td>1</td>\n",
       "      <td>3</td>\n",
       "      <td>33.333333</td>\n",
       "    </tr>\n",
       "    <tr>\n",
       "      <th>StoneBr</th>\n",
       "      <th>TwnhsE</th>\n",
       "      <td>4</td>\n",
       "      <td>12</td>\n",
       "      <td>33.333333</td>\n",
       "    </tr>\n",
       "    <tr>\n",
       "      <th>Somerst</th>\n",
       "      <th>TwnhsI</th>\n",
       "      <td>3</td>\n",
       "      <td>9</td>\n",
       "      <td>33.333333</td>\n",
       "    </tr>\n",
       "    <tr>\n",
       "      <th rowspan=\"2\" valign=\"top\">Mitchel</th>\n",
       "      <th>TwnhsE</th>\n",
       "      <td>1</td>\n",
       "      <td>3</td>\n",
       "      <td>33.333333</td>\n",
       "    </tr>\n",
       "    <tr>\n",
       "      <th>1Fam</th>\n",
       "      <td>11</td>\n",
       "      <td>36</td>\n",
       "      <td>30.555556</td>\n",
       "    </tr>\n",
       "    <tr>\n",
       "      <th>Crawfor</th>\n",
       "      <th>1Fam</th>\n",
       "      <td>10</td>\n",
       "      <td>45</td>\n",
       "      <td>22.222222</td>\n",
       "    </tr>\n",
       "    <tr>\n",
       "      <th>MeadowV</th>\n",
       "      <th>TwnhsE</th>\n",
       "      <td>2</td>\n",
       "      <td>10</td>\n",
       "      <td>20.000000</td>\n",
       "    </tr>\n",
       "    <tr>\n",
       "      <th>NoRidge</th>\n",
       "      <th>1Fam</th>\n",
       "      <td>8</td>\n",
       "      <td>41</td>\n",
       "      <td>19.512195</td>\n",
       "    </tr>\n",
       "    <tr>\n",
       "      <th>SawyerW</th>\n",
       "      <th>1Fam</th>\n",
       "      <td>9</td>\n",
       "      <td>47</td>\n",
       "      <td>19.148936</td>\n",
       "    </tr>\n",
       "    <tr>\n",
       "      <th>Timber</th>\n",
       "      <th>1Fam</th>\n",
       "      <td>7</td>\n",
       "      <td>37</td>\n",
       "      <td>18.918919</td>\n",
       "    </tr>\n",
       "    <tr>\n",
       "      <th>Blmngtn</th>\n",
       "      <th>TwnhsE</th>\n",
       "      <td>3</td>\n",
       "      <td>16</td>\n",
       "      <td>18.750000</td>\n",
       "    </tr>\n",
       "    <tr>\n",
       "      <th rowspan=\"2\" valign=\"top\">NAmes</th>\n",
       "      <th>Duplex</th>\n",
       "      <td>3</td>\n",
       "      <td>17</td>\n",
       "      <td>17.647059</td>\n",
       "    </tr>\n",
       "    <tr>\n",
       "      <th>1Fam</th>\n",
       "      <td>36</td>\n",
       "      <td>205</td>\n",
       "      <td>17.560976</td>\n",
       "    </tr>\n",
       "    <tr>\n",
       "      <th>Sawyer</th>\n",
       "      <th>Duplex</th>\n",
       "      <td>1</td>\n",
       "      <td>6</td>\n",
       "      <td>16.666667</td>\n",
       "    </tr>\n",
       "    <tr>\n",
       "      <th>BrkSide</th>\n",
       "      <th>1Fam</th>\n",
       "      <td>7</td>\n",
       "      <td>56</td>\n",
       "      <td>12.500000</td>\n",
       "    </tr>\n",
       "    <tr>\n",
       "      <th>CollgCr</th>\n",
       "      <th>1Fam</th>\n",
       "      <td>17</td>\n",
       "      <td>140</td>\n",
       "      <td>12.142857</td>\n",
       "    </tr>\n",
       "    <tr>\n",
       "      <th>Somerst</th>\n",
       "      <th>TwnhsE</th>\n",
       "      <td>2</td>\n",
       "      <td>18</td>\n",
       "      <td>11.111111</td>\n",
       "    </tr>\n",
       "    <tr>\n",
       "      <th>Edwards</th>\n",
       "      <th>1Fam</th>\n",
       "      <td>8</td>\n",
       "      <td>81</td>\n",
       "      <td>9.876543</td>\n",
       "    </tr>\n",
       "    <tr>\n",
       "      <th>IDOTRR</th>\n",
       "      <th>1Fam</th>\n",
       "      <td>3</td>\n",
       "      <td>34</td>\n",
       "      <td>8.823529</td>\n",
       "    </tr>\n",
       "    <tr>\n",
       "      <th>StoneBr</th>\n",
       "      <th>1Fam</th>\n",
       "      <td>1</td>\n",
       "      <td>13</td>\n",
       "      <td>7.692308</td>\n",
       "    </tr>\n",
       "    <tr>\n",
       "      <th>NridgHt</th>\n",
       "      <th>TwnhsE</th>\n",
       "      <td>1</td>\n",
       "      <td>15</td>\n",
       "      <td>6.666667</td>\n",
       "    </tr>\n",
       "    <tr>\n",
       "      <th>Somerst</th>\n",
       "      <th>1Fam</th>\n",
       "      <td>3</td>\n",
       "      <td>59</td>\n",
       "      <td>5.084746</td>\n",
       "    </tr>\n",
       "    <tr>\n",
       "      <th>SWISU</th>\n",
       "      <th>1Fam</th>\n",
       "      <td>1</td>\n",
       "      <td>22</td>\n",
       "      <td>4.545455</td>\n",
       "    </tr>\n",
       "    <tr>\n",
       "      <th>OldTown</th>\n",
       "      <th>1Fam</th>\n",
       "      <td>4</td>\n",
       "      <td>96</td>\n",
       "      <td>4.166667</td>\n",
       "    </tr>\n",
       "  </tbody>\n",
       "</table>\n",
       "</div>"
      ],
      "text/plain": [
       "                       Num_nan_front  Num_all  perc_nan_front\n",
       "Neighborhood BldgType                                        \n",
       "Mitchel      2fmCon                1        1      100.000000\n",
       "Timber       2fmCon                1        1      100.000000\n",
       "CollgCr      TwnhsE                7       10       70.000000\n",
       "ClearCr      1Fam                 15       28       53.571429\n",
       "NWAmes       Duplex                1        2       50.000000\n",
       "Veenker      1Fam                  4        8       50.000000\n",
       "Gilbert      1Fam                 30       78       38.461538\n",
       "NWAmes       1Fam                 27       71       38.028169\n",
       "Sawyer       1Fam                 25       67       37.313433\n",
       "NPkVill      TwnhsE                2        6       33.333333\n",
       "SWISU        2fmCon                1        3       33.333333\n",
       "StoneBr      TwnhsE                4       12       33.333333\n",
       "Somerst      TwnhsI                3        9       33.333333\n",
       "Mitchel      TwnhsE                1        3       33.333333\n",
       "             1Fam                 11       36       30.555556\n",
       "Crawfor      1Fam                 10       45       22.222222\n",
       "MeadowV      TwnhsE                2       10       20.000000\n",
       "NoRidge      1Fam                  8       41       19.512195\n",
       "SawyerW      1Fam                  9       47       19.148936\n",
       "Timber       1Fam                  7       37       18.918919\n",
       "Blmngtn      TwnhsE                3       16       18.750000\n",
       "NAmes        Duplex                3       17       17.647059\n",
       "             1Fam                 36      205       17.560976\n",
       "Sawyer       Duplex                1        6       16.666667\n",
       "BrkSide      1Fam                  7       56       12.500000\n",
       "CollgCr      1Fam                 17      140       12.142857\n",
       "Somerst      TwnhsE                2       18       11.111111\n",
       "Edwards      1Fam                  8       81        9.876543\n",
       "IDOTRR       1Fam                  3       34        8.823529\n",
       "StoneBr      1Fam                  1       13        7.692308\n",
       "NridgHt      TwnhsE                1       15        6.666667\n",
       "Somerst      1Fam                  3       59        5.084746\n",
       "SWISU        1Fam                  1       22        4.545455\n",
       "OldTown      1Fam                  4       96        4.166667"
      ]
     },
     "execution_count": 43,
     "metadata": {},
     "output_type": "execute_result"
    }
   ],
   "source": [
    "# Find percentage of building types by neighbourhood have NaN lot frontage\n",
    "\n",
    "nan_lotfront_perc = pd.concat([nan_lotfront.groupby(['Neighborhood', 'BldgType']).size(),\n",
    "                               housing_v3.groupby(['Neighborhood', 'BldgType']).size()], axis=1, join='inner')\n",
    "\n",
    "nan_lotfront_perc.columns = ['Num_nan_front', 'Num_all']\n",
    "\n",
    "nan_lotfront_perc['perc_nan_front'] = nan_lotfront_perc['Num_nan_front'] / nan_lotfront_perc['Num_all'] * 100\n",
    "\n",
    "nan_lotfront_perc.sort_values('perc_nan_front', ascending=False)"
   ]
  },
  {
   "cell_type": "code",
   "execution_count": 44,
   "metadata": {
    "ExecuteTime": {
     "end_time": "2019-05-20T04:13:49.640281Z",
     "start_time": "2019-05-20T04:13:49.617134Z"
    }
   },
   "outputs": [
    {
     "data": {
      "text/html": [
       "<div>\n",
       "<style scoped>\n",
       "    .dataframe tbody tr th:only-of-type {\n",
       "        vertical-align: middle;\n",
       "    }\n",
       "\n",
       "    .dataframe tbody tr th {\n",
       "        vertical-align: top;\n",
       "    }\n",
       "\n",
       "    .dataframe thead th {\n",
       "        text-align: right;\n",
       "    }\n",
       "</style>\n",
       "<table border=\"1\" class=\"dataframe\">\n",
       "  <thead>\n",
       "    <tr style=\"text-align: right;\">\n",
       "      <th></th>\n",
       "      <th>Neighborhood</th>\n",
       "      <th>BldgType</th>\n",
       "      <th>count</th>\n",
       "      <th>mean</th>\n",
       "      <th>std</th>\n",
       "      <th>median</th>\n",
       "      <th>amin</th>\n",
       "      <th>amax</th>\n",
       "    </tr>\n",
       "  </thead>\n",
       "  <tbody>\n",
       "    <tr>\n",
       "      <th>0</th>\n",
       "      <td>Blmngtn</td>\n",
       "      <td>TwnhsE</td>\n",
       "      <td>13</td>\n",
       "      <td>47.461538</td>\n",
       "      <td>5.043401</td>\n",
       "      <td>43.0</td>\n",
       "      <td>43.0</td>\n",
       "      <td>53.0</td>\n",
       "    </tr>\n",
       "    <tr>\n",
       "      <th>1</th>\n",
       "      <td>BrkSide</td>\n",
       "      <td>1Fam</td>\n",
       "      <td>49</td>\n",
       "      <td>57.612245</td>\n",
       "      <td>15.807193</td>\n",
       "      <td>52.0</td>\n",
       "      <td>50.0</td>\n",
       "      <td>144.0</td>\n",
       "    </tr>\n",
       "    <tr>\n",
       "      <th>2</th>\n",
       "      <td>ClearCr</td>\n",
       "      <td>1Fam</td>\n",
       "      <td>13</td>\n",
       "      <td>83.461538</td>\n",
       "      <td>18.875096</td>\n",
       "      <td>80.0</td>\n",
       "      <td>62.0</td>\n",
       "      <td>138.0</td>\n",
       "    </tr>\n",
       "    <tr>\n",
       "      <th>3</th>\n",
       "      <td>CollgCr</td>\n",
       "      <td>1Fam</td>\n",
       "      <td>123</td>\n",
       "      <td>72.536585</td>\n",
       "      <td>15.598598</td>\n",
       "      <td>70.0</td>\n",
       "      <td>36.0</td>\n",
       "      <td>122.0</td>\n",
       "    </tr>\n",
       "    <tr>\n",
       "      <th>4</th>\n",
       "      <td>CollgCr</td>\n",
       "      <td>TwnhsE</td>\n",
       "      <td>3</td>\n",
       "      <td>36.666667</td>\n",
       "      <td>0.577350</td>\n",
       "      <td>37.0</td>\n",
       "      <td>36.0</td>\n",
       "      <td>37.0</td>\n",
       "    </tr>\n",
       "    <tr>\n",
       "      <th>5</th>\n",
       "      <td>Crawfor</td>\n",
       "      <td>1Fam</td>\n",
       "      <td>35</td>\n",
       "      <td>72.514286</td>\n",
       "      <td>19.513753</td>\n",
       "      <td>74.0</td>\n",
       "      <td>40.0</td>\n",
       "      <td>130.0</td>\n",
       "    </tr>\n",
       "    <tr>\n",
       "      <th>6</th>\n",
       "      <td>Edwards</td>\n",
       "      <td>1Fam</td>\n",
       "      <td>73</td>\n",
       "      <td>72.465753</td>\n",
       "      <td>33.573337</td>\n",
       "      <td>67.0</td>\n",
       "      <td>45.0</td>\n",
       "      <td>313.0</td>\n",
       "    </tr>\n",
       "    <tr>\n",
       "      <th>7</th>\n",
       "      <td>Gilbert</td>\n",
       "      <td>1Fam</td>\n",
       "      <td>48</td>\n",
       "      <td>79.458333</td>\n",
       "      <td>32.961588</td>\n",
       "      <td>65.0</td>\n",
       "      <td>42.0</td>\n",
       "      <td>182.0</td>\n",
       "    </tr>\n",
       "    <tr>\n",
       "      <th>8</th>\n",
       "      <td>IDOTRR</td>\n",
       "      <td>1Fam</td>\n",
       "      <td>31</td>\n",
       "      <td>60.806452</td>\n",
       "      <td>16.953700</td>\n",
       "      <td>60.0</td>\n",
       "      <td>40.0</td>\n",
       "      <td>120.0</td>\n",
       "    </tr>\n",
       "    <tr>\n",
       "      <th>9</th>\n",
       "      <td>MeadowV</td>\n",
       "      <td>TwnhsE</td>\n",
       "      <td>8</td>\n",
       "      <td>33.750000</td>\n",
       "      <td>10.846329</td>\n",
       "      <td>38.5</td>\n",
       "      <td>21.0</td>\n",
       "      <td>44.0</td>\n",
       "    </tr>\n",
       "    <tr>\n",
       "      <th>10</th>\n",
       "      <td>Mitchel</td>\n",
       "      <td>1Fam</td>\n",
       "      <td>25</td>\n",
       "      <td>72.080000</td>\n",
       "      <td>21.023637</td>\n",
       "      <td>71.0</td>\n",
       "      <td>37.0</td>\n",
       "      <td>129.0</td>\n",
       "    </tr>\n",
       "    <tr>\n",
       "      <th>11</th>\n",
       "      <td>Mitchel</td>\n",
       "      <td>2fmCon</td>\n",
       "      <td>0</td>\n",
       "      <td>NaN</td>\n",
       "      <td>NaN</td>\n",
       "      <td>NaN</td>\n",
       "      <td>NaN</td>\n",
       "      <td>NaN</td>\n",
       "    </tr>\n",
       "    <tr>\n",
       "      <th>12</th>\n",
       "      <td>Mitchel</td>\n",
       "      <td>TwnhsE</td>\n",
       "      <td>2</td>\n",
       "      <td>32.000000</td>\n",
       "      <td>0.000000</td>\n",
       "      <td>32.0</td>\n",
       "      <td>32.0</td>\n",
       "      <td>32.0</td>\n",
       "    </tr>\n",
       "    <tr>\n",
       "      <th>13</th>\n",
       "      <td>NAmes</td>\n",
       "      <td>1Fam</td>\n",
       "      <td>169</td>\n",
       "      <td>77.272189</td>\n",
       "      <td>24.070269</td>\n",
       "      <td>73.0</td>\n",
       "      <td>47.0</td>\n",
       "      <td>313.0</td>\n",
       "    </tr>\n",
       "    <tr>\n",
       "      <th>14</th>\n",
       "      <td>NAmes</td>\n",
       "      <td>Duplex</td>\n",
       "      <td>14</td>\n",
       "      <td>72.857143</td>\n",
       "      <td>11.824727</td>\n",
       "      <td>70.0</td>\n",
       "      <td>60.0</td>\n",
       "      <td>95.0</td>\n",
       "    </tr>\n",
       "    <tr>\n",
       "      <th>15</th>\n",
       "      <td>NPkVill</td>\n",
       "      <td>TwnhsE</td>\n",
       "      <td>4</td>\n",
       "      <td>38.500000</td>\n",
       "      <td>16.743158</td>\n",
       "      <td>38.5</td>\n",
       "      <td>24.0</td>\n",
       "      <td>53.0</td>\n",
       "    </tr>\n",
       "    <tr>\n",
       "      <th>16</th>\n",
       "      <td>NWAmes</td>\n",
       "      <td>1Fam</td>\n",
       "      <td>44</td>\n",
       "      <td>81.159091</td>\n",
       "      <td>10.700887</td>\n",
       "      <td>80.0</td>\n",
       "      <td>46.0</td>\n",
       "      <td>105.0</td>\n",
       "    </tr>\n",
       "    <tr>\n",
       "      <th>17</th>\n",
       "      <td>NWAmes</td>\n",
       "      <td>Duplex</td>\n",
       "      <td>1</td>\n",
       "      <td>87.000000</td>\n",
       "      <td>NaN</td>\n",
       "      <td>87.0</td>\n",
       "      <td>87.0</td>\n",
       "      <td>87.0</td>\n",
       "    </tr>\n",
       "    <tr>\n",
       "      <th>18</th>\n",
       "      <td>NoRidge</td>\n",
       "      <td>1Fam</td>\n",
       "      <td>33</td>\n",
       "      <td>91.878788</td>\n",
       "      <td>25.320147</td>\n",
       "      <td>91.0</td>\n",
       "      <td>52.0</td>\n",
       "      <td>174.0</td>\n",
       "    </tr>\n",
       "    <tr>\n",
       "      <th>19</th>\n",
       "      <td>NridgHt</td>\n",
       "      <td>TwnhsE</td>\n",
       "      <td>14</td>\n",
       "      <td>54.714286</td>\n",
       "      <td>9.619120</td>\n",
       "      <td>59.5</td>\n",
       "      <td>40.0</td>\n",
       "      <td>68.0</td>\n",
       "    </tr>\n",
       "    <tr>\n",
       "      <th>20</th>\n",
       "      <td>OldTown</td>\n",
       "      <td>1Fam</td>\n",
       "      <td>92</td>\n",
       "      <td>62.554348</td>\n",
       "      <td>18.712025</td>\n",
       "      <td>60.0</td>\n",
       "      <td>30.0</td>\n",
       "      <td>153.0</td>\n",
       "    </tr>\n",
       "    <tr>\n",
       "      <th>21</th>\n",
       "      <td>SWISU</td>\n",
       "      <td>1Fam</td>\n",
       "      <td>21</td>\n",
       "      <td>59.047619</td>\n",
       "      <td>11.015790</td>\n",
       "      <td>60.0</td>\n",
       "      <td>50.0</td>\n",
       "      <td>102.0</td>\n",
       "    </tr>\n",
       "    <tr>\n",
       "      <th>22</th>\n",
       "      <td>SWISU</td>\n",
       "      <td>2fmCon</td>\n",
       "      <td>2</td>\n",
       "      <td>57.500000</td>\n",
       "      <td>3.535534</td>\n",
       "      <td>57.5</td>\n",
       "      <td>55.0</td>\n",
       "      <td>60.0</td>\n",
       "    </tr>\n",
       "    <tr>\n",
       "      <th>23</th>\n",
       "      <td>Sawyer</td>\n",
       "      <td>1Fam</td>\n",
       "      <td>42</td>\n",
       "      <td>75.142857</td>\n",
       "      <td>15.533711</td>\n",
       "      <td>71.0</td>\n",
       "      <td>40.0</td>\n",
       "      <td>115.0</td>\n",
       "    </tr>\n",
       "    <tr>\n",
       "      <th>24</th>\n",
       "      <td>Sawyer</td>\n",
       "      <td>Duplex</td>\n",
       "      <td>5</td>\n",
       "      <td>68.400000</td>\n",
       "      <td>4.979960</td>\n",
       "      <td>70.0</td>\n",
       "      <td>60.0</td>\n",
       "      <td>72.0</td>\n",
       "    </tr>\n",
       "    <tr>\n",
       "      <th>25</th>\n",
       "      <td>SawyerW</td>\n",
       "      <td>1Fam</td>\n",
       "      <td>38</td>\n",
       "      <td>75.631579</td>\n",
       "      <td>13.956343</td>\n",
       "      <td>74.0</td>\n",
       "      <td>59.0</td>\n",
       "      <td>116.0</td>\n",
       "    </tr>\n",
       "    <tr>\n",
       "      <th>26</th>\n",
       "      <td>Somerst</td>\n",
       "      <td>1Fam</td>\n",
       "      <td>56</td>\n",
       "      <td>76.875000</td>\n",
       "      <td>11.943903</td>\n",
       "      <td>75.0</td>\n",
       "      <td>49.0</td>\n",
       "      <td>116.0</td>\n",
       "    </tr>\n",
       "    <tr>\n",
       "      <th>27</th>\n",
       "      <td>Somerst</td>\n",
       "      <td>TwnhsE</td>\n",
       "      <td>16</td>\n",
       "      <td>37.187500</td>\n",
       "      <td>8.166752</td>\n",
       "      <td>35.0</td>\n",
       "      <td>30.0</td>\n",
       "      <td>59.0</td>\n",
       "    </tr>\n",
       "    <tr>\n",
       "      <th>28</th>\n",
       "      <td>Somerst</td>\n",
       "      <td>TwnhsI</td>\n",
       "      <td>6</td>\n",
       "      <td>24.000000</td>\n",
       "      <td>0.000000</td>\n",
       "      <td>24.0</td>\n",
       "      <td>24.0</td>\n",
       "      <td>24.0</td>\n",
       "    </tr>\n",
       "    <tr>\n",
       "      <th>29</th>\n",
       "      <td>StoneBr</td>\n",
       "      <td>1Fam</td>\n",
       "      <td>12</td>\n",
       "      <td>77.250000</td>\n",
       "      <td>19.254870</td>\n",
       "      <td>78.5</td>\n",
       "      <td>47.0</td>\n",
       "      <td>124.0</td>\n",
       "    </tr>\n",
       "    <tr>\n",
       "      <th>30</th>\n",
       "      <td>StoneBr</td>\n",
       "      <td>TwnhsE</td>\n",
       "      <td>8</td>\n",
       "      <td>40.875000</td>\n",
       "      <td>1.457738</td>\n",
       "      <td>41.0</td>\n",
       "      <td>39.0</td>\n",
       "      <td>44.0</td>\n",
       "    </tr>\n",
       "    <tr>\n",
       "      <th>31</th>\n",
       "      <td>Timber</td>\n",
       "      <td>1Fam</td>\n",
       "      <td>30</td>\n",
       "      <td>80.133333</td>\n",
       "      <td>23.799063</td>\n",
       "      <td>85.0</td>\n",
       "      <td>42.0</td>\n",
       "      <td>150.0</td>\n",
       "    </tr>\n",
       "    <tr>\n",
       "      <th>32</th>\n",
       "      <td>Timber</td>\n",
       "      <td>2fmCon</td>\n",
       "      <td>0</td>\n",
       "      <td>NaN</td>\n",
       "      <td>NaN</td>\n",
       "      <td>NaN</td>\n",
       "      <td>NaN</td>\n",
       "      <td>NaN</td>\n",
       "    </tr>\n",
       "    <tr>\n",
       "      <th>33</th>\n",
       "      <td>Veenker</td>\n",
       "      <td>1Fam</td>\n",
       "      <td>4</td>\n",
       "      <td>79.500000</td>\n",
       "      <td>9.000000</td>\n",
       "      <td>80.0</td>\n",
       "      <td>68.0</td>\n",
       "      <td>90.0</td>\n",
       "    </tr>\n",
       "  </tbody>\n",
       "</table>\n",
       "</div>"
      ],
      "text/plain": [
       "   Neighborhood BldgType  count       mean        std  median  amin   amax\n",
       "0       Blmngtn   TwnhsE     13  47.461538   5.043401    43.0  43.0   53.0\n",
       "1       BrkSide     1Fam     49  57.612245  15.807193    52.0  50.0  144.0\n",
       "2       ClearCr     1Fam     13  83.461538  18.875096    80.0  62.0  138.0\n",
       "3       CollgCr     1Fam    123  72.536585  15.598598    70.0  36.0  122.0\n",
       "4       CollgCr   TwnhsE      3  36.666667   0.577350    37.0  36.0   37.0\n",
       "5       Crawfor     1Fam     35  72.514286  19.513753    74.0  40.0  130.0\n",
       "6       Edwards     1Fam     73  72.465753  33.573337    67.0  45.0  313.0\n",
       "7       Gilbert     1Fam     48  79.458333  32.961588    65.0  42.0  182.0\n",
       "8        IDOTRR     1Fam     31  60.806452  16.953700    60.0  40.0  120.0\n",
       "9       MeadowV   TwnhsE      8  33.750000  10.846329    38.5  21.0   44.0\n",
       "10      Mitchel     1Fam     25  72.080000  21.023637    71.0  37.0  129.0\n",
       "11      Mitchel   2fmCon      0        NaN        NaN     NaN   NaN    NaN\n",
       "12      Mitchel   TwnhsE      2  32.000000   0.000000    32.0  32.0   32.0\n",
       "13        NAmes     1Fam    169  77.272189  24.070269    73.0  47.0  313.0\n",
       "14        NAmes   Duplex     14  72.857143  11.824727    70.0  60.0   95.0\n",
       "15      NPkVill   TwnhsE      4  38.500000  16.743158    38.5  24.0   53.0\n",
       "16       NWAmes     1Fam     44  81.159091  10.700887    80.0  46.0  105.0\n",
       "17       NWAmes   Duplex      1  87.000000        NaN    87.0  87.0   87.0\n",
       "18      NoRidge     1Fam     33  91.878788  25.320147    91.0  52.0  174.0\n",
       "19      NridgHt   TwnhsE     14  54.714286   9.619120    59.5  40.0   68.0\n",
       "20      OldTown     1Fam     92  62.554348  18.712025    60.0  30.0  153.0\n",
       "21        SWISU     1Fam     21  59.047619  11.015790    60.0  50.0  102.0\n",
       "22        SWISU   2fmCon      2  57.500000   3.535534    57.5  55.0   60.0\n",
       "23       Sawyer     1Fam     42  75.142857  15.533711    71.0  40.0  115.0\n",
       "24       Sawyer   Duplex      5  68.400000   4.979960    70.0  60.0   72.0\n",
       "25      SawyerW     1Fam     38  75.631579  13.956343    74.0  59.0  116.0\n",
       "26      Somerst     1Fam     56  76.875000  11.943903    75.0  49.0  116.0\n",
       "27      Somerst   TwnhsE     16  37.187500   8.166752    35.0  30.0   59.0\n",
       "28      Somerst   TwnhsI      6  24.000000   0.000000    24.0  24.0   24.0\n",
       "29      StoneBr     1Fam     12  77.250000  19.254870    78.5  47.0  124.0\n",
       "30      StoneBr   TwnhsE      8  40.875000   1.457738    41.0  39.0   44.0\n",
       "31       Timber     1Fam     30  80.133333  23.799063    85.0  42.0  150.0\n",
       "32       Timber   2fmCon      0        NaN        NaN     NaN   NaN    NaN\n",
       "33      Veenker     1Fam      4  79.500000   9.000000    80.0  68.0   90.0"
      ]
     },
     "execution_count": 44,
     "metadata": {},
     "output_type": "execute_result"
    }
   ],
   "source": [
    "# Filter lotfrontage stats by building types that have NaN lotfrontage\n",
    "\n",
    "nanfront_impute_stats = neig_bldgtype_stats.loc[nan_lotfront_perc.index, ].reset_index()\n",
    "\n",
    "nanfront_impute_stats"
   ]
  },
  {
   "cell_type": "markdown",
   "metadata": {},
   "source": [
    "Imputing `NaN` in `LotFrontage` with the mean `LotFrontage` of the same building type in the neighbourhood looks like a good strategy: most of the medians are not far from the mean, and the standard deviations are a large proportion of the mean.\n",
    "\n",
    "The two `NaN` means in the dataframe above have the building type `2fmCon` which stands for Two-Family Conversion, which are houses that were originally built as a single family dwelling, so it would be appropriate to fill these `NaN` with the mean of a `1Fam` house in the same neighbourhood."
   ]
  },
  {
   "cell_type": "code",
   "execution_count": 45,
   "metadata": {
    "ExecuteTime": {
     "end_time": "2019-05-20T04:13:53.713957Z",
     "start_time": "2019-05-20T04:13:53.673896Z"
    },
    "scrolled": false
   },
   "outputs": [],
   "source": [
    "# Fill with mean lot frontage of neighbourhood & building type\n",
    "\n",
    "housing_v4 = housing_v3.copy()\n",
    "\n",
    "housing_v4['LotFrontage_Imp'] = housing_v4.groupby(['Neighborhood', 'BldgType'])['LotFrontage'].transform(lambda x: x.fillna(x.mean()))"
   ]
  },
  {
   "cell_type": "code",
   "execution_count": 46,
   "metadata": {
    "ExecuteTime": {
     "end_time": "2019-05-20T04:13:56.353318Z",
     "start_time": "2019-05-20T04:13:56.341964Z"
    }
   },
   "outputs": [
    {
     "data": {
      "text/html": [
       "<div>\n",
       "<style scoped>\n",
       "    .dataframe tbody tr th:only-of-type {\n",
       "        vertical-align: middle;\n",
       "    }\n",
       "\n",
       "    .dataframe tbody tr th {\n",
       "        vertical-align: top;\n",
       "    }\n",
       "\n",
       "    .dataframe thead th {\n",
       "        text-align: right;\n",
       "    }\n",
       "</style>\n",
       "<table border=\"1\" class=\"dataframe\">\n",
       "  <thead>\n",
       "    <tr style=\"text-align: right;\">\n",
       "      <th></th>\n",
       "      <th>LotFrontage</th>\n",
       "      <th>LotFrontage_Imp</th>\n",
       "    </tr>\n",
       "    <tr>\n",
       "      <th>Id</th>\n",
       "      <th></th>\n",
       "      <th></th>\n",
       "    </tr>\n",
       "  </thead>\n",
       "  <tbody>\n",
       "    <tr>\n",
       "      <th>1</th>\n",
       "      <td>65.0</td>\n",
       "      <td>65.000000</td>\n",
       "    </tr>\n",
       "    <tr>\n",
       "      <th>2</th>\n",
       "      <td>80.0</td>\n",
       "      <td>80.000000</td>\n",
       "    </tr>\n",
       "    <tr>\n",
       "      <th>3</th>\n",
       "      <td>68.0</td>\n",
       "      <td>68.000000</td>\n",
       "    </tr>\n",
       "    <tr>\n",
       "      <th>4</th>\n",
       "      <td>60.0</td>\n",
       "      <td>60.000000</td>\n",
       "    </tr>\n",
       "    <tr>\n",
       "      <th>5</th>\n",
       "      <td>84.0</td>\n",
       "      <td>84.000000</td>\n",
       "    </tr>\n",
       "    <tr>\n",
       "      <th>6</th>\n",
       "      <td>85.0</td>\n",
       "      <td>85.000000</td>\n",
       "    </tr>\n",
       "    <tr>\n",
       "      <th>7</th>\n",
       "      <td>75.0</td>\n",
       "      <td>75.000000</td>\n",
       "    </tr>\n",
       "    <tr>\n",
       "      <th>8</th>\n",
       "      <td>NaN</td>\n",
       "      <td>81.159091</td>\n",
       "    </tr>\n",
       "    <tr>\n",
       "      <th>9</th>\n",
       "      <td>51.0</td>\n",
       "      <td>51.000000</td>\n",
       "    </tr>\n",
       "    <tr>\n",
       "      <th>10</th>\n",
       "      <td>50.0</td>\n",
       "      <td>50.000000</td>\n",
       "    </tr>\n",
       "  </tbody>\n",
       "</table>\n",
       "</div>"
      ],
      "text/plain": [
       "    LotFrontage  LotFrontage_Imp\n",
       "Id                              \n",
       "1          65.0        65.000000\n",
       "2          80.0        80.000000\n",
       "3          68.0        68.000000\n",
       "4          60.0        60.000000\n",
       "5          84.0        84.000000\n",
       "6          85.0        85.000000\n",
       "7          75.0        75.000000\n",
       "8           NaN        81.159091\n",
       "9          51.0        51.000000\n",
       "10         50.0        50.000000"
      ]
     },
     "execution_count": 46,
     "metadata": {},
     "output_type": "execute_result"
    }
   ],
   "source": [
    "# Check that it worked by comparing with LotFrontage\n",
    "\n",
    "housing_v4[['LotFrontage', 'LotFrontage_Imp']].head(10)"
   ]
  },
  {
   "cell_type": "code",
   "execution_count": 75,
   "metadata": {
    "ExecuteTime": {
     "end_time": "2019-05-16T03:54:04.253816Z",
     "start_time": "2019-05-16T03:54:04.244439Z"
    }
   },
   "outputs": [
    {
     "data": {
      "text/plain": [
       "2"
      ]
     },
     "execution_count": 75,
     "metadata": {},
     "output_type": "execute_result"
    }
   ],
   "source": [
    "# Check NaNs in LotFrontage_Imp\n",
    "\n",
    "housing_v4['LotFrontage_Imp'].isnull().sum()"
   ]
  },
  {
   "cell_type": "code",
   "execution_count": 76,
   "metadata": {
    "ExecuteTime": {
     "end_time": "2019-05-16T03:54:04.274675Z",
     "start_time": "2019-05-16T03:54:04.255852Z"
    }
   },
   "outputs": [
    {
     "data": {
      "text/html": [
       "<div>\n",
       "<style scoped>\n",
       "    .dataframe tbody tr th:only-of-type {\n",
       "        vertical-align: middle;\n",
       "    }\n",
       "\n",
       "    .dataframe tbody tr th {\n",
       "        vertical-align: top;\n",
       "    }\n",
       "\n",
       "    .dataframe thead th {\n",
       "        text-align: right;\n",
       "    }\n",
       "</style>\n",
       "<table border=\"1\" class=\"dataframe\">\n",
       "  <thead>\n",
       "    <tr style=\"text-align: right;\">\n",
       "      <th></th>\n",
       "      <th>Neighborhood</th>\n",
       "      <th>BldgType</th>\n",
       "    </tr>\n",
       "  </thead>\n",
       "  <tbody>\n",
       "    <tr>\n",
       "      <th>335</th>\n",
       "      <td>Timber</td>\n",
       "      <td>2fmCon</td>\n",
       "    </tr>\n",
       "    <tr>\n",
       "      <th>1190</th>\n",
       "      <td>Mitchel</td>\n",
       "      <td>2fmCon</td>\n",
       "    </tr>\n",
       "  </tbody>\n",
       "</table>\n",
       "</div>"
      ],
      "text/plain": [
       "     Neighborhood BldgType\n",
       "335        Timber   2fmCon\n",
       "1190      Mitchel   2fmCon"
      ]
     },
     "execution_count": 76,
     "metadata": {},
     "output_type": "execute_result"
    }
   ],
   "source": [
    "housing_v4[housing_v4['LotFrontage_Imp'].isnull()][['Neighborhood', 'BldgType']]"
   ]
  },
  {
   "cell_type": "code",
   "execution_count": 77,
   "metadata": {
    "ExecuteTime": {
     "end_time": "2019-05-16T03:54:04.289060Z",
     "start_time": "2019-05-16T03:54:04.276175Z"
    }
   },
   "outputs": [
    {
     "data": {
      "text/plain": [
       "0"
      ]
     },
     "execution_count": 77,
     "metadata": {},
     "output_type": "execute_result"
    }
   ],
   "source": [
    "# fill NaNs\n",
    "\n",
    "housing_v4.loc[335, 'LotFrontage_Imp'] = nanfront_impute_stats.loc[31, 'mean']\n",
    "housing_v4.loc[1190, 'LotFrontage_Imp'] = nanfront_impute_stats.loc[10, 'mean']\n",
    "\n",
    "# Check NaNs in LotFrontage_Imp again\n",
    "\n",
    "housing_v4['LotFrontage_Imp'].isnull().sum()"
   ]
  },
  {
   "cell_type": "markdown",
   "metadata": {},
   "source": [
    "## Save initial cleaned dataset"
   ]
  },
  {
   "cell_type": "code",
   "execution_count": 78,
   "metadata": {
    "ExecuteTime": {
     "end_time": "2019-05-16T03:54:04.362619Z",
     "start_time": "2019-05-16T03:54:04.290633Z"
    }
   },
   "outputs": [],
   "source": [
    "# Save \n",
    "\n",
    "housing_v4.to_csv(\"../../data/housing.initial.csv\", index=False)"
   ]
  }
 ],
 "metadata": {
  "kernelspec": {
   "display_name": "Python [default]",
   "language": "python",
   "name": "python3"
  },
  "language_info": {
   "codemirror_mode": {
    "name": "ipython",
    "version": 3
   },
   "file_extension": ".py",
   "mimetype": "text/x-python",
   "name": "python",
   "nbconvert_exporter": "python",
   "pygments_lexer": "ipython3",
   "version": "3.6.8"
  },
  "toc": {
   "nav_menu": {},
   "number_sections": true,
   "sideBar": true,
   "skip_h1_title": true,
   "title_cell": "Table of Contents",
   "title_sidebar": "Contents",
   "toc_cell": true,
   "toc_position": {},
   "toc_section_display": true,
   "toc_window_display": false
  },
  "varInspector": {
   "cols": {
    "lenName": 16,
    "lenType": 16,
    "lenVar": 40
   },
   "kernels_config": {
    "python": {
     "delete_cmd_postfix": "",
     "delete_cmd_prefix": "del ",
     "library": "var_list.py",
     "varRefreshCmd": "print(var_dic_list())"
    },
    "r": {
     "delete_cmd_postfix": ") ",
     "delete_cmd_prefix": "rm(",
     "library": "var_list.r",
     "varRefreshCmd": "cat(var_dic_list()) "
    }
   },
   "types_to_exclude": [
    "module",
    "function",
    "builtin_function_or_method",
    "instance",
    "_Feature"
   ],
   "window_display": false
  }
 },
 "nbformat": 4,
 "nbformat_minor": 2
}
