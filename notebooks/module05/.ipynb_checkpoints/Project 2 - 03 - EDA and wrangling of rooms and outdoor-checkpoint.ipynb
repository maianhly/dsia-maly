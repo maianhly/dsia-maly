{
 "cells": [
  {
   "cell_type": "markdown",
   "metadata": {
    "toc": true
   },
   "source": [
    "<h1>Table of Contents<span class=\"tocSkip\"></span></h1>\n",
    "<div class=\"toc\"><ul class=\"toc-item\"><li><span><a href=\"#Roof\" data-toc-modified-id=\"Roof-1\"><span class=\"toc-item-num\">1&nbsp;&nbsp;</span>Roof</a></span></li><li><span><a href=\"#Exterior\" data-toc-modified-id=\"Exterior-2\"><span class=\"toc-item-num\">2&nbsp;&nbsp;</span>Exterior</a></span></li><li><span><a href=\"#Convert-quality/condition-categorical-columns-to-numeric\" data-toc-modified-id=\"Convert-quality/condition-categorical-columns-to-numeric-3\"><span class=\"toc-item-num\">3&nbsp;&nbsp;</span>Convert quality/condition categorical columns to numeric</a></span></li><li><span><a href=\"#Foundation\" data-toc-modified-id=\"Foundation-4\"><span class=\"toc-item-num\">4&nbsp;&nbsp;</span>Foundation</a></span></li><li><span><a href=\"#Basement\" data-toc-modified-id=\"Basement-5\"><span class=\"toc-item-num\">5&nbsp;&nbsp;</span>Basement</a></span><ul class=\"toc-item\"><li><span><a href=\"#Condition/quality\" data-toc-modified-id=\"Condition/quality-5.1\"><span class=\"toc-item-num\">5.1&nbsp;&nbsp;</span>Condition/quality</a></span></li><li><span><a href=\"#Exposure\" data-toc-modified-id=\"Exposure-5.2\"><span class=\"toc-item-num\">5.2&nbsp;&nbsp;</span>Exposure</a></span></li><li><span><a href=\"#Finish-and-area\" data-toc-modified-id=\"Finish-and-area-5.3\"><span class=\"toc-item-num\">5.3&nbsp;&nbsp;</span>Finish and area</a></span></li></ul></li><li><span><a href=\"#Utilities,-heating,-air-and-electrical\" data-toc-modified-id=\"Utilities,-heating,-air-and-electrical-6\"><span class=\"toc-item-num\">6&nbsp;&nbsp;</span>Utilities, heating, air and electrical</a></span></li><li><span><a href=\"#Garage\" data-toc-modified-id=\"Garage-7\"><span class=\"toc-item-num\">7&nbsp;&nbsp;</span>Garage</a></span></li><li><span><a href=\"#Other-outdoor\" data-toc-modified-id=\"Other-outdoor-8\"><span class=\"toc-item-num\">8&nbsp;&nbsp;</span>Other outdoor</a></span><ul class=\"toc-item\"><li><span><a href=\"#Porch-area\" data-toc-modified-id=\"Porch-area-8.1\"><span class=\"toc-item-num\">8.1&nbsp;&nbsp;</span>Porch area</a></span></li><li><span><a href=\"#Fence\" data-toc-modified-id=\"Fence-8.2\"><span class=\"toc-item-num\">8.2&nbsp;&nbsp;</span>Fence</a></span></li><li><span><a href=\"#Misc.\" data-toc-modified-id=\"Misc.-8.3\"><span class=\"toc-item-num\">8.3&nbsp;&nbsp;</span>Misc.</a></span></li></ul></li><li><span><a href=\"#Interior\" data-toc-modified-id=\"Interior-9\"><span class=\"toc-item-num\">9&nbsp;&nbsp;</span>Interior</a></span><ul class=\"toc-item\"><li><span><a href=\"#Interior-room-counts\" data-toc-modified-id=\"Interior-room-counts-9.1\"><span class=\"toc-item-num\">9.1&nbsp;&nbsp;</span>Interior room counts</a></span></li><li><span><a href=\"#House-area\" data-toc-modified-id=\"House-area-9.2\"><span class=\"toc-item-num\">9.2&nbsp;&nbsp;</span>House area</a></span></li></ul></li></ul></div>"
   ]
  },
  {
   "cell_type": "markdown",
   "metadata": {},
   "source": [
    "# Project 2: Housing"
   ]
  },
  {
   "cell_type": "markdown",
   "metadata": {},
   "source": [
    "You have a dataset of housing sale data with a huge amount of features identifying different aspects of the house. The full description of the data features can be found in a separate file:\n",
    "\n",
    "    housing.csv\n",
    "    data_description.txt\n",
    "\n",
    "- Explore the dataset, clean data, add features (if you can think of any)\n",
    "- Identify features that can predict sale price of a house\n",
    "- Train a model on pre-2010 data and evaluate its performance on the 2010 houses.\n",
    "- Build a model. What are the best predictors of price?"
   ]
  },
  {
   "cell_type": "code",
   "execution_count": 1,
   "metadata": {
    "ExecuteTime": {
     "end_time": "2019-05-20T07:37:40.367069Z",
     "start_time": "2019-05-20T07:37:38.996142Z"
    }
   },
   "outputs": [],
   "source": [
    "import pandas as pd\n",
    "import numpy as np\n",
    "from scipy import stats\n",
    "\n",
    "import matplotlib.pyplot as plt\n",
    "import seaborn as sns"
   ]
  },
  {
   "cell_type": "code",
   "execution_count": 2,
   "metadata": {
    "ExecuteTime": {
     "end_time": "2019-05-20T07:37:40.374176Z",
     "start_time": "2019-05-20T07:37:40.368997Z"
    }
   },
   "outputs": [],
   "source": [
    "def dummy_and_drop(df, colname):\n",
    "    \n",
    "    min_value = df[colname].value_counts().idxmin()\n",
    "    \n",
    "    dummy_df = pd.get_dummies(df[colname], prefix=colname)\n",
    "    dummy_df = dummy_df.drop(colname+\"_\"+str(min_value), axis=1)\n",
    "    \n",
    "    return dummy_df"
   ]
  },
  {
   "cell_type": "markdown",
   "metadata": {},
   "source": [
    "# Load data\n",
    "\n",
    "The data in `housing.csv` was cleaned and saved as `housing.initial.csv`. After some initial EDA, `housing.initial.csv` was saved as `housing.2.csv` "
   ]
  },
  {
   "cell_type": "code",
   "execution_count": 3,
   "metadata": {
    "ExecuteTime": {
     "end_time": "2019-05-20T07:37:40.516475Z",
     "start_time": "2019-05-20T07:37:40.375871Z"
    }
   },
   "outputs": [
    {
     "data": {
      "text/html": [
       "<div>\n",
       "<style scoped>\n",
       "    .dataframe tbody tr th:only-of-type {\n",
       "        vertical-align: middle;\n",
       "    }\n",
       "\n",
       "    .dataframe tbody tr th {\n",
       "        vertical-align: top;\n",
       "    }\n",
       "\n",
       "    .dataframe thead th {\n",
       "        text-align: right;\n",
       "    }\n",
       "</style>\n",
       "<table border=\"1\" class=\"dataframe\">\n",
       "  <thead>\n",
       "    <tr style=\"text-align: right;\">\n",
       "      <th></th>\n",
       "      <th>Id</th>\n",
       "      <th>MSSubClass</th>\n",
       "      <th>MSZoning</th>\n",
       "      <th>LotFrontage</th>\n",
       "      <th>LotArea</th>\n",
       "      <th>Street</th>\n",
       "      <th>Alley</th>\n",
       "      <th>LotShape</th>\n",
       "      <th>LandContour</th>\n",
       "      <th>Utilities</th>\n",
       "      <th>...</th>\n",
       "      <th>SalePrice</th>\n",
       "      <th>MSSubClass_fix</th>\n",
       "      <th>LotFrontage_Imp</th>\n",
       "      <th>SalePrice_log</th>\n",
       "      <th>YrMoSold</th>\n",
       "      <th>FunctionalNum</th>\n",
       "      <th>LotArea_log</th>\n",
       "      <th>BuiltRemodDiff</th>\n",
       "      <th>LandSlopeNum</th>\n",
       "      <th>Street_Pave</th>\n",
       "    </tr>\n",
       "  </thead>\n",
       "  <tbody>\n",
       "    <tr>\n",
       "      <th>0</th>\n",
       "      <td>1</td>\n",
       "      <td>60</td>\n",
       "      <td>RL</td>\n",
       "      <td>65.0</td>\n",
       "      <td>8450</td>\n",
       "      <td>Pave</td>\n",
       "      <td>NaN</td>\n",
       "      <td>Reg</td>\n",
       "      <td>Lvl</td>\n",
       "      <td>AllPub</td>\n",
       "      <td>...</td>\n",
       "      <td>208500</td>\n",
       "      <td>60</td>\n",
       "      <td>65.0</td>\n",
       "      <td>12.247694</td>\n",
       "      <td>2008-02-01</td>\n",
       "      <td>5</td>\n",
       "      <td>9.041922</td>\n",
       "      <td>0</td>\n",
       "      <td>1</td>\n",
       "      <td>1</td>\n",
       "    </tr>\n",
       "    <tr>\n",
       "      <th>1</th>\n",
       "      <td>2</td>\n",
       "      <td>20</td>\n",
       "      <td>RL</td>\n",
       "      <td>80.0</td>\n",
       "      <td>9600</td>\n",
       "      <td>Pave</td>\n",
       "      <td>NaN</td>\n",
       "      <td>Reg</td>\n",
       "      <td>Lvl</td>\n",
       "      <td>AllPub</td>\n",
       "      <td>...</td>\n",
       "      <td>181500</td>\n",
       "      <td>20</td>\n",
       "      <td>80.0</td>\n",
       "      <td>12.109011</td>\n",
       "      <td>2007-05-01</td>\n",
       "      <td>5</td>\n",
       "      <td>9.169518</td>\n",
       "      <td>0</td>\n",
       "      <td>1</td>\n",
       "      <td>1</td>\n",
       "    </tr>\n",
       "    <tr>\n",
       "      <th>2</th>\n",
       "      <td>3</td>\n",
       "      <td>60</td>\n",
       "      <td>RL</td>\n",
       "      <td>68.0</td>\n",
       "      <td>11250</td>\n",
       "      <td>Pave</td>\n",
       "      <td>NaN</td>\n",
       "      <td>IR1</td>\n",
       "      <td>Lvl</td>\n",
       "      <td>AllPub</td>\n",
       "      <td>...</td>\n",
       "      <td>223500</td>\n",
       "      <td>60</td>\n",
       "      <td>68.0</td>\n",
       "      <td>12.317167</td>\n",
       "      <td>2008-09-01</td>\n",
       "      <td>5</td>\n",
       "      <td>9.328123</td>\n",
       "      <td>1</td>\n",
       "      <td>1</td>\n",
       "      <td>1</td>\n",
       "    </tr>\n",
       "    <tr>\n",
       "      <th>3</th>\n",
       "      <td>4</td>\n",
       "      <td>70</td>\n",
       "      <td>RL</td>\n",
       "      <td>60.0</td>\n",
       "      <td>9550</td>\n",
       "      <td>Pave</td>\n",
       "      <td>NaN</td>\n",
       "      <td>IR1</td>\n",
       "      <td>Lvl</td>\n",
       "      <td>AllPub</td>\n",
       "      <td>...</td>\n",
       "      <td>140000</td>\n",
       "      <td>70</td>\n",
       "      <td>60.0</td>\n",
       "      <td>11.849398</td>\n",
       "      <td>2006-02-01</td>\n",
       "      <td>5</td>\n",
       "      <td>9.164296</td>\n",
       "      <td>55</td>\n",
       "      <td>1</td>\n",
       "      <td>1</td>\n",
       "    </tr>\n",
       "    <tr>\n",
       "      <th>4</th>\n",
       "      <td>5</td>\n",
       "      <td>60</td>\n",
       "      <td>RL</td>\n",
       "      <td>84.0</td>\n",
       "      <td>14260</td>\n",
       "      <td>Pave</td>\n",
       "      <td>NaN</td>\n",
       "      <td>IR1</td>\n",
       "      <td>Lvl</td>\n",
       "      <td>AllPub</td>\n",
       "      <td>...</td>\n",
       "      <td>250000</td>\n",
       "      <td>60</td>\n",
       "      <td>84.0</td>\n",
       "      <td>12.429216</td>\n",
       "      <td>2008-12-01</td>\n",
       "      <td>5</td>\n",
       "      <td>9.565214</td>\n",
       "      <td>0</td>\n",
       "      <td>1</td>\n",
       "      <td>1</td>\n",
       "    </tr>\n",
       "  </tbody>\n",
       "</table>\n",
       "<p>5 rows × 90 columns</p>\n",
       "</div>"
      ],
      "text/plain": [
       "   Id  MSSubClass MSZoning  LotFrontage  LotArea Street Alley LotShape  \\\n",
       "0   1          60       RL         65.0     8450   Pave   NaN      Reg   \n",
       "1   2          20       RL         80.0     9600   Pave   NaN      Reg   \n",
       "2   3          60       RL         68.0    11250   Pave   NaN      IR1   \n",
       "3   4          70       RL         60.0     9550   Pave   NaN      IR1   \n",
       "4   5          60       RL         84.0    14260   Pave   NaN      IR1   \n",
       "\n",
       "  LandContour Utilities     ...      SalePrice MSSubClass_fix LotFrontage_Imp  \\\n",
       "0         Lvl    AllPub     ...         208500             60            65.0   \n",
       "1         Lvl    AllPub     ...         181500             20            80.0   \n",
       "2         Lvl    AllPub     ...         223500             60            68.0   \n",
       "3         Lvl    AllPub     ...         140000             70            60.0   \n",
       "4         Lvl    AllPub     ...         250000             60            84.0   \n",
       "\n",
       "  SalePrice_log    YrMoSold FunctionalNum LotArea_log  BuiltRemodDiff  \\\n",
       "0     12.247694  2008-02-01             5    9.041922               0   \n",
       "1     12.109011  2007-05-01             5    9.169518               0   \n",
       "2     12.317167  2008-09-01             5    9.328123               1   \n",
       "3     11.849398  2006-02-01             5    9.164296              55   \n",
       "4     12.429216  2008-12-01             5    9.565214               0   \n",
       "\n",
       "   LandSlopeNum  Street_Pave  \n",
       "0             1            1  \n",
       "1             1            1  \n",
       "2             1            1  \n",
       "3             1            1  \n",
       "4             1            1  \n",
       "\n",
       "[5 rows x 90 columns]"
      ]
     },
     "execution_count": 3,
     "metadata": {},
     "output_type": "execute_result"
    }
   ],
   "source": [
    "# Load housing data\n",
    "\n",
    "housing = pd.read_csv('../../data/housing.2.csv')\n",
    "\n",
    "housing.head()"
   ]
  },
  {
   "cell_type": "code",
   "execution_count": 4,
   "metadata": {
    "ExecuteTime": {
     "end_time": "2019-05-20T07:37:40.523539Z",
     "start_time": "2019-05-20T07:37:40.518892Z"
    }
   },
   "outputs": [
    {
     "name": "stdout",
     "output_type": "stream",
     "text": [
      "Data has 1460 houses with 90 features\n"
     ]
    }
   ],
   "source": [
    "print('Data has {} houses with {} features'.format(housing.shape[0], housing.shape[1]))"
   ]
  },
  {
   "cell_type": "code",
   "execution_count": 5,
   "metadata": {
    "ExecuteTime": {
     "end_time": "2019-05-20T07:37:40.535309Z",
     "start_time": "2019-05-20T07:37:40.526052Z"
    }
   },
   "outputs": [],
   "source": [
    "# Initialize list variable to store dummy col dfs\n",
    "\n",
    "dummied_features = []\n",
    "dummied_col_num = 0"
   ]
  },
  {
   "cell_type": "markdown",
   "metadata": {},
   "source": [
    "# Data Wrangling\n",
    "\n",
    "## Roof"
   ]
  },
  {
   "cell_type": "code",
   "execution_count": 6,
   "metadata": {
    "ExecuteTime": {
     "end_time": "2019-05-20T07:37:40.566558Z",
     "start_time": "2019-05-20T07:37:40.540850Z"
    }
   },
   "outputs": [
    {
     "data": {
      "text/plain": [
       "RoofStyle  RoofMatl\n",
       "Flat       CompShg      0.068493\n",
       "           Membran      0.068493\n",
       "           Metal        0.068493\n",
       "           Tar&Grv      0.684932\n",
       "Gable      CompShg     77.671233\n",
       "           Roll         0.068493\n",
       "           Tar&Grv      0.068493\n",
       "           WdShngl      0.342466\n",
       "Gambrel    CompShg      0.753425\n",
       "Hip        ClyTile      0.068493\n",
       "           CompShg     19.315068\n",
       "           WdShake      0.136986\n",
       "           WdShngl      0.068493\n",
       "Mansard    CompShg      0.342466\n",
       "           WdShake      0.136986\n",
       "Shed       CompShg      0.068493\n",
       "           WdShake      0.068493\n",
       "dtype: float64"
      ]
     },
     "execution_count": 6,
     "metadata": {},
     "output_type": "execute_result"
    }
   ],
   "source": [
    "# Get % of roof types in data\n",
    "\n",
    "housing.groupby(['RoofStyle', 'RoofMatl']).size() / housing.shape[0] * 100"
   ]
  },
  {
   "cell_type": "code",
   "execution_count": 7,
   "metadata": {
    "ExecuteTime": {
     "end_time": "2019-05-20T07:37:40.573156Z",
     "start_time": "2019-05-20T07:37:40.568326Z"
    }
   },
   "outputs": [
    {
     "name": "stdout",
     "output_type": "stream",
     "text": [
      "17 combinations of roof types in data\n"
     ]
    }
   ],
   "source": [
    "print(\"{} combinations of roof types in data\".format(len(housing.groupby(['RoofStyle', 'RoofMatl']).size())))"
   ]
  },
  {
   "cell_type": "markdown",
   "metadata": {},
   "source": [
    "More than 3/4 of houses have gable-type roofs with standard shingles. 1/5 have hip roofs with standard shingles. "
   ]
  },
  {
   "cell_type": "code",
   "execution_count": 8,
   "metadata": {
    "ExecuteTime": {
     "end_time": "2019-05-20T07:37:40.585534Z",
     "start_time": "2019-05-20T07:37:40.574789Z"
    },
    "scrolled": true
   },
   "outputs": [
    {
     "data": {
      "text/plain": [
       "Gable      78.150685\n",
       "Hip        19.589041\n",
       "Flat        0.890411\n",
       "Gambrel     0.753425\n",
       "Mansard     0.479452\n",
       "Shed        0.136986\n",
       "Name: RoofStyle, dtype: float64"
      ]
     },
     "execution_count": 8,
     "metadata": {},
     "output_type": "execute_result"
    }
   ],
   "source": [
    "housing['RoofStyle'].value_counts(normalize=True) * 100"
   ]
  },
  {
   "cell_type": "markdown",
   "metadata": {},
   "source": [
    "`Flat`, `Gambrel`, `Mansard` and `Shed` are less than 1% of the data. We could condense this category by group all these values into `Other`."
   ]
  },
  {
   "cell_type": "code",
   "execution_count": 9,
   "metadata": {
    "ExecuteTime": {
     "end_time": "2019-05-20T07:37:40.599673Z",
     "start_time": "2019-05-20T07:37:40.587599Z"
    }
   },
   "outputs": [
    {
     "data": {
      "text/plain": [
       "Gable    78.150685\n",
       "Hip      19.589041\n",
       "Other     2.260274\n",
       "Name: RoofStyleCat, dtype: float64"
      ]
     },
     "execution_count": 9,
     "metadata": {},
     "output_type": "execute_result"
    }
   ],
   "source": [
    "other_styles = ['Flat', 'Gambrel', 'Mansard', 'Shed']\n",
    "\n",
    "housing['RoofStyleCat'] = housing['RoofStyle'].apply(lambda x: 'Other' if x in other_styles else x)\n",
    "housing['RoofStyleCat'].value_counts(normalize=True)  * 100"
   ]
  },
  {
   "cell_type": "code",
   "execution_count": 10,
   "metadata": {
    "ExecuteTime": {
     "end_time": "2019-05-20T07:37:40.618423Z",
     "start_time": "2019-05-20T07:37:40.601759Z"
    }
   },
   "outputs": [
    {
     "data": {
      "text/html": [
       "<div>\n",
       "<style scoped>\n",
       "    .dataframe tbody tr th:only-of-type {\n",
       "        vertical-align: middle;\n",
       "    }\n",
       "\n",
       "    .dataframe tbody tr th {\n",
       "        vertical-align: top;\n",
       "    }\n",
       "\n",
       "    .dataframe thead th {\n",
       "        text-align: right;\n",
       "    }\n",
       "</style>\n",
       "<table border=\"1\" class=\"dataframe\">\n",
       "  <thead>\n",
       "    <tr style=\"text-align: right;\">\n",
       "      <th></th>\n",
       "      <th>RoofStyle_Flat</th>\n",
       "      <th>RoofStyle_Gable</th>\n",
       "      <th>RoofStyle_Gambrel</th>\n",
       "      <th>RoofStyle_Hip</th>\n",
       "      <th>RoofStyle_Mansard</th>\n",
       "    </tr>\n",
       "  </thead>\n",
       "  <tbody>\n",
       "    <tr>\n",
       "      <th>0</th>\n",
       "      <td>0</td>\n",
       "      <td>1</td>\n",
       "      <td>0</td>\n",
       "      <td>0</td>\n",
       "      <td>0</td>\n",
       "    </tr>\n",
       "    <tr>\n",
       "      <th>1</th>\n",
       "      <td>0</td>\n",
       "      <td>1</td>\n",
       "      <td>0</td>\n",
       "      <td>0</td>\n",
       "      <td>0</td>\n",
       "    </tr>\n",
       "    <tr>\n",
       "      <th>2</th>\n",
       "      <td>0</td>\n",
       "      <td>1</td>\n",
       "      <td>0</td>\n",
       "      <td>0</td>\n",
       "      <td>0</td>\n",
       "    </tr>\n",
       "    <tr>\n",
       "      <th>3</th>\n",
       "      <td>0</td>\n",
       "      <td>1</td>\n",
       "      <td>0</td>\n",
       "      <td>0</td>\n",
       "      <td>0</td>\n",
       "    </tr>\n",
       "    <tr>\n",
       "      <th>4</th>\n",
       "      <td>0</td>\n",
       "      <td>1</td>\n",
       "      <td>0</td>\n",
       "      <td>0</td>\n",
       "      <td>0</td>\n",
       "    </tr>\n",
       "  </tbody>\n",
       "</table>\n",
       "</div>"
      ],
      "text/plain": [
       "   RoofStyle_Flat  RoofStyle_Gable  RoofStyle_Gambrel  RoofStyle_Hip  \\\n",
       "0               0                1                  0              0   \n",
       "1               0                1                  0              0   \n",
       "2               0                1                  0              0   \n",
       "3               0                1                  0              0   \n",
       "4               0                1                  0              0   \n",
       "\n",
       "   RoofStyle_Mansard  \n",
       "0                  0  \n",
       "1                  0  \n",
       "2                  0  \n",
       "3                  0  \n",
       "4                  0  "
      ]
     },
     "execution_count": 10,
     "metadata": {},
     "output_type": "execute_result"
    }
   ],
   "source": [
    "# Dummy all RoofStyle\n",
    "\n",
    "roofstyle_dummies = dummy_and_drop(housing, 'RoofStyle')\n",
    "dummied_features.append(roofstyle_dummies)\n",
    "dummied_col_num += roofstyle_dummies.shape[1]\n",
    "\n",
    "roofstyle_dummies.head()"
   ]
  },
  {
   "cell_type": "code",
   "execution_count": 11,
   "metadata": {
    "ExecuteTime": {
     "end_time": "2019-05-20T07:37:40.633303Z",
     "start_time": "2019-05-20T07:37:40.620031Z"
    }
   },
   "outputs": [
    {
     "data": {
      "text/html": [
       "<div>\n",
       "<style scoped>\n",
       "    .dataframe tbody tr th:only-of-type {\n",
       "        vertical-align: middle;\n",
       "    }\n",
       "\n",
       "    .dataframe tbody tr th {\n",
       "        vertical-align: top;\n",
       "    }\n",
       "\n",
       "    .dataframe thead th {\n",
       "        text-align: right;\n",
       "    }\n",
       "</style>\n",
       "<table border=\"1\" class=\"dataframe\">\n",
       "  <thead>\n",
       "    <tr style=\"text-align: right;\">\n",
       "      <th></th>\n",
       "      <th>RoofStyleCat_Gable</th>\n",
       "      <th>RoofStyleCat_Hip</th>\n",
       "    </tr>\n",
       "  </thead>\n",
       "  <tbody>\n",
       "    <tr>\n",
       "      <th>0</th>\n",
       "      <td>1</td>\n",
       "      <td>0</td>\n",
       "    </tr>\n",
       "    <tr>\n",
       "      <th>1</th>\n",
       "      <td>1</td>\n",
       "      <td>0</td>\n",
       "    </tr>\n",
       "    <tr>\n",
       "      <th>2</th>\n",
       "      <td>1</td>\n",
       "      <td>0</td>\n",
       "    </tr>\n",
       "    <tr>\n",
       "      <th>3</th>\n",
       "      <td>1</td>\n",
       "      <td>0</td>\n",
       "    </tr>\n",
       "    <tr>\n",
       "      <th>4</th>\n",
       "      <td>1</td>\n",
       "      <td>0</td>\n",
       "    </tr>\n",
       "  </tbody>\n",
       "</table>\n",
       "</div>"
      ],
      "text/plain": [
       "   RoofStyleCat_Gable  RoofStyleCat_Hip\n",
       "0                   1                 0\n",
       "1                   1                 0\n",
       "2                   1                 0\n",
       "3                   1                 0\n",
       "4                   1                 0"
      ]
     },
     "execution_count": 11,
     "metadata": {},
     "output_type": "execute_result"
    }
   ],
   "source": [
    "# Dummy all RoofStyleCat\n",
    "\n",
    "roofstylecat_dummies = dummy_and_drop(housing, 'RoofStyleCat')\n",
    "dummied_features.append(roofstylecat_dummies)\n",
    "dummied_col_num += roofstylecat_dummies.shape[1]\n",
    "\n",
    "roofstylecat_dummies.head()"
   ]
  },
  {
   "cell_type": "code",
   "execution_count": 12,
   "metadata": {
    "ExecuteTime": {
     "end_time": "2019-05-20T07:37:40.643258Z",
     "start_time": "2019-05-20T07:37:40.635345Z"
    },
    "scrolled": false
   },
   "outputs": [
    {
     "data": {
      "text/plain": [
       "CompShg    98.219178\n",
       "Tar&Grv     0.753425\n",
       "WdShngl     0.410959\n",
       "WdShake     0.342466\n",
       "Metal       0.068493\n",
       "ClyTile     0.068493\n",
       "Roll        0.068493\n",
       "Membran     0.068493\n",
       "Name: RoofMatl, dtype: float64"
      ]
     },
     "execution_count": 12,
     "metadata": {},
     "output_type": "execute_result"
    }
   ],
   "source": [
    "housing['RoofMatl'].value_counts(normalize=True) * 100"
   ]
  },
  {
   "cell_type": "markdown",
   "metadata": {},
   "source": [
    "More than 98% of `RoofMatl` is `CompShg` and all other materials are less than 1% of the data. It may be worth engineering a feature where roof material is either `CompShg` or other."
   ]
  },
  {
   "cell_type": "code",
   "execution_count": 13,
   "metadata": {
    "ExecuteTime": {
     "end_time": "2019-05-20T07:37:40.655002Z",
     "start_time": "2019-05-20T07:37:40.645302Z"
    }
   },
   "outputs": [],
   "source": [
    "housing['RoofMatl_CompShgBin'] = housing['RoofMatl'].apply(lambda x: 1 if x == 'CompShg' else 0)"
   ]
  },
  {
   "cell_type": "code",
   "execution_count": 14,
   "metadata": {
    "ExecuteTime": {
     "end_time": "2019-05-20T07:37:40.673429Z",
     "start_time": "2019-05-20T07:37:40.656589Z"
    }
   },
   "outputs": [
    {
     "data": {
      "text/html": [
       "<div>\n",
       "<style scoped>\n",
       "    .dataframe tbody tr th:only-of-type {\n",
       "        vertical-align: middle;\n",
       "    }\n",
       "\n",
       "    .dataframe tbody tr th {\n",
       "        vertical-align: top;\n",
       "    }\n",
       "\n",
       "    .dataframe thead th {\n",
       "        text-align: right;\n",
       "    }\n",
       "</style>\n",
       "<table border=\"1\" class=\"dataframe\">\n",
       "  <thead>\n",
       "    <tr style=\"text-align: right;\">\n",
       "      <th></th>\n",
       "      <th>RoofMatl_ClyTile</th>\n",
       "      <th>RoofMatl_CompShg</th>\n",
       "      <th>RoofMatl_Membran</th>\n",
       "      <th>RoofMatl_Roll</th>\n",
       "      <th>RoofMatl_Tar&amp;Grv</th>\n",
       "      <th>RoofMatl_WdShake</th>\n",
       "      <th>RoofMatl_WdShngl</th>\n",
       "    </tr>\n",
       "  </thead>\n",
       "  <tbody>\n",
       "    <tr>\n",
       "      <th>0</th>\n",
       "      <td>0</td>\n",
       "      <td>1</td>\n",
       "      <td>0</td>\n",
       "      <td>0</td>\n",
       "      <td>0</td>\n",
       "      <td>0</td>\n",
       "      <td>0</td>\n",
       "    </tr>\n",
       "    <tr>\n",
       "      <th>1</th>\n",
       "      <td>0</td>\n",
       "      <td>1</td>\n",
       "      <td>0</td>\n",
       "      <td>0</td>\n",
       "      <td>0</td>\n",
       "      <td>0</td>\n",
       "      <td>0</td>\n",
       "    </tr>\n",
       "    <tr>\n",
       "      <th>2</th>\n",
       "      <td>0</td>\n",
       "      <td>1</td>\n",
       "      <td>0</td>\n",
       "      <td>0</td>\n",
       "      <td>0</td>\n",
       "      <td>0</td>\n",
       "      <td>0</td>\n",
       "    </tr>\n",
       "    <tr>\n",
       "      <th>3</th>\n",
       "      <td>0</td>\n",
       "      <td>1</td>\n",
       "      <td>0</td>\n",
       "      <td>0</td>\n",
       "      <td>0</td>\n",
       "      <td>0</td>\n",
       "      <td>0</td>\n",
       "    </tr>\n",
       "    <tr>\n",
       "      <th>4</th>\n",
       "      <td>0</td>\n",
       "      <td>1</td>\n",
       "      <td>0</td>\n",
       "      <td>0</td>\n",
       "      <td>0</td>\n",
       "      <td>0</td>\n",
       "      <td>0</td>\n",
       "    </tr>\n",
       "  </tbody>\n",
       "</table>\n",
       "</div>"
      ],
      "text/plain": [
       "   RoofMatl_ClyTile  RoofMatl_CompShg  RoofMatl_Membran  RoofMatl_Roll  \\\n",
       "0                 0                 1                 0              0   \n",
       "1                 0                 1                 0              0   \n",
       "2                 0                 1                 0              0   \n",
       "3                 0                 1                 0              0   \n",
       "4                 0                 1                 0              0   \n",
       "\n",
       "   RoofMatl_Tar&Grv  RoofMatl_WdShake  RoofMatl_WdShngl  \n",
       "0                 0                 0                 0  \n",
       "1                 0                 0                 0  \n",
       "2                 0                 0                 0  \n",
       "3                 0                 0                 0  \n",
       "4                 0                 0                 0  "
      ]
     },
     "execution_count": 14,
     "metadata": {},
     "output_type": "execute_result"
    }
   ],
   "source": [
    "# Dummy all RoofMatl\n",
    "\n",
    "roofmatl_dummies = dummy_and_drop(housing, 'RoofMatl')\n",
    "dummied_features.append(roofmatl_dummies)\n",
    "dummied_col_num += roofmatl_dummies.shape[1]\n",
    "\n",
    "roofmatl_dummies.head()"
   ]
  },
  {
   "cell_type": "code",
   "execution_count": 15,
   "metadata": {
    "ExecuteTime": {
     "end_time": "2019-05-20T07:37:40.681304Z",
     "start_time": "2019-05-20T07:37:40.675855Z"
    }
   },
   "outputs": [
    {
     "data": {
      "text/plain": [
       "14"
      ]
     },
     "execution_count": 15,
     "metadata": {},
     "output_type": "execute_result"
    }
   ],
   "source": [
    "dummied_col_num "
   ]
  },
  {
   "cell_type": "markdown",
   "metadata": {},
   "source": [
    "## Exterior"
   ]
  },
  {
   "cell_type": "code",
   "execution_count": 16,
   "metadata": {
    "ExecuteTime": {
     "end_time": "2019-05-20T07:37:40.709229Z",
     "start_time": "2019-05-20T07:37:40.683208Z"
    }
   },
   "outputs": [
    {
     "name": "stdout",
     "output_type": "stream",
     "text": [
      "1323 house exteriors are of 1 material\n",
      "137 house exteriors are of 2 materials\n"
     ]
    }
   ],
   "source": [
    "# How many house exteriors are of a single material?\n",
    "\n",
    "print(\"{} house exteriors are of 1 material\".format(len(housing[housing['Exterior1st'] == housing['Exterior2nd']])))\n",
    "print(\"{} house exteriors are of 2 materials\".format(len(housing[housing['Exterior1st'] != housing['Exterior2nd']])))"
   ]
  },
  {
   "cell_type": "code",
   "execution_count": 17,
   "metadata": {
    "ExecuteTime": {
     "end_time": "2019-05-20T07:37:40.752320Z",
     "start_time": "2019-05-20T07:37:40.712845Z"
    }
   },
   "outputs": [],
   "source": [
    "# Add column counting number of exterior materials\n",
    "\n",
    "housing['ExtMatlNum'] = housing.apply(lambda x: 2 if x['Exterior1st'] != x['Exterior2nd'] else 1, axis=1)"
   ]
  },
  {
   "cell_type": "code",
   "execution_count": 18,
   "metadata": {
    "ExecuteTime": {
     "end_time": "2019-05-20T07:37:40.759349Z",
     "start_time": "2019-05-20T07:37:40.753753Z"
    },
    "scrolled": true
   },
   "outputs": [
    {
     "data": {
      "text/plain": [
       "1    1323\n",
       "2     137\n",
       "Name: ExtMatlNum, dtype: int64"
      ]
     },
     "execution_count": 18,
     "metadata": {},
     "output_type": "execute_result"
    }
   ],
   "source": [
    "housing['ExtMatlNum'].value_counts()"
   ]
  },
  {
   "cell_type": "code",
   "execution_count": 19,
   "metadata": {
    "ExecuteTime": {
     "end_time": "2019-05-20T07:37:40.770569Z",
     "start_time": "2019-05-20T07:37:40.761028Z"
    }
   },
   "outputs": [
    {
     "data": {
      "text/plain": [
       "{'AsbShng',\n",
       " 'AsphShn',\n",
       " 'BrkComm',\n",
       " 'BrkFace',\n",
       " 'CBlock',\n",
       " 'CemntBd',\n",
       " 'HdBoard',\n",
       " 'ImStucc',\n",
       " 'MetalSd',\n",
       " 'Other',\n",
       " 'Plywood',\n",
       " 'Stone',\n",
       " 'Stucco',\n",
       " 'VinylSd',\n",
       " 'Wd Sdng',\n",
       " 'WdShing'}"
      ]
     },
     "execution_count": 19,
     "metadata": {},
     "output_type": "execute_result"
    }
   ],
   "source": [
    "# Get unique values in both Exterior1st and Exterior2nd\n",
    "\n",
    "exterior_mats = set(housing['Exterior1st'].unique().tolist() + housing['Exterior2nd'].unique().tolist())\n",
    "exterior_mats"
   ]
  },
  {
   "cell_type": "code",
   "execution_count": 20,
   "metadata": {
    "ExecuteTime": {
     "end_time": "2019-05-20T07:37:41.338430Z",
     "start_time": "2019-05-20T07:37:40.772178Z"
    }
   },
   "outputs": [],
   "source": [
    "ext_df = pd.DataFrame()\n",
    "\n",
    "for mat in exterior_mats:\n",
    "    \n",
    "    ext_df['Exterior' + mat.replace(\" \", \"\")] = housing.apply(lambda x: 1 if (x['Exterior1st'] == mat) or (x['Exterior2nd'] == mat) else 0, axis=1)"
   ]
  },
  {
   "cell_type": "code",
   "execution_count": 21,
   "metadata": {
    "ExecuteTime": {
     "end_time": "2019-05-20T07:37:41.346836Z",
     "start_time": "2019-05-20T07:37:41.340393Z"
    },
    "scrolled": true
   },
   "outputs": [
    {
     "data": {
      "text/plain": [
       "ExteriorVinylSd    35.410959\n",
       "ExteriorWdShing     3.219178\n",
       "ExteriorAsbShng     1.575342\n",
       "ExteriorOther       0.068493\n",
       "ExteriorAsphShn     0.205479\n",
       "ExteriorWdSdng     15.479452\n",
       "ExteriorStucco      2.123288\n",
       "ExteriorBrkFace     3.493151\n",
       "ExteriorHdBoard    16.164384\n",
       "ExteriorImStucc     0.684932\n",
       "ExteriorCemntBd     4.246575\n",
       "ExteriorBrkComm     0.479452\n",
       "ExteriorMetalSd    15.205479\n",
       "ExteriorPlywood    10.547945\n",
       "ExteriorStone       0.410959\n",
       "ExteriorCBlock      0.068493\n",
       "dtype: float64"
      ]
     },
     "execution_count": 21,
     "metadata": {},
     "output_type": "execute_result"
    }
   ],
   "source": [
    "# Get % of houses with exterior material\n",
    "\n",
    "ext_df.sum() / housing.shape[0] * 100"
   ]
  },
  {
   "cell_type": "code",
   "execution_count": 22,
   "metadata": {
    "ExecuteTime": {
     "end_time": "2019-05-20T07:37:41.432417Z",
     "start_time": "2019-05-20T07:37:41.348484Z"
    }
   },
   "outputs": [
    {
     "data": {
      "text/plain": [
       "28"
      ]
     },
     "execution_count": 22,
     "metadata": {},
     "output_type": "execute_result"
    }
   ],
   "source": [
    "# Bin materials < 1% of data into ExteriorLT1\n",
    "\n",
    "ext_df['ExteriorOtherLT1'] = ext_df.apply(lambda x: 1 if (x['ExteriorOther'] == 1) or\n",
    "                                            (x['ExteriorCBlock'] == 1) or\n",
    "                                            (x['ExteriorImStucc'] == 1) or\n",
    "                                            (x['ExteriorAsphShn'] == 1) or\n",
    "                                            (x['ExteriorStone'] == 1) or\n",
    "                                            (x['ExteriorBrkComm'] == 1) else 0, axis=1)\n",
    "ext_df['ExteriorOtherLT1'].sum()"
   ]
  },
  {
   "cell_type": "code",
   "execution_count": 23,
   "metadata": {
    "ExecuteTime": {
     "end_time": "2019-05-20T07:37:41.455147Z",
     "start_time": "2019-05-20T07:37:41.433973Z"
    }
   },
   "outputs": [
    {
     "data": {
      "text/html": [
       "<div>\n",
       "<style scoped>\n",
       "    .dataframe tbody tr th:only-of-type {\n",
       "        vertical-align: middle;\n",
       "    }\n",
       "\n",
       "    .dataframe tbody tr th {\n",
       "        vertical-align: top;\n",
       "    }\n",
       "\n",
       "    .dataframe thead th {\n",
       "        text-align: right;\n",
       "    }\n",
       "</style>\n",
       "<table border=\"1\" class=\"dataframe\">\n",
       "  <thead>\n",
       "    <tr style=\"text-align: right;\">\n",
       "      <th></th>\n",
       "      <th>ExteriorVinylSd</th>\n",
       "      <th>ExteriorWdShing</th>\n",
       "      <th>ExteriorAsbShng</th>\n",
       "      <th>ExteriorOther</th>\n",
       "      <th>ExteriorAsphShn</th>\n",
       "      <th>ExteriorWdSdng</th>\n",
       "      <th>ExteriorStucco</th>\n",
       "      <th>ExteriorBrkFace</th>\n",
       "      <th>ExteriorHdBoard</th>\n",
       "      <th>ExteriorImStucc</th>\n",
       "      <th>ExteriorCemntBd</th>\n",
       "      <th>ExteriorBrkComm</th>\n",
       "      <th>ExteriorMetalSd</th>\n",
       "      <th>ExteriorPlywood</th>\n",
       "      <th>ExteriorStone</th>\n",
       "      <th>ExteriorCBlock</th>\n",
       "      <th>ExteriorOtherLT1</th>\n",
       "    </tr>\n",
       "  </thead>\n",
       "  <tbody>\n",
       "    <tr>\n",
       "      <th>0</th>\n",
       "      <td>1</td>\n",
       "      <td>0</td>\n",
       "      <td>0</td>\n",
       "      <td>0</td>\n",
       "      <td>0</td>\n",
       "      <td>0</td>\n",
       "      <td>0</td>\n",
       "      <td>0</td>\n",
       "      <td>0</td>\n",
       "      <td>0</td>\n",
       "      <td>0</td>\n",
       "      <td>0</td>\n",
       "      <td>0</td>\n",
       "      <td>0</td>\n",
       "      <td>0</td>\n",
       "      <td>0</td>\n",
       "      <td>0</td>\n",
       "    </tr>\n",
       "    <tr>\n",
       "      <th>1</th>\n",
       "      <td>0</td>\n",
       "      <td>0</td>\n",
       "      <td>0</td>\n",
       "      <td>0</td>\n",
       "      <td>0</td>\n",
       "      <td>0</td>\n",
       "      <td>0</td>\n",
       "      <td>0</td>\n",
       "      <td>0</td>\n",
       "      <td>0</td>\n",
       "      <td>0</td>\n",
       "      <td>0</td>\n",
       "      <td>1</td>\n",
       "      <td>0</td>\n",
       "      <td>0</td>\n",
       "      <td>0</td>\n",
       "      <td>0</td>\n",
       "    </tr>\n",
       "    <tr>\n",
       "      <th>2</th>\n",
       "      <td>1</td>\n",
       "      <td>0</td>\n",
       "      <td>0</td>\n",
       "      <td>0</td>\n",
       "      <td>0</td>\n",
       "      <td>0</td>\n",
       "      <td>0</td>\n",
       "      <td>0</td>\n",
       "      <td>0</td>\n",
       "      <td>0</td>\n",
       "      <td>0</td>\n",
       "      <td>0</td>\n",
       "      <td>0</td>\n",
       "      <td>0</td>\n",
       "      <td>0</td>\n",
       "      <td>0</td>\n",
       "      <td>0</td>\n",
       "    </tr>\n",
       "    <tr>\n",
       "      <th>3</th>\n",
       "      <td>0</td>\n",
       "      <td>1</td>\n",
       "      <td>0</td>\n",
       "      <td>0</td>\n",
       "      <td>0</td>\n",
       "      <td>1</td>\n",
       "      <td>0</td>\n",
       "      <td>0</td>\n",
       "      <td>0</td>\n",
       "      <td>0</td>\n",
       "      <td>0</td>\n",
       "      <td>0</td>\n",
       "      <td>0</td>\n",
       "      <td>0</td>\n",
       "      <td>0</td>\n",
       "      <td>0</td>\n",
       "      <td>0</td>\n",
       "    </tr>\n",
       "    <tr>\n",
       "      <th>4</th>\n",
       "      <td>1</td>\n",
       "      <td>0</td>\n",
       "      <td>0</td>\n",
       "      <td>0</td>\n",
       "      <td>0</td>\n",
       "      <td>0</td>\n",
       "      <td>0</td>\n",
       "      <td>0</td>\n",
       "      <td>0</td>\n",
       "      <td>0</td>\n",
       "      <td>0</td>\n",
       "      <td>0</td>\n",
       "      <td>0</td>\n",
       "      <td>0</td>\n",
       "      <td>0</td>\n",
       "      <td>0</td>\n",
       "      <td>0</td>\n",
       "    </tr>\n",
       "  </tbody>\n",
       "</table>\n",
       "</div>"
      ],
      "text/plain": [
       "   ExteriorVinylSd  ExteriorWdShing  ExteriorAsbShng  ExteriorOther  \\\n",
       "0                1                0                0              0   \n",
       "1                0                0                0              0   \n",
       "2                1                0                0              0   \n",
       "3                0                1                0              0   \n",
       "4                1                0                0              0   \n",
       "\n",
       "   ExteriorAsphShn  ExteriorWdSdng  ExteriorStucco  ExteriorBrkFace  \\\n",
       "0                0               0               0                0   \n",
       "1                0               0               0                0   \n",
       "2                0               0               0                0   \n",
       "3                0               1               0                0   \n",
       "4                0               0               0                0   \n",
       "\n",
       "   ExteriorHdBoard  ExteriorImStucc  ExteriorCemntBd  ExteriorBrkComm  \\\n",
       "0                0                0                0                0   \n",
       "1                0                0                0                0   \n",
       "2                0                0                0                0   \n",
       "3                0                0                0                0   \n",
       "4                0                0                0                0   \n",
       "\n",
       "   ExteriorMetalSd  ExteriorPlywood  ExteriorStone  ExteriorCBlock  \\\n",
       "0                0                0              0               0   \n",
       "1                1                0              0               0   \n",
       "2                0                0              0               0   \n",
       "3                0                0              0               0   \n",
       "4                0                0              0               0   \n",
       "\n",
       "   ExteriorOtherLT1  \n",
       "0                 0  \n",
       "1                 0  \n",
       "2                 0  \n",
       "3                 0  \n",
       "4                 0  "
      ]
     },
     "execution_count": 23,
     "metadata": {},
     "output_type": "execute_result"
    }
   ],
   "source": [
    "dummied_features.append(ext_df)\n",
    "dummied_col_num += ext_df.shape[1]\n",
    "\n",
    "ext_df.head()"
   ]
  },
  {
   "cell_type": "code",
   "execution_count": 24,
   "metadata": {
    "ExecuteTime": {
     "end_time": "2019-05-20T07:37:41.466391Z",
     "start_time": "2019-05-20T07:37:41.456812Z"
    }
   },
   "outputs": [
    {
     "data": {
      "text/plain": [
       "31"
      ]
     },
     "execution_count": 24,
     "metadata": {},
     "output_type": "execute_result"
    }
   ],
   "source": [
    "dummied_col_num"
   ]
  },
  {
   "cell_type": "code",
   "execution_count": 25,
   "metadata": {
    "ExecuteTime": {
     "end_time": "2019-05-20T07:37:41.479582Z",
     "start_time": "2019-05-20T07:37:41.468320Z"
    }
   },
   "outputs": [
    {
     "data": {
      "text/plain": [
       "None       59.726027\n",
       "BrkFace    30.479452\n",
       "Stone       8.767123\n",
       "BrkCmn      1.027397\n",
       "Name: MasVnrType, dtype: float64"
      ]
     },
     "execution_count": 25,
     "metadata": {},
     "output_type": "execute_result"
    }
   ],
   "source": [
    "# Get masonry veneer values\n",
    "\n",
    "housing['MasVnrType'].value_counts(dropna=False, normalize=True) * 100"
   ]
  },
  {
   "cell_type": "code",
   "execution_count": 26,
   "metadata": {
    "ExecuteTime": {
     "end_time": "2019-05-20T07:37:41.496511Z",
     "start_time": "2019-05-20T07:37:41.481578Z"
    }
   },
   "outputs": [
    {
     "data": {
      "text/html": [
       "<div>\n",
       "<style scoped>\n",
       "    .dataframe tbody tr th:only-of-type {\n",
       "        vertical-align: middle;\n",
       "    }\n",
       "\n",
       "    .dataframe tbody tr th {\n",
       "        vertical-align: top;\n",
       "    }\n",
       "\n",
       "    .dataframe thead th {\n",
       "        text-align: right;\n",
       "    }\n",
       "</style>\n",
       "<table border=\"1\" class=\"dataframe\">\n",
       "  <thead>\n",
       "    <tr style=\"text-align: right;\">\n",
       "      <th></th>\n",
       "      <th>MasVnrType_BrkFace</th>\n",
       "      <th>MasVnrType_None</th>\n",
       "      <th>MasVnrType_Stone</th>\n",
       "    </tr>\n",
       "  </thead>\n",
       "  <tbody>\n",
       "    <tr>\n",
       "      <th>0</th>\n",
       "      <td>1</td>\n",
       "      <td>0</td>\n",
       "      <td>0</td>\n",
       "    </tr>\n",
       "    <tr>\n",
       "      <th>1</th>\n",
       "      <td>0</td>\n",
       "      <td>1</td>\n",
       "      <td>0</td>\n",
       "    </tr>\n",
       "    <tr>\n",
       "      <th>2</th>\n",
       "      <td>1</td>\n",
       "      <td>0</td>\n",
       "      <td>0</td>\n",
       "    </tr>\n",
       "    <tr>\n",
       "      <th>3</th>\n",
       "      <td>0</td>\n",
       "      <td>1</td>\n",
       "      <td>0</td>\n",
       "    </tr>\n",
       "    <tr>\n",
       "      <th>4</th>\n",
       "      <td>1</td>\n",
       "      <td>0</td>\n",
       "      <td>0</td>\n",
       "    </tr>\n",
       "  </tbody>\n",
       "</table>\n",
       "</div>"
      ],
      "text/plain": [
       "   MasVnrType_BrkFace  MasVnrType_None  MasVnrType_Stone\n",
       "0                   1                0                 0\n",
       "1                   0                1                 0\n",
       "2                   1                0                 0\n",
       "3                   0                1                 0\n",
       "4                   1                0                 0"
      ]
     },
     "execution_count": 26,
     "metadata": {},
     "output_type": "execute_result"
    }
   ],
   "source": [
    "# Dummy masonry veneer types\n",
    "\n",
    "masvnr_dummies = dummy_and_drop(housing, 'MasVnrType')\n",
    "dummied_features.append(masvnr_dummies)\n",
    "dummied_col_num += masvnr_dummies.shape[1]\n",
    "\n",
    "masvnr_dummies.head()"
   ]
  },
  {
   "cell_type": "code",
   "execution_count": 27,
   "metadata": {
    "ExecuteTime": {
     "end_time": "2019-05-20T07:37:42.015210Z",
     "start_time": "2019-05-20T07:37:41.497972Z"
    }
   },
   "outputs": [
    {
     "name": "stdout",
     "output_type": "stream",
     "text": [
      "591 have no masonry veneer\n"
     ]
    },
    {
     "data": {
      "image/png": "[encoded data removed]",
      "text/plain": [
       "<Figure size 1080x576 with 2 Axes>"
      ]
     },
     "metadata": {},
     "output_type": "display_data"
    }
   ],
   "source": [
    "# Visualise distribution of masonr veneer area\n",
    "\n",
    "print(\"{} have no masonry veneer\".format(len(housing[housing['MasVnrArea'] > 0])))\n",
    "\n",
    "fig = plt.figure(figsize=(15, 8))\n",
    "\n",
    "ax1 = fig.add_subplot(221)\n",
    "ax1.hist(housing['MasVnrArea'])\n",
    "ax1.set_title(\"No transformation, all houses\")\n",
    "ax1.set_xlabel(\"Masonry veneer area\")\n",
    "\n",
    "ax1 = fig.add_subplot(222)\n",
    "ax1.hist(housing[housing['MasVnrArea'] > 0]['MasVnrArea'])\n",
    "ax1.set_title(\"No transformation, houses with masonry veneer\")\n",
    "ax1.set_xlabel(\"Masonry veneer area\")\n",
    "\n",
    "plt.show()"
   ]
  },
  {
   "cell_type": "code",
   "execution_count": 28,
   "metadata": {
    "ExecuteTime": {
     "end_time": "2019-05-20T07:37:42.280215Z",
     "start_time": "2019-05-20T07:37:42.017127Z"
    }
   },
   "outputs": [
    {
     "data": {
      "image/png": "[encoded data removed]",
      "text/plain": [
       "<Figure size 432x288 with 2 Axes>"
      ]
     },
     "metadata": {},
     "output_type": "display_data"
    }
   ],
   "source": [
    "# visualise heatmap of crosstab exterior quality and condition\n",
    "\n",
    "housing['ExterCond'] = pd.Categorical(housing['ExterCond'], \n",
    "                                      categories=['Po', 'Fa', 'TA', 'Gd', 'Ex'],\n",
    "                                      ordered=True)\n",
    "\n",
    "housing['ExterQual'] = pd.Categorical(housing['ExterQual'], \n",
    "                                      categories=['Fa', 'TA', 'Gd', 'Ex'],\n",
    "                                      ordered=True)\n",
    "\n",
    "sns.heatmap(pd.crosstab(housing['ExterCond'], housing['ExterQual']), annot=True, fmt='d', linewidth=0.1)\n",
    "plt.show()"
   ]
  },
  {
   "cell_type": "markdown",
   "metadata": {},
   "source": [
    "## Convert quality/condition categorical columns to numeric"
   ]
  },
  {
   "cell_type": "code",
   "execution_count": 29,
   "metadata": {
    "ExecuteTime": {
     "end_time": "2019-05-20T07:37:42.290270Z",
     "start_time": "2019-05-20T07:37:42.281970Z"
    }
   },
   "outputs": [],
   "source": [
    "def convert_qual_to_number(x):\n",
    "    \n",
    "    if x == 'Po':\n",
    "        return 1\n",
    "    elif x == 'Fa':\n",
    "        return 2\n",
    "    elif x == 'TA':\n",
    "        return 3\n",
    "    elif x == 'Gd':\n",
    "        return 4\n",
    "    elif x == 'Ex':\n",
    "        return 5\n",
    "    elif np.isnan(x):\n",
    "        return 0\n",
    "    else:\n",
    "        return np.nan"
   ]
  },
  {
   "cell_type": "code",
   "execution_count": 30,
   "metadata": {
    "ExecuteTime": {
     "end_time": "2019-05-20T07:37:42.311767Z",
     "start_time": "2019-05-20T07:37:42.292617Z"
    }
   },
   "outputs": [],
   "source": [
    "cond_qual_cols = ['ExterCond', 'ExterQual', 'BsmtQual', 'BsmtCond', 'HeatingQC', \n",
    "                  'KitchenQual', 'FireplaceQu', 'GarageQual', 'GarageCond']\n",
    "\n",
    "for col in cond_qual_cols:\n",
    "    housing[col+'Num'] = housing[col].apply(convert_qual_to_number)"
   ]
  },
  {
   "cell_type": "code",
   "execution_count": 31,
   "metadata": {
    "ExecuteTime": {
     "end_time": "2019-05-20T07:37:42.334359Z",
     "start_time": "2019-05-20T07:37:42.314638Z"
    }
   },
   "outputs": [
    {
     "data": {
      "text/html": [
       "<div>\n",
       "<style scoped>\n",
       "    .dataframe tbody tr th:only-of-type {\n",
       "        vertical-align: middle;\n",
       "    }\n",
       "\n",
       "    .dataframe tbody tr th {\n",
       "        vertical-align: top;\n",
       "    }\n",
       "\n",
       "    .dataframe thead th {\n",
       "        text-align: right;\n",
       "    }\n",
       "</style>\n",
       "<table border=\"1\" class=\"dataframe\">\n",
       "  <thead>\n",
       "    <tr style=\"text-align: right;\">\n",
       "      <th></th>\n",
       "      <th>ExterCondNum</th>\n",
       "      <th>ExterQualNum</th>\n",
       "      <th>BsmtQualNum</th>\n",
       "      <th>BsmtCondNum</th>\n",
       "      <th>HeatingQCNum</th>\n",
       "      <th>KitchenQualNum</th>\n",
       "      <th>FireplaceQuNum</th>\n",
       "      <th>GarageQualNum</th>\n",
       "      <th>GarageCondNum</th>\n",
       "    </tr>\n",
       "  </thead>\n",
       "  <tbody>\n",
       "    <tr>\n",
       "      <th>0</th>\n",
       "      <td>3</td>\n",
       "      <td>4</td>\n",
       "      <td>4</td>\n",
       "      <td>3</td>\n",
       "      <td>5</td>\n",
       "      <td>4</td>\n",
       "      <td>0</td>\n",
       "      <td>3</td>\n",
       "      <td>3</td>\n",
       "    </tr>\n",
       "    <tr>\n",
       "      <th>1</th>\n",
       "      <td>3</td>\n",
       "      <td>3</td>\n",
       "      <td>4</td>\n",
       "      <td>3</td>\n",
       "      <td>5</td>\n",
       "      <td>3</td>\n",
       "      <td>3</td>\n",
       "      <td>3</td>\n",
       "      <td>3</td>\n",
       "    </tr>\n",
       "    <tr>\n",
       "      <th>2</th>\n",
       "      <td>3</td>\n",
       "      <td>4</td>\n",
       "      <td>4</td>\n",
       "      <td>3</td>\n",
       "      <td>5</td>\n",
       "      <td>4</td>\n",
       "      <td>3</td>\n",
       "      <td>3</td>\n",
       "      <td>3</td>\n",
       "    </tr>\n",
       "    <tr>\n",
       "      <th>3</th>\n",
       "      <td>3</td>\n",
       "      <td>3</td>\n",
       "      <td>3</td>\n",
       "      <td>4</td>\n",
       "      <td>4</td>\n",
       "      <td>4</td>\n",
       "      <td>4</td>\n",
       "      <td>3</td>\n",
       "      <td>3</td>\n",
       "    </tr>\n",
       "    <tr>\n",
       "      <th>4</th>\n",
       "      <td>3</td>\n",
       "      <td>4</td>\n",
       "      <td>4</td>\n",
       "      <td>3</td>\n",
       "      <td>5</td>\n",
       "      <td>4</td>\n",
       "      <td>3</td>\n",
       "      <td>3</td>\n",
       "      <td>3</td>\n",
       "    </tr>\n",
       "  </tbody>\n",
       "</table>\n",
       "</div>"
      ],
      "text/plain": [
       "  ExterCondNum ExterQualNum  BsmtQualNum  BsmtCondNum  HeatingQCNum  \\\n",
       "0            3            4            4            3             5   \n",
       "1            3            3            4            3             5   \n",
       "2            3            4            4            3             5   \n",
       "3            3            3            3            4             4   \n",
       "4            3            4            4            3             5   \n",
       "\n",
       "   KitchenQualNum  FireplaceQuNum  GarageQualNum  GarageCondNum  \n",
       "0               4               0              3              3  \n",
       "1               3               3              3              3  \n",
       "2               4               3              3              3  \n",
       "3               4               4              3              3  \n",
       "4               4               3              3              3  "
      ]
     },
     "execution_count": 31,
     "metadata": {},
     "output_type": "execute_result"
    }
   ],
   "source": [
    "housing[housing.columns[-len(cond_qual_cols):]].head()"
   ]
  },
  {
   "cell_type": "markdown",
   "metadata": {},
   "source": [
    "## Foundation"
   ]
  },
  {
   "cell_type": "code",
   "execution_count": 32,
   "metadata": {
    "ExecuteTime": {
     "end_time": "2019-05-20T07:37:42.344982Z",
     "start_time": "2019-05-20T07:37:42.338644Z"
    }
   },
   "outputs": [
    {
     "data": {
      "text/plain": [
       "PConc     44.315068\n",
       "CBlock    43.424658\n",
       "BrkTil    10.000000\n",
       "Slab       1.643836\n",
       "Stone      0.410959\n",
       "Wood       0.205479\n",
       "Name: Foundation, dtype: float64"
      ]
     },
     "execution_count": 32,
     "metadata": {},
     "output_type": "execute_result"
    }
   ],
   "source": [
    "housing['Foundation'].value_counts(dropna=False, normalize=True) * 100"
   ]
  },
  {
   "cell_type": "code",
   "execution_count": 33,
   "metadata": {
    "ExecuteTime": {
     "end_time": "2019-05-20T07:37:42.357942Z",
     "start_time": "2019-05-20T07:37:42.347129Z"
    }
   },
   "outputs": [
    {
     "data": {
      "text/plain": [
       "PConc     44.315068\n",
       "CBlock    43.424658\n",
       "BrkTil    10.000000\n",
       "Other      2.260274\n",
       "Name: FoundationCat, dtype: float64"
      ]
     },
     "execution_count": 33,
     "metadata": {},
     "output_type": "execute_result"
    }
   ],
   "source": [
    "# Bin slab, stone and wood into other\n",
    "\n",
    "housing['FoundationCat'] = housing['Foundation'].apply(lambda x: 'Other' if x in ['Slab', 'Stone', 'Wood'] else x)\n",
    "\n",
    "housing['FoundationCat'].value_counts(dropna=False, normalize=True) * 100"
   ]
  },
  {
   "cell_type": "code",
   "execution_count": 34,
   "metadata": {
    "ExecuteTime": {
     "end_time": "2019-05-20T07:37:42.384179Z",
     "start_time": "2019-05-20T07:37:42.359854Z"
    }
   },
   "outputs": [
    {
     "data": {
      "text/html": [
       "<div>\n",
       "<style scoped>\n",
       "    .dataframe tbody tr th:only-of-type {\n",
       "        vertical-align: middle;\n",
       "    }\n",
       "\n",
       "    .dataframe tbody tr th {\n",
       "        vertical-align: top;\n",
       "    }\n",
       "\n",
       "    .dataframe thead th {\n",
       "        text-align: right;\n",
       "    }\n",
       "</style>\n",
       "<table border=\"1\" class=\"dataframe\">\n",
       "  <thead>\n",
       "    <tr style=\"text-align: right;\">\n",
       "      <th></th>\n",
       "      <th>Foundation_BrkTil</th>\n",
       "      <th>Foundation_CBlock</th>\n",
       "      <th>Foundation_PConc</th>\n",
       "      <th>Foundation_Slab</th>\n",
       "      <th>Foundation_Stone</th>\n",
       "    </tr>\n",
       "  </thead>\n",
       "  <tbody>\n",
       "    <tr>\n",
       "      <th>0</th>\n",
       "      <td>0</td>\n",
       "      <td>0</td>\n",
       "      <td>1</td>\n",
       "      <td>0</td>\n",
       "      <td>0</td>\n",
       "    </tr>\n",
       "    <tr>\n",
       "      <th>1</th>\n",
       "      <td>0</td>\n",
       "      <td>1</td>\n",
       "      <td>0</td>\n",
       "      <td>0</td>\n",
       "      <td>0</td>\n",
       "    </tr>\n",
       "    <tr>\n",
       "      <th>2</th>\n",
       "      <td>0</td>\n",
       "      <td>0</td>\n",
       "      <td>1</td>\n",
       "      <td>0</td>\n",
       "      <td>0</td>\n",
       "    </tr>\n",
       "    <tr>\n",
       "      <th>3</th>\n",
       "      <td>1</td>\n",
       "      <td>0</td>\n",
       "      <td>0</td>\n",
       "      <td>0</td>\n",
       "      <td>0</td>\n",
       "    </tr>\n",
       "    <tr>\n",
       "      <th>4</th>\n",
       "      <td>0</td>\n",
       "      <td>0</td>\n",
       "      <td>1</td>\n",
       "      <td>0</td>\n",
       "      <td>0</td>\n",
       "    </tr>\n",
       "  </tbody>\n",
       "</table>\n",
       "</div>"
      ],
      "text/plain": [
       "   Foundation_BrkTil  Foundation_CBlock  Foundation_PConc  Foundation_Slab  \\\n",
       "0                  0                  0                 1                0   \n",
       "1                  0                  1                 0                0   \n",
       "2                  0                  0                 1                0   \n",
       "3                  1                  0                 0                0   \n",
       "4                  0                  0                 1                0   \n",
       "\n",
       "   Foundation_Stone  \n",
       "0                 0  \n",
       "1                 0  \n",
       "2                 0  \n",
       "3                 0  \n",
       "4                 0  "
      ]
     },
     "execution_count": 34,
     "metadata": {},
     "output_type": "execute_result"
    }
   ],
   "source": [
    "# Dummy Foundation and FoundationCat\n",
    "\n",
    "foundation_dummies = dummy_and_drop(housing, 'Foundation')\n",
    "foundationcat_dummies = dummy_and_drop(housing, 'FoundationCat')\n",
    "\n",
    "dummied_col_num += foundation_dummies.shape[1]\n",
    "dummied_col_num += foundationcat_dummies.shape[1]\n",
    "dummied_features.append(foundation_dummies)\n",
    "dummied_features.append(foundationcat_dummies)\n",
    "\n",
    "foundation_dummies.head()"
   ]
  },
  {
   "cell_type": "code",
   "execution_count": 35,
   "metadata": {
    "ExecuteTime": {
     "end_time": "2019-05-20T07:37:42.388884Z",
     "start_time": "2019-05-20T07:37:42.385979Z"
    }
   },
   "outputs": [
    {
     "data": {
      "text/plain": [
       "42"
      ]
     },
     "execution_count": 35,
     "metadata": {},
     "output_type": "execute_result"
    }
   ],
   "source": [
    "dummied_col_num"
   ]
  },
  {
   "cell_type": "markdown",
   "metadata": {},
   "source": [
    "## Basement"
   ]
  },
  {
   "cell_type": "markdown",
   "metadata": {},
   "source": [
    "### Condition/quality"
   ]
  },
  {
   "cell_type": "code",
   "execution_count": 36,
   "metadata": {
    "ExecuteTime": {
     "end_time": "2019-05-20T07:37:42.667572Z",
     "start_time": "2019-05-20T07:37:42.390327Z"
    }
   },
   "outputs": [
    {
     "data": {
      "image/png": "[encoded data removed]",
      "text/plain": [
       "<Figure size 432x288 with 2 Axes>"
      ]
     },
     "metadata": {},
     "output_type": "display_data"
    }
   ],
   "source": [
    "sns.heatmap(pd.crosstab(housing['BsmtCondNum'], housing['BsmtQualNum']), annot=True, fmt='d', linewidth=0.1)\n",
    "plt.show()"
   ]
  },
  {
   "cell_type": "markdown",
   "metadata": {},
   "source": [
    "### Exposure"
   ]
  },
  {
   "cell_type": "code",
   "execution_count": 37,
   "metadata": {
    "ExecuteTime": {
     "end_time": "2019-05-20T07:37:42.677094Z",
     "start_time": "2019-05-20T07:37:42.670489Z"
    }
   },
   "outputs": [
    {
     "data": {
      "text/plain": [
       "No     953\n",
       "Av     221\n",
       "Gd     134\n",
       "Mn     114\n",
       "NaN     38\n",
       "Name: BsmtExposure, dtype: int64"
      ]
     },
     "execution_count": 37,
     "metadata": {},
     "output_type": "execute_result"
    }
   ],
   "source": [
    "# Find BsmtExposure value counts\n",
    "\n",
    "housing['BsmtExposure'].value_counts(dropna=False)"
   ]
  },
  {
   "cell_type": "code",
   "execution_count": 38,
   "metadata": {
    "ExecuteTime": {
     "end_time": "2019-05-20T07:37:42.706275Z",
     "start_time": "2019-05-20T07:37:42.679566Z"
    }
   },
   "outputs": [
    {
     "data": {
      "text/plain": [
       "1    953\n",
       "3    221\n",
       "4    134\n",
       "2    114\n",
       "0     38\n",
       "Name: BsmtExposureNum, dtype: int64"
      ]
     },
     "execution_count": 38,
     "metadata": {},
     "output_type": "execute_result"
    }
   ],
   "source": [
    "# Convert BsmtExposure column from categorical to ordinal and compare counts to BsmtExposure counts\n",
    "\n",
    "def convert_exposure(x):\n",
    "    \n",
    "    if x == 'No':\n",
    "        return 1\n",
    "    elif x == 'Mn':\n",
    "        return 2\n",
    "    elif x == 'Av':\n",
    "        return 3\n",
    "    elif x == 'Gd':\n",
    "        return 4\n",
    "    elif np.isnan(x):\n",
    "        return 0\n",
    "    else:\n",
    "        return np.nan\n",
    "    \n",
    "housing['BsmtExposureNum'] = housing['BsmtExposure'].apply(convert_exposure)\n",
    "\n",
    "housing['BsmtExposureNum'].value_counts()"
   ]
  },
  {
   "cell_type": "markdown",
   "metadata": {},
   "source": [
    "### Finish and area"
   ]
  },
  {
   "cell_type": "code",
   "execution_count": 39,
   "metadata": {
    "ExecuteTime": {
     "end_time": "2019-05-20T07:37:42.718480Z",
     "start_time": "2019-05-20T07:37:42.708587Z"
    }
   },
   "outputs": [
    {
     "data": {
      "text/plain": [
       "True"
      ]
     },
     "execution_count": 39,
     "metadata": {},
     "output_type": "execute_result"
    }
   ],
   "source": [
    "# Do basement SF totals of all houses in data add up correctly?\n",
    "\n",
    "(housing['BsmtFinSF1'] + housing['BsmtFinSF2'] +  housing['BsmtUnfSF'] == housing['TotalBsmtSF']).sum() == housing.shape[0]"
   ]
  },
  {
   "cell_type": "code",
   "execution_count": 40,
   "metadata": {
    "ExecuteTime": {
     "end_time": "2019-05-20T07:37:42.732670Z",
     "start_time": "2019-05-20T07:37:42.720285Z"
    }
   },
   "outputs": [
    {
     "data": {
      "text/plain": [
       "Unf    430\n",
       "GLQ    418\n",
       "ALQ    220\n",
       "BLQ    148\n",
       "Rec    133\n",
       "LwQ     74\n",
       "NaN     37\n",
       "Name: BsmtFinType1, dtype: int64"
      ]
     },
     "execution_count": 40,
     "metadata": {},
     "output_type": "execute_result"
    }
   ],
   "source": [
    "housing['BsmtFinType1'].value_counts(dropna=False)"
   ]
  },
  {
   "cell_type": "code",
   "execution_count": 41,
   "metadata": {
    "ExecuteTime": {
     "end_time": "2019-05-20T07:37:42.747180Z",
     "start_time": "2019-05-20T07:37:42.734789Z"
    }
   },
   "outputs": [
    {
     "data": {
      "text/plain": [
       "Unf    1256\n",
       "Rec      54\n",
       "LwQ      46\n",
       "NaN      38\n",
       "BLQ      33\n",
       "ALQ      19\n",
       "GLQ      14\n",
       "Name: BsmtFinType2, dtype: int64"
      ]
     },
     "execution_count": 41,
     "metadata": {},
     "output_type": "execute_result"
    }
   ],
   "source": [
    "housing['BsmtFinType2'].value_counts(dropna=False)"
   ]
  },
  {
   "cell_type": "markdown",
   "metadata": {},
   "source": [
    "There is 1 more NaN in `BsmtFinType2` than in `BsmtFinType1`. These values should be the same if the house has no basement."
   ]
  },
  {
   "cell_type": "code",
   "execution_count": 42,
   "metadata": {
    "ExecuteTime": {
     "end_time": "2019-05-20T07:37:42.757752Z",
     "start_time": "2019-05-20T07:37:42.749329Z"
    }
   },
   "outputs": [],
   "source": [
    "basement_area_cols = ['BsmtFinType1', 'BsmtFinSF1', \n",
    "                      'BsmtFinType2', 'BsmtFinSF2',\n",
    "                      'BsmtUnfSF', 'TotalBsmtSF']"
   ]
  },
  {
   "cell_type": "code",
   "execution_count": 43,
   "metadata": {
    "ExecuteTime": {
     "end_time": "2019-05-20T07:37:42.775823Z",
     "start_time": "2019-05-20T07:37:42.759888Z"
    }
   },
   "outputs": [
    {
     "data": {
      "text/plain": [
       "0"
      ]
     },
     "execution_count": 43,
     "metadata": {},
     "output_type": "execute_result"
    }
   ],
   "source": [
    "# If types are NaN, total basement area should be 0\n",
    "\n",
    "housing[(housing['BsmtFinType1'].isnull()) & \n",
    "        (housing['BsmtFinType2'].isnull())]['TotalBsmtSF'].sum()"
   ]
  },
  {
   "cell_type": "code",
   "execution_count": 44,
   "metadata": {
    "ExecuteTime": {
     "end_time": "2019-05-20T07:37:42.789536Z",
     "start_time": "2019-05-20T07:37:42.777446Z"
    }
   },
   "outputs": [
    {
     "data": {
      "text/html": [
       "<div>\n",
       "<style scoped>\n",
       "    .dataframe tbody tr th:only-of-type {\n",
       "        vertical-align: middle;\n",
       "    }\n",
       "\n",
       "    .dataframe tbody tr th {\n",
       "        vertical-align: top;\n",
       "    }\n",
       "\n",
       "    .dataframe thead th {\n",
       "        text-align: right;\n",
       "    }\n",
       "</style>\n",
       "<table border=\"1\" class=\"dataframe\">\n",
       "  <thead>\n",
       "    <tr style=\"text-align: right;\">\n",
       "      <th></th>\n",
       "      <th>BsmtFinType1</th>\n",
       "      <th>BsmtFinSF1</th>\n",
       "      <th>BsmtFinType2</th>\n",
       "      <th>BsmtFinSF2</th>\n",
       "      <th>BsmtUnfSF</th>\n",
       "      <th>TotalBsmtSF</th>\n",
       "      <th>BsmtQual</th>\n",
       "      <th>BsmtCond</th>\n",
       "    </tr>\n",
       "  </thead>\n",
       "  <tbody>\n",
       "    <tr>\n",
       "      <th>332</th>\n",
       "      <td>GLQ</td>\n",
       "      <td>1124</td>\n",
       "      <td>NaN</td>\n",
       "      <td>479</td>\n",
       "      <td>1603</td>\n",
       "      <td>3206</td>\n",
       "      <td>Gd</td>\n",
       "      <td>TA</td>\n",
       "    </tr>\n",
       "  </tbody>\n",
       "</table>\n",
       "</div>"
      ],
      "text/plain": [
       "    BsmtFinType1  BsmtFinSF1 BsmtFinType2  BsmtFinSF2  BsmtUnfSF  TotalBsmtSF  \\\n",
       "332          GLQ        1124          NaN         479       1603         3206   \n",
       "\n",
       "    BsmtQual BsmtCond  \n",
       "332       Gd       TA  "
      ]
     },
     "execution_count": 44,
     "metadata": {},
     "output_type": "execute_result"
    }
   ],
   "source": [
    "housing[(~housing['BsmtFinType1'].isnull()) & \n",
    "        (housing['BsmtFinType2'].isnull())][basement_area_cols + ['BsmtQual', 'BsmtCond']]"
   ]
  },
  {
   "cell_type": "markdown",
   "metadata": {},
   "source": [
    "`BsmtFinType2` is `NaN` for house in row 332. As `BsmtCond` and `BsmtQual` indicate that this basement is in average to good condition and quality, we could replace this value with `ALQ`"
   ]
  },
  {
   "cell_type": "code",
   "execution_count": 45,
   "metadata": {
    "ExecuteTime": {
     "end_time": "2019-05-20T07:37:42.801164Z",
     "start_time": "2019-05-20T07:37:42.791064Z"
    }
   },
   "outputs": [],
   "source": [
    "housing.loc[332, 'BsmtFinType2'] = 'ALQ'"
   ]
  },
  {
   "cell_type": "markdown",
   "metadata": {},
   "source": [
    "Basements with the same value for `BsmtFinType1` and `BsmtFinType2` should be unifinished basements."
   ]
  },
  {
   "cell_type": "code",
   "execution_count": 46,
   "metadata": {
    "ExecuteTime": {
     "end_time": "2019-05-20T07:37:42.821196Z",
     "start_time": "2019-05-20T07:37:42.802841Z"
    }
   },
   "outputs": [
    {
     "data": {
      "text/plain": [
       "Unf    430\n",
       "BLQ      1\n",
       "Name: BsmtFinType1, dtype: int64"
      ]
     },
     "execution_count": 46,
     "metadata": {},
     "output_type": "execute_result"
    }
   ],
   "source": [
    "# For basements with 1 type of finish, what type are they?\n",
    "\n",
    "housing[housing['BsmtFinType1'] == housing['BsmtFinType2']]['BsmtFinType1'].value_counts(dropna=False)"
   ]
  },
  {
   "cell_type": "code",
   "execution_count": 47,
   "metadata": {
    "ExecuteTime": {
     "end_time": "2019-05-20T07:37:42.843700Z",
     "start_time": "2019-05-20T07:37:42.822749Z"
    }
   },
   "outputs": [
    {
     "data": {
      "text/plain": [
       "'Finished area 1'"
      ]
     },
     "metadata": {},
     "output_type": "display_data"
    },
    {
     "data": {
      "text/plain": [
       "0      430\n",
       "543      1\n",
       "Name: BsmtFinSF1, dtype: int64"
      ]
     },
     "metadata": {},
     "output_type": "display_data"
    },
    {
     "data": {
      "text/plain": [
       "'Finished area 2'"
      ]
     },
     "metadata": {},
     "output_type": "display_data"
    },
    {
     "data": {
      "text/plain": [
       "0      430\n",
       "119      1\n",
       "Name: BsmtFinSF2, dtype: int64"
      ]
     },
     "metadata": {},
     "output_type": "display_data"
    }
   ],
   "source": [
    "# Do these basements have values for FinSF1 and FinSF2?\n",
    "\n",
    "display(\"Finished area 1\")\n",
    "display(housing[housing['BsmtFinType1'] == housing['BsmtFinType2']]['BsmtFinSF1'].value_counts(dropna=False))\n",
    "\n",
    "display(\"Finished area 2\")\n",
    "display(housing[housing['BsmtFinType1'] == housing['BsmtFinType2']]['BsmtFinSF2'].value_counts(dropna=False))"
   ]
  },
  {
   "cell_type": "code",
   "execution_count": 48,
   "metadata": {
    "ExecuteTime": {
     "end_time": "2019-05-20T07:37:42.858409Z",
     "start_time": "2019-05-20T07:37:42.845724Z"
    }
   },
   "outputs": [
    {
     "data": {
      "text/html": [
       "<div>\n",
       "<style scoped>\n",
       "    .dataframe tbody tr th:only-of-type {\n",
       "        vertical-align: middle;\n",
       "    }\n",
       "\n",
       "    .dataframe tbody tr th {\n",
       "        vertical-align: top;\n",
       "    }\n",
       "\n",
       "    .dataframe thead th {\n",
       "        text-align: right;\n",
       "    }\n",
       "</style>\n",
       "<table border=\"1\" class=\"dataframe\">\n",
       "  <thead>\n",
       "    <tr style=\"text-align: right;\">\n",
       "      <th></th>\n",
       "      <th>BsmtFinType1</th>\n",
       "      <th>BsmtFinSF1</th>\n",
       "      <th>BsmtFinType2</th>\n",
       "      <th>BsmtFinSF2</th>\n",
       "      <th>BsmtUnfSF</th>\n",
       "      <th>TotalBsmtSF</th>\n",
       "    </tr>\n",
       "  </thead>\n",
       "  <tbody>\n",
       "    <tr>\n",
       "      <th>680</th>\n",
       "      <td>BLQ</td>\n",
       "      <td>543</td>\n",
       "      <td>BLQ</td>\n",
       "      <td>119</td>\n",
       "      <td>261</td>\n",
       "      <td>923</td>\n",
       "    </tr>\n",
       "  </tbody>\n",
       "</table>\n",
       "</div>"
      ],
      "text/plain": [
       "    BsmtFinType1  BsmtFinSF1 BsmtFinType2  BsmtFinSF2  BsmtUnfSF  TotalBsmtSF\n",
       "680          BLQ         543          BLQ         119        261          923"
      ]
     },
     "execution_count": 48,
     "metadata": {},
     "output_type": "execute_result"
    }
   ],
   "source": [
    "housing[(housing['BsmtFinType1'] == 'BLQ') &\n",
    "        (housing['BsmtFinType2'] == 'BLQ')][basement_area_cols]"
   ]
  },
  {
   "cell_type": "markdown",
   "metadata": {},
   "source": [
    "Basement finish and area values for house in row 680 do not make sense (Types should be different if not Unf) and could be in error. \n",
    "\n",
    "- Add BsmtFinSF1 and 2 together for new value BsmtFinSF1\n",
    "- Change BsmtFinType2 to Unf\n",
    "- Change BsmtFinSF2 to 0"
   ]
  },
  {
   "cell_type": "code",
   "execution_count": 49,
   "metadata": {
    "ExecuteTime": {
     "end_time": "2019-05-20T07:37:42.877033Z",
     "start_time": "2019-05-20T07:37:42.860652Z"
    }
   },
   "outputs": [
    {
     "data": {
      "text/plain": [
       "BsmtFinType1    BLQ\n",
       "BsmtFinSF1      662\n",
       "BsmtFinType2    Unf\n",
       "BsmtFinSF2        0\n",
       "BsmtUnfSF       261\n",
       "TotalBsmtSF     923\n",
       "Name: 680, dtype: object"
      ]
     },
     "execution_count": 49,
     "metadata": {},
     "output_type": "execute_result"
    }
   ],
   "source": [
    "housing.loc[680, 'BsmtFinSF1'] = 543 + 119\n",
    "housing.loc[680, 'BsmtFinType2'] = 'Unf'\n",
    "housing.loc[680, 'BsmtFinSF2'] = 0\n",
    "\n",
    "# Check values have been changed\n",
    "\n",
    "housing.loc[680, ['BsmtFinType1', 'BsmtFinSF1', 'BsmtFinType2', 'BsmtFinSF2', \n",
    "                                             'BsmtUnfSF', 'TotalBsmtSF']]"
   ]
  },
  {
   "cell_type": "code",
   "execution_count": 50,
   "metadata": {
    "ExecuteTime": {
     "end_time": "2019-05-20T07:37:42.890628Z",
     "start_time": "2019-05-20T07:37:42.879336Z"
    }
   },
   "outputs": [],
   "source": [
    "def count_basement_finish_counts(x):\n",
    "    \n",
    "    if (x['BsmtFinType1'] == 'No Basement') or (x['BsmtFinType2'] == 'No Basement'):\n",
    "        return 0\n",
    "    elif x['BsmtFinType1'] == x['BsmtFinType2']:\n",
    "        return 1\n",
    "    elif ['BsmtFinType1'] != x['BsmtFinType2']:\n",
    "        return 2\n",
    "    else:\n",
    "        return np.nan"
   ]
  },
  {
   "cell_type": "code",
   "execution_count": 51,
   "metadata": {
    "ExecuteTime": {
     "end_time": "2019-05-20T07:37:42.904259Z",
     "start_time": "2019-05-20T07:37:42.892807Z"
    }
   },
   "outputs": [],
   "source": [
    "housing_v2 = housing.fillna({'BsmtFinType1': 'No Basement',\n",
    "                             'BsmtFinType2': 'No Basement'}, axis=0) "
   ]
  },
  {
   "cell_type": "code",
   "execution_count": 52,
   "metadata": {
    "ExecuteTime": {
     "end_time": "2019-05-20T07:37:43.052312Z",
     "start_time": "2019-05-20T07:37:42.906436Z"
    }
   },
   "outputs": [
    {
     "data": {
      "text/plain": [
       "2    993\n",
       "1    430\n",
       "0     37\n",
       "Name: BsmtFinTypeNum, dtype: int64"
      ]
     },
     "execution_count": 52,
     "metadata": {},
     "output_type": "execute_result"
    }
   ],
   "source": [
    "housing_v2['BsmtFinTypeNum'] = housing_v2.apply(count_basement_finish_counts, axis=1)\n",
    "\n",
    "housing_v2['BsmtFinTypeNum'].value_counts()"
   ]
  },
  {
   "cell_type": "code",
   "execution_count": 53,
   "metadata": {
    "ExecuteTime": {
     "end_time": "2019-05-20T07:37:43.059486Z",
     "start_time": "2019-05-20T07:37:43.053805Z"
    }
   },
   "outputs": [
    {
     "data": {
      "text/plain": [
       "{'ALQ', 'BLQ', 'GLQ', 'LwQ', 'Rec'}"
      ]
     },
     "execution_count": 53,
     "metadata": {},
     "output_type": "execute_result"
    }
   ],
   "source": [
    "# Get basement finish values that are not NaN or Unf\n",
    "\n",
    "basement_fin = set(housing['BsmtFinType1'].unique().tolist() + housing['BsmtFinType2'].unique().tolist())\n",
    "basement_fin.remove(np.nan)\n",
    "basement_fin.remove('Unf')\n",
    "basement_fin"
   ]
  },
  {
   "cell_type": "code",
   "execution_count": 54,
   "metadata": {
    "ExecuteTime": {
     "end_time": "2019-05-20T07:37:43.611210Z",
     "start_time": "2019-05-20T07:37:43.061194Z"
    }
   },
   "outputs": [],
   "source": [
    "for fin in basement_fin:\n",
    "    \n",
    "    housing_v2['Bsmt'+fin] = housing_v2.apply(lambda x: 1 if (x['BsmtFinType1'] == fin) or (x['BsmtFinType2'] == fin) else 0, axis=1)\n",
    "    \n",
    "# Add BsmtUnf column: 1 if there is any area of unfinished basement\n",
    "\n",
    "housing_v2['BsmtUnf'] = housing_v2['BsmtUnfSF'].apply(lambda x: 1 if x > 0 else 0) "
   ]
  },
  {
   "cell_type": "code",
   "execution_count": 55,
   "metadata": {
    "ExecuteTime": {
     "end_time": "2019-05-20T07:37:43.622106Z",
     "start_time": "2019-05-20T07:37:43.612613Z"
    }
   },
   "outputs": [
    {
     "data": {
      "text/html": [
       "<div>\n",
       "<style scoped>\n",
       "    .dataframe tbody tr th:only-of-type {\n",
       "        vertical-align: middle;\n",
       "    }\n",
       "\n",
       "    .dataframe tbody tr th {\n",
       "        vertical-align: top;\n",
       "    }\n",
       "\n",
       "    .dataframe thead th {\n",
       "        text-align: right;\n",
       "    }\n",
       "</style>\n",
       "<table border=\"1\" class=\"dataframe\">\n",
       "  <thead>\n",
       "    <tr style=\"text-align: right;\">\n",
       "      <th></th>\n",
       "      <th>BsmtLwQ</th>\n",
       "      <th>BsmtBLQ</th>\n",
       "      <th>BsmtRec</th>\n",
       "      <th>BsmtGLQ</th>\n",
       "      <th>BsmtALQ</th>\n",
       "      <th>BsmtUnf</th>\n",
       "    </tr>\n",
       "  </thead>\n",
       "  <tbody>\n",
       "    <tr>\n",
       "      <th>0</th>\n",
       "      <td>0</td>\n",
       "      <td>0</td>\n",
       "      <td>0</td>\n",
       "      <td>1</td>\n",
       "      <td>0</td>\n",
       "      <td>1</td>\n",
       "    </tr>\n",
       "    <tr>\n",
       "      <th>1</th>\n",
       "      <td>0</td>\n",
       "      <td>0</td>\n",
       "      <td>0</td>\n",
       "      <td>0</td>\n",
       "      <td>1</td>\n",
       "      <td>1</td>\n",
       "    </tr>\n",
       "    <tr>\n",
       "      <th>2</th>\n",
       "      <td>0</td>\n",
       "      <td>0</td>\n",
       "      <td>0</td>\n",
       "      <td>1</td>\n",
       "      <td>0</td>\n",
       "      <td>1</td>\n",
       "    </tr>\n",
       "    <tr>\n",
       "      <th>3</th>\n",
       "      <td>0</td>\n",
       "      <td>0</td>\n",
       "      <td>0</td>\n",
       "      <td>0</td>\n",
       "      <td>1</td>\n",
       "      <td>1</td>\n",
       "    </tr>\n",
       "    <tr>\n",
       "      <th>4</th>\n",
       "      <td>0</td>\n",
       "      <td>0</td>\n",
       "      <td>0</td>\n",
       "      <td>1</td>\n",
       "      <td>0</td>\n",
       "      <td>1</td>\n",
       "    </tr>\n",
       "  </tbody>\n",
       "</table>\n",
       "</div>"
      ],
      "text/plain": [
       "   BsmtLwQ  BsmtBLQ  BsmtRec  BsmtGLQ  BsmtALQ  BsmtUnf\n",
       "0        0        0        0        1        0        1\n",
       "1        0        0        0        0        1        1\n",
       "2        0        0        0        1        0        1\n",
       "3        0        0        0        0        1        1\n",
       "4        0        0        0        1        0        1"
      ]
     },
     "execution_count": 55,
     "metadata": {},
     "output_type": "execute_result"
    }
   ],
   "source": [
    "housing_v2[housing_v2.columns[-len(basement_fin) - 1:]].head()"
   ]
  },
  {
   "cell_type": "code",
   "execution_count": 56,
   "metadata": {
    "ExecuteTime": {
     "end_time": "2019-05-20T07:37:43.638108Z",
     "start_time": "2019-05-20T07:37:43.623720Z"
    }
   },
   "outputs": [
    {
     "data": {
      "text/plain": [
       "0"
      ]
     },
     "execution_count": 56,
     "metadata": {},
     "output_type": "execute_result"
    }
   ],
   "source": [
    "# Check column values for houses with no basement (sum of sum of no basement house rows should be 0)\n",
    "\n",
    "housing_v2[housing['BsmtFinType1'].isnull()][housing_v2.columns[-len(basement_fin) - 1:]].sum(axis=1).sum()"
   ]
  },
  {
   "cell_type": "code",
   "execution_count": 57,
   "metadata": {
    "ExecuteTime": {
     "end_time": "2019-05-20T07:37:43.653287Z",
     "start_time": "2019-05-20T07:37:43.640011Z"
    }
   },
   "outputs": [
    {
     "data": {
      "text/html": [
       "<div>\n",
       "<style scoped>\n",
       "    .dataframe tbody tr th:only-of-type {\n",
       "        vertical-align: middle;\n",
       "    }\n",
       "\n",
       "    .dataframe tbody tr th {\n",
       "        vertical-align: top;\n",
       "    }\n",
       "\n",
       "    .dataframe thead th {\n",
       "        text-align: right;\n",
       "    }\n",
       "</style>\n",
       "<table border=\"1\" class=\"dataframe\">\n",
       "  <thead>\n",
       "    <tr style=\"text-align: right;\">\n",
       "      <th></th>\n",
       "      <th>BsmtFinType1</th>\n",
       "      <th>BsmtFinSF1</th>\n",
       "      <th>BsmtFinType2</th>\n",
       "      <th>BsmtFinSF2</th>\n",
       "      <th>BsmtUnfSF</th>\n",
       "      <th>TotalBsmtSF</th>\n",
       "    </tr>\n",
       "  </thead>\n",
       "  <tbody>\n",
       "    <tr>\n",
       "      <th>0</th>\n",
       "      <td>GLQ</td>\n",
       "      <td>706</td>\n",
       "      <td>Unf</td>\n",
       "      <td>0</td>\n",
       "      <td>150</td>\n",
       "      <td>856</td>\n",
       "    </tr>\n",
       "    <tr>\n",
       "      <th>1</th>\n",
       "      <td>ALQ</td>\n",
       "      <td>978</td>\n",
       "      <td>Unf</td>\n",
       "      <td>0</td>\n",
       "      <td>284</td>\n",
       "      <td>1262</td>\n",
       "    </tr>\n",
       "    <tr>\n",
       "      <th>2</th>\n",
       "      <td>GLQ</td>\n",
       "      <td>486</td>\n",
       "      <td>Unf</td>\n",
       "      <td>0</td>\n",
       "      <td>434</td>\n",
       "      <td>920</td>\n",
       "    </tr>\n",
       "    <tr>\n",
       "      <th>3</th>\n",
       "      <td>ALQ</td>\n",
       "      <td>216</td>\n",
       "      <td>Unf</td>\n",
       "      <td>0</td>\n",
       "      <td>540</td>\n",
       "      <td>756</td>\n",
       "    </tr>\n",
       "    <tr>\n",
       "      <th>4</th>\n",
       "      <td>GLQ</td>\n",
       "      <td>655</td>\n",
       "      <td>Unf</td>\n",
       "      <td>0</td>\n",
       "      <td>490</td>\n",
       "      <td>1145</td>\n",
       "    </tr>\n",
       "  </tbody>\n",
       "</table>\n",
       "</div>"
      ],
      "text/plain": [
       "  BsmtFinType1  BsmtFinSF1 BsmtFinType2  BsmtFinSF2  BsmtUnfSF  TotalBsmtSF\n",
       "0          GLQ         706          Unf           0        150          856\n",
       "1          ALQ         978          Unf           0        284         1262\n",
       "2          GLQ         486          Unf           0        434          920\n",
       "3          ALQ         216          Unf           0        540          756\n",
       "4          GLQ         655          Unf           0        490         1145"
      ]
     },
     "execution_count": 57,
     "metadata": {},
     "output_type": "execute_result"
    }
   ],
   "source": [
    "housing_v2[basement_area_cols].head()"
   ]
  },
  {
   "cell_type": "code",
   "execution_count": 58,
   "metadata": {
    "ExecuteTime": {
     "end_time": "2019-05-20T07:37:43.905020Z",
     "start_time": "2019-05-20T07:37:43.655498Z"
    }
   },
   "outputs": [],
   "source": [
    "# ratio finished and unfinished basement area\n",
    "\n",
    "def create_finished_area_ratio(x):\n",
    "    \n",
    "    if x['TotalBsmtSF'] == 0:\n",
    "        return 0\n",
    "    else:\n",
    "        return (x['BsmtFinSF1'] + x['BsmtFinSF2']) / x['TotalBsmtSF']\n",
    "    \n",
    "def create_unfinished_area_ratio(x):\n",
    "    \n",
    "    if x['TotalBsmtSF'] == 0:\n",
    "        return 0\n",
    "    else:\n",
    "        return x['BsmtUnfSF'] / x['TotalBsmtSF']\n",
    "\n",
    "\n",
    "housing_v2['BsmtFinRatio'] = housing_v2.apply(create_finished_area_ratio, axis=1)\n",
    "\n",
    "housing_v2['BsmtUnfRatio'] = housing_v2.apply(create_unfinished_area_ratio, axis=1)"
   ]
  },
  {
   "cell_type": "code",
   "execution_count": 59,
   "metadata": {
    "ExecuteTime": {
     "end_time": "2019-05-20T07:37:43.919124Z",
     "start_time": "2019-05-20T07:37:43.906608Z"
    }
   },
   "outputs": [
    {
     "data": {
      "text/html": [
       "<div>\n",
       "<style scoped>\n",
       "    .dataframe tbody tr th:only-of-type {\n",
       "        vertical-align: middle;\n",
       "    }\n",
       "\n",
       "    .dataframe tbody tr th {\n",
       "        vertical-align: top;\n",
       "    }\n",
       "\n",
       "    .dataframe thead th {\n",
       "        text-align: right;\n",
       "    }\n",
       "</style>\n",
       "<table border=\"1\" class=\"dataframe\">\n",
       "  <thead>\n",
       "    <tr style=\"text-align: right;\">\n",
       "      <th></th>\n",
       "      <th>BsmtFinType1</th>\n",
       "      <th>BsmtFinSF1</th>\n",
       "      <th>BsmtFinType2</th>\n",
       "      <th>BsmtFinSF2</th>\n",
       "      <th>BsmtUnfSF</th>\n",
       "      <th>TotalBsmtSF</th>\n",
       "      <th>BsmtFinRatio</th>\n",
       "      <th>BsmtUnfRatio</th>\n",
       "    </tr>\n",
       "  </thead>\n",
       "  <tbody>\n",
       "    <tr>\n",
       "      <th>0</th>\n",
       "      <td>GLQ</td>\n",
       "      <td>706</td>\n",
       "      <td>Unf</td>\n",
       "      <td>0</td>\n",
       "      <td>150</td>\n",
       "      <td>856</td>\n",
       "      <td>0.824766</td>\n",
       "      <td>0.175234</td>\n",
       "    </tr>\n",
       "    <tr>\n",
       "      <th>1</th>\n",
       "      <td>ALQ</td>\n",
       "      <td>978</td>\n",
       "      <td>Unf</td>\n",
       "      <td>0</td>\n",
       "      <td>284</td>\n",
       "      <td>1262</td>\n",
       "      <td>0.774960</td>\n",
       "      <td>0.225040</td>\n",
       "    </tr>\n",
       "    <tr>\n",
       "      <th>2</th>\n",
       "      <td>GLQ</td>\n",
       "      <td>486</td>\n",
       "      <td>Unf</td>\n",
       "      <td>0</td>\n",
       "      <td>434</td>\n",
       "      <td>920</td>\n",
       "      <td>0.528261</td>\n",
       "      <td>0.471739</td>\n",
       "    </tr>\n",
       "    <tr>\n",
       "      <th>3</th>\n",
       "      <td>ALQ</td>\n",
       "      <td>216</td>\n",
       "      <td>Unf</td>\n",
       "      <td>0</td>\n",
       "      <td>540</td>\n",
       "      <td>756</td>\n",
       "      <td>0.285714</td>\n",
       "      <td>0.714286</td>\n",
       "    </tr>\n",
       "    <tr>\n",
       "      <th>4</th>\n",
       "      <td>GLQ</td>\n",
       "      <td>655</td>\n",
       "      <td>Unf</td>\n",
       "      <td>0</td>\n",
       "      <td>490</td>\n",
       "      <td>1145</td>\n",
       "      <td>0.572052</td>\n",
       "      <td>0.427948</td>\n",
       "    </tr>\n",
       "    <tr>\n",
       "      <th>5</th>\n",
       "      <td>GLQ</td>\n",
       "      <td>732</td>\n",
       "      <td>Unf</td>\n",
       "      <td>0</td>\n",
       "      <td>64</td>\n",
       "      <td>796</td>\n",
       "      <td>0.919598</td>\n",
       "      <td>0.080402</td>\n",
       "    </tr>\n",
       "    <tr>\n",
       "      <th>6</th>\n",
       "      <td>GLQ</td>\n",
       "      <td>1369</td>\n",
       "      <td>Unf</td>\n",
       "      <td>0</td>\n",
       "      <td>317</td>\n",
       "      <td>1686</td>\n",
       "      <td>0.811981</td>\n",
       "      <td>0.188019</td>\n",
       "    </tr>\n",
       "    <tr>\n",
       "      <th>7</th>\n",
       "      <td>ALQ</td>\n",
       "      <td>859</td>\n",
       "      <td>BLQ</td>\n",
       "      <td>32</td>\n",
       "      <td>216</td>\n",
       "      <td>1107</td>\n",
       "      <td>0.804878</td>\n",
       "      <td>0.195122</td>\n",
       "    </tr>\n",
       "    <tr>\n",
       "      <th>8</th>\n",
       "      <td>Unf</td>\n",
       "      <td>0</td>\n",
       "      <td>Unf</td>\n",
       "      <td>0</td>\n",
       "      <td>952</td>\n",
       "      <td>952</td>\n",
       "      <td>0.000000</td>\n",
       "      <td>1.000000</td>\n",
       "    </tr>\n",
       "    <tr>\n",
       "      <th>9</th>\n",
       "      <td>GLQ</td>\n",
       "      <td>851</td>\n",
       "      <td>Unf</td>\n",
       "      <td>0</td>\n",
       "      <td>140</td>\n",
       "      <td>991</td>\n",
       "      <td>0.858729</td>\n",
       "      <td>0.141271</td>\n",
       "    </tr>\n",
       "  </tbody>\n",
       "</table>\n",
       "</div>"
      ],
      "text/plain": [
       "  BsmtFinType1  BsmtFinSF1 BsmtFinType2  BsmtFinSF2  BsmtUnfSF  TotalBsmtSF  \\\n",
       "0          GLQ         706          Unf           0        150          856   \n",
       "1          ALQ         978          Unf           0        284         1262   \n",
       "2          GLQ         486          Unf           0        434          920   \n",
       "3          ALQ         216          Unf           0        540          756   \n",
       "4          GLQ         655          Unf           0        490         1145   \n",
       "5          GLQ         732          Unf           0         64          796   \n",
       "6          GLQ        1369          Unf           0        317         1686   \n",
       "7          ALQ         859          BLQ          32        216         1107   \n",
       "8          Unf           0          Unf           0        952          952   \n",
       "9          GLQ         851          Unf           0        140          991   \n",
       "\n",
       "   BsmtFinRatio  BsmtUnfRatio  \n",
       "0      0.824766      0.175234  \n",
       "1      0.774960      0.225040  \n",
       "2      0.528261      0.471739  \n",
       "3      0.285714      0.714286  \n",
       "4      0.572052      0.427948  \n",
       "5      0.919598      0.080402  \n",
       "6      0.811981      0.188019  \n",
       "7      0.804878      0.195122  \n",
       "8      0.000000      1.000000  \n",
       "9      0.858729      0.141271  "
      ]
     },
     "execution_count": 59,
     "metadata": {},
     "output_type": "execute_result"
    }
   ],
   "source": [
    "housing_v2[basement_area_cols + ['BsmtFinRatio', 'BsmtUnfRatio']].head(10)"
   ]
  },
  {
   "cell_type": "code",
   "execution_count": 114,
   "metadata": {
    "ExecuteTime": {
     "end_time": "2019-05-20T07:40:24.631905Z",
     "start_time": "2019-05-20T07:40:24.478275Z"
    }
   },
   "outputs": [
    {
     "data": {
      "image/png": "[encoded data removed]",
      "text/plain": [
       "<Figure size 432x288 with 1 Axes>"
      ]
     },
     "metadata": {},
     "output_type": "display_data"
    }
   ],
   "source": [
    "housing_v2['TotalBsmtSF'].plot.hist()\n",
    "plt.show()"
   ]
  },
  {
   "cell_type": "markdown",
   "metadata": {},
   "source": [
    "## Utilities, heating, air and electrical"
   ]
  },
  {
   "cell_type": "code",
   "execution_count": 60,
   "metadata": {
    "ExecuteTime": {
     "end_time": "2019-05-20T07:37:43.933267Z",
     "start_time": "2019-05-20T07:37:43.920695Z"
    }
   },
   "outputs": [
    {
     "data": {
      "text/plain": [
       "AllPub    1459\n",
       "NoSeWa       1\n",
       "Name: Utilities, dtype: int64"
      ]
     },
     "execution_count": 60,
     "metadata": {},
     "output_type": "execute_result"
    }
   ],
   "source": [
    "housing_v2['Utilities'].value_counts(dropna=False)"
   ]
  },
  {
   "cell_type": "code",
   "execution_count": 61,
   "metadata": {
    "ExecuteTime": {
     "end_time": "2019-05-20T07:37:43.953951Z",
     "start_time": "2019-05-20T07:37:43.935399Z"
    }
   },
   "outputs": [
    {
     "data": {
      "text/html": [
       "<div>\n",
       "<style scoped>\n",
       "    .dataframe tbody tr th:only-of-type {\n",
       "        vertical-align: middle;\n",
       "    }\n",
       "\n",
       "    .dataframe tbody tr th {\n",
       "        vertical-align: top;\n",
       "    }\n",
       "\n",
       "    .dataframe thead th {\n",
       "        text-align: right;\n",
       "    }\n",
       "</style>\n",
       "<table border=\"1\" class=\"dataframe\">\n",
       "  <thead>\n",
       "    <tr style=\"text-align: right;\">\n",
       "      <th></th>\n",
       "      <th>Utilities</th>\n",
       "      <th>Utilities_AllPub</th>\n",
       "    </tr>\n",
       "  </thead>\n",
       "  <tbody>\n",
       "    <tr>\n",
       "      <th>0</th>\n",
       "      <td>AllPub</td>\n",
       "      <td>1</td>\n",
       "    </tr>\n",
       "    <tr>\n",
       "      <th>1</th>\n",
       "      <td>AllPub</td>\n",
       "      <td>1</td>\n",
       "    </tr>\n",
       "    <tr>\n",
       "      <th>2</th>\n",
       "      <td>AllPub</td>\n",
       "      <td>1</td>\n",
       "    </tr>\n",
       "    <tr>\n",
       "      <th>3</th>\n",
       "      <td>AllPub</td>\n",
       "      <td>1</td>\n",
       "    </tr>\n",
       "    <tr>\n",
       "      <th>4</th>\n",
       "      <td>AllPub</td>\n",
       "      <td>1</td>\n",
       "    </tr>\n",
       "  </tbody>\n",
       "</table>\n",
       "</div>"
      ],
      "text/plain": [
       "  Utilities  Utilities_AllPub\n",
       "0    AllPub                 1\n",
       "1    AllPub                 1\n",
       "2    AllPub                 1\n",
       "3    AllPub                 1\n",
       "4    AllPub                 1"
      ]
     },
     "execution_count": 61,
     "metadata": {},
     "output_type": "execute_result"
    }
   ],
   "source": [
    "# Dummy AllPub value only\n",
    "\n",
    "housing_v2['Utilities_AllPub'] = housing_v2['Utilities'].apply(lambda x:1 if x == 'AllPub' else 0)\n",
    "\n",
    "housing_v2[['Utilities', 'Utilities_AllPub']].head()"
   ]
  },
  {
   "cell_type": "code",
   "execution_count": 62,
   "metadata": {
    "ExecuteTime": {
     "end_time": "2019-05-20T07:37:43.967477Z",
     "start_time": "2019-05-20T07:37:43.959242Z"
    }
   },
   "outputs": [
    {
     "data": {
      "text/plain": [
       "GasA     97.808219\n",
       "GasW      1.232877\n",
       "Grav      0.479452\n",
       "Wall      0.273973\n",
       "OthW      0.136986\n",
       "Floor     0.068493\n",
       "Name: Heating, dtype: float64"
      ]
     },
     "execution_count": 62,
     "metadata": {},
     "output_type": "execute_result"
    }
   ],
   "source": [
    "housing_v2['Heating'].value_counts(dropna=False, normalize=True) * 100"
   ]
  },
  {
   "cell_type": "code",
   "execution_count": 63,
   "metadata": {
    "ExecuteTime": {
     "end_time": "2019-05-20T07:37:43.985452Z",
     "start_time": "2019-05-20T07:37:43.969607Z"
    }
   },
   "outputs": [
    {
     "data": {
      "text/html": [
       "<div>\n",
       "<style scoped>\n",
       "    .dataframe tbody tr th:only-of-type {\n",
       "        vertical-align: middle;\n",
       "    }\n",
       "\n",
       "    .dataframe tbody tr th {\n",
       "        vertical-align: top;\n",
       "    }\n",
       "\n",
       "    .dataframe thead th {\n",
       "        text-align: right;\n",
       "    }\n",
       "</style>\n",
       "<table border=\"1\" class=\"dataframe\">\n",
       "  <thead>\n",
       "    <tr style=\"text-align: right;\">\n",
       "      <th></th>\n",
       "      <th>Heating_GasA</th>\n",
       "      <th>Heating_GasW</th>\n",
       "      <th>Heating_Grav</th>\n",
       "      <th>Heating_OthW</th>\n",
       "      <th>Heating_Wall</th>\n",
       "    </tr>\n",
       "  </thead>\n",
       "  <tbody>\n",
       "    <tr>\n",
       "      <th>0</th>\n",
       "      <td>1</td>\n",
       "      <td>0</td>\n",
       "      <td>0</td>\n",
       "      <td>0</td>\n",
       "      <td>0</td>\n",
       "    </tr>\n",
       "    <tr>\n",
       "      <th>1</th>\n",
       "      <td>1</td>\n",
       "      <td>0</td>\n",
       "      <td>0</td>\n",
       "      <td>0</td>\n",
       "      <td>0</td>\n",
       "    </tr>\n",
       "    <tr>\n",
       "      <th>2</th>\n",
       "      <td>1</td>\n",
       "      <td>0</td>\n",
       "      <td>0</td>\n",
       "      <td>0</td>\n",
       "      <td>0</td>\n",
       "    </tr>\n",
       "    <tr>\n",
       "      <th>3</th>\n",
       "      <td>1</td>\n",
       "      <td>0</td>\n",
       "      <td>0</td>\n",
       "      <td>0</td>\n",
       "      <td>0</td>\n",
       "    </tr>\n",
       "    <tr>\n",
       "      <th>4</th>\n",
       "      <td>1</td>\n",
       "      <td>0</td>\n",
       "      <td>0</td>\n",
       "      <td>0</td>\n",
       "      <td>0</td>\n",
       "    </tr>\n",
       "    <tr>\n",
       "      <th>5</th>\n",
       "      <td>1</td>\n",
       "      <td>0</td>\n",
       "      <td>0</td>\n",
       "      <td>0</td>\n",
       "      <td>0</td>\n",
       "    </tr>\n",
       "    <tr>\n",
       "      <th>6</th>\n",
       "      <td>1</td>\n",
       "      <td>0</td>\n",
       "      <td>0</td>\n",
       "      <td>0</td>\n",
       "      <td>0</td>\n",
       "    </tr>\n",
       "    <tr>\n",
       "      <th>7</th>\n",
       "      <td>1</td>\n",
       "      <td>0</td>\n",
       "      <td>0</td>\n",
       "      <td>0</td>\n",
       "      <td>0</td>\n",
       "    </tr>\n",
       "    <tr>\n",
       "      <th>8</th>\n",
       "      <td>1</td>\n",
       "      <td>0</td>\n",
       "      <td>0</td>\n",
       "      <td>0</td>\n",
       "      <td>0</td>\n",
       "    </tr>\n",
       "    <tr>\n",
       "      <th>9</th>\n",
       "      <td>1</td>\n",
       "      <td>0</td>\n",
       "      <td>0</td>\n",
       "      <td>0</td>\n",
       "      <td>0</td>\n",
       "    </tr>\n",
       "    <tr>\n",
       "      <th>10</th>\n",
       "      <td>1</td>\n",
       "      <td>0</td>\n",
       "      <td>0</td>\n",
       "      <td>0</td>\n",
       "      <td>0</td>\n",
       "    </tr>\n",
       "    <tr>\n",
       "      <th>11</th>\n",
       "      <td>1</td>\n",
       "      <td>0</td>\n",
       "      <td>0</td>\n",
       "      <td>0</td>\n",
       "      <td>0</td>\n",
       "    </tr>\n",
       "    <tr>\n",
       "      <th>12</th>\n",
       "      <td>1</td>\n",
       "      <td>0</td>\n",
       "      <td>0</td>\n",
       "      <td>0</td>\n",
       "      <td>0</td>\n",
       "    </tr>\n",
       "    <tr>\n",
       "      <th>13</th>\n",
       "      <td>1</td>\n",
       "      <td>0</td>\n",
       "      <td>0</td>\n",
       "      <td>0</td>\n",
       "      <td>0</td>\n",
       "    </tr>\n",
       "    <tr>\n",
       "      <th>14</th>\n",
       "      <td>1</td>\n",
       "      <td>0</td>\n",
       "      <td>0</td>\n",
       "      <td>0</td>\n",
       "      <td>0</td>\n",
       "    </tr>\n",
       "  </tbody>\n",
       "</table>\n",
       "</div>"
      ],
      "text/plain": [
       "    Heating_GasA  Heating_GasW  Heating_Grav  Heating_OthW  Heating_Wall\n",
       "0              1             0             0             0             0\n",
       "1              1             0             0             0             0\n",
       "2              1             0             0             0             0\n",
       "3              1             0             0             0             0\n",
       "4              1             0             0             0             0\n",
       "5              1             0             0             0             0\n",
       "6              1             0             0             0             0\n",
       "7              1             0             0             0             0\n",
       "8              1             0             0             0             0\n",
       "9              1             0             0             0             0\n",
       "10             1             0             0             0             0\n",
       "11             1             0             0             0             0\n",
       "12             1             0             0             0             0\n",
       "13             1             0             0             0             0\n",
       "14             1             0             0             0             0"
      ]
     },
     "execution_count": 63,
     "metadata": {},
     "output_type": "execute_result"
    }
   ],
   "source": [
    "# Dummy all values\n",
    "\n",
    "heating_dummies = dummy_and_drop(housing_v2, 'Heating')\n",
    "dummied_features.append(heating_dummies)\n",
    "dummied_col_num += heating_dummies.shape[1]\n",
    "\n",
    "heating_dummies.head(15)"
   ]
  },
  {
   "cell_type": "code",
   "execution_count": 64,
   "metadata": {
    "ExecuteTime": {
     "end_time": "2019-05-20T07:37:43.996763Z",
     "start_time": "2019-05-20T07:37:43.987280Z"
    }
   },
   "outputs": [
    {
     "data": {
      "text/plain": [
       "47"
      ]
     },
     "execution_count": 64,
     "metadata": {},
     "output_type": "execute_result"
    }
   ],
   "source": [
    "dummied_col_num"
   ]
  },
  {
   "cell_type": "code",
   "execution_count": 65,
   "metadata": {
    "ExecuteTime": {
     "end_time": "2019-05-20T07:37:44.021802Z",
     "start_time": "2019-05-20T07:37:43.999495Z"
    }
   },
   "outputs": [
    {
     "data": {
      "text/html": [
       "<div>\n",
       "<style scoped>\n",
       "    .dataframe tbody tr th:only-of-type {\n",
       "        vertical-align: middle;\n",
       "    }\n",
       "\n",
       "    .dataframe tbody tr th {\n",
       "        vertical-align: top;\n",
       "    }\n",
       "\n",
       "    .dataframe thead th {\n",
       "        text-align: right;\n",
       "    }\n",
       "</style>\n",
       "<table border=\"1\" class=\"dataframe\">\n",
       "  <thead>\n",
       "    <tr style=\"text-align: right;\">\n",
       "      <th></th>\n",
       "      <th>HeatingCat_GasA</th>\n",
       "      <th>HeatingCat_GasW</th>\n",
       "    </tr>\n",
       "  </thead>\n",
       "  <tbody>\n",
       "    <tr>\n",
       "      <th>0</th>\n",
       "      <td>1</td>\n",
       "      <td>0</td>\n",
       "    </tr>\n",
       "    <tr>\n",
       "      <th>1</th>\n",
       "      <td>1</td>\n",
       "      <td>0</td>\n",
       "    </tr>\n",
       "    <tr>\n",
       "      <th>2</th>\n",
       "      <td>1</td>\n",
       "      <td>0</td>\n",
       "    </tr>\n",
       "    <tr>\n",
       "      <th>3</th>\n",
       "      <td>1</td>\n",
       "      <td>0</td>\n",
       "    </tr>\n",
       "    <tr>\n",
       "      <th>4</th>\n",
       "      <td>1</td>\n",
       "      <td>0</td>\n",
       "    </tr>\n",
       "  </tbody>\n",
       "</table>\n",
       "</div>"
      ],
      "text/plain": [
       "   HeatingCat_GasA  HeatingCat_GasW\n",
       "0                1                0\n",
       "1                1                0\n",
       "2                1                0\n",
       "3                1                0\n",
       "4                1                0"
      ]
     },
     "execution_count": 65,
     "metadata": {},
     "output_type": "execute_result"
    }
   ],
   "source": [
    "# Bin heating types < 1% into other and dummy\n",
    "\n",
    "housing_v2['HeatingCat'] = housing_v2['Heating'].apply(lambda x: 'Other' if x not in ['GasW', 'GasA'] else x)\n",
    "heating_cat_dummies = dummy_and_drop(housing_v2, 'HeatingCat')\n",
    "dummied_features.append(heating_cat_dummies)\n",
    "dummied_col_num += heating_cat_dummies.shape[1]\n",
    "\n",
    "heating_cat_dummies.head()"
   ]
  },
  {
   "cell_type": "code",
   "execution_count": 66,
   "metadata": {
    "ExecuteTime": {
     "end_time": "2019-05-20T07:37:44.037253Z",
     "start_time": "2019-05-20T07:37:44.023517Z"
    }
   },
   "outputs": [
    {
     "data": {
      "text/plain": [
       "Y    93.493151\n",
       "N     6.506849\n",
       "Name: CentralAir, dtype: float64"
      ]
     },
     "execution_count": 66,
     "metadata": {},
     "output_type": "execute_result"
    }
   ],
   "source": [
    "# Count central air\n",
    "\n",
    "housing_v2['CentralAir'].value_counts(dropna=False, normalize=True) * 100"
   ]
  },
  {
   "cell_type": "code",
   "execution_count": 67,
   "metadata": {
    "ExecuteTime": {
     "end_time": "2019-05-20T07:37:44.051969Z",
     "start_time": "2019-05-20T07:37:44.039266Z"
    }
   },
   "outputs": [
    {
     "data": {
      "text/plain": [
       "1    93.493151\n",
       "0     6.506849\n",
       "Name: CentralAirNum, dtype: float64"
      ]
     },
     "execution_count": 67,
     "metadata": {},
     "output_type": "execute_result"
    }
   ],
   "source": [
    "# Convert central air to numeric\n",
    "\n",
    "housing_v2['CentralAirNum'] = housing_v2['CentralAir'].apply(lambda x: 1 if x == 'Y' else 0)\n",
    "\n",
    "housing_v2['CentralAirNum'].value_counts(dropna=False, normalize=True) * 100"
   ]
  },
  {
   "cell_type": "code",
   "execution_count": 68,
   "metadata": {
    "ExecuteTime": {
     "end_time": "2019-05-20T07:37:44.062469Z",
     "start_time": "2019-05-20T07:37:44.053965Z"
    }
   },
   "outputs": [
    {
     "data": {
      "text/plain": [
       "SBrkr    91.438356\n",
       "FuseA     6.438356\n",
       "FuseF     1.849315\n",
       "FuseP     0.205479\n",
       "Mix       0.068493\n",
       "Name: Electrical, dtype: float64"
      ]
     },
     "execution_count": 68,
     "metadata": {},
     "output_type": "execute_result"
    }
   ],
   "source": [
    "housing_v2['Electrical'].value_counts(dropna=False, normalize=True) * 100"
   ]
  },
  {
   "cell_type": "code",
   "execution_count": 69,
   "metadata": {
    "ExecuteTime": {
     "end_time": "2019-05-20T07:37:44.075966Z",
     "start_time": "2019-05-20T07:37:44.064263Z"
    }
   },
   "outputs": [
    {
     "data": {
      "text/plain": [
       "SBrkr    91.438356\n",
       "Fuse      8.493151\n",
       "Mix       0.068493\n",
       "Name: ElectricalCat, dtype: float64"
      ]
     },
     "execution_count": 69,
     "metadata": {},
     "output_type": "execute_result"
    }
   ],
   "source": [
    "# Bin eletrical to sbrkr, fuse and mix\n",
    "\n",
    "housing_v2['ElectricalCat'] = housing_v2['Electrical'].apply(lambda x: 'Fuse' if x in ['FuseA', 'FuseF', 'FuseP'] else x)\n",
    "\n",
    "housing_v2['ElectricalCat'].value_counts(dropna=False, normalize=True) * 100"
   ]
  },
  {
   "cell_type": "code",
   "execution_count": 70,
   "metadata": {
    "ExecuteTime": {
     "end_time": "2019-05-20T07:37:44.105622Z",
     "start_time": "2019-05-20T07:37:44.077998Z"
    },
    "scrolled": true
   },
   "outputs": [
    {
     "data": {
      "text/html": [
       "<div>\n",
       "<style scoped>\n",
       "    .dataframe tbody tr th:only-of-type {\n",
       "        vertical-align: middle;\n",
       "    }\n",
       "\n",
       "    .dataframe tbody tr th {\n",
       "        vertical-align: top;\n",
       "    }\n",
       "\n",
       "    .dataframe thead th {\n",
       "        text-align: right;\n",
       "    }\n",
       "</style>\n",
       "<table border=\"1\" class=\"dataframe\">\n",
       "  <thead>\n",
       "    <tr style=\"text-align: right;\">\n",
       "      <th></th>\n",
       "      <th>Electrical_FuseA</th>\n",
       "      <th>Electrical_FuseF</th>\n",
       "      <th>Electrical_FuseP</th>\n",
       "      <th>Electrical_SBrkr</th>\n",
       "      <th>ElectricalCat_Fuse</th>\n",
       "      <th>ElectricalCat_SBrkr</th>\n",
       "    </tr>\n",
       "  </thead>\n",
       "  <tbody>\n",
       "    <tr>\n",
       "      <th>0</th>\n",
       "      <td>0</td>\n",
       "      <td>0</td>\n",
       "      <td>0</td>\n",
       "      <td>1</td>\n",
       "      <td>0</td>\n",
       "      <td>1</td>\n",
       "    </tr>\n",
       "    <tr>\n",
       "      <th>1</th>\n",
       "      <td>0</td>\n",
       "      <td>0</td>\n",
       "      <td>0</td>\n",
       "      <td>1</td>\n",
       "      <td>0</td>\n",
       "      <td>1</td>\n",
       "    </tr>\n",
       "    <tr>\n",
       "      <th>2</th>\n",
       "      <td>0</td>\n",
       "      <td>0</td>\n",
       "      <td>0</td>\n",
       "      <td>1</td>\n",
       "      <td>0</td>\n",
       "      <td>1</td>\n",
       "    </tr>\n",
       "    <tr>\n",
       "      <th>3</th>\n",
       "      <td>0</td>\n",
       "      <td>0</td>\n",
       "      <td>0</td>\n",
       "      <td>1</td>\n",
       "      <td>0</td>\n",
       "      <td>1</td>\n",
       "    </tr>\n",
       "    <tr>\n",
       "      <th>4</th>\n",
       "      <td>0</td>\n",
       "      <td>0</td>\n",
       "      <td>0</td>\n",
       "      <td>1</td>\n",
       "      <td>0</td>\n",
       "      <td>1</td>\n",
       "    </tr>\n",
       "    <tr>\n",
       "      <th>5</th>\n",
       "      <td>0</td>\n",
       "      <td>0</td>\n",
       "      <td>0</td>\n",
       "      <td>1</td>\n",
       "      <td>0</td>\n",
       "      <td>1</td>\n",
       "    </tr>\n",
       "    <tr>\n",
       "      <th>6</th>\n",
       "      <td>0</td>\n",
       "      <td>0</td>\n",
       "      <td>0</td>\n",
       "      <td>1</td>\n",
       "      <td>0</td>\n",
       "      <td>1</td>\n",
       "    </tr>\n",
       "    <tr>\n",
       "      <th>7</th>\n",
       "      <td>0</td>\n",
       "      <td>0</td>\n",
       "      <td>0</td>\n",
       "      <td>1</td>\n",
       "      <td>0</td>\n",
       "      <td>1</td>\n",
       "    </tr>\n",
       "    <tr>\n",
       "      <th>8</th>\n",
       "      <td>0</td>\n",
       "      <td>1</td>\n",
       "      <td>0</td>\n",
       "      <td>0</td>\n",
       "      <td>1</td>\n",
       "      <td>0</td>\n",
       "    </tr>\n",
       "    <tr>\n",
       "      <th>9</th>\n",
       "      <td>0</td>\n",
       "      <td>0</td>\n",
       "      <td>0</td>\n",
       "      <td>1</td>\n",
       "      <td>0</td>\n",
       "      <td>1</td>\n",
       "    </tr>\n",
       "  </tbody>\n",
       "</table>\n",
       "</div>"
      ],
      "text/plain": [
       "   Electrical_FuseA  Electrical_FuseF  Electrical_FuseP  Electrical_SBrkr  \\\n",
       "0                 0                 0                 0                 1   \n",
       "1                 0                 0                 0                 1   \n",
       "2                 0                 0                 0                 1   \n",
       "3                 0                 0                 0                 1   \n",
       "4                 0                 0                 0                 1   \n",
       "5                 0                 0                 0                 1   \n",
       "6                 0                 0                 0                 1   \n",
       "7                 0                 0                 0                 1   \n",
       "8                 0                 1                 0                 0   \n",
       "9                 0                 0                 0                 1   \n",
       "\n",
       "   ElectricalCat_Fuse  ElectricalCat_SBrkr  \n",
       "0                   0                    1  \n",
       "1                   0                    1  \n",
       "2                   0                    1  \n",
       "3                   0                    1  \n",
       "4                   0                    1  \n",
       "5                   0                    1  \n",
       "6                   0                    1  \n",
       "7                   0                    1  \n",
       "8                   1                    0  \n",
       "9                   0                    1  "
      ]
     },
     "execution_count": 70,
     "metadata": {},
     "output_type": "execute_result"
    }
   ],
   "source": [
    "# Dummy electrical \n",
    "\n",
    "electrical_dummies = dummy_and_drop(housing_v2, 'Electrical')\n",
    "dummied_features.append(electrical_dummies)\n",
    "dummied_col_num += electrical_dummies.shape[1]\n",
    "\n",
    "electricalcat_dummies = dummy_and_drop(housing_v2, 'ElectricalCat')\n",
    "dummied_features.append(electricalcat_dummies)\n",
    "dummied_col_num += electricalcat_dummies.shape[1]\n",
    "\n",
    "pd.concat([electrical_dummies, electricalcat_dummies], axis=1).head(10)"
   ]
  },
  {
   "cell_type": "code",
   "execution_count": 71,
   "metadata": {
    "ExecuteTime": {
     "end_time": "2019-05-20T07:37:44.114912Z",
     "start_time": "2019-05-20T07:37:44.108182Z"
    }
   },
   "outputs": [
    {
     "data": {
      "text/plain": [
       "55"
      ]
     },
     "execution_count": 71,
     "metadata": {},
     "output_type": "execute_result"
    }
   ],
   "source": [
    "dummied_col_num"
   ]
  },
  {
   "cell_type": "markdown",
   "metadata": {},
   "source": [
    "## Garage"
   ]
  },
  {
   "cell_type": "code",
   "execution_count": 72,
   "metadata": {
    "ExecuteTime": {
     "end_time": "2019-05-20T07:37:44.127805Z",
     "start_time": "2019-05-20T07:37:44.117248Z"
    }
   },
   "outputs": [
    {
     "data": {
      "text/plain": [
       "Attchd     59.589041\n",
       "Detchd     26.506849\n",
       "BuiltIn     6.027397\n",
       "NaN         5.547945\n",
       "Basment     1.301370\n",
       "CarPort     0.616438\n",
       "2Types      0.410959\n",
       "Name: GarageType, dtype: float64"
      ]
     },
     "execution_count": 72,
     "metadata": {},
     "output_type": "execute_result"
    }
   ],
   "source": [
    "# Check garage types\n",
    "\n",
    "housing_v2['GarageType'].value_counts(dropna=False, normalize=True) * 100"
   ]
  },
  {
   "cell_type": "code",
   "execution_count": 73,
   "metadata": {
    "ExecuteTime": {
     "end_time": "2019-05-20T07:37:44.148400Z",
     "start_time": "2019-05-20T07:37:44.130947Z"
    }
   },
   "outputs": [
    {
     "data": {
      "text/html": [
       "<div>\n",
       "<style scoped>\n",
       "    .dataframe tbody tr th:only-of-type {\n",
       "        vertical-align: middle;\n",
       "    }\n",
       "\n",
       "    .dataframe tbody tr th {\n",
       "        vertical-align: top;\n",
       "    }\n",
       "\n",
       "    .dataframe thead th {\n",
       "        text-align: right;\n",
       "    }\n",
       "</style>\n",
       "<table border=\"1\" class=\"dataframe\">\n",
       "  <thead>\n",
       "    <tr style=\"text-align: right;\">\n",
       "      <th></th>\n",
       "      <th>GarageType_Attchd</th>\n",
       "      <th>GarageType_Basment</th>\n",
       "      <th>GarageType_BuiltIn</th>\n",
       "      <th>GarageType_CarPort</th>\n",
       "      <th>GarageType_Detchd</th>\n",
       "      <th>GarageType_No</th>\n",
       "    </tr>\n",
       "  </thead>\n",
       "  <tbody>\n",
       "    <tr>\n",
       "      <th>0</th>\n",
       "      <td>1</td>\n",
       "      <td>0</td>\n",
       "      <td>0</td>\n",
       "      <td>0</td>\n",
       "      <td>0</td>\n",
       "      <td>0</td>\n",
       "    </tr>\n",
       "    <tr>\n",
       "      <th>1</th>\n",
       "      <td>1</td>\n",
       "      <td>0</td>\n",
       "      <td>0</td>\n",
       "      <td>0</td>\n",
       "      <td>0</td>\n",
       "      <td>0</td>\n",
       "    </tr>\n",
       "    <tr>\n",
       "      <th>2</th>\n",
       "      <td>1</td>\n",
       "      <td>0</td>\n",
       "      <td>0</td>\n",
       "      <td>0</td>\n",
       "      <td>0</td>\n",
       "      <td>0</td>\n",
       "    </tr>\n",
       "    <tr>\n",
       "      <th>3</th>\n",
       "      <td>0</td>\n",
       "      <td>0</td>\n",
       "      <td>0</td>\n",
       "      <td>0</td>\n",
       "      <td>1</td>\n",
       "      <td>0</td>\n",
       "    </tr>\n",
       "    <tr>\n",
       "      <th>4</th>\n",
       "      <td>1</td>\n",
       "      <td>0</td>\n",
       "      <td>0</td>\n",
       "      <td>0</td>\n",
       "      <td>0</td>\n",
       "      <td>0</td>\n",
       "    </tr>\n",
       "  </tbody>\n",
       "</table>\n",
       "</div>"
      ],
      "text/plain": [
       "   GarageType_Attchd  GarageType_Basment  GarageType_BuiltIn  \\\n",
       "0                  1                   0                   0   \n",
       "1                  1                   0                   0   \n",
       "2                  1                   0                   0   \n",
       "3                  0                   0                   0   \n",
       "4                  1                   0                   0   \n",
       "\n",
       "   GarageType_CarPort  GarageType_Detchd  GarageType_No  \n",
       "0                   0                  0              0  \n",
       "1                   0                  0              0  \n",
       "2                   0                  0              0  \n",
       "3                   0                  1              0  \n",
       "4                   0                  0              0  "
      ]
     },
     "execution_count": 73,
     "metadata": {},
     "output_type": "execute_result"
    }
   ],
   "source": [
    "# fill NaN with No\n",
    "\n",
    "housing_v2['GarageType'] = housing_v2['GarageType'].fillna('No')\n",
    "\n",
    "# dummy garage types\n",
    "\n",
    "garage_type_dummies = dummy_and_drop(housing_v2, 'GarageType')\n",
    "dummied_features.append(garage_type_dummies)\n",
    "dummied_col_num += garage_type_dummies.shape[1]\n",
    "\n",
    "garage_type_dummies.head()"
   ]
  },
  {
   "cell_type": "code",
   "execution_count": 74,
   "metadata": {
    "ExecuteTime": {
     "end_time": "2019-05-20T07:37:44.153907Z",
     "start_time": "2019-05-20T07:37:44.150516Z"
    }
   },
   "outputs": [
    {
     "data": {
      "text/plain": [
       "61"
      ]
     },
     "execution_count": 74,
     "metadata": {},
     "output_type": "execute_result"
    }
   ],
   "source": [
    "dummied_col_num"
   ]
  },
  {
   "cell_type": "code",
   "execution_count": 75,
   "metadata": {
    "ExecuteTime": {
     "end_time": "2019-05-20T07:37:44.165666Z",
     "start_time": "2019-05-20T07:37:44.155453Z"
    }
   },
   "outputs": [
    {
     "data": {
      "text/plain": [
       "81"
      ]
     },
     "execution_count": 75,
     "metadata": {},
     "output_type": "execute_result"
    }
   ],
   "source": [
    "# How many garages have missing year built values?\n",
    "\n",
    "housing_v2['GarageYrBlt'].isnull().sum()"
   ]
  },
  {
   "cell_type": "code",
   "execution_count": 76,
   "metadata": {
    "ExecuteTime": {
     "end_time": "2019-05-20T07:37:44.181977Z",
     "start_time": "2019-05-20T07:37:44.167849Z"
    }
   },
   "outputs": [
    {
     "data": {
      "text/plain": [
       "True"
      ]
     },
     "execution_count": 76,
     "metadata": {},
     "output_type": "execute_result"
    }
   ],
   "source": [
    "# Does this match the houses with no garages?\n",
    "\n",
    "len(housing_v2[(housing_v2['GarageType'] == 'No')]) == housing_v2['GarageYrBlt'].isnull().sum()"
   ]
  },
  {
   "cell_type": "code",
   "execution_count": 77,
   "metadata": {
    "ExecuteTime": {
     "end_time": "2019-05-20T07:37:44.198535Z",
     "start_time": "2019-05-20T07:37:44.184186Z"
    }
   },
   "outputs": [
    {
     "data": {
      "text/html": [
       "<div>\n",
       "<style scoped>\n",
       "    .dataframe tbody tr th:only-of-type {\n",
       "        vertical-align: middle;\n",
       "    }\n",
       "\n",
       "    .dataframe tbody tr th {\n",
       "        vertical-align: top;\n",
       "    }\n",
       "\n",
       "    .dataframe thead th {\n",
       "        text-align: right;\n",
       "    }\n",
       "</style>\n",
       "<table border=\"1\" class=\"dataframe\">\n",
       "  <thead>\n",
       "    <tr style=\"text-align: right;\">\n",
       "      <th></th>\n",
       "      <th>GarageYrBlt</th>\n",
       "      <th>YearBuilt</th>\n",
       "    </tr>\n",
       "  </thead>\n",
       "  <tbody>\n",
       "    <tr>\n",
       "      <th>29</th>\n",
       "      <td>1920.0</td>\n",
       "      <td>1927</td>\n",
       "    </tr>\n",
       "    <tr>\n",
       "      <th>93</th>\n",
       "      <td>1900.0</td>\n",
       "      <td>1910</td>\n",
       "    </tr>\n",
       "    <tr>\n",
       "      <th>324</th>\n",
       "      <td>1961.0</td>\n",
       "      <td>1967</td>\n",
       "    </tr>\n",
       "    <tr>\n",
       "      <th>600</th>\n",
       "      <td>2003.0</td>\n",
       "      <td>2005</td>\n",
       "    </tr>\n",
       "    <tr>\n",
       "      <th>736</th>\n",
       "      <td>1949.0</td>\n",
       "      <td>1950</td>\n",
       "    </tr>\n",
       "    <tr>\n",
       "      <th>1103</th>\n",
       "      <td>1954.0</td>\n",
       "      <td>1959</td>\n",
       "    </tr>\n",
       "    <tr>\n",
       "      <th>1376</th>\n",
       "      <td>1925.0</td>\n",
       "      <td>1930</td>\n",
       "    </tr>\n",
       "    <tr>\n",
       "      <th>1414</th>\n",
       "      <td>1922.0</td>\n",
       "      <td>1923</td>\n",
       "    </tr>\n",
       "    <tr>\n",
       "      <th>1418</th>\n",
       "      <td>1962.0</td>\n",
       "      <td>1963</td>\n",
       "    </tr>\n",
       "  </tbody>\n",
       "</table>\n",
       "</div>"
      ],
      "text/plain": [
       "      GarageYrBlt  YearBuilt\n",
       "29         1920.0       1927\n",
       "93         1900.0       1910\n",
       "324        1961.0       1967\n",
       "600        2003.0       2005\n",
       "736        1949.0       1950\n",
       "1103       1954.0       1959\n",
       "1376       1925.0       1930\n",
       "1414       1922.0       1923\n",
       "1418       1962.0       1963"
      ]
     },
     "execution_count": 77,
     "metadata": {},
     "output_type": "execute_result"
    }
   ],
   "source": [
    "# Check if there are houses that have year garage built < year house built\n",
    "\n",
    "housing_v2[(housing_v2['GarageYrBlt'] < housing_v2['YearBuilt'])][['GarageYrBlt', 'YearBuilt']]"
   ]
  },
  {
   "cell_type": "code",
   "execution_count": 78,
   "metadata": {
    "ExecuteTime": {
     "end_time": "2019-05-20T07:37:44.209110Z",
     "start_time": "2019-05-20T07:37:44.200024Z"
    }
   },
   "outputs": [],
   "source": [
    "# Fill NaNs in GarageYrBlt with 0\n",
    "\n",
    "housing_v2['GarageYrBlt'] = housing_v2['GarageYrBlt'].fillna(0).astype(int)"
   ]
  },
  {
   "cell_type": "code",
   "execution_count": 79,
   "metadata": {
    "ExecuteTime": {
     "end_time": "2019-05-20T07:37:44.226360Z",
     "start_time": "2019-05-20T07:37:44.211092Z"
    }
   },
   "outputs": [
    {
     "data": {
      "text/html": [
       "<div>\n",
       "<style scoped>\n",
       "    .dataframe tbody tr th:only-of-type {\n",
       "        vertical-align: middle;\n",
       "    }\n",
       "\n",
       "    .dataframe tbody tr th {\n",
       "        vertical-align: top;\n",
       "    }\n",
       "\n",
       "    .dataframe thead th {\n",
       "        text-align: right;\n",
       "    }\n",
       "</style>\n",
       "<table border=\"1\" class=\"dataframe\">\n",
       "  <thead>\n",
       "    <tr style=\"text-align: right;\">\n",
       "      <th></th>\n",
       "      <th>YearBuilt</th>\n",
       "      <th>GarageYrBlt</th>\n",
       "      <th>GarageYrDiff</th>\n",
       "    </tr>\n",
       "  </thead>\n",
       "  <tbody>\n",
       "    <tr>\n",
       "      <th>0</th>\n",
       "      <td>2003</td>\n",
       "      <td>2003</td>\n",
       "      <td>0</td>\n",
       "    </tr>\n",
       "    <tr>\n",
       "      <th>1</th>\n",
       "      <td>1976</td>\n",
       "      <td>1976</td>\n",
       "      <td>0</td>\n",
       "    </tr>\n",
       "    <tr>\n",
       "      <th>2</th>\n",
       "      <td>2001</td>\n",
       "      <td>2001</td>\n",
       "      <td>0</td>\n",
       "    </tr>\n",
       "    <tr>\n",
       "      <th>3</th>\n",
       "      <td>1915</td>\n",
       "      <td>1998</td>\n",
       "      <td>83</td>\n",
       "    </tr>\n",
       "    <tr>\n",
       "      <th>4</th>\n",
       "      <td>2000</td>\n",
       "      <td>2000</td>\n",
       "      <td>0</td>\n",
       "    </tr>\n",
       "  </tbody>\n",
       "</table>\n",
       "</div>"
      ],
      "text/plain": [
       "   YearBuilt  GarageYrBlt  GarageYrDiff\n",
       "0       2003         2003             0\n",
       "1       1976         1976             0\n",
       "2       2001         2001             0\n",
       "3       1915         1998            83\n",
       "4       2000         2000             0"
      ]
     },
     "execution_count": 79,
     "metadata": {},
     "output_type": "execute_result"
    }
   ],
   "source": [
    "# Create difference between years house and garage built\n",
    "\n",
    "housing_v2['GarageYrDiff'] = housing_v2['GarageYrBlt'] - housing_v2['YearBuilt']\n",
    "\n",
    "housing_v2[['YearBuilt', 'GarageYrBlt','GarageYrDiff']].head()"
   ]
  },
  {
   "cell_type": "code",
   "execution_count": 80,
   "metadata": {
    "ExecuteTime": {
     "end_time": "2019-05-20T07:37:44.236173Z",
     "start_time": "2019-05-20T07:37:44.227808Z"
    }
   },
   "outputs": [
    {
     "data": {
      "text/plain": [
       "Unf    41.438356\n",
       "RFn    28.904110\n",
       "Fin    24.109589\n",
       "NaN     5.547945\n",
       "Name: GarageFinish, dtype: float64"
      ]
     },
     "execution_count": 80,
     "metadata": {},
     "output_type": "execute_result"
    }
   ],
   "source": [
    "housing_v2['GarageFinish'].value_counts(dropna=False, normalize=True) * 100"
   ]
  },
  {
   "cell_type": "code",
   "execution_count": 81,
   "metadata": {
    "ExecuteTime": {
     "end_time": "2019-05-20T07:37:44.251418Z",
     "start_time": "2019-05-20T07:37:44.237804Z"
    }
   },
   "outputs": [
    {
     "data": {
      "text/html": [
       "<div>\n",
       "<style scoped>\n",
       "    .dataframe tbody tr th:only-of-type {\n",
       "        vertical-align: middle;\n",
       "    }\n",
       "\n",
       "    .dataframe tbody tr th {\n",
       "        vertical-align: top;\n",
       "    }\n",
       "\n",
       "    .dataframe thead th {\n",
       "        text-align: right;\n",
       "    }\n",
       "</style>\n",
       "<table border=\"1\" class=\"dataframe\">\n",
       "  <thead>\n",
       "    <tr style=\"text-align: right;\">\n",
       "      <th></th>\n",
       "      <th>GarageFinish_Fin</th>\n",
       "      <th>GarageFinish_RFn</th>\n",
       "      <th>GarageFinish_Unf</th>\n",
       "    </tr>\n",
       "  </thead>\n",
       "  <tbody>\n",
       "    <tr>\n",
       "      <th>0</th>\n",
       "      <td>0</td>\n",
       "      <td>1</td>\n",
       "      <td>0</td>\n",
       "    </tr>\n",
       "    <tr>\n",
       "      <th>1</th>\n",
       "      <td>0</td>\n",
       "      <td>1</td>\n",
       "      <td>0</td>\n",
       "    </tr>\n",
       "    <tr>\n",
       "      <th>2</th>\n",
       "      <td>0</td>\n",
       "      <td>1</td>\n",
       "      <td>0</td>\n",
       "    </tr>\n",
       "    <tr>\n",
       "      <th>3</th>\n",
       "      <td>0</td>\n",
       "      <td>0</td>\n",
       "      <td>1</td>\n",
       "    </tr>\n",
       "    <tr>\n",
       "      <th>4</th>\n",
       "      <td>0</td>\n",
       "      <td>1</td>\n",
       "      <td>0</td>\n",
       "    </tr>\n",
       "  </tbody>\n",
       "</table>\n",
       "</div>"
      ],
      "text/plain": [
       "   GarageFinish_Fin  GarageFinish_RFn  GarageFinish_Unf\n",
       "0                 0                 1                 0\n",
       "1                 0                 1                 0\n",
       "2                 0                 1                 0\n",
       "3                 0                 0                 1\n",
       "4                 0                 1                 0"
      ]
     },
     "execution_count": 81,
     "metadata": {},
     "output_type": "execute_result"
    }
   ],
   "source": [
    "# dummy finish\n",
    "\n",
    "garage_fin_dummies = pd.get_dummies(housing_v2['GarageFinish'], prefix='GarageFinish')\n",
    "dummied_features.append(garage_fin_dummies)\n",
    "dummied_col_num += garage_fin_dummies.shape[1]\n",
    "\n",
    "garage_fin_dummies.head()"
   ]
  },
  {
   "cell_type": "code",
   "execution_count": 82,
   "metadata": {
    "ExecuteTime": {
     "end_time": "2019-05-20T07:37:44.258981Z",
     "start_time": "2019-05-20T07:37:44.252904Z"
    }
   },
   "outputs": [
    {
     "data": {
      "text/plain": [
       "64"
      ]
     },
     "execution_count": 82,
     "metadata": {},
     "output_type": "execute_result"
    }
   ],
   "source": [
    "dummied_col_num"
   ]
  },
  {
   "cell_type": "code",
   "execution_count": 83,
   "metadata": {
    "ExecuteTime": {
     "end_time": "2019-05-20T07:37:44.272203Z",
     "start_time": "2019-05-20T07:37:44.260513Z"
    }
   },
   "outputs": [
    {
     "data": {
      "text/plain": [
       "2    56.438356\n",
       "1    25.273973\n",
       "3    12.397260\n",
       "0     5.547945\n",
       "4     0.342466\n",
       "Name: GarageCars, dtype: float64"
      ]
     },
     "execution_count": 83,
     "metadata": {},
     "output_type": "execute_result"
    }
   ],
   "source": [
    "housing_v2['GarageCars'].value_counts(dropna=False, normalize=True) * 100"
   ]
  },
  {
   "cell_type": "code",
   "execution_count": 84,
   "metadata": {
    "ExecuteTime": {
     "end_time": "2019-05-20T07:37:44.428947Z",
     "start_time": "2019-05-20T07:37:44.273783Z"
    }
   },
   "outputs": [
    {
     "data": {
      "image/png": "[encoded data removed]",
      "text/plain": [
       "<Figure size 432x288 with 1 Axes>"
      ]
     },
     "metadata": {},
     "output_type": "display_data"
    }
   ],
   "source": [
    "housing_v2['GarageArea'].plot.hist()\n",
    "plt.show()"
   ]
  },
  {
   "cell_type": "code",
   "execution_count": 85,
   "metadata": {
    "ExecuteTime": {
     "end_time": "2019-05-20T07:37:44.437011Z",
     "start_time": "2019-05-20T07:37:44.430713Z"
    }
   },
   "outputs": [
    {
     "data": {
      "text/plain": [
       "0"
      ]
     },
     "execution_count": 85,
     "metadata": {},
     "output_type": "execute_result"
    }
   ],
   "source": [
    "# Check that garage area of no garage is 0\n",
    "\n",
    "housing_v2[housing_v2['GarageType'] == 'No']['GarageArea'].sum()"
   ]
  },
  {
   "cell_type": "code",
   "execution_count": 86,
   "metadata": {
    "ExecuteTime": {
     "end_time": "2019-05-20T07:37:44.451418Z",
     "start_time": "2019-05-20T07:37:44.439212Z"
    }
   },
   "outputs": [
    {
     "data": {
      "text/plain": [
       "Y    91.780822\n",
       "N     6.164384\n",
       "P     2.054795\n",
       "Name: PavedDrive, dtype: float64"
      ]
     },
     "execution_count": 86,
     "metadata": {},
     "output_type": "execute_result"
    }
   ],
   "source": [
    "# Check driveway\n",
    "\n",
    "housing_v2['PavedDrive'].value_counts(dropna=False, normalize=True) * 100"
   ]
  },
  {
   "cell_type": "code",
   "execution_count": 87,
   "metadata": {
    "ExecuteTime": {
     "end_time": "2019-05-20T07:37:44.467986Z",
     "start_time": "2019-05-20T07:37:44.453283Z"
    }
   },
   "outputs": [
    {
     "data": {
      "text/plain": [
       "Y    47\n",
       "N    32\n",
       "P     2\n",
       "Name: PavedDrive, dtype: int64"
      ]
     },
     "execution_count": 87,
     "metadata": {},
     "output_type": "execute_result"
    }
   ],
   "source": [
    "# Check value of Paved drive if no garage\n",
    "\n",
    "housing_v2[housing_v2['GarageType'] == 'No']['PavedDrive'].value_counts(dropna=False)"
   ]
  },
  {
   "cell_type": "code",
   "execution_count": 88,
   "metadata": {
    "ExecuteTime": {
     "end_time": "2019-05-20T07:37:44.484667Z",
     "start_time": "2019-05-20T07:37:44.470198Z"
    }
   },
   "outputs": [
    {
     "data": {
      "text/plain": [
       "1.0    91.780822\n",
       "0.0     6.164384\n",
       "0.5     2.054795\n",
       "Name: PavedDriveNum, dtype: float64"
      ]
     },
     "execution_count": 88,
     "metadata": {},
     "output_type": "execute_result"
    }
   ],
   "source": [
    "# Encode amount of pavement\n",
    "\n",
    "def encode_pavement(x):\n",
    "    \n",
    "    if x == 'Y':\n",
    "        return 1\n",
    "    elif x == 'P':\n",
    "        return 0.5\n",
    "    else:\n",
    "        return 0\n",
    "    \n",
    "housing_v2['PavedDriveNum'] = housing_v2['PavedDrive'].apply(encode_pavement)\n",
    "\n",
    "housing_v2['PavedDriveNum'].value_counts(dropna=False, normalize=True) * 100"
   ]
  },
  {
   "cell_type": "markdown",
   "metadata": {},
   "source": [
    "## Other outdoor"
   ]
  },
  {
   "cell_type": "markdown",
   "metadata": {},
   "source": [
    "### Porch area"
   ]
  },
  {
   "cell_type": "code",
   "execution_count": 89,
   "metadata": {
    "ExecuteTime": {
     "end_time": "2019-05-20T07:37:44.503879Z",
     "start_time": "2019-05-20T07:37:44.486754Z"
    }
   },
   "outputs": [
    {
     "data": {
      "text/html": [
       "<div>\n",
       "<style scoped>\n",
       "    .dataframe tbody tr th:only-of-type {\n",
       "        vertical-align: middle;\n",
       "    }\n",
       "\n",
       "    .dataframe tbody tr th {\n",
       "        vertical-align: top;\n",
       "    }\n",
       "\n",
       "    .dataframe thead th {\n",
       "        text-align: right;\n",
       "    }\n",
       "</style>\n",
       "<table border=\"1\" class=\"dataframe\">\n",
       "  <thead>\n",
       "    <tr style=\"text-align: right;\">\n",
       "      <th></th>\n",
       "      <th>WoodDeckSF</th>\n",
       "      <th>OpenPorchSF</th>\n",
       "      <th>EnclosedPorch</th>\n",
       "      <th>3SsnPorch</th>\n",
       "      <th>ScreenPorch</th>\n",
       "      <th>TotalPorchSF</th>\n",
       "    </tr>\n",
       "  </thead>\n",
       "  <tbody>\n",
       "    <tr>\n",
       "      <th>0</th>\n",
       "      <td>0</td>\n",
       "      <td>61</td>\n",
       "      <td>0</td>\n",
       "      <td>0</td>\n",
       "      <td>0</td>\n",
       "      <td>61</td>\n",
       "    </tr>\n",
       "    <tr>\n",
       "      <th>1</th>\n",
       "      <td>298</td>\n",
       "      <td>0</td>\n",
       "      <td>0</td>\n",
       "      <td>0</td>\n",
       "      <td>0</td>\n",
       "      <td>298</td>\n",
       "    </tr>\n",
       "    <tr>\n",
       "      <th>2</th>\n",
       "      <td>0</td>\n",
       "      <td>42</td>\n",
       "      <td>0</td>\n",
       "      <td>0</td>\n",
       "      <td>0</td>\n",
       "      <td>42</td>\n",
       "    </tr>\n",
       "    <tr>\n",
       "      <th>3</th>\n",
       "      <td>0</td>\n",
       "      <td>35</td>\n",
       "      <td>272</td>\n",
       "      <td>0</td>\n",
       "      <td>0</td>\n",
       "      <td>307</td>\n",
       "    </tr>\n",
       "    <tr>\n",
       "      <th>4</th>\n",
       "      <td>192</td>\n",
       "      <td>84</td>\n",
       "      <td>0</td>\n",
       "      <td>0</td>\n",
       "      <td>0</td>\n",
       "      <td>276</td>\n",
       "    </tr>\n",
       "  </tbody>\n",
       "</table>\n",
       "</div>"
      ],
      "text/plain": [
       "   WoodDeckSF  OpenPorchSF  EnclosedPorch  3SsnPorch  ScreenPorch  \\\n",
       "0           0           61              0          0            0   \n",
       "1         298            0              0          0            0   \n",
       "2           0           42              0          0            0   \n",
       "3           0           35            272          0            0   \n",
       "4         192           84              0          0            0   \n",
       "\n",
       "   TotalPorchSF  \n",
       "0            61  \n",
       "1           298  \n",
       "2            42  \n",
       "3           307  \n",
       "4           276  "
      ]
     },
     "execution_count": 89,
     "metadata": {},
     "output_type": "execute_result"
    }
   ],
   "source": [
    "# Total sum of porch area\n",
    "\n",
    "porch_sf = ['WoodDeckSF', 'OpenPorchSF', 'EnclosedPorch', '3SsnPorch', 'ScreenPorch']\n",
    "\n",
    "housing_v2[porch_sf].head()\n",
    "\n",
    "housing_v2['TotalPorchSF'] = housing_v2[porch_sf].sum(axis=1)\n",
    "\n",
    "housing_v2[porch_sf + ['TotalPorchSF']].head()"
   ]
  },
  {
   "cell_type": "code",
   "execution_count": 90,
   "metadata": {
    "ExecuteTime": {
     "end_time": "2019-05-20T07:37:44.514546Z",
     "start_time": "2019-05-20T07:37:44.505924Z"
    }
   },
   "outputs": [
    {
     "data": {
      "text/plain": [
       "0    1\n",
       "1    1\n",
       "2    1\n",
       "3    2\n",
       "4    2\n",
       "Name: TotalPorchTypeNum, dtype: int64"
      ]
     },
     "execution_count": 90,
     "metadata": {},
     "output_type": "execute_result"
    }
   ],
   "source": [
    "# Count total numer of porch types\n",
    "\n",
    "housing_v2['TotalPorchTypeNum'] = housing_v2[porch_sf].astype(bool).sum(axis=1)\n",
    "\n",
    "housing_v2['TotalPorchTypeNum'].head()"
   ]
  },
  {
   "cell_type": "code",
   "execution_count": 91,
   "metadata": {
    "ExecuteTime": {
     "end_time": "2019-05-20T07:37:44.528545Z",
     "start_time": "2019-05-20T07:37:44.516514Z"
    }
   },
   "outputs": [
    {
     "data": {
      "text/plain": [
       "0"
      ]
     },
     "execution_count": 91,
     "metadata": {},
     "output_type": "execute_result"
    }
   ],
   "source": [
    "# Check that houses with no pool have pool area of 0\n",
    "\n",
    "housing_v2[housing_v2['PoolQC'].isnull()]['PoolArea'].sum()"
   ]
  },
  {
   "cell_type": "code",
   "execution_count": 92,
   "metadata": {
    "ExecuteTime": {
     "end_time": "2019-05-20T07:37:44.540356Z",
     "start_time": "2019-05-20T07:37:44.530550Z"
    }
   },
   "outputs": [
    {
     "data": {
      "text/plain": [
       "NaN    99.520548\n",
       "Gd      0.205479\n",
       "Ex      0.136986\n",
       "Fa      0.136986\n",
       "Name: PoolQC, dtype: float64"
      ]
     },
     "execution_count": 92,
     "metadata": {},
     "output_type": "execute_result"
    }
   ],
   "source": [
    "# Check pool QC\n",
    "\n",
    "housing_v2['PoolQC'].value_counts(dropna=False, normalize=True)*100"
   ]
  },
  {
   "cell_type": "code",
   "execution_count": 93,
   "metadata": {
    "ExecuteTime": {
     "end_time": "2019-05-20T07:37:44.560057Z",
     "start_time": "2019-05-20T07:37:44.542442Z"
    }
   },
   "outputs": [
    {
     "data": {
      "text/plain": [
       "0    99.520548\n",
       "3     0.205479\n",
       "4     0.136986\n",
       "1     0.136986\n",
       "Name: PoolQCNum, dtype: float64"
      ]
     },
     "execution_count": 93,
     "metadata": {},
     "output_type": "execute_result"
    }
   ],
   "source": [
    "# Encode PoolQC\n",
    "\n",
    "def encode_poolqc(x):\n",
    "    \n",
    "    if x == 'Fa':\n",
    "        return 1\n",
    "    elif x == 'TA':\n",
    "        return 2\n",
    "    elif x == 'Gd':\n",
    "        return 3\n",
    "    elif x == 'Ex':\n",
    "        return 4\n",
    "    else:\n",
    "        return 0\n",
    "    \n",
    "housing_v2['PoolQCNum'] = housing_v2['PoolQC'].apply(encode_poolqc)\n",
    "\n",
    "housing_v2['PoolQCNum'].value_counts(dropna=False, normalize=True)*100"
   ]
  },
  {
   "cell_type": "markdown",
   "metadata": {},
   "source": [
    "### Fence"
   ]
  },
  {
   "cell_type": "code",
   "execution_count": 94,
   "metadata": {
    "ExecuteTime": {
     "end_time": "2019-05-20T07:37:44.574531Z",
     "start_time": "2019-05-20T07:37:44.562010Z"
    }
   },
   "outputs": [
    {
     "data": {
      "text/plain": [
       "NaN      80.753425\n",
       "MnPrv    10.753425\n",
       "GdPrv     4.041096\n",
       "GdWo      3.698630\n",
       "MnWw      0.753425\n",
       "Name: Fence, dtype: float64"
      ]
     },
     "execution_count": 94,
     "metadata": {},
     "output_type": "execute_result"
    }
   ],
   "source": [
    "housing_v2['Fence'].value_counts(dropna=False, normalize=True)*100"
   ]
  },
  {
   "cell_type": "code",
   "execution_count": 95,
   "metadata": {
    "ExecuteTime": {
     "end_time": "2019-05-20T07:37:44.593694Z",
     "start_time": "2019-05-20T07:37:44.576589Z"
    }
   },
   "outputs": [
    {
     "data": {
      "text/html": [
       "<div>\n",
       "<style scoped>\n",
       "    .dataframe tbody tr th:only-of-type {\n",
       "        vertical-align: middle;\n",
       "    }\n",
       "\n",
       "    .dataframe tbody tr th {\n",
       "        vertical-align: top;\n",
       "    }\n",
       "\n",
       "    .dataframe thead th {\n",
       "        text-align: right;\n",
       "    }\n",
       "</style>\n",
       "<table border=\"1\" class=\"dataframe\">\n",
       "  <thead>\n",
       "    <tr style=\"text-align: right;\">\n",
       "      <th></th>\n",
       "      <th>Fence_GdPrv</th>\n",
       "      <th>Fence_GdWo</th>\n",
       "      <th>Fence_MnPrv</th>\n",
       "      <th>Fence_None</th>\n",
       "    </tr>\n",
       "  </thead>\n",
       "  <tbody>\n",
       "    <tr>\n",
       "      <th>0</th>\n",
       "      <td>0</td>\n",
       "      <td>0</td>\n",
       "      <td>0</td>\n",
       "      <td>1</td>\n",
       "    </tr>\n",
       "    <tr>\n",
       "      <th>1</th>\n",
       "      <td>0</td>\n",
       "      <td>0</td>\n",
       "      <td>0</td>\n",
       "      <td>1</td>\n",
       "    </tr>\n",
       "    <tr>\n",
       "      <th>2</th>\n",
       "      <td>0</td>\n",
       "      <td>0</td>\n",
       "      <td>0</td>\n",
       "      <td>1</td>\n",
       "    </tr>\n",
       "    <tr>\n",
       "      <th>3</th>\n",
       "      <td>0</td>\n",
       "      <td>0</td>\n",
       "      <td>0</td>\n",
       "      <td>1</td>\n",
       "    </tr>\n",
       "    <tr>\n",
       "      <th>4</th>\n",
       "      <td>0</td>\n",
       "      <td>0</td>\n",
       "      <td>0</td>\n",
       "      <td>1</td>\n",
       "    </tr>\n",
       "  </tbody>\n",
       "</table>\n",
       "</div>"
      ],
      "text/plain": [
       "   Fence_GdPrv  Fence_GdWo  Fence_MnPrv  Fence_None\n",
       "0            0           0            0           1\n",
       "1            0           0            0           1\n",
       "2            0           0            0           1\n",
       "3            0           0            0           1\n",
       "4            0           0            0           1"
      ]
     },
     "execution_count": 95,
     "metadata": {},
     "output_type": "execute_result"
    }
   ],
   "source": [
    "# Fill NaN with None\n",
    "\n",
    "housing_v2['Fence'] = housing_v2['Fence'].fillna('None')\n",
    "\n",
    "# Dummy Fence values\n",
    "\n",
    "fence_dummies = dummy_and_drop(housing_v2, 'Fence')\n",
    "dummied_features.append(fence_dummies)\n",
    "dummied_col_num += fence_dummies.shape[1]\n",
    "\n",
    "fence_dummies.head()"
   ]
  },
  {
   "cell_type": "code",
   "execution_count": 96,
   "metadata": {
    "ExecuteTime": {
     "end_time": "2019-05-20T07:37:44.599402Z",
     "start_time": "2019-05-20T07:37:44.595431Z"
    }
   },
   "outputs": [
    {
     "data": {
      "text/plain": [
       "68"
      ]
     },
     "execution_count": 96,
     "metadata": {},
     "output_type": "execute_result"
    }
   ],
   "source": [
    "dummied_col_num"
   ]
  },
  {
   "cell_type": "markdown",
   "metadata": {},
   "source": [
    "### Misc."
   ]
  },
  {
   "cell_type": "code",
   "execution_count": 97,
   "metadata": {
    "ExecuteTime": {
     "end_time": "2019-05-20T07:37:44.612649Z",
     "start_time": "2019-05-20T07:37:44.601105Z"
    }
   },
   "outputs": [
    {
     "data": {
      "text/plain": [
       "NaN     96.301370\n",
       "Shed     3.356164\n",
       "Gar2     0.136986\n",
       "Othr     0.136986\n",
       "TenC     0.068493\n",
       "Name: MiscFeature, dtype: float64"
      ]
     },
     "execution_count": 97,
     "metadata": {},
     "output_type": "execute_result"
    }
   ],
   "source": [
    "housing_v2['MiscFeature'].value_counts(dropna=False, normalize=True)*100"
   ]
  },
  {
   "cell_type": "code",
   "execution_count": 98,
   "metadata": {
    "ExecuteTime": {
     "end_time": "2019-05-20T07:37:44.627175Z",
     "start_time": "2019-05-20T07:37:44.614187Z"
    }
   },
   "outputs": [
    {
     "data": {
      "text/plain": [
       "0"
      ]
     },
     "execution_count": 98,
     "metadata": {},
     "output_type": "execute_result"
    }
   ],
   "source": [
    "# Does MiscVal == 0 if MiscFeature is NaN?\n",
    "\n",
    "housing_v2[housing_v2['MiscFeature'].isnull()]['MiscVal'].sum()"
   ]
  },
  {
   "cell_type": "code",
   "execution_count": 99,
   "metadata": {
    "ExecuteTime": {
     "end_time": "2019-05-20T07:37:44.645662Z",
     "start_time": "2019-05-20T07:37:44.629183Z"
    }
   },
   "outputs": [
    {
     "data": {
      "text/html": [
       "<div>\n",
       "<style scoped>\n",
       "    .dataframe tbody tr th:only-of-type {\n",
       "        vertical-align: middle;\n",
       "    }\n",
       "\n",
       "    .dataframe tbody tr th {\n",
       "        vertical-align: top;\n",
       "    }\n",
       "\n",
       "    .dataframe thead th {\n",
       "        text-align: right;\n",
       "    }\n",
       "</style>\n",
       "<table border=\"1\" class=\"dataframe\">\n",
       "  <thead>\n",
       "    <tr style=\"text-align: right;\">\n",
       "      <th></th>\n",
       "      <th>MiscFeature_Gar2</th>\n",
       "      <th>MiscFeature_Othr</th>\n",
       "      <th>MiscFeature_Shed</th>\n",
       "      <th>MiscFeature_TenC</th>\n",
       "    </tr>\n",
       "  </thead>\n",
       "  <tbody>\n",
       "    <tr>\n",
       "      <th>0</th>\n",
       "      <td>0</td>\n",
       "      <td>0</td>\n",
       "      <td>0</td>\n",
       "      <td>0</td>\n",
       "    </tr>\n",
       "    <tr>\n",
       "      <th>1</th>\n",
       "      <td>0</td>\n",
       "      <td>0</td>\n",
       "      <td>0</td>\n",
       "      <td>0</td>\n",
       "    </tr>\n",
       "    <tr>\n",
       "      <th>2</th>\n",
       "      <td>0</td>\n",
       "      <td>0</td>\n",
       "      <td>0</td>\n",
       "      <td>0</td>\n",
       "    </tr>\n",
       "    <tr>\n",
       "      <th>3</th>\n",
       "      <td>0</td>\n",
       "      <td>0</td>\n",
       "      <td>0</td>\n",
       "      <td>0</td>\n",
       "    </tr>\n",
       "    <tr>\n",
       "      <th>4</th>\n",
       "      <td>0</td>\n",
       "      <td>0</td>\n",
       "      <td>0</td>\n",
       "      <td>0</td>\n",
       "    </tr>\n",
       "  </tbody>\n",
       "</table>\n",
       "</div>"
      ],
      "text/plain": [
       "   MiscFeature_Gar2  MiscFeature_Othr  MiscFeature_Shed  MiscFeature_TenC\n",
       "0                 0                 0                 0                 0\n",
       "1                 0                 0                 0                 0\n",
       "2                 0                 0                 0                 0\n",
       "3                 0                 0                 0                 0\n",
       "4                 0                 0                 0                 0"
      ]
     },
     "execution_count": 99,
     "metadata": {},
     "output_type": "execute_result"
    }
   ],
   "source": [
    "# DUmmy MiscFeature\n",
    "\n",
    "misc_dummies = pd.get_dummies(housing_v2['MiscFeature'], prefix='MiscFeature')\n",
    "dummied_col_num += misc_dummies.shape[1]\n",
    "dummied_features.append(misc_dummies)\n",
    "\n",
    "misc_dummies.head()"
   ]
  },
  {
   "cell_type": "markdown",
   "metadata": {},
   "source": [
    "## Interior"
   ]
  },
  {
   "cell_type": "markdown",
   "metadata": {},
   "source": [
    "### Interior room counts"
   ]
  },
  {
   "cell_type": "code",
   "execution_count": 100,
   "metadata": {
    "ExecuteTime": {
     "end_time": "2019-05-20T07:37:44.659189Z",
     "start_time": "2019-05-20T07:37:44.647368Z"
    }
   },
   "outputs": [
    {
     "name": "stdout",
     "output_type": "stream",
     "text": [
      "BsmtFullBath\n",
      "0    58.630137\n",
      "1    40.273973\n",
      "2     1.027397\n",
      "3     0.068493\n",
      "Name: BsmtFullBath, dtype: float64\n",
      "\n",
      "\n",
      "BsmtHalfBath\n",
      "0    94.383562\n",
      "1     5.479452\n",
      "2     0.136986\n",
      "Name: BsmtHalfBath, dtype: float64\n",
      "\n",
      "\n",
      "FullBath\n",
      "2    52.602740\n",
      "1    44.520548\n",
      "3     2.260274\n",
      "0     0.616438\n",
      "Name: FullBath, dtype: float64\n",
      "\n",
      "\n",
      "HalfBath\n",
      "0    62.534247\n",
      "1    36.643836\n",
      "2     0.821918\n",
      "Name: HalfBath, dtype: float64\n",
      "\n",
      "\n"
     ]
    }
   ],
   "source": [
    "## Count bathrooms\n",
    "\n",
    "for col in ['BsmtFullBath', 'BsmtHalfBath', 'FullBath', 'HalfBath']:\n",
    "    \n",
    "    print(col)\n",
    "    print(housing_v2[col].value_counts(dropna=False, normalize=True)*100)\n",
    "    print('\\n')"
   ]
  },
  {
   "cell_type": "code",
   "execution_count": 101,
   "metadata": {
    "ExecuteTime": {
     "end_time": "2019-05-20T07:37:44.667047Z",
     "start_time": "2019-05-20T07:37:44.660737Z"
    }
   },
   "outputs": [
    {
     "data": {
      "text/plain": [
       "3    55.068493\n",
       "2    24.520548\n",
       "4    14.589041\n",
       "1     3.424658\n",
       "5     1.438356\n",
       "6     0.479452\n",
       "0     0.410959\n",
       "8     0.068493\n",
       "Name: BedroomAbvGr, dtype: float64"
      ]
     },
     "execution_count": 101,
     "metadata": {},
     "output_type": "execute_result"
    }
   ],
   "source": [
    "housing_v2['BedroomAbvGr'].value_counts(dropna=False, normalize=True)*100"
   ]
  },
  {
   "cell_type": "code",
   "execution_count": 102,
   "metadata": {
    "ExecuteTime": {
     "end_time": "2019-05-20T07:37:44.679917Z",
     "start_time": "2019-05-20T07:37:44.668527Z"
    }
   },
   "outputs": [
    {
     "data": {
      "text/plain": [
       "1    95.342466\n",
       "2     4.452055\n",
       "3     0.136986\n",
       "0     0.068493\n",
       "Name: KitchenAbvGr, dtype: float64"
      ]
     },
     "execution_count": 102,
     "metadata": {},
     "output_type": "execute_result"
    }
   ],
   "source": [
    "housing_v2['KitchenAbvGr'].value_counts(dropna=False, normalize=True)*100"
   ]
  },
  {
   "cell_type": "code",
   "execution_count": 103,
   "metadata": {
    "ExecuteTime": {
     "end_time": "2019-05-20T07:37:44.699934Z",
     "start_time": "2019-05-20T07:37:44.681470Z"
    }
   },
   "outputs": [
    {
     "data": {
      "text/plain": [
       "6     27.534247\n",
       "7     22.534247\n",
       "5     18.835616\n",
       "8     12.808219\n",
       "4      6.643836\n",
       "9      5.136986\n",
       "10     3.219178\n",
       "11     1.232877\n",
       "3      1.164384\n",
       "12     0.753425\n",
       "14     0.068493\n",
       "2      0.068493\n",
       "Name: TotRmsAbvGrd, dtype: float64"
      ]
     },
     "execution_count": 103,
     "metadata": {},
     "output_type": "execute_result"
    }
   ],
   "source": [
    "housing_v2['TotRmsAbvGrd'].value_counts(dropna=False, normalize=True)*100"
   ]
  },
  {
   "cell_type": "code",
   "execution_count": 104,
   "metadata": {
    "ExecuteTime": {
     "end_time": "2019-05-20T07:37:44.711903Z",
     "start_time": "2019-05-20T07:37:44.702249Z"
    }
   },
   "outputs": [
    {
     "data": {
      "text/plain": [
       "True"
      ]
     },
     "execution_count": 104,
     "metadata": {},
     "output_type": "execute_result"
    }
   ],
   "source": [
    "## Do all houses have more rooms above grade than total bedrooms and botchens above grade?\n",
    "\n",
    "(housing_v2[['BedroomAbvGr', 'KitchenAbvGr']].sum(axis=1) <= housing_v2['TotRmsAbvGrd']).sum() == housing_v2.shape[0]"
   ]
  },
  {
   "cell_type": "markdown",
   "metadata": {},
   "source": [
    "### House area"
   ]
  },
  {
   "cell_type": "code",
   "execution_count": 105,
   "metadata": {
    "ExecuteTime": {
     "end_time": "2019-05-20T07:37:44.723540Z",
     "start_time": "2019-05-20T07:37:44.713606Z"
    }
   },
   "outputs": [
    {
     "data": {
      "text/plain": [
       "1434"
      ]
     },
     "execution_count": 105,
     "metadata": {},
     "output_type": "execute_result"
    }
   ],
   "source": [
    "house_sf = ['1stFlrSF', '2ndFlrSF', 'LowQualFinSF', 'GrLivArea']\n",
    "\n",
    "# How many houses does 'LowQualFinSF' + 'GrLivArea' == '1stFlrSF' + '2ndFlrSF'?\n",
    "\n",
    "(housing_v2[['LowQualFinSF', 'GrLivArea']].sum(axis=1) == housing_v2[['1stFlrSF', '2ndFlrSF']].sum(axis=1)).sum()"
   ]
  },
  {
   "cell_type": "code",
   "execution_count": 125,
   "metadata": {
    "ExecuteTime": {
     "end_time": "2019-05-20T07:46:27.159913Z",
     "start_time": "2019-05-20T07:46:26.616910Z"
    },
    "scrolled": false
   },
   "outputs": [
    {
     "data": {
      "image/png": "[encoded data removed]",
      "text/plain": [
       "<Figure size 1080x720 with 4 Axes>"
      ]
     },
     "metadata": {},
     "output_type": "display_data"
    }
   ],
   "source": [
    "# View distribution of house floor area\n",
    "\n",
    "fig = plt.figure(figsize=(15, 10))\n",
    "\n",
    "for i, col in enumerate(house_sf):\n",
    "    \n",
    "    ax = fig.add_subplot(2, 2, i+1)\n",
    "    ax.hist(housing_v2[col])\n",
    "    ax.set_xlabel(col)\n",
    "    \n",
    "plt.show() "
   ]
  },
  {
   "cell_type": "code",
   "execution_count": 123,
   "metadata": {
    "ExecuteTime": {
     "end_time": "2019-05-20T07:45:28.568926Z",
     "start_time": "2019-05-20T07:45:28.035105Z"
    }
   },
   "outputs": [
    {
     "data": {
      "image/png": "[encoded data removed]",
      "text/plain": [
       "<Figure size 1080x720 with 4 Axes>"
      ]
     },
     "metadata": {},
     "output_type": "display_data"
    }
   ],
   "source": [
    "# Log transformation of house floor area\n",
    "\n",
    "fig = plt.figure(figsize=(15, 10))\n",
    "\n",
    "for i, col in enumerate(house_sf):\n",
    "    \n",
    "    ax = fig.add_subplot(2, 2, i+1)\n",
    "    ax.hist(np.log(housing_v2[housing_v2[col] != 0][col]))\n",
    "    ax.set_xlabel(col)\n",
    "    \n",
    "plt.show()    "
   ]
  },
  {
   "cell_type": "code",
   "execution_count": 106,
   "metadata": {
    "ExecuteTime": {
     "end_time": "2019-05-20T07:37:44.733098Z",
     "start_time": "2019-05-20T07:37:44.725514Z"
    }
   },
   "outputs": [
    {
     "data": {
      "text/plain": [
       "1460"
      ]
     },
     "execution_count": 106,
     "metadata": {},
     "output_type": "execute_result"
    }
   ],
   "source": [
    "housing_v2.shape[0]"
   ]
  },
  {
   "cell_type": "code",
   "execution_count": 107,
   "metadata": {
    "ExecuteTime": {
     "end_time": "2019-05-20T07:37:44.762413Z",
     "start_time": "2019-05-20T07:37:44.734815Z"
    },
    "scrolled": true
   },
   "outputs": [
    {
     "data": {
      "text/html": [
       "<div>\n",
       "<style scoped>\n",
       "    .dataframe tbody tr th:only-of-type {\n",
       "        vertical-align: middle;\n",
       "    }\n",
       "\n",
       "    .dataframe tbody tr th {\n",
       "        vertical-align: top;\n",
       "    }\n",
       "\n",
       "    .dataframe thead th {\n",
       "        text-align: right;\n",
       "    }\n",
       "</style>\n",
       "<table border=\"1\" class=\"dataframe\">\n",
       "  <thead>\n",
       "    <tr style=\"text-align: right;\">\n",
       "      <th></th>\n",
       "      <th>1stFlrSF</th>\n",
       "      <th>2ndFlrSF</th>\n",
       "      <th>LowQualFinSF</th>\n",
       "      <th>GrLivArea</th>\n",
       "    </tr>\n",
       "  </thead>\n",
       "  <tbody>\n",
       "    <tr>\n",
       "      <th>51</th>\n",
       "      <td>816</td>\n",
       "      <td>0</td>\n",
       "      <td>360</td>\n",
       "      <td>1176</td>\n",
       "    </tr>\n",
       "    <tr>\n",
       "      <th>88</th>\n",
       "      <td>1013</td>\n",
       "      <td>0</td>\n",
       "      <td>513</td>\n",
       "      <td>1526</td>\n",
       "    </tr>\n",
       "    <tr>\n",
       "      <th>125</th>\n",
       "      <td>520</td>\n",
       "      <td>0</td>\n",
       "      <td>234</td>\n",
       "      <td>754</td>\n",
       "    </tr>\n",
       "    <tr>\n",
       "      <th>170</th>\n",
       "      <td>854</td>\n",
       "      <td>0</td>\n",
       "      <td>528</td>\n",
       "      <td>1382</td>\n",
       "    </tr>\n",
       "    <tr>\n",
       "      <th>185</th>\n",
       "      <td>1518</td>\n",
       "      <td>1518</td>\n",
       "      <td>572</td>\n",
       "      <td>3608</td>\n",
       "    </tr>\n",
       "    <tr>\n",
       "      <th>187</th>\n",
       "      <td>808</td>\n",
       "      <td>704</td>\n",
       "      <td>144</td>\n",
       "      <td>1656</td>\n",
       "    </tr>\n",
       "    <tr>\n",
       "      <th>197</th>\n",
       "      <td>1360</td>\n",
       "      <td>1360</td>\n",
       "      <td>392</td>\n",
       "      <td>3112</td>\n",
       "    </tr>\n",
       "    <tr>\n",
       "      <th>198</th>\n",
       "      <td>929</td>\n",
       "      <td>929</td>\n",
       "      <td>371</td>\n",
       "      <td>2229</td>\n",
       "    </tr>\n",
       "    <tr>\n",
       "      <th>263</th>\n",
       "      <td>926</td>\n",
       "      <td>0</td>\n",
       "      <td>390</td>\n",
       "      <td>1316</td>\n",
       "    </tr>\n",
       "    <tr>\n",
       "      <th>267</th>\n",
       "      <td>1052</td>\n",
       "      <td>720</td>\n",
       "      <td>420</td>\n",
       "      <td>2192</td>\n",
       "    </tr>\n",
       "    <tr>\n",
       "      <th>406</th>\n",
       "      <td>1166</td>\n",
       "      <td>0</td>\n",
       "      <td>473</td>\n",
       "      <td>1639</td>\n",
       "    </tr>\n",
       "    <tr>\n",
       "      <th>589</th>\n",
       "      <td>779</td>\n",
       "      <td>0</td>\n",
       "      <td>156</td>\n",
       "      <td>935</td>\n",
       "    </tr>\n",
       "    <tr>\n",
       "      <th>635</th>\n",
       "      <td>1440</td>\n",
       "      <td>1440</td>\n",
       "      <td>515</td>\n",
       "      <td>3395</td>\n",
       "    </tr>\n",
       "    <tr>\n",
       "      <th>729</th>\n",
       "      <td>848</td>\n",
       "      <td>0</td>\n",
       "      <td>360</td>\n",
       "      <td>1208</td>\n",
       "    </tr>\n",
       "    <tr>\n",
       "      <th>829</th>\n",
       "      <td>520</td>\n",
       "      <td>623</td>\n",
       "      <td>80</td>\n",
       "      <td>1223</td>\n",
       "    </tr>\n",
       "    <tr>\n",
       "      <th>831</th>\n",
       "      <td>520</td>\n",
       "      <td>600</td>\n",
       "      <td>80</td>\n",
       "      <td>1200</td>\n",
       "    </tr>\n",
       "    <tr>\n",
       "      <th>868</th>\n",
       "      <td>1547</td>\n",
       "      <td>720</td>\n",
       "      <td>53</td>\n",
       "      <td>2320</td>\n",
       "    </tr>\n",
       "    <tr>\n",
       "      <th>873</th>\n",
       "      <td>1036</td>\n",
       "      <td>0</td>\n",
       "      <td>232</td>\n",
       "      <td>1268</td>\n",
       "    </tr>\n",
       "    <tr>\n",
       "      <th>883</th>\n",
       "      <td>954</td>\n",
       "      <td>795</td>\n",
       "      <td>481</td>\n",
       "      <td>2230</td>\n",
       "    </tr>\n",
       "    <tr>\n",
       "      <th>945</th>\n",
       "      <td>1188</td>\n",
       "      <td>561</td>\n",
       "      <td>120</td>\n",
       "      <td>1869</td>\n",
       "    </tr>\n",
       "    <tr>\n",
       "      <th>1009</th>\n",
       "      <td>1008</td>\n",
       "      <td>0</td>\n",
       "      <td>514</td>\n",
       "      <td>1522</td>\n",
       "    </tr>\n",
       "    <tr>\n",
       "      <th>1031</th>\n",
       "      <td>1687</td>\n",
       "      <td>998</td>\n",
       "      <td>397</td>\n",
       "      <td>3082</td>\n",
       "    </tr>\n",
       "    <tr>\n",
       "      <th>1173</th>\n",
       "      <td>1636</td>\n",
       "      <td>971</td>\n",
       "      <td>479</td>\n",
       "      <td>3086</td>\n",
       "    </tr>\n",
       "    <tr>\n",
       "      <th>1349</th>\n",
       "      <td>938</td>\n",
       "      <td>1215</td>\n",
       "      <td>205</td>\n",
       "      <td>2358</td>\n",
       "    </tr>\n",
       "    <tr>\n",
       "      <th>1364</th>\n",
       "      <td>520</td>\n",
       "      <td>600</td>\n",
       "      <td>80</td>\n",
       "      <td>1200</td>\n",
       "    </tr>\n",
       "    <tr>\n",
       "      <th>1440</th>\n",
       "      <td>1423</td>\n",
       "      <td>748</td>\n",
       "      <td>384</td>\n",
       "      <td>2555</td>\n",
       "    </tr>\n",
       "  </tbody>\n",
       "</table>\n",
       "</div>"
      ],
      "text/plain": [
       "      1stFlrSF  2ndFlrSF  LowQualFinSF  GrLivArea\n",
       "51         816         0           360       1176\n",
       "88        1013         0           513       1526\n",
       "125        520         0           234        754\n",
       "170        854         0           528       1382\n",
       "185       1518      1518           572       3608\n",
       "187        808       704           144       1656\n",
       "197       1360      1360           392       3112\n",
       "198        929       929           371       2229\n",
       "263        926         0           390       1316\n",
       "267       1052       720           420       2192\n",
       "406       1166         0           473       1639\n",
       "589        779         0           156        935\n",
       "635       1440      1440           515       3395\n",
       "729        848         0           360       1208\n",
       "829        520       623            80       1223\n",
       "831        520       600            80       1200\n",
       "868       1547       720            53       2320\n",
       "873       1036         0           232       1268\n",
       "883        954       795           481       2230\n",
       "945       1188       561           120       1869\n",
       "1009      1008         0           514       1522\n",
       "1031      1687       998           397       3082\n",
       "1173      1636       971           479       3086\n",
       "1349       938      1215           205       2358\n",
       "1364       520       600            80       1200\n",
       "1440      1423       748           384       2555"
      ]
     },
     "execution_count": 107,
     "metadata": {},
     "output_type": "execute_result"
    }
   ],
   "source": [
    "housing_v2[(housing_v2[['LowQualFinSF', 'GrLivArea']].sum(axis=1) != housing_v2[['1stFlrSF', '2ndFlrSF']].sum(axis=1))][house_sf]"
   ]
  },
  {
   "cell_type": "code",
   "execution_count": 117,
   "metadata": {
    "ExecuteTime": {
     "end_time": "2019-05-20T07:41:30.934979Z",
     "start_time": "2019-05-20T07:41:30.787052Z"
    }
   },
   "outputs": [
    {
     "data": {
      "image/png": "[encoded data removed]",
      "text/plain": [
       "<Figure size 432x288 with 1 Axes>"
      ]
     },
     "metadata": {},
     "output_type": "display_data"
    }
   ],
   "source": [
    "# Log transformation of GrLivArea\n",
    "\n",
    "plt.hist(np.log(housing_v2['GrLivArea']))\n",
    "plt.show()"
   ]
  },
  {
   "cell_type": "markdown",
   "metadata": {},
   "source": [
    "# Concatenate dummies to main df"
   ]
  },
  {
   "cell_type": "code",
   "execution_count": 286,
   "metadata": {
    "ExecuteTime": {
     "end_time": "2019-05-20T03:53:07.406989Z",
     "start_time": "2019-05-20T03:53:07.399267Z"
    }
   },
   "outputs": [
    {
     "data": {
      "text/plain": [
       "True"
      ]
     },
     "execution_count": 286,
     "metadata": {},
     "output_type": "execute_result"
    }
   ],
   "source": [
    "dummies_df = pd.concat(dummied_features, axis=1)\n",
    "\n",
    "dummies_df.shape[1] == dummied_col_num"
   ]
  },
  {
   "cell_type": "code",
   "execution_count": 287,
   "metadata": {
    "ExecuteTime": {
     "end_time": "2019-05-20T03:53:13.544765Z",
     "start_time": "2019-05-20T03:53:13.537920Z"
    }
   },
   "outputs": [
    {
     "data": {
      "text/plain": [
       "Index(['RoofStyle_Flat', 'RoofStyle_Gable', 'RoofStyle_Gambrel',\n",
       "       'RoofStyle_Hip', 'RoofStyle_Mansard', 'RoofStyleCat_Gable',\n",
       "       'RoofStyleCat_Hip', 'RoofMatl_ClyTile', 'RoofMatl_CompShg',\n",
       "       'RoofMatl_Membran', 'RoofMatl_Roll', 'RoofMatl_Tar&Grv',\n",
       "       'RoofMatl_WdShake', 'RoofMatl_WdShngl', 'ExteriorStucco',\n",
       "       'ExteriorAsbShng', 'ExteriorWdShing', 'ExteriorAsphShn',\n",
       "       'ExteriorVinylSd', 'ExteriorPlywood', 'ExteriorCemntBd',\n",
       "       'ExteriorBrkFace', 'ExteriorBrkComm', 'ExteriorStone',\n",
       "       'ExteriorHdBoard', 'ExteriorOther', 'ExteriorWdSdng', 'ExteriorCBlock',\n",
       "       'ExteriorImStucc', 'ExteriorMetalSd', 'ExteriorOtherLT1',\n",
       "       'MasVnrType_BrkFace', 'MasVnrType_None', 'MasVnrType_Stone',\n",
       "       'Foundation_BrkTil', 'Foundation_CBlock', 'Foundation_PConc',\n",
       "       'Foundation_Slab', 'Foundation_Stone', 'FoundationCat_BrkTil',\n",
       "       'FoundationCat_CBlock', 'FoundationCat_PConc', 'Heating_GasA',\n",
       "       'Heating_GasW', 'Heating_Grav', 'Heating_OthW', 'Heating_Wall',\n",
       "       'HeatingCat_GasA', 'HeatingCat_GasW', 'Electrical_FuseA',\n",
       "       'Electrical_FuseF', 'Electrical_FuseP', 'Electrical_SBrkr',\n",
       "       'ElectricalCat_Fuse', 'ElectricalCat_SBrkr', 'GarageType_Attchd',\n",
       "       'GarageType_Basment', 'GarageType_BuiltIn', 'GarageType_CarPort',\n",
       "       'GarageType_Detchd', 'GarageType_No', 'GarageFinish_Fin',\n",
       "       'GarageFinish_RFn', 'GarageFinish_Unf', 'Fence_GdPrv', 'Fence_GdWo',\n",
       "       'Fence_MnPrv', 'Fence_None', 'MiscFeature_Gar2', 'MiscFeature_Othr',\n",
       "       'MiscFeature_Shed', 'MiscFeature_TenC'],\n",
       "      dtype='object')"
      ]
     },
     "execution_count": 287,
     "metadata": {},
     "output_type": "execute_result"
    }
   ],
   "source": [
    "dummies_df.columns"
   ]
  },
  {
   "cell_type": "code",
   "execution_count": 288,
   "metadata": {
    "ExecuteTime": {
     "end_time": "2019-05-20T03:53:21.610851Z",
     "start_time": "2019-05-20T03:53:21.580032Z"
    }
   },
   "outputs": [
    {
     "data": {
      "text/plain": [
       "(1460, 194)"
      ]
     },
     "execution_count": 288,
     "metadata": {},
     "output_type": "execute_result"
    }
   ],
   "source": [
    "housing_v3 = pd.concat([housing_v2, dummies_df], axis=1)\n",
    "\n",
    "housing_v3.shape"
   ]
  },
  {
   "cell_type": "code",
   "execution_count": 290,
   "metadata": {
    "ExecuteTime": {
     "end_time": "2019-05-20T04:04:12.130067Z",
     "start_time": "2019-05-20T04:04:11.937546Z"
    }
   },
   "outputs": [],
   "source": [
    "# Save housing_v3\n",
    "\n",
    "housing_v3.to_csv(\"../../data/housing.3.csv\", index=False)"
   ]
  }
 ],
 "metadata": {
  "kernelspec": {
   "display_name": "Python [default]",
   "language": "python",
   "name": "python3"
  },
  "language_info": {
   "codemirror_mode": {
    "name": "ipython",
    "version": 3
   },
   "file_extension": ".py",
   "mimetype": "text/x-python",
   "name": "python",
   "nbconvert_exporter": "python",
   "pygments_lexer": "ipython3",
   "version": "3.6.8"
  },
  "toc": {
   "nav_menu": {},
   "number_sections": true,
   "sideBar": true,
   "skip_h1_title": true,
   "title_cell": "Table of Contents",
   "title_sidebar": "Contents",
   "toc_cell": true,
   "toc_position": {},
   "toc_section_display": true,
   "toc_window_display": false
  },
  "varInspector": {
   "cols": {
    "lenName": 16,
    "lenType": 16,
    "lenVar": 40
   },
   "kernels_config": {
    "python": {
     "delete_cmd_postfix": "",
     "delete_cmd_prefix": "del ",
     "library": "var_list.py",
     "varRefreshCmd": "print(var_dic_list())"
    },
    "r": {
     "delete_cmd_postfix": ") ",
     "delete_cmd_prefix": "rm(",
     "library": "var_list.r",
     "varRefreshCmd": "cat(var_dic_list()) "
    }
   },
   "types_to_exclude": [
    "module",
    "function",
    "builtin_function_or_method",
    "instance",
    "_Feature"
   ],
   "window_display": false
  }
 },
 "nbformat": 4,
 "nbformat_minor": 2
}
