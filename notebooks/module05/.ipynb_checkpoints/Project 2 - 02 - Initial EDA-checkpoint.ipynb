{
 "cells": [
  {
   "cell_type": "markdown",
   "metadata": {
    "toc": true
   },
   "source": [
    "<h1>Table of Contents<span class=\"tocSkip\"></span></h1>\n",
    "<div class=\"toc\"><ul class=\"toc-item\"><li><span><a href=\"#House-Sales-and-Prices\" data-toc-modified-id=\"House-Sales-and-Prices-1\"><span class=\"toc-item-num\">1&nbsp;&nbsp;</span>House Sales and Prices</a></span></li><li><span><a href=\"#House-types-and-conditions\" data-toc-modified-id=\"House-types-and-conditions-2\"><span class=\"toc-item-num\">2&nbsp;&nbsp;</span>House types and conditions</a></span></li><li><span><a href=\"#Lot-area\" data-toc-modified-id=\"Lot-area-3\"><span class=\"toc-item-num\">3&nbsp;&nbsp;</span>Lot area</a></span></li><li><span><a href=\"#House-age\" data-toc-modified-id=\"House-age-4\"><span class=\"toc-item-num\">4&nbsp;&nbsp;</span>House age</a></span></li><li><span><a href=\"#Lot-Shape\" data-toc-modified-id=\"Lot-Shape-5\"><span class=\"toc-item-num\">5&nbsp;&nbsp;</span>Lot Shape</a></span></li><li><span><a href=\"#House-Location\" data-toc-modified-id=\"House-Location-6\"><span class=\"toc-item-num\">6&nbsp;&nbsp;</span>House Location</a></span></li></ul></div>"
   ]
  },
  {
   "cell_type": "markdown",
   "metadata": {},
   "source": [
    "# Project 2: Housing"
   ]
  },
  {
   "cell_type": "markdown",
   "metadata": {},
   "source": [
    "You have a dataset of housing sale data with a huge amount of features identifying different aspects of the house. The full description of the data features can be found in a separate file:\n",
    "\n",
    "    housing.csv\n",
    "    data_description.txt\n",
    "\n",
    "- Explore the dataset, clean data, add features (if you can think of any)\n",
    "- Identify features that can predict sale price of a house\n",
    "- Train a model on pre-2010 data and evaluate its performance on the 2010 houses.\n",
    "- Build a model. What are the best predictors of price?"
   ]
  },
  {
   "cell_type": "code",
   "execution_count": 88,
   "metadata": {
    "ExecuteTime": {
     "end_time": "2019-05-20T02:33:53.689375Z",
     "start_time": "2019-05-20T02:33:53.685553Z"
    }
   },
   "outputs": [],
   "source": [
    "import pandas as pd\n",
    "import numpy as np\n",
    "from scipy import stats\n",
    "\n",
    "import matplotlib.pyplot as plt\n",
    "import seaborn as sns"
   ]
  },
  {
   "cell_type": "markdown",
   "metadata": {},
   "source": [
    "# Load data\n",
    "\n",
    "The data in `housing.csv` was cleaned and saved as `housing.initial.csv`."
   ]
  },
  {
   "cell_type": "code",
   "execution_count": 89,
   "metadata": {
    "ExecuteTime": {
     "end_time": "2019-05-20T02:33:53.766639Z",
     "start_time": "2019-05-20T02:33:53.694755Z"
    }
   },
   "outputs": [
    {
     "data": {
      "text/html": [
       "<div>\n",
       "<style scoped>\n",
       "    .dataframe tbody tr th:only-of-type {\n",
       "        vertical-align: middle;\n",
       "    }\n",
       "\n",
       "    .dataframe tbody tr th {\n",
       "        vertical-align: top;\n",
       "    }\n",
       "\n",
       "    .dataframe thead th {\n",
       "        text-align: right;\n",
       "    }\n",
       "</style>\n",
       "<table border=\"1\" class=\"dataframe\">\n",
       "  <thead>\n",
       "    <tr style=\"text-align: right;\">\n",
       "      <th></th>\n",
       "      <th>Id</th>\n",
       "      <th>MSSubClass</th>\n",
       "      <th>MSZoning</th>\n",
       "      <th>LotFrontage</th>\n",
       "      <th>LotArea</th>\n",
       "      <th>Street</th>\n",
       "      <th>Alley</th>\n",
       "      <th>LotShape</th>\n",
       "      <th>LandContour</th>\n",
       "      <th>Utilities</th>\n",
       "      <th>...</th>\n",
       "      <th>Fence</th>\n",
       "      <th>MiscFeature</th>\n",
       "      <th>MiscVal</th>\n",
       "      <th>MoSold</th>\n",
       "      <th>YrSold</th>\n",
       "      <th>SaleType</th>\n",
       "      <th>SaleCondition</th>\n",
       "      <th>SalePrice</th>\n",
       "      <th>MSSubClass_fix</th>\n",
       "      <th>LotFrontage_Imp</th>\n",
       "    </tr>\n",
       "  </thead>\n",
       "  <tbody>\n",
       "    <tr>\n",
       "      <th>0</th>\n",
       "      <td>1</td>\n",
       "      <td>60</td>\n",
       "      <td>RL</td>\n",
       "      <td>65.0</td>\n",
       "      <td>8450</td>\n",
       "      <td>Pave</td>\n",
       "      <td>NaN</td>\n",
       "      <td>Reg</td>\n",
       "      <td>Lvl</td>\n",
       "      <td>AllPub</td>\n",
       "      <td>...</td>\n",
       "      <td>NaN</td>\n",
       "      <td>NaN</td>\n",
       "      <td>0</td>\n",
       "      <td>2</td>\n",
       "      <td>2008</td>\n",
       "      <td>WD</td>\n",
       "      <td>Normal</td>\n",
       "      <td>208500</td>\n",
       "      <td>60</td>\n",
       "      <td>65.0</td>\n",
       "    </tr>\n",
       "    <tr>\n",
       "      <th>1</th>\n",
       "      <td>2</td>\n",
       "      <td>20</td>\n",
       "      <td>RL</td>\n",
       "      <td>80.0</td>\n",
       "      <td>9600</td>\n",
       "      <td>Pave</td>\n",
       "      <td>NaN</td>\n",
       "      <td>Reg</td>\n",
       "      <td>Lvl</td>\n",
       "      <td>AllPub</td>\n",
       "      <td>...</td>\n",
       "      <td>NaN</td>\n",
       "      <td>NaN</td>\n",
       "      <td>0</td>\n",
       "      <td>5</td>\n",
       "      <td>2007</td>\n",
       "      <td>WD</td>\n",
       "      <td>Normal</td>\n",
       "      <td>181500</td>\n",
       "      <td>20</td>\n",
       "      <td>80.0</td>\n",
       "    </tr>\n",
       "    <tr>\n",
       "      <th>2</th>\n",
       "      <td>3</td>\n",
       "      <td>60</td>\n",
       "      <td>RL</td>\n",
       "      <td>68.0</td>\n",
       "      <td>11250</td>\n",
       "      <td>Pave</td>\n",
       "      <td>NaN</td>\n",
       "      <td>IR1</td>\n",
       "      <td>Lvl</td>\n",
       "      <td>AllPub</td>\n",
       "      <td>...</td>\n",
       "      <td>NaN</td>\n",
       "      <td>NaN</td>\n",
       "      <td>0</td>\n",
       "      <td>9</td>\n",
       "      <td>2008</td>\n",
       "      <td>WD</td>\n",
       "      <td>Normal</td>\n",
       "      <td>223500</td>\n",
       "      <td>60</td>\n",
       "      <td>68.0</td>\n",
       "    </tr>\n",
       "    <tr>\n",
       "      <th>3</th>\n",
       "      <td>4</td>\n",
       "      <td>70</td>\n",
       "      <td>RL</td>\n",
       "      <td>60.0</td>\n",
       "      <td>9550</td>\n",
       "      <td>Pave</td>\n",
       "      <td>NaN</td>\n",
       "      <td>IR1</td>\n",
       "      <td>Lvl</td>\n",
       "      <td>AllPub</td>\n",
       "      <td>...</td>\n",
       "      <td>NaN</td>\n",
       "      <td>NaN</td>\n",
       "      <td>0</td>\n",
       "      <td>2</td>\n",
       "      <td>2006</td>\n",
       "      <td>WD</td>\n",
       "      <td>Abnorml</td>\n",
       "      <td>140000</td>\n",
       "      <td>70</td>\n",
       "      <td>60.0</td>\n",
       "    </tr>\n",
       "    <tr>\n",
       "      <th>4</th>\n",
       "      <td>5</td>\n",
       "      <td>60</td>\n",
       "      <td>RL</td>\n",
       "      <td>84.0</td>\n",
       "      <td>14260</td>\n",
       "      <td>Pave</td>\n",
       "      <td>NaN</td>\n",
       "      <td>IR1</td>\n",
       "      <td>Lvl</td>\n",
       "      <td>AllPub</td>\n",
       "      <td>...</td>\n",
       "      <td>NaN</td>\n",
       "      <td>NaN</td>\n",
       "      <td>0</td>\n",
       "      <td>12</td>\n",
       "      <td>2008</td>\n",
       "      <td>WD</td>\n",
       "      <td>Normal</td>\n",
       "      <td>250000</td>\n",
       "      <td>60</td>\n",
       "      <td>84.0</td>\n",
       "    </tr>\n",
       "  </tbody>\n",
       "</table>\n",
       "<p>5 rows × 83 columns</p>\n",
       "</div>"
      ],
      "text/plain": [
       "   Id  MSSubClass MSZoning  LotFrontage  LotArea Street Alley LotShape  \\\n",
       "0   1          60       RL         65.0     8450   Pave   NaN      Reg   \n",
       "1   2          20       RL         80.0     9600   Pave   NaN      Reg   \n",
       "2   3          60       RL         68.0    11250   Pave   NaN      IR1   \n",
       "3   4          70       RL         60.0     9550   Pave   NaN      IR1   \n",
       "4   5          60       RL         84.0    14260   Pave   NaN      IR1   \n",
       "\n",
       "  LandContour Utilities       ...        Fence MiscFeature MiscVal MoSold  \\\n",
       "0         Lvl    AllPub       ...          NaN         NaN       0      2   \n",
       "1         Lvl    AllPub       ...          NaN         NaN       0      5   \n",
       "2         Lvl    AllPub       ...          NaN         NaN       0      9   \n",
       "3         Lvl    AllPub       ...          NaN         NaN       0      2   \n",
       "4         Lvl    AllPub       ...          NaN         NaN       0     12   \n",
       "\n",
       "  YrSold SaleType SaleCondition  SalePrice  MSSubClass_fix  LotFrontage_Imp  \n",
       "0   2008       WD        Normal     208500              60             65.0  \n",
       "1   2007       WD        Normal     181500              20             80.0  \n",
       "2   2008       WD        Normal     223500              60             68.0  \n",
       "3   2006       WD       Abnorml     140000              70             60.0  \n",
       "4   2008       WD        Normal     250000              60             84.0  \n",
       "\n",
       "[5 rows x 83 columns]"
      ]
     },
     "execution_count": 89,
     "metadata": {},
     "output_type": "execute_result"
    }
   ],
   "source": [
    "# Load housing data\n",
    "\n",
    "housing = pd.read_csv('../../data/housing.initial.csv')\n",
    "\n",
    "housing.head()"
   ]
  },
  {
   "cell_type": "code",
   "execution_count": 90,
   "metadata": {
    "ExecuteTime": {
     "end_time": "2019-05-20T02:33:53.772493Z",
     "start_time": "2019-05-20T02:33:53.768999Z"
    }
   },
   "outputs": [],
   "source": [
    "# Save old column list\n",
    "\n",
    "old_cols = housing.columns.tolist()"
   ]
  },
  {
   "cell_type": "code",
   "execution_count": 91,
   "metadata": {
    "ExecuteTime": {
     "end_time": "2019-05-20T02:33:53.783731Z",
     "start_time": "2019-05-20T02:33:53.775319Z"
    }
   },
   "outputs": [
    {
     "name": "stdout",
     "output_type": "stream",
     "text": [
      "Data has 1460 houses with 83 features\n"
     ]
    }
   ],
   "source": [
    "print('Data has {} houses with {} features'.format(housing.shape[0], housing.shape[1]))"
   ]
  },
  {
   "cell_type": "code",
   "execution_count": 92,
   "metadata": {
    "ExecuteTime": {
     "end_time": "2019-05-20T02:33:53.794836Z",
     "start_time": "2019-05-20T02:33:53.785464Z"
    }
   },
   "outputs": [],
   "source": [
    "# Initalise list variable to store dummied features\n",
    "\n",
    "dummied_features = []"
   ]
  },
  {
   "cell_type": "markdown",
   "metadata": {},
   "source": [
    "# EDA\n",
    "\n",
    "## House Sales and Prices\n",
    "\n",
    "What are the range of sale prices in the dataset?"
   ]
  },
  {
   "cell_type": "code",
   "execution_count": 93,
   "metadata": {
    "ExecuteTime": {
     "end_time": "2019-05-20T02:33:53.810233Z",
     "start_time": "2019-05-20T02:33:53.796427Z"
    }
   },
   "outputs": [
    {
     "data": {
      "text/plain": [
       "count      1460.000000\n",
       "mean     180921.195890\n",
       "std       79442.502883\n",
       "min       34900.000000\n",
       "25%      129975.000000\n",
       "50%      163000.000000\n",
       "75%      214000.000000\n",
       "max      755000.000000\n",
       "Name: SalePrice, dtype: float64"
      ]
     },
     "execution_count": 93,
     "metadata": {},
     "output_type": "execute_result"
    }
   ],
   "source": [
    "housing['SalePrice'].describe()"
   ]
  },
  {
   "cell_type": "code",
   "execution_count": 94,
   "metadata": {
    "ExecuteTime": {
     "end_time": "2019-05-20T02:33:54.056509Z",
     "start_time": "2019-05-20T02:33:53.812471Z"
    }
   },
   "outputs": [
    {
     "data": {
      "image/png": "[encoded data removed]",
      "text/plain": [
       "<Figure size 720x432 with 1 Axes>"
      ]
     },
     "metadata": {},
     "output_type": "display_data"
    }
   ],
   "source": [
    "plt.figure(figsize=(10, 6))\n",
    "plt.hist(housing['SalePrice'], bins=15)\n",
    "plt.xlabel('Sale price')\n",
    "plt.show()"
   ]
  },
  {
   "cell_type": "markdown",
   "metadata": {},
   "source": [
    "`SalesPrice` is heavily skewed and has some very large values. A log tranformation may help make the distribution appear more normal."
   ]
  },
  {
   "cell_type": "code",
   "execution_count": 95,
   "metadata": {
    "ExecuteTime": {
     "end_time": "2019-05-20T02:33:54.066346Z",
     "start_time": "2019-05-20T02:33:54.060515Z"
    }
   },
   "outputs": [],
   "source": [
    "housing['SalePrice_log'] = housing['SalePrice'].transform(lambda x: np.log(x))"
   ]
  },
  {
   "cell_type": "code",
   "execution_count": 96,
   "metadata": {
    "ExecuteTime": {
     "end_time": "2019-05-20T02:33:54.312613Z",
     "start_time": "2019-05-20T02:33:54.068039Z"
    },
    "scrolled": false
   },
   "outputs": [
    {
     "data": {
      "image/png": "[encoded data removed]",
      "text/plain": [
       "<Figure size 720x432 with 1 Axes>"
      ]
     },
     "metadata": {},
     "output_type": "display_data"
    }
   ],
   "source": [
    "plt.figure(figsize=(10, 6))\n",
    "plt.hist(housing['SalePrice_log'], bins=15)\n",
    "plt.xlabel('log(sale price)')\n",
    "plt.show()"
   ]
  },
  {
   "cell_type": "code",
   "execution_count": 97,
   "metadata": {
    "ExecuteTime": {
     "end_time": "2019-05-20T02:33:54.321255Z",
     "start_time": "2019-05-20T02:33:54.314328Z"
    }
   },
   "outputs": [
    {
     "data": {
      "text/plain": [
       "2009    338\n",
       "2007    329\n",
       "2006    314\n",
       "2008    304\n",
       "2010    175\n",
       "Name: YrSold, dtype: int64"
      ]
     },
     "execution_count": 97,
     "metadata": {},
     "output_type": "execute_result"
    }
   ],
   "source": [
    "# Count values of year houses sold\n",
    "\n",
    "housing['YrSold'].value_counts()"
   ]
  },
  {
   "cell_type": "code",
   "execution_count": 98,
   "metadata": {
    "ExecuteTime": {
     "end_time": "2019-05-20T02:33:54.334807Z",
     "start_time": "2019-05-20T02:33:54.326897Z"
    }
   },
   "outputs": [
    {
     "data": {
      "text/plain": [
       "6     253\n",
       "7     234\n",
       "5     204\n",
       "4     141\n",
       "8     122\n",
       "3     106\n",
       "10     89\n",
       "11     79\n",
       "9      63\n",
       "12     59\n",
       "1      58\n",
       "2      52\n",
       "Name: MoSold, dtype: int64"
      ]
     },
     "execution_count": 98,
     "metadata": {},
     "output_type": "execute_result"
    }
   ],
   "source": [
    "# Count values of month houses sold\n",
    "\n",
    "housing['MoSold'].value_counts()"
   ]
  },
  {
   "cell_type": "markdown",
   "metadata": {},
   "source": [
    "Time houses are sold seems seasonal: the period between March to August has a higher number of sales than the rest of the year."
   ]
  },
  {
   "cell_type": "code",
   "execution_count": 99,
   "metadata": {
    "ExecuteTime": {
     "end_time": "2019-05-20T02:33:54.627176Z",
     "start_time": "2019-05-20T02:33:54.336869Z"
    }
   },
   "outputs": [
    {
     "data": {
      "image/png": "[encoded data removed]",
      "text/plain": [
       "<Figure size 720x432 with 1 Axes>"
      ]
     },
     "metadata": {},
     "output_type": "display_data"
    }
   ],
   "source": [
    "# Combine month and year houses sold\n",
    "\n",
    "housing['YrMoSold'] = housing['YrSold'].astype(str) + \"-\" + housing['MoSold'].astype(str).str.zfill(2)\n",
    "housing['YrMoSold'] = pd.to_datetime(housing['YrMoSold'])\n",
    "\n",
    "# Plot number of houses sold by year & month\n",
    "\n",
    "plt.figure(figsize=(10, 6))\n",
    "housing['YrMoSold'].value_counts().sort_index().plot()\n",
    "plt.xlabel('Year')\n",
    "plt.ylabel('Num. houses')\n",
    "plt.show()"
   ]
  },
  {
   "cell_type": "code",
   "execution_count": 100,
   "metadata": {
    "ExecuteTime": {
     "end_time": "2019-05-20T02:33:54.633004Z",
     "start_time": "2019-05-20T02:33:54.628775Z"
    }
   },
   "outputs": [
    {
     "name": "stdout",
     "output_type": "stream",
     "text": [
      "Earliest sale:  2006-01-01 00:00:00\n",
      "Latest sale:  2010-07-01 00:00:00\n"
     ]
    }
   ],
   "source": [
    "print(\"Earliest sale: \", housing['YrMoSold'].min())\n",
    "print(\"Latest sale: \", housing['YrMoSold'].max())"
   ]
  },
  {
   "cell_type": "code",
   "execution_count": 101,
   "metadata": {
    "ExecuteTime": {
     "end_time": "2019-05-20T02:33:54.646559Z",
     "start_time": "2019-05-20T02:33:54.634635Z"
    }
   },
   "outputs": [
    {
     "data": {
      "text/plain": [
       "WD       86.780822\n",
       "New       8.356164\n",
       "COD       2.945205\n",
       "ConLD     0.616438\n",
       "ConLw     0.342466\n",
       "ConLI     0.342466\n",
       "CWD       0.273973\n",
       "Oth       0.205479\n",
       "Con       0.136986\n",
       "Name: SaleType, dtype: float64"
      ]
     },
     "execution_count": 101,
     "metadata": {},
     "output_type": "execute_result"
    }
   ],
   "source": [
    "# Count type of sale\n",
    "\n",
    "housing['SaleType'].value_counts(dropna=False, normalize=True)*100"
   ]
  },
  {
   "cell_type": "code",
   "execution_count": 102,
   "metadata": {
    "ExecuteTime": {
     "end_time": "2019-05-20T02:33:54.659947Z",
     "start_time": "2019-05-20T02:33:54.648750Z"
    }
   },
   "outputs": [
    {
     "data": {
      "text/plain": [
       "Normal     82.054795\n",
       "Partial     8.561644\n",
       "Abnorml     6.917808\n",
       "Family      1.369863\n",
       "Alloca      0.821918\n",
       "AdjLand     0.273973\n",
       "Name: SaleCondition, dtype: float64"
      ]
     },
     "execution_count": 102,
     "metadata": {},
     "output_type": "execute_result"
    }
   ],
   "source": [
    "housing['SaleCondition'].value_counts(dropna=False, normalize=True)*100"
   ]
  },
  {
   "cell_type": "code",
   "execution_count": 103,
   "metadata": {
    "ExecuteTime": {
     "end_time": "2019-05-20T02:33:54.677101Z",
     "start_time": "2019-05-20T02:33:54.662084Z"
    }
   },
   "outputs": [],
   "source": [
    "# Dummy type of sale and sale condition\n",
    "\n",
    "sale_type_dummies =  pd.get_dummies(housing['SaleType'], prefix='SaleType', drop_first=True)\n",
    "sale_condition_dummies = pd.get_dummies(housing['SaleCondition'], prefix='SaleCondition', drop_first=True)\n",
    "\n",
    "dummied_features.append(sale_type_dummies)\n",
    "dummied_features.append(sale_condition_dummies)"
   ]
  },
  {
   "cell_type": "markdown",
   "metadata": {},
   "source": [
    "## House types and conditions\n",
    "\n",
    "What kind of houses are in the dataset?"
   ]
  },
  {
   "cell_type": "code",
   "execution_count": 104,
   "metadata": {
    "ExecuteTime": {
     "end_time": "2019-05-20T02:33:55.028388Z",
     "start_time": "2019-05-20T02:33:54.678895Z"
    }
   },
   "outputs": [
    {
     "data": {
      "image/png": "[encoded data removed]",
      "text/plain": [
       "<Figure size 720x576 with 1 Axes>"
      ]
     },
     "metadata": {},
     "output_type": "display_data"
    }
   ],
   "source": [
    "# Find house subclasses\n",
    "\n",
    "subclass_dict = {20: '1-STORY 1946 & NEWER ALL STYLES', \n",
    "                 30: '1-STORY 1945 & OLDER',\n",
    "                 40: '1-STORY W/FINISHED ATTIC ALL AGES',\n",
    "                 45: '1-1/2 STORY - UNFINISHED ALL AGES',\n",
    "                 50: '1-1/2 STORY FINISHED ALL AGES',\n",
    "                 60: '2-STORY 1946 & NEWER',\n",
    "                 70: '2-STORY 1945 & OLDER',\n",
    "                 75: '1-1/2 STORY ALL AGES',\n",
    "                 80: 'SPLIT OR MULTI-LEVEL',\n",
    "                 85: 'SPLIT FOYER',\n",
    "                 90: 'DUPLEX - ALL STYLES AND AGES',\n",
    "                 120: '1-STORY PUD (Planned Unit Development) - 1946 & NEWER',\n",
    "                 150: '1-1/2 STORY PUD - ALL AGES',\n",
    "                 160: '2-STORY PUD - 1946 & NEWER', \n",
    "                 180:'PUD - MULTILEVEL - INCL SPLIT LEV/FOYER',\n",
    "                 190: '2 FAMILY CONVERSION - ALL STYLES AND AGES'\n",
    "                }\n",
    "\n",
    "# Count how many houses are part of each subclass\n",
    "\n",
    "# Lowercase, then capitalise values\n",
    "subclass_dict_lower = {k: v.lower().capitalize() for k, v in subclass_dict.items()} \n",
    "# Sort index so similar subclasses will be close to each other\n",
    "house_subclasses = housing['MSSubClass_fix'].value_counts().sort_index() \n",
    "# Map subclass labels to subclass value count index\n",
    "house_subclasses.index = house_subclasses.index.map(subclass_dict_lower)\n",
    "\n",
    "# Start plotting number of houses by subclass\n",
    "\n",
    "fig, ax = plt.subplots(figsize=(10, 8)) # Later annotation easier to do via axes object\n",
    "house_subclasses.plot.barh(color='navy', ax=ax, xlim=(0, 600)) # Horizontal bar plot\n",
    "plt.xlabel('Num. houses', size=12)\n",
    "plt.yticks(size=12)\n",
    "\n",
    "# Add % annotation\n",
    "for i in ax.patches:\n",
    "    # get_width pulls left or right; get_y pushes up or down\n",
    "    ax.text(i.get_width()+5, i.get_y()+0.1, # text coordinates\n",
    "            str(round((i.get_width()/housing.shape[0])*100, 2))+'%', \n",
    "            fontsize=12,\n",
    "            color='dimgrey')\n",
    "\n",
    "plt.show()"
   ]
  },
  {
   "cell_type": "code",
   "execution_count": 105,
   "metadata": {
    "ExecuteTime": {
     "end_time": "2019-05-20T02:33:55.053234Z",
     "start_time": "2019-05-20T02:33:55.029853Z"
    }
   },
   "outputs": [
    {
     "data": {
      "text/html": [
       "<div>\n",
       "<style scoped>\n",
       "    .dataframe tbody tr th:only-of-type {\n",
       "        vertical-align: middle;\n",
       "    }\n",
       "\n",
       "    .dataframe tbody tr th {\n",
       "        vertical-align: top;\n",
       "    }\n",
       "\n",
       "    .dataframe thead th {\n",
       "        text-align: right;\n",
       "    }\n",
       "</style>\n",
       "<table border=\"1\" class=\"dataframe\">\n",
       "  <thead>\n",
       "    <tr style=\"text-align: right;\">\n",
       "      <th></th>\n",
       "      <th>MSSubClass_30</th>\n",
       "      <th>MSSubClass_40</th>\n",
       "      <th>MSSubClass_45</th>\n",
       "      <th>MSSubClass_50</th>\n",
       "      <th>MSSubClass_60</th>\n",
       "      <th>MSSubClass_70</th>\n",
       "      <th>MSSubClass_75</th>\n",
       "      <th>MSSubClass_80</th>\n",
       "      <th>MSSubClass_85</th>\n",
       "      <th>MSSubClass_90</th>\n",
       "      <th>MSSubClass_120</th>\n",
       "      <th>MSSubClass_160</th>\n",
       "      <th>MSSubClass_180</th>\n",
       "      <th>MSSubClass_190</th>\n",
       "    </tr>\n",
       "  </thead>\n",
       "  <tbody>\n",
       "    <tr>\n",
       "      <th>0</th>\n",
       "      <td>0</td>\n",
       "      <td>0</td>\n",
       "      <td>0</td>\n",
       "      <td>0</td>\n",
       "      <td>1</td>\n",
       "      <td>0</td>\n",
       "      <td>0</td>\n",
       "      <td>0</td>\n",
       "      <td>0</td>\n",
       "      <td>0</td>\n",
       "      <td>0</td>\n",
       "      <td>0</td>\n",
       "      <td>0</td>\n",
       "      <td>0</td>\n",
       "    </tr>\n",
       "    <tr>\n",
       "      <th>1</th>\n",
       "      <td>0</td>\n",
       "      <td>0</td>\n",
       "      <td>0</td>\n",
       "      <td>0</td>\n",
       "      <td>0</td>\n",
       "      <td>0</td>\n",
       "      <td>0</td>\n",
       "      <td>0</td>\n",
       "      <td>0</td>\n",
       "      <td>0</td>\n",
       "      <td>0</td>\n",
       "      <td>0</td>\n",
       "      <td>0</td>\n",
       "      <td>0</td>\n",
       "    </tr>\n",
       "    <tr>\n",
       "      <th>2</th>\n",
       "      <td>0</td>\n",
       "      <td>0</td>\n",
       "      <td>0</td>\n",
       "      <td>0</td>\n",
       "      <td>1</td>\n",
       "      <td>0</td>\n",
       "      <td>0</td>\n",
       "      <td>0</td>\n",
       "      <td>0</td>\n",
       "      <td>0</td>\n",
       "      <td>0</td>\n",
       "      <td>0</td>\n",
       "      <td>0</td>\n",
       "      <td>0</td>\n",
       "    </tr>\n",
       "    <tr>\n",
       "      <th>3</th>\n",
       "      <td>0</td>\n",
       "      <td>0</td>\n",
       "      <td>0</td>\n",
       "      <td>0</td>\n",
       "      <td>0</td>\n",
       "      <td>1</td>\n",
       "      <td>0</td>\n",
       "      <td>0</td>\n",
       "      <td>0</td>\n",
       "      <td>0</td>\n",
       "      <td>0</td>\n",
       "      <td>0</td>\n",
       "      <td>0</td>\n",
       "      <td>0</td>\n",
       "    </tr>\n",
       "    <tr>\n",
       "      <th>4</th>\n",
       "      <td>0</td>\n",
       "      <td>0</td>\n",
       "      <td>0</td>\n",
       "      <td>0</td>\n",
       "      <td>1</td>\n",
       "      <td>0</td>\n",
       "      <td>0</td>\n",
       "      <td>0</td>\n",
       "      <td>0</td>\n",
       "      <td>0</td>\n",
       "      <td>0</td>\n",
       "      <td>0</td>\n",
       "      <td>0</td>\n",
       "      <td>0</td>\n",
       "    </tr>\n",
       "  </tbody>\n",
       "</table>\n",
       "</div>"
      ],
      "text/plain": [
       "   MSSubClass_30  MSSubClass_40  MSSubClass_45  MSSubClass_50  MSSubClass_60  \\\n",
       "0              0              0              0              0              1   \n",
       "1              0              0              0              0              0   \n",
       "2              0              0              0              0              1   \n",
       "3              0              0              0              0              0   \n",
       "4              0              0              0              0              1   \n",
       "\n",
       "   MSSubClass_70  MSSubClass_75  MSSubClass_80  MSSubClass_85  MSSubClass_90  \\\n",
       "0              0              0              0              0              0   \n",
       "1              0              0              0              0              0   \n",
       "2              0              0              0              0              0   \n",
       "3              1              0              0              0              0   \n",
       "4              0              0              0              0              0   \n",
       "\n",
       "   MSSubClass_120  MSSubClass_160  MSSubClass_180  MSSubClass_190  \n",
       "0               0               0               0               0  \n",
       "1               0               0               0               0  \n",
       "2               0               0               0               0  \n",
       "3               0               0               0               0  \n",
       "4               0               0               0               0  "
      ]
     },
     "execution_count": 105,
     "metadata": {},
     "output_type": "execute_result"
    }
   ],
   "source": [
    "# Dummy MSSubClass\n",
    "\n",
    "subclass_dummies = pd.get_dummies(housing['MSSubClass_fix'], prefix='MSSubClass')\n",
    "subclass_dummies = subclass_dummies.drop(40, axis=1)\n",
    "dummied_features.append(subclass_dummies)\n",
    "\n",
    "subclass_dummies.head()"
   ]
  },
  {
   "cell_type": "code",
   "execution_count": 106,
   "metadata": {
    "ExecuteTime": {
     "end_time": "2019-05-20T02:33:55.346037Z",
     "start_time": "2019-05-20T02:33:55.055592Z"
    }
   },
   "outputs": [
    {
     "data": {
      "image/png": "[encoded data removed]",
      "text/plain": [
       "<Figure size 720x576 with 1 Axes>"
      ]
     },
     "metadata": {},
     "output_type": "display_data"
    }
   ],
   "source": [
    "# Find values for house styles\n",
    "\n",
    "# Create house style dataframe\n",
    "house_styles = housing['HouseStyle'].value_counts()\n",
    "style_dict = {'1Story': 'One story',\n",
    "              '1.5Fin': 'One and one-half story: 2nd level finished',\n",
    "              '1.5Unf': 'One and one-half story: 2nd level unfinished',\n",
    "              '2Story': 'Two story',\n",
    "              '2.5Fin': 'Two and one-half story: 2nd level finished',\n",
    "              '2.5Unf': 'Two and one-half story: 2nd level unfinished',\n",
    "              'SFoyer': 'Split Foyer',\n",
    "              'SLvl': 'Split Level'}\n",
    "house_styles.index = house_styles.index.map(style_dict)\n",
    "\n",
    "fig, ax = plt.subplots(figsize=(10, 8))\n",
    "house_styles.plot.barh(ax=ax, xlim=(0, 900))\n",
    "plt.xlabel('Num. houses', size=12)\n",
    "plt.yticks(size=12)\n",
    "\n",
    "# Add % annotation\n",
    "for i in ax.patches:\n",
    "    # get_width pulls left or right; get_y pushes up or down\n",
    "    ax.text(i.get_width()+10, i.get_y()+0.2, # text coordinates\n",
    "            str(round((i.get_width()/housing.shape[0])*100, 2))+'%', \n",
    "            fontsize=12,\n",
    "            color='dimgrey')\n",
    "\n",
    "plt.show()"
   ]
  },
  {
   "cell_type": "code",
   "execution_count": 107,
   "metadata": {
    "ExecuteTime": {
     "end_time": "2019-05-20T02:33:55.365054Z",
     "start_time": "2019-05-20T02:33:55.348384Z"
    }
   },
   "outputs": [
    {
     "data": {
      "text/html": [
       "<div>\n",
       "<style scoped>\n",
       "    .dataframe tbody tr th:only-of-type {\n",
       "        vertical-align: middle;\n",
       "    }\n",
       "\n",
       "    .dataframe tbody tr th {\n",
       "        vertical-align: top;\n",
       "    }\n",
       "\n",
       "    .dataframe thead th {\n",
       "        text-align: right;\n",
       "    }\n",
       "</style>\n",
       "<table border=\"1\" class=\"dataframe\">\n",
       "  <thead>\n",
       "    <tr style=\"text-align: right;\">\n",
       "      <th></th>\n",
       "      <th>HouseStyle_1.5Unf</th>\n",
       "      <th>HouseStyle_1Story</th>\n",
       "      <th>HouseStyle_2.5Fin</th>\n",
       "      <th>HouseStyle_2.5Unf</th>\n",
       "      <th>HouseStyle_2Story</th>\n",
       "      <th>HouseStyle_SFoyer</th>\n",
       "      <th>HouseStyle_SLvl</th>\n",
       "    </tr>\n",
       "  </thead>\n",
       "  <tbody>\n",
       "    <tr>\n",
       "      <th>0</th>\n",
       "      <td>0</td>\n",
       "      <td>0</td>\n",
       "      <td>0</td>\n",
       "      <td>0</td>\n",
       "      <td>1</td>\n",
       "      <td>0</td>\n",
       "      <td>0</td>\n",
       "    </tr>\n",
       "    <tr>\n",
       "      <th>1</th>\n",
       "      <td>0</td>\n",
       "      <td>1</td>\n",
       "      <td>0</td>\n",
       "      <td>0</td>\n",
       "      <td>0</td>\n",
       "      <td>0</td>\n",
       "      <td>0</td>\n",
       "    </tr>\n",
       "    <tr>\n",
       "      <th>2</th>\n",
       "      <td>0</td>\n",
       "      <td>0</td>\n",
       "      <td>0</td>\n",
       "      <td>0</td>\n",
       "      <td>1</td>\n",
       "      <td>0</td>\n",
       "      <td>0</td>\n",
       "    </tr>\n",
       "    <tr>\n",
       "      <th>3</th>\n",
       "      <td>0</td>\n",
       "      <td>0</td>\n",
       "      <td>0</td>\n",
       "      <td>0</td>\n",
       "      <td>1</td>\n",
       "      <td>0</td>\n",
       "      <td>0</td>\n",
       "    </tr>\n",
       "    <tr>\n",
       "      <th>4</th>\n",
       "      <td>0</td>\n",
       "      <td>0</td>\n",
       "      <td>0</td>\n",
       "      <td>0</td>\n",
       "      <td>1</td>\n",
       "      <td>0</td>\n",
       "      <td>0</td>\n",
       "    </tr>\n",
       "  </tbody>\n",
       "</table>\n",
       "</div>"
      ],
      "text/plain": [
       "   HouseStyle_1.5Unf  HouseStyle_1Story  HouseStyle_2.5Fin  HouseStyle_2.5Unf  \\\n",
       "0                  0                  0                  0                  0   \n",
       "1                  0                  1                  0                  0   \n",
       "2                  0                  0                  0                  0   \n",
       "3                  0                  0                  0                  0   \n",
       "4                  0                  0                  0                  0   \n",
       "\n",
       "   HouseStyle_2Story  HouseStyle_SFoyer  HouseStyle_SLvl  \n",
       "0                  1                  0                0  \n",
       "1                  0                  0                0  \n",
       "2                  1                  0                0  \n",
       "3                  1                  0                0  \n",
       "4                  1                  0                0  "
      ]
     },
     "execution_count": 107,
     "metadata": {},
     "output_type": "execute_result"
    }
   ],
   "source": [
    "# Dummy house style\n",
    "\n",
    "house_style_dummies = pd.get_dummies(housing['HouseStyle'], prefix='HouseStyle', drop_first=True)\n",
    "dummied_features.append(house_style_dummies)\n",
    "\n",
    "house_style_dummies.head()"
   ]
  },
  {
   "cell_type": "code",
   "execution_count": 108,
   "metadata": {
    "ExecuteTime": {
     "end_time": "2019-05-20T02:33:55.672102Z",
     "start_time": "2019-05-20T02:33:55.367202Z"
    }
   },
   "outputs": [
    {
     "data": {
      "image/png": "[encoded data removed]",
      "text/plain": [
       "<Figure size 720x576 with 1 Axes>"
      ]
     },
     "metadata": {},
     "output_type": "display_data"
    }
   ],
   "source": [
    "# Find values for house zones\n",
    "\n",
    "house_zones = housing['MSZoning'].value_counts()\n",
    "house_zones.index = house_zones.index.map({'C (all)': 'Commercial',\n",
    "                                           'FV': 'Floating Village Residential',\n",
    "                                           'RH': 'Residential High Density',\n",
    "                                           'RL': 'Residential Low Density',\n",
    "                                           'RM': 'Residential Medium Density'})\n",
    "fig, ax = plt.subplots(figsize=(10, 8))\n",
    "house_zones.plot.barh(ax=ax, xlim=(0, 1300))\n",
    "plt.xlabel('Num. houses', size=12)\n",
    "plt.yticks(size=12)\n",
    "\n",
    "# Add % annotation\n",
    "for i in ax.patches:\n",
    "    # get_width pulls left or right; get_y pushes up or down\n",
    "    ax.text(i.get_width()+20, i.get_y()+0.2, # text coordinates\n",
    "            str(round((i.get_width()/housing.shape[0])*100, 2))+'%', \n",
    "            fontsize=12,\n",
    "            color='dimgrey')\n",
    "\n",
    "plt.show()"
   ]
  },
  {
   "cell_type": "code",
   "execution_count": 109,
   "metadata": {
    "ExecuteTime": {
     "end_time": "2019-05-20T02:33:55.685724Z",
     "start_time": "2019-05-20T02:33:55.673651Z"
    }
   },
   "outputs": [
    {
     "data": {
      "text/html": [
       "<div>\n",
       "<style scoped>\n",
       "    .dataframe tbody tr th:only-of-type {\n",
       "        vertical-align: middle;\n",
       "    }\n",
       "\n",
       "    .dataframe tbody tr th {\n",
       "        vertical-align: top;\n",
       "    }\n",
       "\n",
       "    .dataframe thead th {\n",
       "        text-align: right;\n",
       "    }\n",
       "</style>\n",
       "<table border=\"1\" class=\"dataframe\">\n",
       "  <thead>\n",
       "    <tr style=\"text-align: right;\">\n",
       "      <th></th>\n",
       "      <th>MSZoning_FV</th>\n",
       "      <th>MSZoning_RH</th>\n",
       "      <th>MSZoning_RL</th>\n",
       "      <th>MSZoning_RM</th>\n",
       "    </tr>\n",
       "  </thead>\n",
       "  <tbody>\n",
       "    <tr>\n",
       "      <th>0</th>\n",
       "      <td>0</td>\n",
       "      <td>0</td>\n",
       "      <td>1</td>\n",
       "      <td>0</td>\n",
       "    </tr>\n",
       "    <tr>\n",
       "      <th>1</th>\n",
       "      <td>0</td>\n",
       "      <td>0</td>\n",
       "      <td>1</td>\n",
       "      <td>0</td>\n",
       "    </tr>\n",
       "    <tr>\n",
       "      <th>2</th>\n",
       "      <td>0</td>\n",
       "      <td>0</td>\n",
       "      <td>1</td>\n",
       "      <td>0</td>\n",
       "    </tr>\n",
       "    <tr>\n",
       "      <th>3</th>\n",
       "      <td>0</td>\n",
       "      <td>0</td>\n",
       "      <td>1</td>\n",
       "      <td>0</td>\n",
       "    </tr>\n",
       "    <tr>\n",
       "      <th>4</th>\n",
       "      <td>0</td>\n",
       "      <td>0</td>\n",
       "      <td>1</td>\n",
       "      <td>0</td>\n",
       "    </tr>\n",
       "  </tbody>\n",
       "</table>\n",
       "</div>"
      ],
      "text/plain": [
       "   MSZoning_FV  MSZoning_RH  MSZoning_RL  MSZoning_RM\n",
       "0            0            0            1            0\n",
       "1            0            0            1            0\n",
       "2            0            0            1            0\n",
       "3            0            0            1            0\n",
       "4            0            0            1            0"
      ]
     },
     "execution_count": 109,
     "metadata": {},
     "output_type": "execute_result"
    }
   ],
   "source": [
    "# Dummy Zone\n",
    "\n",
    "housing['MSZoning'] = housing['MSZoning'].apply(lambda x: 'C' if x == 'C (all)' else x)\n",
    "\n",
    "zone_dummies = pd.get_dummies(housing['MSZoning'], prefix='MSZoning', drop_first=True)\n",
    "dummied_features.append(zone_dummies)\n",
    "\n",
    "zone_dummies.head()"
   ]
  },
  {
   "cell_type": "code",
   "execution_count": 110,
   "metadata": {
    "ExecuteTime": {
     "end_time": "2019-05-20T02:33:56.302077Z",
     "start_time": "2019-05-20T02:33:55.687340Z"
    }
   },
   "outputs": [
    {
     "data": {
      "image/png": "[encoded data removed]",
      "text/plain": [
       "<Figure size 1080x576 with 2 Axes>"
      ]
     },
     "metadata": {},
     "output_type": "display_data"
    }
   ],
   "source": [
    "# Plot quality and condition of houses\n",
    "\n",
    "fig = plt.figure(figsize=(15, 8))\n",
    "\n",
    "ax1 = fig.add_subplot(2, 2, 1)\n",
    "housing['OverallQual'].value_counts().sort_index().plot.bar(ax=ax1)\n",
    "ax1.set_xlabel('Overall quality')\n",
    "ax1.set_ylabel('Num. houses')\n",
    "\n",
    "ax2 = fig.add_subplot(2, 2, 2)\n",
    "housing['OverallCond'].value_counts().sort_index().plot.bar(ax=ax2)\n",
    "ax2.set_xlabel('Overall condition')\n",
    "ax2.set_ylabel('Num. houses')\n",
    "\n",
    "plt.show()"
   ]
  },
  {
   "cell_type": "code",
   "execution_count": 111,
   "metadata": {
    "ExecuteTime": {
     "end_time": "2019-05-20T02:33:56.891487Z",
     "start_time": "2019-05-20T02:33:56.305092Z"
    }
   },
   "outputs": [
    {
     "data": {
      "image/png": "[encoded data removed]",
      "text/plain": [
       "<Figure size 576x576 with 2 Axes>"
      ]
     },
     "metadata": {},
     "output_type": "display_data"
    }
   ],
   "source": [
    "# Plot condition and quality as heatmap\n",
    "\n",
    "plt.figure(figsize=(8, 8))\n",
    "sns.heatmap(pd.crosstab(housing['OverallQual'], housing['OverallCond']), annot=True, linewidth=0.1, fmt='d')\n",
    "plt.show()"
   ]
  },
  {
   "cell_type": "markdown",
   "metadata": {},
   "source": [
    "## Lot area"
   ]
  },
  {
   "cell_type": "code",
   "execution_count": 112,
   "metadata": {
    "ExecuteTime": {
     "end_time": "2019-05-20T02:33:57.077115Z",
     "start_time": "2019-05-20T02:33:56.893487Z"
    }
   },
   "outputs": [
    {
     "data": {
      "image/png": "[encoded data removed]",
      "text/plain": [
       "<Figure size 720x432 with 1 Axes>"
      ]
     },
     "metadata": {},
     "output_type": "display_data"
    }
   ],
   "source": [
    "# Plot distribution of houses by lot area\n",
    "\n",
    "plt.figure(figsize=(10, 6))\n",
    "\n",
    "plt.hist(housing['LotArea'], bins=15, color='darkblue', alpha=0.7)\n",
    "plt.xlabel('Lot Area (sq ft)')\n",
    "plt.ylabel('Count of houses')\n",
    "\n",
    "plt.show()"
   ]
  },
  {
   "cell_type": "code",
   "execution_count": 113,
   "metadata": {
    "ExecuteTime": {
     "end_time": "2019-05-20T02:33:57.089625Z",
     "start_time": "2019-05-20T02:33:57.079601Z"
    },
    "scrolled": true
   },
   "outputs": [
    {
     "data": {
      "text/plain": [
       "count      1460.000000\n",
       "mean      10516.828082\n",
       "std        9981.264932\n",
       "min        1300.000000\n",
       "25%        7553.500000\n",
       "50%        9478.500000\n",
       "75%       11601.500000\n",
       "max      215245.000000\n",
       "Name: LotArea, dtype: float64"
      ]
     },
     "execution_count": 113,
     "metadata": {},
     "output_type": "execute_result"
    }
   ],
   "source": [
    "housing['LotArea'].describe()"
   ]
  },
  {
   "cell_type": "markdown",
   "metadata": {},
   "source": [
    "`LotArea` is very heavily skewed to low values. Remove lot area above the 97% percentile and visualise distribution."
   ]
  },
  {
   "cell_type": "code",
   "execution_count": 114,
   "metadata": {
    "ExecuteTime": {
     "end_time": "2019-05-20T02:33:57.278839Z",
     "start_time": "2019-05-20T02:33:57.092046Z"
    },
    "scrolled": true
   },
   "outputs": [
    {
     "data": {
      "image/png": "[encoded data removed]",
      "text/plain": [
       "<Figure size 432x288 with 1 Axes>"
      ]
     },
     "metadata": {},
     "output_type": "display_data"
    }
   ],
   "source": [
    "# Visualise distribution excluding outliers\n",
    "\n",
    "no_outlier_area = housing[housing['LotArea'] < housing['LotArea'].quantile(0.97)]\n",
    "\n",
    "plt.hist(no_outlier_area['LotArea'])\n",
    "plt.show()"
   ]
  },
  {
   "cell_type": "code",
   "execution_count": 115,
   "metadata": {
    "ExecuteTime": {
     "end_time": "2019-05-20T02:33:57.556485Z",
     "start_time": "2019-05-20T02:33:57.280517Z"
    }
   },
   "outputs": [
    {
     "data": {
      "image/png": "[encoded data removed]",
      "text/plain": [
       "<Figure size 720x432 with 1 Axes>"
      ]
     },
     "metadata": {},
     "output_type": "display_data"
    }
   ],
   "source": [
    "# Visualise effect of transformations\n",
    "\n",
    "fig, ax = plt.subplots(figsize=(10, 6))\n",
    "\n",
    "ax.hist(np.log(housing['LotArea']), bins=15, label='log transform', \n",
    "        alpha=0.6, color='darkblue')\n",
    "ax.hist(stats.boxcox(housing['LotArea'])[0], bins=15, label='box-cox transform', \n",
    "        alpha=0.6, color='darkred')\n",
    "ax.legend(loc='best')\n",
    "\n",
    "plt.show()"
   ]
  },
  {
   "cell_type": "code",
   "execution_count": 116,
   "metadata": {
    "ExecuteTime": {
     "end_time": "2019-05-20T02:33:58.087070Z",
     "start_time": "2019-05-20T02:33:57.558733Z"
    }
   },
   "outputs": [
    {
     "data": {
      "image/png": "[encoded data removed]",
      "text/plain": [
       "<Figure size 720x864 with 3 Axes>"
      ]
     },
     "metadata": {},
     "output_type": "display_data"
    }
   ],
   "source": [
    "fig = plt.figure(figsize=(10, 12))\n",
    "\n",
    "ax1 = fig.add_subplot(3, 1, 1)\n",
    "prob = stats.probplot(housing['LotArea'], dist=stats.norm, plot=ax1)\n",
    "ax1.set_title('Probplot of untransformed data')\n",
    "\n",
    "ax2 = fig.add_subplot(3, 1, 2)\n",
    "prob = stats.probplot(np.log(housing['LotArea']), dist=stats.norm, plot=ax2)\n",
    "ax2.set_title('Probplot after Log transformation')\n",
    "\n",
    "ax3 = fig.add_subplot(3, 1, 3)\n",
    "prob = stats.probplot(stats.boxcox(housing['LotArea'])[0], dist=stats.norm, plot=ax3)\n",
    "ax3.set_title('Probplot after Box-Cox transformation')\n",
    "\n",
    "plt.tight_layout()\n",
    "plt.show()"
   ]
  },
  {
   "cell_type": "code",
   "execution_count": 117,
   "metadata": {
    "ExecuteTime": {
     "end_time": "2019-05-20T02:33:58.093347Z",
     "start_time": "2019-05-20T02:33:58.089163Z"
    }
   },
   "outputs": [],
   "source": [
    "# Add column with LotArea log transformation\n",
    "\n",
    "housing['LotArea_log'] = np.log(housing['LotArea'])"
   ]
  },
  {
   "cell_type": "markdown",
   "metadata": {},
   "source": [
    "## House age\n",
    "\n",
    "How old are these houses? How many have been remodelled, and when have they been done?\n",
    "\n",
    "`YearRemodAdd` contains the year houses were remodelled. If the house was not remodelled, the value in `YearRemodAdd` is the same as the value in `YearBuilt`."
   ]
  },
  {
   "cell_type": "code",
   "execution_count": 118,
   "metadata": {
    "ExecuteTime": {
     "end_time": "2019-05-20T02:33:58.110662Z",
     "start_time": "2019-05-20T02:33:58.096353Z"
    }
   },
   "outputs": [
    {
     "name": "stdout",
     "output_type": "stream",
     "text": [
      "Houses:  1460\n",
      "Houses remodelled:  696\n"
     ]
    }
   ],
   "source": [
    "remodelled_houses = housing[housing['YearRemodAdd'] != housing['YearBuilt']]\n",
    "\n",
    "print(\"Houses: \", len(housing['YearBuilt'].dropna()))\n",
    "print(\"Houses remodelled: \", len((remodelled_houses)))"
   ]
  },
  {
   "cell_type": "code",
   "execution_count": 119,
   "metadata": {
    "ExecuteTime": {
     "end_time": "2019-05-20T02:33:58.431967Z",
     "start_time": "2019-05-20T02:33:58.112988Z"
    }
   },
   "outputs": [
    {
     "data": {
      "image/png": "[encoded data removed]",
      "text/plain": [
       "<Figure size 720x432 with 1 Axes>"
      ]
     },
     "metadata": {},
     "output_type": "display_data"
    }
   ],
   "source": [
    "plt.figure(figsize=(10, 6))\n",
    "\n",
    "# Plot distributions of year houses were built, save bin margins \n",
    "\n",
    "n1, bins1, patches1 = plt.hist(housing['YearBuilt'], label = 'Year built', color='darkblue', alpha=0.6)\n",
    "\n",
    "# Plot distribution of year houses remodelled using same bins as previous histogram\n",
    "\n",
    "plt.hist(remodelled_houses['YearRemodAdd'], bins = bins1, label = 'Year remodelled', color='darkorange', alpha=0.4)\n",
    "plt.xlabel('Year')\n",
    "plt.ylabel('Count of houses')\n",
    "plt.legend(loc='best')\n",
    "\n",
    "plt.show()"
   ]
  },
  {
   "cell_type": "code",
   "execution_count": 120,
   "metadata": {
    "ExecuteTime": {
     "end_time": "2019-05-20T02:33:58.452723Z",
     "start_time": "2019-05-20T02:33:58.434713Z"
    }
   },
   "outputs": [
    {
     "data": {
      "text/plain": [
       "count    696.000000\n",
       "mean      28.524425\n",
       "std       28.832126\n",
       "min        1.000000\n",
       "25%        1.000000\n",
       "50%       23.000000\n",
       "75%       46.000000\n",
       "max      123.000000\n",
       "Name: BuiltRemodDiff, dtype: float64"
      ]
     },
     "execution_count": 120,
     "metadata": {},
     "output_type": "execute_result"
    }
   ],
   "source": [
    "# For remodelled houses, how long was the period between the house being built and its remodelling?\n",
    "\n",
    "housing['BuiltRemodDiff'] = housing['YearRemodAdd'] - housing['YearBuilt']\n",
    "\n",
    "(housing[housing['BuiltRemodDiff'] != 0]['BuiltRemodDiff']).describe()"
   ]
  },
  {
   "cell_type": "code",
   "execution_count": 121,
   "metadata": {
    "ExecuteTime": {
     "end_time": "2019-05-20T02:33:58.641203Z",
     "start_time": "2019-05-20T02:33:58.456854Z"
    }
   },
   "outputs": [
    {
     "data": {
      "image/png": "[encoded data removed]",
      "text/plain": [
       "<Figure size 432x288 with 1 Axes>"
      ]
     },
     "metadata": {},
     "output_type": "display_data"
    }
   ],
   "source": [
    "plt.hist(housing[housing['BuiltRemodDiff'] != 0]['BuiltRemodDiff'])\n",
    "plt.xlabel('Years between built and remodelling')\n",
    "plt.show()"
   ]
  },
  {
   "cell_type": "markdown",
   "metadata": {},
   "source": [
    "## Lot Shape"
   ]
  },
  {
   "cell_type": "code",
   "execution_count": 124,
   "metadata": {
    "ExecuteTime": {
     "end_time": "2019-05-20T02:35:06.178927Z",
     "start_time": "2019-05-20T02:35:06.154188Z"
    }
   },
   "outputs": [
    {
     "data": {
      "text/plain": [
       "Reg    63.356164\n",
       "IR1    33.150685\n",
       "IR2     2.808219\n",
       "IR3     0.684932\n",
       "Name: LotShape, dtype: float64"
      ]
     },
     "execution_count": 124,
     "metadata": {},
     "output_type": "execute_result"
    }
   ],
   "source": [
    "housing['LotShape'].value_counts(dropna=False, normalize=True)*100"
   ]
  },
  {
   "cell_type": "code",
   "execution_count": 125,
   "metadata": {
    "ExecuteTime": {
     "end_time": "2019-05-20T02:36:23.764216Z",
     "start_time": "2019-05-20T02:36:23.739671Z"
    }
   },
   "outputs": [
    {
     "data": {
      "text/html": [
       "<div>\n",
       "<style scoped>\n",
       "    .dataframe tbody tr th:only-of-type {\n",
       "        vertical-align: middle;\n",
       "    }\n",
       "\n",
       "    .dataframe tbody tr th {\n",
       "        vertical-align: top;\n",
       "    }\n",
       "\n",
       "    .dataframe thead th {\n",
       "        text-align: right;\n",
       "    }\n",
       "</style>\n",
       "<table border=\"1\" class=\"dataframe\">\n",
       "  <thead>\n",
       "    <tr style=\"text-align: right;\">\n",
       "      <th></th>\n",
       "      <th>LotShape_IR2</th>\n",
       "      <th>LotShape_IR3</th>\n",
       "      <th>LotShape_Reg</th>\n",
       "    </tr>\n",
       "  </thead>\n",
       "  <tbody>\n",
       "    <tr>\n",
       "      <th>0</th>\n",
       "      <td>0</td>\n",
       "      <td>0</td>\n",
       "      <td>1</td>\n",
       "    </tr>\n",
       "    <tr>\n",
       "      <th>1</th>\n",
       "      <td>0</td>\n",
       "      <td>0</td>\n",
       "      <td>1</td>\n",
       "    </tr>\n",
       "    <tr>\n",
       "      <th>2</th>\n",
       "      <td>0</td>\n",
       "      <td>0</td>\n",
       "      <td>0</td>\n",
       "    </tr>\n",
       "    <tr>\n",
       "      <th>3</th>\n",
       "      <td>0</td>\n",
       "      <td>0</td>\n",
       "      <td>0</td>\n",
       "    </tr>\n",
       "    <tr>\n",
       "      <th>4</th>\n",
       "      <td>0</td>\n",
       "      <td>0</td>\n",
       "      <td>0</td>\n",
       "    </tr>\n",
       "  </tbody>\n",
       "</table>\n",
       "</div>"
      ],
      "text/plain": [
       "   LotShape_IR2  LotShape_IR3  LotShape_Reg\n",
       "0             0             0             1\n",
       "1             0             0             1\n",
       "2             0             0             0\n",
       "3             0             0             0\n",
       "4             0             0             0"
      ]
     },
     "execution_count": 125,
     "metadata": {},
     "output_type": "execute_result"
    }
   ],
   "source": [
    "# Dummy lot shape\n",
    "\n",
    "lotshape_dummies = pd.get_dummies(housing['LotShape'], prefix='LotShape')\n",
    "lotshape_dummies = lotshape_dummies.drop('LotShape_IR3', axis=1)\n",
    "dummied_features.append(lotshape_dummies)\n",
    "\n",
    "lotshape_dummies.head()"
   ]
  },
  {
   "cell_type": "markdown",
   "metadata": {},
   "source": [
    "## House Location"
   ]
  },
  {
   "cell_type": "code",
   "execution_count": 122,
   "metadata": {
    "ExecuteTime": {
     "end_time": "2019-05-20T02:33:58.651593Z",
     "start_time": "2019-05-20T02:33:58.643013Z"
    }
   },
   "outputs": [
    {
     "data": {
      "text/plain": [
       "NAmes      15.410959\n",
       "CollgCr    10.273973\n",
       "OldTown     7.739726\n",
       "Edwards     6.849315\n",
       "Somerst     5.890411\n",
       "Gilbert     5.410959\n",
       "NridgHt     5.273973\n",
       "Sawyer      5.068493\n",
       "NWAmes      5.000000\n",
       "SawyerW     4.041096\n",
       "BrkSide     3.972603\n",
       "Crawfor     3.493151\n",
       "Mitchel     3.356164\n",
       "NoRidge     2.808219\n",
       "Timber      2.602740\n",
       "IDOTRR      2.534247\n",
       "ClearCr     1.917808\n",
       "StoneBr     1.712329\n",
       "SWISU       1.712329\n",
       "Blmngtn     1.164384\n",
       "MeadowV     1.164384\n",
       "BrDale      1.095890\n",
       "Veenker     0.753425\n",
       "NPkVill     0.616438\n",
       "Blueste     0.136986\n",
       "Name: Neighborhood, dtype: float64"
      ]
     },
     "execution_count": 122,
     "metadata": {},
     "output_type": "execute_result"
    }
   ],
   "source": [
    "# Find house neighbourhoods by % in dataset \n",
    "\n",
    "housing['Neighborhood'].value_counts(normalize=True) * 100"
   ]
  },
  {
   "cell_type": "code",
   "execution_count": 123,
   "metadata": {
    "ExecuteTime": {
     "end_time": "2019-05-20T02:33:58.665077Z",
     "start_time": "2019-05-20T02:33:58.653625Z"
    }
   },
   "outputs": [
    {
     "data": {
      "text/plain": [
       "Index(['Neighborhood_Blueste', 'Neighborhood_BrDale', 'Neighborhood_BrkSide',\n",
       "       'Neighborhood_ClearCr', 'Neighborhood_CollgCr', 'Neighborhood_Crawfor',\n",
       "       'Neighborhood_Edwards', 'Neighborhood_Gilbert', 'Neighborhood_IDOTRR',\n",
       "       'Neighborhood_MeadowV', 'Neighborhood_Mitchel', 'Neighborhood_NAmes',\n",
       "       'Neighborhood_NPkVill', 'Neighborhood_NWAmes', 'Neighborhood_NoRidge',\n",
       "       'Neighborhood_NridgHt', 'Neighborhood_OldTown', 'Neighborhood_SWISU',\n",
       "       'Neighborhood_Sawyer', 'Neighborhood_SawyerW', 'Neighborhood_Somerst',\n",
       "       'Neighborhood_StoneBr', 'Neighborhood_Timber', 'Neighborhood_Veenker'],\n",
       "      dtype='object')"
      ]
     },
     "execution_count": 123,
     "metadata": {},
     "output_type": "execute_result"
    }
   ],
   "source": [
    "# Dummy neighbourhood\n",
    "\n",
    "neigh_dummies = pd.get_dummies(housing['Neighborhood'], prefix='Neighborhood', drop_first=True)\n",
    "dummied_features.append(neigh_dummies)\n",
    "\n",
    "neigh_dummies.columns"
   ]
  },
  {
   "cell_type": "markdown",
   "metadata": {},
   "source": [
    "# Save data"
   ]
  },
  {
   "cell_type": "code",
   "execution_count": 51,
   "metadata": {
    "ExecuteTime": {
     "end_time": "2019-05-16T03:54:23.975505Z",
     "start_time": "2019-05-16T03:54:23.895166Z"
    }
   },
   "outputs": [],
   "source": [
    "housing.to_csv(\"../../data/housing.2.csv\", index=False)"
   ]
  }
 ],
 "metadata": {
  "kernelspec": {
   "display_name": "Python [default]",
   "language": "python",
   "name": "python3"
  },
  "language_info": {
   "codemirror_mode": {
    "name": "ipython",
    "version": 3
   },
   "file_extension": ".py",
   "mimetype": "text/x-python",
   "name": "python",
   "nbconvert_exporter": "python",
   "pygments_lexer": "ipython3",
   "version": "3.6.8"
  },
  "toc": {
   "nav_menu": {},
   "number_sections": true,
   "sideBar": true,
   "skip_h1_title": true,
   "title_cell": "Table of Contents",
   "title_sidebar": "Contents",
   "toc_cell": true,
   "toc_position": {},
   "toc_section_display": true,
   "toc_window_display": false
  },
  "varInspector": {
   "cols": {
    "lenName": 16,
    "lenType": 16,
    "lenVar": 40
   },
   "kernels_config": {
    "python": {
     "delete_cmd_postfix": "",
     "delete_cmd_prefix": "del ",
     "library": "var_list.py",
     "varRefreshCmd": "print(var_dic_list())"
    },
    "r": {
     "delete_cmd_postfix": ") ",
     "delete_cmd_prefix": "rm(",
     "library": "var_list.r",
     "varRefreshCmd": "cat(var_dic_list()) "
    }
   },
   "types_to_exclude": [
    "module",
    "function",
    "builtin_function_or_method",
    "instance",
    "_Feature"
   ],
   "window_display": false
  }
 },
 "nbformat": 4,
 "nbformat_minor": 2
}
