{
  "nbformat": 4,
  "nbformat_minor": 0,
  "metadata": {
    "colab": {
      "name": "Linear Algebra Lab.ipynb",
      "version": "0.3.2",
      "provenance": [],
      "collapsed_sections": []
    },
    "kernelspec": {
      "display_name": "Python 3",
      "language": "python",
      "name": "python3"
    }
  },
  "cells": [
    {
      "metadata": {
        "id": "_UAplzczB7zn",
        "colab_type": "text"
      },
      "cell_type": "markdown",
      "source": [
        "# Linear Algebra"
      ]
    },
    {
      "metadata": {
        "id": "SMAs_cPjB7zo",
        "colab_type": "code",
        "colab": {}
      },
      "cell_type": "code",
      "source": [
        "import numpy as np"
      ],
      "execution_count": 0,
      "outputs": []
    },
    {
      "metadata": {
        "id": "CkLPP7HJoi5o",
        "colab_type": "text"
      },
      "cell_type": "markdown",
      "source": [
        "**Vector addition is the operation of adding two or more vectors together into a vector sum.**\n",
        "\n",
        "**1. Create two arrays and assign them to two variables.  Add them to a new variable.**\n",
        "\n",
        "\n",
        "```\n",
        "Expected output:\n",
        "a = [1 6]\n",
        "b = [5 2]\n",
        "a+b = [6 8]\n",
        "```\n",
        "\n",
        "\n",
        "\n"
      ]
    },
    {
      "metadata": {
        "id": "B6VX9cMSB7zr",
        "colab_type": "code",
        "outputId": "787f6501-0566-4bac-d21f-767ccf54f59d",
        "colab": {
          "base_uri": "https://localhost:8080/",
          "height": 85
        }
      },
      "cell_type": "code",
      "source": [
        "# Vector addition\n",
        "print('Vector addition')\n",
        "\n",
        "a = np.array([1,6])\n",
        "print('a = ', a)\n",
        "\n",
        "b = np.array([5,2])\n",
        "print('b = ', b)\n",
        "\n",
        "print('a+b = ', a+b)"
      ],
      "execution_count": 0,
      "outputs": [
        {
          "output_type": "stream",
          "text": [
            "Vector addition\n",
            "a =  [1 6]\n",
            "b =  [5 2]\n",
            "a+b =  [6 8]\n"
          ],
          "name": "stdout"
        }
      ]
    },
    {
      "metadata": {
        "id": "KNvZXyddquG4",
        "colab_type": "text"
      },
      "cell_type": "markdown",
      "source": [
        "**2. Create vectors of same magnitute and opposite ditections. They cancel each other.**\n",
        "\n",
        "```\n",
        "Expected output:\n",
        "a =  [1 6]\n",
        "b =  [-1 -6]\n",
        "c =  [0 0]\n",
        "```\n",
        "\n"
      ]
    },
    {
      "metadata": {
        "id": "o3O8UhBTB7zu",
        "colab_type": "code",
        "outputId": "13373a7e-767a-46d0-c3fa-cec46219fcdd",
        "colab": {
          "base_uri": "https://localhost:8080/",
          "height": 68
        }
      },
      "cell_type": "code",
      "source": [
        "# Vector addition - special case\n",
        "\n",
        "print('a = ', a) \n",
        "\n",
        "print('b = ', -a)\n",
        "\n",
        "print('c =', a - a)"
      ],
      "execution_count": 0,
      "outputs": [
        {
          "output_type": "stream",
          "text": [
            "a =  [1 6]\n",
            "b =  [-1 -6]\n",
            "c = [0 0]\n"
          ],
          "name": "stdout"
        }
      ]
    },
    {
      "metadata": {
        "id": "WUzE5etVrRTz",
        "colab_type": "text"
      },
      "cell_type": "markdown",
      "source": [
        "**3. The dot product or scalar product is an algebraic operation that takes two equal-length sequences of numbers (usually coordinate vectors) and returns a single number.**\n",
        "\n",
        "```\n",
        "Expected output:\n",
        "a =  [1 6]\n",
        "b =  [5 2]\n",
        "c =  17\n",
        "```"
      ]
    },
    {
      "metadata": {
        "id": "_QJ54M6KB7z1",
        "colab_type": "code",
        "outputId": "ae90ca75-8e3d-4672-8dd6-bb81970e4b99",
        "colab": {
          "base_uri": "https://localhost:8080/",
          "height": 384
        }
      },
      "cell_type": "code",
      "source": [
        "# Vector dot product - also referred to as scalar multiplication or inner product\n",
        "# The dot product therefore has the geometric interpretation as the length of the projection of one vector  \n",
        "# onto the unit vector of the other vector when the two vectors are placed so that their tails coincide.\n",
        "# X·Y=|X||Y|cos(theta) \n",
        "\n",
        "\n",
        "print('a = ', a)\n",
        "print('b = ', b)\n",
        "print('c = ', np.dot(a, b))\n",
        "\n",
        "plt.plot(1, 6, color='blue')\n",
        "plt.plot(5, 2, color='red')\n",
        "plt.show()"
      ],
      "execution_count": 0,
      "outputs": [
        {
          "output_type": "stream",
          "text": [
            "a =  [[3 2 0]\n",
            " [9 8 1]]\n",
            "b =  [[9 6]\n",
            " [2 3]\n",
            " [0 7]]\n",
            "c =  [[31 24]\n",
            " [97 85]]\n"
          ],
          "name": "stdout"
        },
        {
          "output_type": "display_data",
          "data": {
            "image/png": "[encoded data removed]",
            "text/plain": [
              "<Figure size 432x288 with 1 Axes>"
            ]
          },
          "metadata": {
            "tags": []
          }
        }
      ]
    },
    {
      "metadata": {
        "id": "X2-gxoZ1tVA4",
        "colab_type": "text"
      },
      "cell_type": "markdown",
      "source": [
        "**4. If the dot product two vectors is 0, they are orthogonal, in other words, they are perpendicular.**\n",
        "```\n",
        "Expected output:\n",
        "a =  [1 0]\n",
        "b =  [0 9]\n",
        "a.b =  0\n",
        "```"
      ]
    },
    {
      "metadata": {
        "id": "CRyw15GBB7z5",
        "colab_type": "code",
        "outputId": "ff19853d-e043-4a68-d41a-4f13162942d5",
        "colab": {
          "base_uri": "https://localhost:8080/",
          "height": 68
        }
      },
      "cell_type": "code",
      "source": [
        "# Vector dot product - special case - perpendicular vectors\n",
        "\n",
        "a = np.array([1, 0])\n",
        "b = np.array([0, 9])\n",
        "\n",
        "\n",
        "print('a = ', a)\n",
        "print('b = ', b)\n",
        "print('c = ', np.dot(a, b))"
      ],
      "execution_count": 0,
      "outputs": [
        {
          "output_type": "stream",
          "text": [
            "a =  [1 0]\n",
            "b =  [0 9]\n",
            "c =  0\n"
          ],
          "name": "stdout"
        }
      ]
    },
    {
      "metadata": {
        "id": "419jEtqAt0Dd",
        "colab_type": "text"
      },
      "cell_type": "markdown",
      "source": [
        "**5. Vector dot product - special case - vectors in opposite directions**\n",
        "\n",
        "```\n",
        "Expected output:\n",
        "a =  [3 0]\n",
        "b =  [-4  0]\n",
        "a.b =  -12\n",
        "```"
      ]
    },
    {
      "metadata": {
        "id": "kiHat5ngB7z8",
        "colab_type": "code",
        "outputId": "810d7a64-b15f-4814-a341-9dbba013da0f",
        "colab": {
          "base_uri": "https://localhost:8080/",
          "height": 68
        }
      },
      "cell_type": "code",
      "source": [
        "# Vector dot product - special case - vectors in opposite directions\n",
        "\n",
        "a = np.array([3, 0])\n",
        "b = np.array([-4, 0])\n",
        "\n",
        "print('a = ', a)\n",
        "print('b = ', b)\n",
        "print('a.b = ', np.dot(a, b))"
      ],
      "execution_count": 0,
      "outputs": [
        {
          "output_type": "stream",
          "text": [
            "a =  [3 0]\n",
            "b =  [-4  0]\n",
            "a.b =  -12\n"
          ],
          "name": "stdout"
        }
      ]
    },
    {
      "metadata": {
        "id": "U6-8iKUyxFAE",
        "colab_type": "text"
      },
      "cell_type": "markdown",
      "source": [
        "**6. Create vectors of different lengths and try to multiply.**\n",
        "\n",
        "```\n",
        "Expected output:\n",
        "a =  [3 0 8]\n",
        "b =  [-4  0]\n",
        "a.b =  ?\n",
        "```\n",
        "\n"
      ]
    },
    {
      "metadata": {
        "id": "kdb-PT4QB7z-",
        "colab_type": "code",
        "outputId": "12728219-fb14-4c33-a23f-1b918e45239b",
        "colab": {
          "base_uri": "https://localhost:8080/",
          "height": 231
        }
      },
      "cell_type": "code",
      "source": [
        "# Vector dot product - can you multiply vectors of different lengths?\n",
        "\n",
        "a = np.array([3, 0, 8])\n",
        "b = np.array([-4, 0])\n",
        "\n",
        "\n",
        "print('a = ', a)\n",
        "print('b = ', b)\n",
        "print('a.b = ', np.dot(a, b))"
      ],
      "execution_count": 0,
      "outputs": [
        {
          "output_type": "stream",
          "text": [
            "a =  [3 0 8]\n",
            "b =  [-4  0]\n"
          ],
          "name": "stdout"
        },
        {
          "output_type": "error",
          "ename": "ValueError",
          "evalue": "ignored",
          "traceback": [
            "\u001b[0;31m---------------------------------------------------------------------------\u001b[0m",
            "\u001b[0;31mValueError\u001b[0m                                Traceback (most recent call last)",
            "\u001b[0;32m<ipython-input-11-d0681cd53383>\u001b[0m in \u001b[0;36m<module>\u001b[0;34m()\u001b[0m\n\u001b[1;32m      6\u001b[0m \u001b[0mprint\u001b[0m\u001b[0;34m(\u001b[0m\u001b[0;34m'a = '\u001b[0m\u001b[0;34m,\u001b[0m \u001b[0ma\u001b[0m\u001b[0;34m)\u001b[0m\u001b[0;34m\u001b[0m\u001b[0;34m\u001b[0m\u001b[0m\n\u001b[1;32m      7\u001b[0m \u001b[0mprint\u001b[0m\u001b[0;34m(\u001b[0m\u001b[0;34m'b = '\u001b[0m\u001b[0;34m,\u001b[0m \u001b[0mb\u001b[0m\u001b[0;34m)\u001b[0m\u001b[0;34m\u001b[0m\u001b[0;34m\u001b[0m\u001b[0m\n\u001b[0;32m----> 8\u001b[0;31m \u001b[0mprint\u001b[0m\u001b[0;34m(\u001b[0m\u001b[0;34m'a.b = '\u001b[0m\u001b[0;34m,\u001b[0m \u001b[0mnp\u001b[0m\u001b[0;34m.\u001b[0m\u001b[0mdot\u001b[0m\u001b[0;34m(\u001b[0m\u001b[0ma\u001b[0m\u001b[0;34m,\u001b[0m \u001b[0mb\u001b[0m\u001b[0;34m)\u001b[0m\u001b[0;34m)\u001b[0m\u001b[0;34m\u001b[0m\u001b[0;34m\u001b[0m\u001b[0m\n\u001b[0m",
            "\u001b[0;31mValueError\u001b[0m: shapes (3,) and (2,) not aligned: 3 (dim 0) != 2 (dim 0)"
          ]
        }
      ]
    },
    {
      "metadata": {
        "id": "l2WkRMK-vgMj",
        "colab_type": "text"
      },
      "cell_type": "markdown",
      "source": [
        "**7. The Cross Product a × b of two vectors is another vector that is at right angles to both.**\n",
        "\n",
        "```\n",
        "Expected output:\n",
        "\n",
        "The cross product of \n",
        "\n",
        "a = [2,3,4] and \n",
        "b = [5,6,7]\n",
        "\n",
        "cx = aybz − azby = 3×7 − 4×6 = −3\n",
        "cy = azbx − axbz = 4×5 − 2×7 = 6\n",
        "cz = axby − aybx = 2×6 − 3×5 = −3\n",
        "\n",
        "a × b = (−3,6,−3)\n",
        "```"
      ]
    },
    {
      "metadata": {
        "id": "uuebwIIQB70A",
        "colab_type": "code",
        "outputId": "8258e44c-2391-494d-da42-d3b56febe1be",
        "colab": {
          "base_uri": "https://localhost:8080/",
          "height": 68
        }
      },
      "cell_type": "code",
      "source": [
        "# Vector cross product \n",
        "\n",
        "a = np.array([2,3,4])\n",
        "b = np.array([5,6,7])\n",
        "\n",
        "print('a = ', a)\n",
        "print('b = ', b)\n",
        "print('a x b = ', np.cross(a, b))"
      ],
      "execution_count": 0,
      "outputs": [
        {
          "output_type": "stream",
          "text": [
            "a =  [2 3 4]\n",
            "b =  [5 6 7]\n",
            "a x b =  [-3  6 -3]\n"
          ],
          "name": "stdout"
        }
      ]
    },
    {
      "metadata": {
        "id": "hs-QGKPuwQwC",
        "colab_type": "text"
      },
      "cell_type": "markdown",
      "source": [
        "**8. Vector cross product - special case - A x A**\n",
        "\n",
        "```\n",
        "Expected output:\n",
        "a = [3 2 0]\n",
        "a × a = [0 0 0]\n",
        "```"
      ]
    },
    {
      "metadata": {
        "id": "4tyx3GEdB70D",
        "colab_type": "code",
        "outputId": "6771dc4c-836f-4504-95d8-a0b9d30e8543",
        "colab": {
          "base_uri": "https://localhost:8080/",
          "height": 51
        }
      },
      "cell_type": "code",
      "source": [
        "# Vector cross product - special case - A x A\n",
        "\n",
        "a = np.array([3,2,0])\n",
        "\n",
        "print('a = ', a)\n",
        "print('a x a = ', np.cross(a, a))"
      ],
      "execution_count": 0,
      "outputs": [
        {
          "output_type": "stream",
          "text": [
            "a =  [3 2 0]\n",
            "a x a =  [0 0 0]\n"
          ],
          "name": "stdout"
        }
      ]
    },
    {
      "metadata": {
        "id": "cD6vSmrBxkHe",
        "colab_type": "text"
      },
      "cell_type": "markdown",
      "source": [
        "**9. The Hadamard product (also known as the Schur product or the entrywise product) is a binary operation that takes two matrices of the same dimensions and produces another matrix where each element i, j is the product of elements i, j of the original two matrices.**\n",
        "\n",
        "![alt text](https://wikimedia.org/api/rest_v1/media/math/render/svg/4eb9bb54b2820fb3583901ec05bc4b474b6d90bc)\n",
        "\n",
        "\n",
        "\n",
        "```\n",
        "Expected output:\n",
        "a =  [3 2 0]\n",
        "b =  [4 5 0]\n",
        "a * b (numpy.multiply(a,b) =  [12 10  0]\n",
        "```"
      ]
    },
    {
      "metadata": {
        "id": "LpA_EJLxB70F",
        "colab_type": "code",
        "outputId": "815ea798-27dc-44df-b4c5-1f560a57be7b",
        "colab": {
          "base_uri": "https://localhost:8080/",
          "height": 68
        }
      },
      "cell_type": "code",
      "source": [
        "# Vector entry-wise multiplication - Hadamard product \n",
        "\n",
        "a = np.array([3, 2, 0])\n",
        "b =  np.array([4, 5, 0])\n",
        "\n",
        "print('a = ', a)\n",
        "print('b = ', b)\n",
        "print('a * b = ', np.multiply(a, b))"
      ],
      "execution_count": 0,
      "outputs": [
        {
          "output_type": "stream",
          "text": [
            "a =  [3 2 0]\n",
            "b =  [4 5 0]\n",
            "a * b =  [12 10  0]\n"
          ],
          "name": "stdout"
        }
      ]
    },
    {
      "metadata": {
        "id": "AFmz1ojG0gzj",
        "colab_type": "text"
      },
      "cell_type": "markdown",
      "source": [
        "**10. In linear algebra, the transpose of a matrix is an operator which flips a matrix over its diagonal, that is it switches the row and column indices of the matrix by producing another matrix denoted as AT (also written A′, Atr, tA or At).**\n",
        "\n",
        "![alt text](https://wikimedia.org/api/rest_v1/media/math/render/svg/ae1ea54acecf3b015c42ca3ce6a8f3d4a24b147d)"
      ]
    },
    {
      "metadata": {
        "id": "VEfePQ1pB70H",
        "colab_type": "code",
        "outputId": "f80be78e-c381-47ae-d3ee-fb83e834805d",
        "colab": {
          "base_uri": "https://localhost:8080/",
          "height": 34
        }
      },
      "cell_type": "code",
      "source": [
        "# Vector transpose\n",
        "\n",
        "a = np.array([1, 2, 3, 4])\n",
        "\n",
        "print('aT = ', np.transpose(a))"
      ],
      "execution_count": 0,
      "outputs": [
        {
          "output_type": "stream",
          "text": [
            "aT =  [1 2 3 4]\n"
          ],
          "name": "stdout"
        }
      ]
    },
    {
      "metadata": {
        "id": "KDI2PU3aB70J",
        "colab_type": "code",
        "outputId": "a1eecfa3-5c61-4c4e-cd98-570b85d0c7d0",
        "colab": {
          "base_uri": "https://localhost:8080/",
          "height": 51
        }
      },
      "cell_type": "code",
      "source": [
        "# Matrix transpose\n",
        "\n",
        "a = np.array([[1, 2], \n",
        "             [3, 4],\n",
        "             [5, 6]])\n",
        "\n",
        "print('aT = ', np.transpose(a))"
      ],
      "execution_count": 0,
      "outputs": [
        {
          "output_type": "stream",
          "text": [
            "aT =  [[1 3 5]\n",
            " [2 4 6]]\n"
          ],
          "name": "stdout"
        }
      ]
    },
    {
      "metadata": {
        "id": "2uNEYwsx2OZ8",
        "colab_type": "text"
      },
      "cell_type": "markdown",
      "source": [
        "**11. Matrix addition is the operation of adding two matrices by adding the corresponding entries together. **\n",
        "\n",
        "```\n",
        "Expected output:\n",
        "a = \n",
        " [[3 2 0]\n",
        " [9 8 1]\n",
        " [0 5 7]]\n",
        "b = \n",
        " [[1 9 6]\n",
        " [7 2 3]\n",
        " [8 0 7]]\n",
        "a + b = \n",
        " [[ 4 11  6]\n",
        " [16 10  4]\n",
        " [ 8  5 14]]\n",
        "```\n",
        "\n"
      ]
    },
    {
      "metadata": {
        "id": "y8macbOiB70O",
        "colab_type": "code",
        "outputId": "542ef678-4a21-4f24-ba0d-422013a3b89d",
        "colab": {
          "base_uri": "https://localhost:8080/",
          "height": 170
        }
      },
      "cell_type": "code",
      "source": [
        "# Matrix addition\n",
        "\n",
        "a = np.array([[3, 2, 0],\n",
        "              [9, 8, 1],\n",
        "              [0, 5, 7]])\n",
        "\n",
        "b = np.array([[1, 9, 6],\n",
        "              [7, 2, 3],\n",
        "              [8, 0, 7]])\n",
        "\n",
        "print('a = ', a)\n",
        "print('b = ', b)\n",
        "print('a + b = ', a + b)"
      ],
      "execution_count": 0,
      "outputs": [
        {
          "output_type": "stream",
          "text": [
            "a =  [[3 2 0]\n",
            " [9 8 1]\n",
            " [0 5 7]]\n",
            "b =  [[1 9 6]\n",
            " [7 2 3]\n",
            " [8 0 7]]\n",
            "a + b =  [[ 4 11  6]\n",
            " [16 10  4]\n",
            " [ 8  5 14]]\n"
          ],
          "name": "stdout"
        }
      ]
    },
    {
      "metadata": {
        "id": "SvMUYRcl28Ab",
        "colab_type": "text"
      },
      "cell_type": "markdown",
      "source": [
        "**12. Matrix multiplication or matrix product is a binary operation that produces a matrix from two matrices with entries in a field.**\n",
        "\n",
        "```\n",
        "Expected output:\n",
        "a = \n",
        " [[3 2 0]\n",
        " [9 8 1]]\n",
        "b = \n",
        " [[9 6]\n",
        " [2 3]\n",
        " [0 7]]\n",
        "a x b = \n",
        " [[31 24]\n",
        " [97 85]]\n",
        "```\n",
        "\n"
      ]
    },
    {
      "metadata": {
        "id": "BKCXEcooB70R",
        "colab_type": "code",
        "outputId": "7b2f3550-fa63-416f-f6f0-93847229a497",
        "colab": {
          "base_uri": "https://localhost:8080/",
          "height": 136
        }
      },
      "cell_type": "code",
      "source": [
        "# Matrix multipication\n",
        "\n",
        "a = np.array([[3, 2, 0],\n",
        "              [9, 8, 1]])\n",
        "\n",
        "b = np.array([[9, 6],\n",
        "              [2, 3],\n",
        "              [0, 7]])\n",
        "\n",
        "print('a = ', a)\n",
        "print('b = ', b)\n",
        "print('a x b = ', np.dot(a, b))"
      ],
      "execution_count": 0,
      "outputs": [
        {
          "output_type": "stream",
          "text": [
            "a =  [[3 2 0]\n",
            " [9 8 1]]\n",
            "b =  [[9 6]\n",
            " [2 3]\n",
            " [0 7]]\n",
            "a x b =  [[31 24]\n",
            " [97 85]]\n"
          ],
          "name": "stdout"
        }
      ]
    },
    {
      "metadata": {
        "id": "Ybjn1RY74LZO",
        "colab_type": "text"
      },
      "cell_type": "markdown",
      "source": [
        "**13. In linear algebra, the determinant is a value that can be computed from the elements of a square matrix and encodes certain properties of the linear transformation described by the matrix.**\n",
        "\n",
        "![alt text](https://wikimedia.org/api/rest_v1/media/math/render/svg/5025a3bca9e476699d45e5b91842a472a4cf903d)\n",
        "\n",
        "```\n",
        "Expected output:\n",
        "M = \n",
        " [[3 2 0]\n",
        " [9 8 1]\n",
        " [8 6 1]]\n",
        "det(M) = \n",
        " 3.999999999999999\n",
        "```\n",
        "\n"
      ]
    },
    {
      "metadata": {
        "id": "rTiL-OBzB70V",
        "colab_type": "code",
        "outputId": "27a64b81-2998-470f-87fa-ee884622d8c5",
        "colab": {
          "base_uri": "https://localhost:8080/",
          "height": 85
        }
      },
      "cell_type": "code",
      "source": [
        "# Matrix determinant\n",
        "\n",
        "M = np.array([[3, 2, 0],\n",
        "              [9, 8, 1],\n",
        "              [8, 6, 1]])\n",
        "\n",
        "print('M = ', M)\n",
        "print('det(M) = ', np.linalg.det(M))"
      ],
      "execution_count": 0,
      "outputs": [
        {
          "output_type": "stream",
          "text": [
            "M =  [[3 2 0]\n",
            " [9 8 1]\n",
            " [8 6 1]]\n",
            "det(M) =  3.999999999999999\n"
          ],
          "name": "stdout"
        }
      ]
    },
    {
      "metadata": {
        "id": "YkWdBEHB471G",
        "colab_type": "text"
      },
      "cell_type": "markdown",
      "source": [
        "**14. The identity matrix, or sometimes ambiguously called a unit matrix, of size n is the n × n square matrix with ones on the main diagonal and zeros elsewhere.**\n",
        "\n",
        "```\n",
        "Expected output:\n",
        "Identity materic\n",
        "I= \n",
        " [[1. 0. 0.]\n",
        " [0. 1. 0.]\n",
        " [0. 0. 1.]]\n",
        "M = \n",
        " [[3 2 0]\n",
        " [9 8 1]\n",
        " [8 6 1]]\n",
        "I x M = \n",
        " [[3. 2. 0.]\n",
        " [9. 8. 1.]\n",
        " [8. 6. 1.]]\n",
        "```"
      ]
    },
    {
      "metadata": {
        "id": "TGvIe0CUB70X",
        "colab_type": "code",
        "outputId": "b33a98a3-c189-437f-b462-8ca3afec9c69",
        "colab": {
          "base_uri": "https://localhost:8080/",
          "height": 170
        }
      },
      "cell_type": "code",
      "source": [
        "# Identity Matrix\n",
        "\n",
        "I = np.array([[1, 0, 0],\n",
        "              [0, 1, 0],\n",
        "              [0, 0, 1]])\n",
        "\n",
        "M = np.array([[3, 2, 0],\n",
        "              [9, 8, 1],\n",
        "              [8, 6, 1]])\n",
        "\n",
        "print('I = ', I)\n",
        "print('M = ', M)\n",
        "print('I x M = ', np.dot(I, M))"
      ],
      "execution_count": 0,
      "outputs": [
        {
          "output_type": "stream",
          "text": [
            "I =  [[1 0 0]\n",
            " [0 1 0]\n",
            " [0 0 1]]\n",
            "M =  [[3 2 0]\n",
            " [9 8 1]\n",
            " [8 6 1]]\n",
            "I x M =  [[3 2 0]\n",
            " [9 8 1]\n",
            " [8 6 1]]\n"
          ],
          "name": "stdout"
        }
      ]
    },
    {
      "metadata": {
        "id": "2ixRK3by6BFV",
        "colab_type": "text"
      },
      "cell_type": "markdown",
      "source": [
        "**14. When we multiply a matrix by its inverse we get the Identity Matrix (which is like \"1\" for matrices)**\n",
        "\n",
        "```\n",
        "Expected output:\n",
        "Matrix inversion\n",
        "M = \n",
        " [[2 5 8]\n",
        " [7 4 1]\n",
        " [9 5 3]]\n",
        "Inverse of M =\n",
        " [[-0.12962963 -0.46296296  0.5       ]\n",
        " [ 0.22222222  1.22222222 -1.        ]\n",
        " [ 0.01851852 -0.64814815  0.5       ]]\n",
        "M x InvM = \n",
        " [[ 1.00000000e+00  8.88178420e-16 -8.88178420e-16]\n",
        " [-2.28983499e-16  1.00000000e+00  5.55111512e-16]\n",
        " [-2.08166817e-17  5.55111512e-16  1.00000000e+00]]\n",
        "M x InvM (rounded) = \n",
        " [[ 1.  0. -0.]\n",
        " [-0.  1.  0.]\n",
        " [-0.  0.  1.]]\n",
        "```\n",
        "\n"
      ]
    },
    {
      "metadata": {
        "id": "fpLd6orpB70Z",
        "colab_type": "code",
        "outputId": "74011e9a-9d01-4423-aae8-cea9e08402bc",
        "colab": {
          "base_uri": "https://localhost:8080/",
          "height": 221
        }
      },
      "cell_type": "code",
      "source": [
        "# Matrix inversion\n",
        "\n",
        "M = np.array([[2, 5, 8],\n",
        "              [7, 4, 1],\n",
        "              [9, 5, 3]])\n",
        "\n",
        "InvM = np.linalg.inv(M)\n",
        "\n",
        "print('M = ', M)\n",
        "print('Inverse of M = ', InvM)\n",
        "print('M x InvM = ', np.dot(M, InvM))\n",
        "print('M x InvM (rounded) = ', np.round(np.dot(M, InvM), 1))\n"
      ],
      "execution_count": 0,
      "outputs": [
        {
          "output_type": "stream",
          "text": [
            "M =  [[2 5 8]\n",
            " [7 4 1]\n",
            " [9 5 3]]\n",
            "Inverse of M =  [[-0.12962963 -0.46296296  0.5       ]\n",
            " [ 0.22222222  1.22222222 -1.        ]\n",
            " [ 0.01851852 -0.64814815  0.5       ]]\n",
            "M x InvM =  [[ 1.00000000e+00  8.88178420e-16 -8.88178420e-16]\n",
            " [-2.28983499e-16  1.00000000e+00  5.55111512e-16]\n",
            " [-2.08166817e-17  5.55111512e-16  1.00000000e+00]]\n",
            "M x InvM (rounded) =  [[ 1.  0. -0.]\n",
            " [-0.  1.  0.]\n",
            " [-0.  0.  1.]]\n"
          ],
          "name": "stdout"
        }
      ]
    },
    {
      "metadata": {
        "id": "d0xgAB_cB70b",
        "colab_type": "code",
        "outputId": "7e14c073-039a-4352-9479-2b3dd84ebef5",
        "colab": {
          "base_uri": "https://localhost:8080/",
          "height": 136
        }
      },
      "cell_type": "code",
      "source": [
        "# eigen vector of a matrix\n",
        "print('Eigen vector of a matrix')\n",
        "M = np.array([[1,2],[3,5]])\n",
        "print('M = \\n',M)\n",
        "EignVectorM = np.linalg.eig(M)\n",
        "print('eigen vector of M =\\n',EignVectorM)"
      ],
      "execution_count": 0,
      "outputs": [
        {
          "output_type": "stream",
          "text": [
            "Eigen vector of a matrix\n",
            "M = \n",
            " [[1 2]\n",
            " [3 5]]\n",
            "eigen vector of M =\n",
            " (array([-0.16227766,  6.16227766]), array([[-0.86460354, -0.36126098],\n",
            "       [ 0.50245469, -0.93246475]]))\n"
          ],
          "name": "stdout"
        }
      ]
    },
    {
      "metadata": {
        "id": "-t8L-bYKB70d",
        "colab_type": "code",
        "outputId": "c810c3ab-ab63-4677-f824-3cb76a2e457c",
        "colab": {
          "base_uri": "https://localhost:8080/",
          "height": 388
        }
      },
      "cell_type": "code",
      "source": [
        "%matplotlib inline\n",
        "import matplotlib.pyplot as plt\n",
        "import numpy as np\n",
        "\n",
        "Fs = 360\n",
        "f = 1\n",
        "sample = 360\n",
        "x = np.arange(sample)\n",
        "y = np.sin(2 * np.pi * f * x / Fs)\n",
        "\n",
        "plt.figure(figsize=(12, 6))\n",
        "plt.plot(x, y)\n",
        "plt.xticks([0, 90, 180, 270, 360])\n",
        "plt.xlabel('Degrees')\n",
        "plt.ylabel('sin(x)')\n",
        "plt.show()"
      ],
      "execution_count": 0,
      "outputs": [
        {
          "output_type": "display_data",
          "data": {
            "image/png": "[encoded data removed]",
            "text/plain": [
              "<Figure size 864x432 with 1 Axes>"
            ]
          },
          "metadata": {
            "tags": []
          }
        }
      ]
    },
    {
      "metadata": {
        "id": "OOHDr-EIB70g",
        "colab_type": "code",
        "colab": {}
      },
      "cell_type": "code",
      "source": [
        ""
      ],
      "execution_count": 0,
      "outputs": []
    }
  ]
}