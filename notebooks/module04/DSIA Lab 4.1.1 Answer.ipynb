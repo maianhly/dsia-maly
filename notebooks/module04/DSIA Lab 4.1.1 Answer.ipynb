{
 "cells": [
  {
   "cell_type": "markdown",
   "metadata": {
    "toc": true
   },
   "source": [
    "<h1>Table of Contents<span class=\"tocSkip\"></span></h1>\n",
    "<div class=\"toc\"><ul class=\"toc-item\"><li><span><a href=\"#Prediction-of-House-Price-Using-Linear-Regression\" data-toc-modified-id=\"Prediction-of-House-Price-Using-Linear-Regression-1\"><span class=\"toc-item-num\">1&nbsp;&nbsp;</span>Prediction of House Price Using Linear Regression</a></span><ul class=\"toc-item\"><li><span><a href=\"#Data\" data-toc-modified-id=\"Data-1.1\"><span class=\"toc-item-num\">1.1&nbsp;&nbsp;</span>Data</a></span></li><li><span><a href=\"#1.-Explore-Data\" data-toc-modified-id=\"1.-Explore-Data-1.2\"><span class=\"toc-item-num\">1.2&nbsp;&nbsp;</span>1. Explore Data</a></span></li><li><span><a href=\"#2.-Predict-Price\" data-toc-modified-id=\"2.-Predict-Price-1.3\"><span class=\"toc-item-num\">1.3&nbsp;&nbsp;</span>2. Predict Price</a></span><ul class=\"toc-item\"><li><span><a href=\"#2.1-What-is-the-Target-Variable?-Why?\" data-toc-modified-id=\"2.1-What-is-the-Target-Variable?-Why?-1.3.1\"><span class=\"toc-item-num\">1.3.1&nbsp;&nbsp;</span>2.1 What is the Target Variable? Why?</a></span></li><li><span><a href=\"#2.2-List-all-possible-variables-which-might-be-Predictor-variable.\" data-toc-modified-id=\"2.2-List-all-possible-variables-which-might-be-Predictor-variable.-1.3.2\"><span class=\"toc-item-num\">1.3.2&nbsp;&nbsp;</span>2.2 List all possible variables which might be Predictor variable.</a></span></li><li><span><a href=\"#2.2-Find-correlation-between-variables\" data-toc-modified-id=\"2.2-Find-correlation-between-variables-1.3.3\"><span class=\"toc-item-num\">1.3.3&nbsp;&nbsp;</span>2.2 Find correlation between variables</a></span></li><li><span><a href=\"#2.3-What-is-the-simplest-way-to-predict-price\" data-toc-modified-id=\"2.3-What-is-the-simplest-way-to-predict-price-1.3.4\"><span class=\"toc-item-num\">1.3.4&nbsp;&nbsp;</span>2.3 What is the simplest way to predict price</a></span></li><li><span><a href=\"#2.-4-Find-Resudals\" data-toc-modified-id=\"2.-4-Find-Resudals-1.3.5\"><span class=\"toc-item-num\">1.3.5&nbsp;&nbsp;</span>2. 4 Find Resudals</a></span></li><li><span><a href=\"#2.5--Predict-Using-Linear-Regression\" data-toc-modified-id=\"2.5--Predict-Using-Linear-Regression-1.3.6\"><span class=\"toc-item-num\">1.3.6&nbsp;&nbsp;</span>2.5  Predict Using Linear Regression</a></span></li></ul></li><li><span><a href=\"#$$\\hat{y}-=-\\beta_0-+-\\beta_1-x$$\" data-toc-modified-id=\"$$\\hat{y}-=-\\beta_0-+-\\beta_1-x$$-1.4\"><span class=\"toc-item-num\">1.4&nbsp;&nbsp;</span><script type=\"math/tex; mode=display\" id=\"MathJax-Element-1\">\\hat{y} = \\beta_0 + \\beta_1 x</script></a></span></li><li><span><a href=\"#$$-\\beta_1-=-\\frac{\\sum_{i=1}^n-(y_i---\\bar{y}-)-(x_i---\\bar{x}-)}{\\sum_{i=1}^n-(x_i---\\bar{x})^2}-$$\" data-toc-modified-id=\"$$-\\beta_1-=-\\frac{\\sum_{i=1}^n-(y_i---\\bar{y}-)-(x_i---\\bar{x}-)}{\\sum_{i=1}^n-(x_i---\\bar{x})^2}-$$-1.5\"><span class=\"toc-item-num\">1.5&nbsp;&nbsp;</span><script type=\"math/tex; mode=display\" id=\"MathJax-Element-2\"> \\beta_1 = \\frac{\\sum_{i=1}^n (y_i - \\bar{y} ) (x_i - \\bar{x} )}{\\sum_{i=1}^n (x_i - \\bar{x})^2} </script></a></span></li><li><span><a href=\"#$$-\\beta_0-=-\\bar{y}---\\beta_1\\bar{x}-$$\" data-toc-modified-id=\"$$-\\beta_0-=-\\bar{y}---\\beta_1\\bar{x}-$$-1.6\"><span class=\"toc-item-num\">1.6&nbsp;&nbsp;</span><script type=\"math/tex; mode=display\" id=\"MathJax-Element-3\"> \\beta_0 = \\bar{y} - \\beta_1\\bar{x} </script></a></span><ul class=\"toc-item\"><li><ul class=\"toc-item\"><li><span><a href=\"#2.5-Define-X,-Y\" data-toc-modified-id=\"2.5-Define-X,-Y-1.6.0.1\"><span class=\"toc-item-num\">1.6.0.1&nbsp;&nbsp;</span>2.5 Define X, Y</a></span></li><li><span><a href=\"#2.5.A-Calculate-beta_1\" data-toc-modified-id=\"2.5.A-Calculate-beta_1-1.6.0.2\"><span class=\"toc-item-num\">1.6.0.2&nbsp;&nbsp;</span>2.5.A Calculate beta_1</a></span></li></ul></li></ul></li><li><span><a href=\"#$$-\\beta_1-=-\\frac{\\sum_{i=1}^n-(y_i---\\bar{y}-)-(x_i---\\bar{x}-)}{\\sum_{i=1}^n-(x_i---\\bar{x})^2}-$$\" data-toc-modified-id=\"$$-\\beta_1-=-\\frac{\\sum_{i=1}^n-(y_i---\\bar{y}-)-(x_i---\\bar{x}-)}{\\sum_{i=1}^n-(x_i---\\bar{x})^2}-$$-1.7\"><span class=\"toc-item-num\">1.7&nbsp;&nbsp;</span><script type=\"math/tex; mode=display\" id=\"MathJax-Element-15\"> \\beta_1 = \\frac{\\sum_{i=1}^n (y_i - \\bar{y} ) (x_i - \\bar{x} )}{\\sum_{i=1}^n (x_i - \\bar{x})^2} </script></a></span><ul class=\"toc-item\"><li><ul class=\"toc-item\"><li><span><a href=\"#2.5.B-Calculate-beta_0\" data-toc-modified-id=\"2.5.B-Calculate-beta_0-1.7.0.1\"><span class=\"toc-item-num\">1.7.0.1&nbsp;&nbsp;</span>2.5.B Calculate beta_0</a></span></li></ul></li></ul></li><li><span><a href=\"#$$-\\beta_0-=-\\bar{y}---\\beta_1\\bar{x}-$$\" data-toc-modified-id=\"$$-\\beta_0-=-\\bar{y}---\\beta_1\\bar{x}-$$-1.8\"><span class=\"toc-item-num\">1.8&nbsp;&nbsp;</span><script type=\"math/tex; mode=display\" id=\"MathJax-Element-16\"> \\beta_0 = \\bar{y} - \\beta_1\\bar{x} </script></a></span><ul class=\"toc-item\"><li><ul class=\"toc-item\"><li><span><a href=\"#2.4.C-Find-Yhat-(Predicted-Value-Using-Beta-0-and-Beta-1)\" data-toc-modified-id=\"2.4.C-Find-Yhat-(Predicted-Value-Using-Beta-0-and-Beta-1)-1.8.0.1\"><span class=\"toc-item-num\">1.8.0.1&nbsp;&nbsp;</span>2.4.C Find Yhat (Predicted Value Using Beta 0 and Beta 1)</a></span></li></ul></li></ul></li><li><span><a href=\"#$$\\hat{y}-=-\\beta_0-+-\\beta_1-x$$\" data-toc-modified-id=\"$$\\hat{y}-=-\\beta_0-+-\\beta_1-x$$-1.9\"><span class=\"toc-item-num\">1.9&nbsp;&nbsp;</span><script type=\"math/tex; mode=display\" id=\"MathJax-Element-17\">\\hat{y} = \\beta_0 + \\beta_1 x</script></a></span><ul class=\"toc-item\"><li><ul class=\"toc-item\"><li><span><a href=\"#2.5.D-Find-Resudals\" data-toc-modified-id=\"2.5.D-Find-Resudals-1.9.0.1\"><span class=\"toc-item-num\">1.9.0.1&nbsp;&nbsp;</span>2.5.D Find Resudals</a></span></li></ul></li></ul></li><li><span><a href=\"#$$-\\text{residual}_i-=-y_i---\\hat{y}_i$$\" data-toc-modified-id=\"$$-\\text{residual}_i-=-y_i---\\hat{y}_i$$-1.10\"><span class=\"toc-item-num\">1.10&nbsp;&nbsp;</span><script type=\"math/tex; mode=display\" id=\"MathJax-Element-18\"> \\text{residual}_i = y_i - \\hat{y}_i</script></a></span><ul class=\"toc-item\"><li><ul class=\"toc-item\"><li><span><a href=\"#2.5.D-Find-R-Square\" data-toc-modified-id=\"2.5.D-Find-R-Square-1.10.0.1\"><span class=\"toc-item-num\">1.10.0.1&nbsp;&nbsp;</span>2.5.D Find R-Square</a></span></li></ul></li></ul></li><li><span><a href=\"#$$-SS_{tot}-=-\\sum_{i=1}^n-\\left(y_i---\\bar{y}\\right)^2-$$\" data-toc-modified-id=\"$$-SS_{tot}-=-\\sum_{i=1}^n-\\left(y_i---\\bar{y}\\right)^2-$$-1.11\"><span class=\"toc-item-num\">1.11&nbsp;&nbsp;</span><script type=\"math/tex; mode=display\" id=\"MathJax-Element-19\"> SS_{tot} = \\sum_{i=1}^n \\left(y_i - \\bar{y}\\right)^2 </script></a></span></li><li><span><a href=\"#$$-SS_{res}-=-\\sum_{i=1}^n-\\left(y_i---\\hat{y}_i\\right)^2-$$\" data-toc-modified-id=\"$$-SS_{res}-=-\\sum_{i=1}^n-\\left(y_i---\\hat{y}_i\\right)^2-$$-1.12\"><span class=\"toc-item-num\">1.12&nbsp;&nbsp;</span><script type=\"math/tex; mode=display\" id=\"MathJax-Element-20\"> SS_{res} = \\sum_{i=1}^n \\left(y_i - \\hat{y}_i\\right)^2 </script></a></span></li><li><span><a href=\"#$$-R^2-=-1---\\frac{SS_{res}}{SS_{tot}}-$$\" data-toc-modified-id=\"$$-R^2-=-1---\\frac{SS_{res}}{SS_{tot}}-$$-1.13\"><span class=\"toc-item-num\">1.13&nbsp;&nbsp;</span><script type=\"math/tex; mode=display\" id=\"MathJax-Element-22\"> R^2 = 1 - \\frac{SS_{res}}{SS_{tot}} </script></a></span><ul class=\"toc-item\"><li><ul class=\"toc-item\"><li><span><a href=\"#2.5.G-[BONUS]-Draw-Plot-of-Predicted-Line\" data-toc-modified-id=\"2.5.G-[BONUS]-Draw-Plot-of-Predicted-Line-1.13.0.1\"><span class=\"toc-item-num\">1.13.0.1&nbsp;&nbsp;</span>2.5.G [BONUS] Draw Plot of Predicted Line</a></span></li><li><span><a href=\"#2.5.G-[BONUS]-Draw-Plot-of-Predicted-Line-With-Resudals\" data-toc-modified-id=\"2.5.G-[BONUS]-Draw-Plot-of-Predicted-Line-With-Resudals-1.13.0.2\"><span class=\"toc-item-num\">1.13.0.2&nbsp;&nbsp;</span>2.5.G [BONUS] Draw Plot of Predicted Line With Resudals</a></span></li></ul></li></ul></li><li><span><a href=\"#3.-Predict-House-Price\" data-toc-modified-id=\"3.-Predict-House-Price-1.14\"><span class=\"toc-item-num\">1.14&nbsp;&nbsp;</span>3. Predict House Price</a></span><ul class=\"toc-item\"><li><span><a href=\"#2.6-Find-Coefficient-and-Intercept-using-Linear-Regression\" data-toc-modified-id=\"2.6-Find-Coefficient-and-Intercept-using-Linear-Regression-1.14.1\"><span class=\"toc-item-num\">1.14.1&nbsp;&nbsp;</span>2.6 Find Coefficient and Intercept using Linear Regression</a></span><ul class=\"toc-item\"><li><span><a href=\"#2.6.2-Find-R-Score\" data-toc-modified-id=\"2.6.2-Find-R-Score-1.14.1.1\"><span class=\"toc-item-num\">1.14.1.1&nbsp;&nbsp;</span>2.6.2 Find R Score</a></span></li></ul></li></ul></li><li><span><a href=\"#3.-Splitting-Data\" data-toc-modified-id=\"3.-Splitting-Data-1.15\"><span class=\"toc-item-num\">1.15&nbsp;&nbsp;</span>3. Splitting Data</a></span><ul class=\"toc-item\"><li><span><a href=\"#3.1-Create-training-and-testing-subsets\" data-toc-modified-id=\"3.1-Create-training-and-testing-subsets-1.15.1\"><span class=\"toc-item-num\">1.15.1&nbsp;&nbsp;</span>3.1 Create training and testing subsets</a></span></li><li><span><a href=\"#3.2-Check-Shape,-Sample-of-Test-Train-Data\" data-toc-modified-id=\"3.2-Check-Shape,-Sample-of-Test-Train-Data-1.15.2\"><span class=\"toc-item-num\">1.15.2&nbsp;&nbsp;</span>3.2 Check Shape, Sample of Test Train Data</a></span></li><li><span><a href=\"#3.3-Using-Linear-Regression-Find-The-Score\" data-toc-modified-id=\"3.3-Using-Linear-Regression-Find-The-Score-1.15.3\"><span class=\"toc-item-num\">1.15.3&nbsp;&nbsp;</span>3.3 Using Linear Regression Find The Score</a></span></li><li><span><a href=\"#3.4-Using-your-model-predict-price-of-a-house\" data-toc-modified-id=\"3.4-Using-your-model-predict-price-of-a-house-1.15.4\"><span class=\"toc-item-num\">1.15.4&nbsp;&nbsp;</span>3.4 Using your model predict price of a house</a></span></li></ul></li></ul></li></ul></div>"
   ]
  },
  {
   "cell_type": "markdown",
   "metadata": {},
   "source": [
    "![alt text](https://i.imgur.com/1WaY7aA.png)"
   ]
  },
  {
   "cell_type": "markdown",
   "metadata": {},
   "source": [
    "# Lab 4.1.1 Linear Regression"
   ]
  },
  {
   "cell_type": "markdown",
   "metadata": {},
   "source": [
    "## Prediction of House Price Using Linear Regression"
   ]
  },
  {
   "cell_type": "markdown",
   "metadata": {},
   "source": [
    "### Data\n",
    "\n",
    "The Sacramento real estate transactions file is a list of 985 real estate transactions in the Sacramento area reported over a five-day period, as reported by the Sacramento Bee."
   ]
  },
  {
   "cell_type": "code",
   "execution_count": null,
   "metadata": {},
   "outputs": [],
   "source": [
    "import pandas as pd\n",
    "import numpy as np\n",
    "import math\n",
    "import seaborn as sns\n",
    "import pandas as pd\n",
    "\n",
    "from scipy import stats\n",
    "from matplotlib import pyplot as plt\n",
    "\n",
    "sns.set_context(\"poster\")\n",
    "sns.set(rc={'figure.figsize': (10, 6)})\n",
    "sns.set_style(\"whitegrid\")\n",
    "\n",
    "%matplotlib inline"
   ]
  },
  {
   "cell_type": "markdown",
   "metadata": {},
   "source": [
    "### 1. Explore Data"
   ]
  },
  {
   "cell_type": "markdown",
   "metadata": {},
   "source": [
    "Perform EDA on this dataset. Use what you have learned so far."
   ]
  },
  {
   "cell_type": "code",
   "execution_count": null,
   "metadata": {},
   "outputs": [],
   "source": [
    "# Read CSV\n",
    "data = pd.read_csv(\"../DATA/Sacramentorealestatetransactions.csv\")"
   ]
  },
  {
   "cell_type": "code",
   "execution_count": null,
   "metadata": {},
   "outputs": [],
   "source": [
    "data.shape"
   ]
  },
  {
   "cell_type": "code",
   "execution_count": null,
   "metadata": {},
   "outputs": [],
   "source": [
    "# Head\n",
    "data.head()"
   ]
  },
  {
   "cell_type": "code",
   "execution_count": null,
   "metadata": {},
   "outputs": [],
   "source": [
    "# Tail\n",
    "data.tail()"
   ]
  },
  {
   "cell_type": "code",
   "execution_count": null,
   "metadata": {},
   "outputs": [],
   "source": [
    "# Check Null Values\n",
    "data.isnull().sum()"
   ]
  },
  {
   "cell_type": "code",
   "execution_count": null,
   "metadata": {},
   "outputs": [],
   "source": [
    "# Data Types\n",
    "data.info()"
   ]
  },
  {
   "cell_type": "code",
   "execution_count": null,
   "metadata": {},
   "outputs": [],
   "source": [
    "# Zip is categorical value, should be string\n",
    "data['zip'] = data['zip'].astype(str)"
   ]
  },
  {
   "cell_type": "code",
   "execution_count": null,
   "metadata": {},
   "outputs": [],
   "source": [
    "# Describe Data\n",
    "data.describe().T"
   ]
  },
  {
   "cell_type": "code",
   "execution_count": null,
   "metadata": {},
   "outputs": [],
   "source": [
    "# Got min value 0 for beds, baths, sqft which does not seem correct."
   ]
  },
  {
   "cell_type": "code",
   "execution_count": null,
   "metadata": {},
   "outputs": [],
   "source": [
    "data[data['beds'] == 0]"
   ]
  },
  {
   "cell_type": "code",
   "execution_count": null,
   "metadata": {},
   "outputs": [],
   "source": [
    "# Types of Data\n",
    "data['type'].value_counts().plot(kind='bar')"
   ]
  },
  {
   "cell_type": "code",
   "execution_count": null,
   "metadata": {},
   "outputs": [],
   "source": [
    "# City\n",
    "data['city'].value_counts().sort_values().plot(kind='barh', figsize=(15,10));"
   ]
  },
  {
   "cell_type": "code",
   "execution_count": null,
   "metadata": {},
   "outputs": [],
   "source": [
    "# Create another type which have 0 beds, baths, sqft"
   ]
  },
  {
   "cell_type": "code",
   "execution_count": null,
   "metadata": {},
   "outputs": [],
   "source": [
    "data.loc[data['beds'] == 0, 'type'] = 'Plot'"
   ]
  },
  {
   "cell_type": "code",
   "execution_count": null,
   "metadata": {},
   "outputs": [],
   "source": [
    "data['state'].value_counts().plot(kind='bar');"
   ]
  },
  {
   "cell_type": "code",
   "execution_count": null,
   "metadata": {},
   "outputs": [],
   "source": [
    "# import the library\n",
    "import folium\n",
    "import pandas as pd\n",
    "\n",
    "# Make an empty map\n",
    "# 37.76, -122.45 is the initital location of SF, USA\n",
    "m = folium.Map(location=[38.575764, -121.478851], tiles=\"Mapbox Bright\", zoom_start=10)\n",
    "\n",
    "# I can add circle/marker one by one on the map\n",
    "for i in range(0, len(data.head(1000))):\n",
    "    folium.Marker(\n",
    "        location=[data.iloc[i]['latitude'], data.iloc[i]['longitude']]\n",
    "    ).add_to(m)\n",
    "    \n",
    "display(m)"
   ]
  },
  {
   "cell_type": "markdown",
   "metadata": {},
   "source": [
    "### 2. Predict Price"
   ]
  },
  {
   "cell_type": "markdown",
   "metadata": {},
   "source": [
    "We are going to predict `price` from available information."
   ]
  },
  {
   "cell_type": "markdown",
   "metadata": {},
   "source": [
    "#### 2.1 What is the Target Variable? Why?"
   ]
  },
  {
   "cell_type": "code",
   "execution_count": null,
   "metadata": {},
   "outputs": [],
   "source": [
    "# ANSWER\n",
    "\n",
    "## Price is target varaible. Based on other predictor variables we'll predict price."
   ]
  },
  {
   "cell_type": "markdown",
   "metadata": {},
   "source": [
    "#### 2.2 List all possible variables which might be Predictor variable."
   ]
  },
  {
   "cell_type": "code",
   "execution_count": null,
   "metadata": {},
   "outputs": [],
   "source": [
    "# ANSWER\n",
    "\n",
    "## beds\n",
    "## baths\n",
    "## sqft\n",
    "## Type"
   ]
  },
  {
   "cell_type": "code",
   "execution_count": null,
   "metadata": {},
   "outputs": [],
   "source": [
    "# Target Variable\n",
    "Y = data['price']"
   ]
  },
  {
   "cell_type": "code",
   "execution_count": null,
   "metadata": {},
   "outputs": [],
   "source": [
    "# Predictor Variable\n",
    "X = data['beds']"
   ]
  },
  {
   "cell_type": "code",
   "execution_count": null,
   "metadata": {},
   "outputs": [],
   "source": [
    "def draw_scatter_plot(X, Y):\n",
    "    ### Plot the data\n",
    "    # create a figure\n",
    "    fig = plt.figure(figsize=(15,7))\n",
    "    # get the axis of that figure\n",
    "    ax = plt.gca()\n",
    "\n",
    "    # plot a scatter plot on it with our data\n",
    "    ax.scatter(X, Y, c='b')\n",
    "\n",
    "    plt.show();"
   ]
  },
  {
   "cell_type": "code",
   "execution_count": null,
   "metadata": {},
   "outputs": [],
   "source": [
    "# beds\n",
    "draw_scatter_plot(data['beds'], data['price'])"
   ]
  },
  {
   "cell_type": "code",
   "execution_count": null,
   "metadata": {},
   "outputs": [],
   "source": [
    "# beds\n",
    "draw_scatter_plot(data['baths'], data['price'])"
   ]
  },
  {
   "cell_type": "code",
   "execution_count": null,
   "metadata": {},
   "outputs": [],
   "source": [
    "# beds\n",
    "draw_scatter_plot(data['sq__ft'], data['price'])"
   ]
  },
  {
   "cell_type": "markdown",
   "metadata": {},
   "source": [
    "#### 2.2 Find correlation between variables\n",
    "\n",
    "Find correlation between variables. Which is the best predictor? Why? State your reason."
   ]
  },
  {
   "cell_type": "code",
   "execution_count": null,
   "metadata": {},
   "outputs": [],
   "source": [
    "# ANSWER\n",
    "data.corr()"
   ]
  },
  {
   "cell_type": "code",
   "execution_count": null,
   "metadata": {},
   "outputs": [],
   "source": [
    "### sq_ft is the best predictor.\n",
    "### sqft got stong relationship with beds, baths"
   ]
  },
  {
   "cell_type": "markdown",
   "metadata": {},
   "source": [
    "#### 2.3 What is the simplest way to predict price\n",
    "\n",
    "So we have information for 985 houses. What is the easiest way to predict price of a house?"
   ]
  },
  {
   "cell_type": "code",
   "execution_count": null,
   "metadata": {},
   "outputs": [],
   "source": [
    "# ANSWER\n",
    "## Mean of Price\n",
    "data['y_hat'] = data['price'].mean()"
   ]
  },
  {
   "cell_type": "code",
   "execution_count": null,
   "metadata": {},
   "outputs": [],
   "source": [
    "X = data['sq__ft']\n",
    "Y = data['price']\n",
    "Yhat = data['y_hat']"
   ]
  },
  {
   "cell_type": "code",
   "execution_count": null,
   "metadata": {},
   "outputs": [],
   "source": [
    "def draw_plot(X, Y, Yhat):\n",
    "    ### Plot the data\n",
    "    # create a figure\n",
    "    fig = plt.figure(figsize=(15,7))\n",
    "    # get the axis of that figure\n",
    "    ax = plt.gca()\n",
    "\n",
    "    # plot a scatter plot on it with our data\n",
    "    ax.scatter(X, Y, c='b')\n",
    "    ax.plot(X, Yhat, color='r');\n",
    "\n",
    "    plt.show();"
   ]
  },
  {
   "cell_type": "code",
   "execution_count": null,
   "metadata": {},
   "outputs": [],
   "source": [
    "draw_plot(X, Y, Yhat)"
   ]
  },
  {
   "cell_type": "markdown",
   "metadata": {},
   "source": [
    "#### 2. 4 Find Resudals\n",
    "\n",
    "Find difference between actual value and predicted value. Use absolute value."
   ]
  },
  {
   "cell_type": "code",
   "execution_count": null,
   "metadata": {},
   "outputs": [],
   "source": [
    "# ANSWER\n",
    "res = abs(data['price'] - data['y_hat']).mean()\n",
    "res"
   ]
  },
  {
   "cell_type": "markdown",
   "metadata": {},
   "source": [
    "#### 2.5  Predict Using Linear Regression\n",
    "\n",
    "[Simple Linear Regression](https://en.wikipedia.org/wiki/Simple_linear_regression#Fitting_the_regression_line)\n",
    "\n",
    "### $$\\hat{y} = \\beta_0 + \\beta_1 x$$\n",
    "\n",
    "> ### $$ \\beta_1 = \\frac{\\sum_{i=1}^n (y_i - \\bar{y} ) (x_i - \\bar{x} )}{\\sum_{i=1}^n (x_i - \\bar{x})^2} $$\n",
    "\n",
    "and\n",
    "\n",
    "> ### $$ \\beta_0 = \\bar{y} - \\beta_1\\bar{x} $$\n",
    "\n",
    "Given variables:\n",
    "- $\\bar{y}$ : the sample mean of observed values $Y$\n",
    "- $\\bar{x}$ : the sample mean of observed values $X$\n",
    "- $s_Y$ : the sample standard deviation of observed values $Y$\n",
    "- $s_X$ : the sample standard deviation of observed values $X$\n",
    "- $r_{XY}$ : the sample Pearson correlation coefficient between observed $X$ and $Y$"
   ]
  },
  {
   "cell_type": "markdown",
   "metadata": {},
   "source": [
    "##### 2.5 Define X, Y\n",
    "\n",
    "- X = Predictor Variable \n",
    "- Y = Target Variable"
   ]
  },
  {
   "cell_type": "code",
   "execution_count": null,
   "metadata": {},
   "outputs": [],
   "source": [
    "X = data['sq__ft']\n",
    "Y = data['price']"
   ]
  },
  {
   "cell_type": "markdown",
   "metadata": {},
   "source": [
    "##### 2.5.A Calculate beta_1\n",
    "\n",
    " ### $$ \\beta_1 = \\frac{\\sum_{i=1}^n (y_i - \\bar{y} ) (x_i - \\bar{x} )}{\\sum_{i=1}^n (x_i - \\bar{x})^2} $$"
   ]
  },
  {
   "cell_type": "code",
   "execution_count": null,
   "metadata": {},
   "outputs": [],
   "source": [
    "# ANSWER\n",
    "def calculate_beta_1(X, Y):\n",
    "    Xbar = X.mean()\n",
    "    Ybar = Y.mean()\n",
    "    \n",
    "    n = np.sum((Y - Ybar) * (X - Xbar)) \n",
    "    d = np.sum(np.square(X - Xbar)) \n",
    "    \n",
    "    beta_1 = n/d\n",
    "    \n",
    "    return beta_1"
   ]
  },
  {
   "cell_type": "code",
   "execution_count": null,
   "metadata": {},
   "outputs": [],
   "source": [
    "beta_1 = calculate_beta_1(X, Y)\n",
    "beta_1"
   ]
  },
  {
   "cell_type": "markdown",
   "metadata": {},
   "source": [
    "##### 2.5.B Calculate beta_0"
   ]
  },
  {
   "cell_type": "markdown",
   "metadata": {},
   "source": [
    "### $$ \\beta_0 = \\bar{y} - \\beta_1\\bar{x} $$"
   ]
  },
  {
   "cell_type": "code",
   "execution_count": null,
   "metadata": {},
   "outputs": [],
   "source": [
    "# ANSWER\n",
    "def calculate_beta_0(X, Y):\n",
    "    \n",
    "    Xbar = X.mean()\n",
    "    Ybar = Y.mean()\n",
    "    \n",
    "    beta_0 = Ybar - calculate_beta_1(X, Y) * Xbar\n",
    "    \n",
    "    return beta_0"
   ]
  },
  {
   "cell_type": "code",
   "execution_count": null,
   "metadata": {},
   "outputs": [],
   "source": [
    "beta_0 = calculate_beta_0(X, Y)\n",
    "beta_0"
   ]
  },
  {
   "cell_type": "markdown",
   "metadata": {},
   "source": [
    "##### 2.4.C Find Yhat (Predicted Value Using Beta 0 and Beta 1)"
   ]
  },
  {
   "cell_type": "markdown",
   "metadata": {},
   "source": [
    "### $$\\hat{y} = \\beta_0 + \\beta_1 x$$"
   ]
  },
  {
   "cell_type": "code",
   "execution_count": null,
   "metadata": {},
   "outputs": [],
   "source": [
    "# ANSWER\n",
    "def calculate_yhat(x, b0, b1):\n",
    "    return b0 + b1 * x"
   ]
  },
  {
   "cell_type": "code",
   "execution_count": null,
   "metadata": {},
   "outputs": [],
   "source": [
    "Yhat = calculate_yhat(X, beta_0, beta_1)\n",
    "Yhat"
   ]
  },
  {
   "cell_type": "markdown",
   "metadata": {},
   "source": [
    "##### 2.5.D Find Resudals"
   ]
  },
  {
   "cell_type": "markdown",
   "metadata": {},
   "source": [
    "### $$ \\text{residual}_i = y_i - \\hat{y}_i$$"
   ]
  },
  {
   "cell_type": "code",
   "execution_count": null,
   "metadata": {},
   "outputs": [],
   "source": [
    "def calculate_residual(Y, Yhat):\n",
    "    res = Y - Yhat\n",
    "    return res"
   ]
  },
  {
   "cell_type": "code",
   "execution_count": null,
   "metadata": {},
   "outputs": [],
   "source": [
    "resi = calculate_residual(Y, Yhat)\n",
    "abs(resi)"
   ]
  },
  {
   "cell_type": "markdown",
   "metadata": {},
   "source": [
    "##### 2.5.D Find R-Square\n",
    "\n",
    "Write a function to calculate R- Square value."
   ]
  },
  {
   "cell_type": "markdown",
   "metadata": {},
   "source": [
    "The total sum of squares:\n",
    "\n",
    "### $$ SS_{tot} = \\sum_{i=1}^n \\left(y_i - \\bar{y}\\right)^2 $$\n",
    "\n",
    "The residual sum of squares:\n",
    "\n",
    "### $$ SS_{res} = \\sum_{i=1}^n \\left(y_i - \\hat{y}_i\\right)^2 $$\n",
    "\n",
    "$R^2$:\n",
    "\n",
    "### $$ R^2 = 1 - \\frac{SS_{res}}{SS_{tot}} $$"
   ]
  },
  {
   "cell_type": "code",
   "execution_count": null,
   "metadata": {},
   "outputs": [],
   "source": [
    "def calculate_total_sum_of_square(Y):\n",
    "    Ybar = np.mean(Y)\n",
    "    SStot = np.square(Y - Ybar)\n",
    "    SStot = np.sum(SStot)\n",
    "    return SStot"
   ]
  },
  {
   "cell_type": "code",
   "execution_count": null,
   "metadata": {},
   "outputs": [],
   "source": [
    "def calculate_residula_sum_of_square(Y, Yhat):\n",
    "    SSres = np.square(Y - Yhat)\n",
    "    SSres = np.sum(SSres)\n",
    "    return SSres"
   ]
  },
  {
   "cell_type": "code",
   "execution_count": null,
   "metadata": {},
   "outputs": [],
   "source": [
    "def calculate_r_square(Y, Yhat):\n",
    "    SStot = calculate_total_sum_of_square(Y)\n",
    "    SSres = calculate_residula_sum_of_square(Y, Yhat)\n",
    "    Rsquare = 1 - (SSres/SStot)\n",
    "    return Rsquare"
   ]
  },
  {
   "cell_type": "code",
   "execution_count": null,
   "metadata": {},
   "outputs": [],
   "source": [
    "calculate_r_square(Y, np.mean(Y))"
   ]
  },
  {
   "cell_type": "code",
   "execution_count": null,
   "metadata": {},
   "outputs": [],
   "source": [
    "calculate_r_square(Y, calculate_yhat(X, beta_0, beta_1))"
   ]
  },
  {
   "cell_type": "markdown",
   "metadata": {},
   "source": [
    "##### 2.5.G [BONUS] Draw Plot of Predicted Line"
   ]
  },
  {
   "cell_type": "code",
   "execution_count": null,
   "metadata": {},
   "outputs": [],
   "source": [
    "draw_plot(X, Y, Yhat)"
   ]
  },
  {
   "cell_type": "markdown",
   "metadata": {},
   "source": [
    "##### 2.5.G [BONUS] Draw Plot of Predicted Line With Resudals"
   ]
  },
  {
   "cell_type": "code",
   "execution_count": null,
   "metadata": {},
   "outputs": [],
   "source": [
    "data['Yhat'] = Yhat"
   ]
  },
  {
   "cell_type": "code",
   "execution_count": null,
   "metadata": {},
   "outputs": [],
   "source": [
    "# create a figure\n",
    "fig = plt.figure(figsize=(15,7))\n",
    "fig.set_figheight(8)\n",
    "fig.set_figwidth(15)\n",
    "\n",
    "# get the axis\n",
    "ax = fig.gca()\n",
    "\n",
    "# plot it\n",
    "ax.scatter(x=X, y=Y, c='b')\n",
    "ax.plot(X, Yhat, color='r');\n",
    "\n",
    "# iterate over predictions\n",
    "for _, row in data.iterrows():\n",
    "    plt.plot((row['sq__ft'], row['sq__ft']), (row['price'], row['Yhat']), 'g-')"
   ]
  },
  {
   "cell_type": "markdown",
   "metadata": {},
   "source": [
    "### 3. Predict House Price\n",
    "\n",
    "Let's assume we have information of following house:\n",
    "\n",
    "- street:\t1140 EDMONTON DR\n",
    "- city:\tSACRAMENTO\n",
    "- zip:\t95833\n",
    "- state:\tCA\n",
    "- beds:\t3\n",
    "- baths:\t2\n",
    "- sq__ft:\t1204\n",
    "- type:\tResidential\n",
    "\n",
    "**Predict the price of this house.**"
   ]
  },
  {
   "cell_type": "code",
   "execution_count": null,
   "metadata": {},
   "outputs": [],
   "source": [
    "# ANSWER\n",
    "xpred = 1204\n",
    "xpred"
   ]
  },
  {
   "cell_type": "code",
   "execution_count": null,
   "metadata": {},
   "outputs": [],
   "source": [
    "beta_0"
   ]
  },
  {
   "cell_type": "code",
   "execution_count": null,
   "metadata": {},
   "outputs": [],
   "source": [
    "beta_1"
   ]
  },
  {
   "cell_type": "code",
   "execution_count": null,
   "metadata": {},
   "outputs": [],
   "source": [
    "Ypred = beta_1 * xpred + beta_0\n",
    "Ypred"
   ]
  },
  {
   "cell_type": "markdown",
   "metadata": {},
   "source": [
    "#### 2.6 Find Coefficient and Intercept using Linear Regression\n",
    "\n",
    "Using LinearRegression of sklearn.linear_model package find Coefficient and Intercept."
   ]
  },
  {
   "cell_type": "code",
   "execution_count": null,
   "metadata": {},
   "outputs": [],
   "source": [
    "from sklearn.linear_model import LinearRegression"
   ]
  },
  {
   "cell_type": "code",
   "execution_count": null,
   "metadata": {},
   "outputs": [],
   "source": [
    "# ANSWER\n",
    "\n",
    "X = data['sq__ft'].values.reshape(-1,1)\n",
    "Y = data['price']\n",
    "\n",
    "linreg = LinearRegression()\n",
    "linreg.fit(X, Y)\n",
    "\n",
    "print(linreg.coef_, linreg.intercept_)"
   ]
  },
  {
   "cell_type": "markdown",
   "metadata": {},
   "source": [
    "##### 2.6.2 Find R Score"
   ]
  },
  {
   "cell_type": "markdown",
   "metadata": {},
   "source": [
    "The coefficient R^2 is defined as (1 - u/v), where u is the residual sum of squares ((y_true - y_pred) ** 2).sum() and v is the total sum of squares ((y_true - y_true.mean()) ** 2).sum(). \n",
    "\n",
    "The best possible score is 1.0 and it can be negative (because the\n",
    "model can be arbitrarily worse)."
   ]
  },
  {
   "cell_type": "code",
   "execution_count": null,
   "metadata": {},
   "outputs": [],
   "source": [
    "linreg.score(X, Y)"
   ]
  },
  {
   "cell_type": "markdown",
   "metadata": {},
   "source": [
    "### 3. Splitting Data"
   ]
  },
  {
   "cell_type": "code",
   "execution_count": null,
   "metadata": {},
   "outputs": [],
   "source": [
    "from sklearn.model_selection import train_test_split"
   ]
  },
  {
   "cell_type": "markdown",
   "metadata": {},
   "source": [
    "#### 3.1 Create training and testing subsets\n",
    "\n",
    "Hint: Using `train_test_split` Library"
   ]
  },
  {
   "cell_type": "code",
   "execution_count": null,
   "metadata": {},
   "outputs": [],
   "source": [
    "## Create training and testing subsets\n",
    "\n",
    "X_train, X_test, y_train, y_test = train_test_split(X, Y, test_size = 0.2)"
   ]
  },
  {
   "cell_type": "markdown",
   "metadata": {},
   "source": [
    "#### 3.2 Check Shape, Sample of Test Train Data"
   ]
  },
  {
   "cell_type": "code",
   "execution_count": null,
   "metadata": {},
   "outputs": [],
   "source": [
    "## Check training/test data\n",
    "\n",
    "# About training\n",
    "print('X_train is a %s' % type(X_train))\n",
    "print('X_train has %d rows', X_train.shape)\n",
    "print('')\n",
    "print('Sample of X_train%s' % ('_'*50))\n",
    "print(X_train[:10])\n",
    "\n",
    "print('')\n",
    "print('y_train is a %s' % type(y_train))\n",
    "print('y_train has %d rows', y_train.shape)\n",
    "print('')\n",
    "print('Sample of y_train%s' % ('_'*50))\n",
    "print(y_train[:10])"
   ]
  },
  {
   "cell_type": "code",
   "execution_count": null,
   "metadata": {},
   "outputs": [],
   "source": [
    "## Check training/test data\n",
    "\n",
    "# About test\n",
    "print('X_train is a %s' % type(X_test))\n",
    "print('X_train has %d rows', X_test.shape)\n",
    "print('')\n",
    "print('Sample of X_train%s' % ('_'*50))\n",
    "print(X_test[:10])\n",
    "\n",
    "print('')\n",
    "print('y_train is a %s' % type(y_test))\n",
    "print('y_train has %d rows', y_test.shape)\n",
    "print('')\n",
    "print('Sample of y_train%s' % ('_'*50))\n",
    "print(y_test[:10])"
   ]
  },
  {
   "cell_type": "markdown",
   "metadata": {},
   "source": [
    "#### 3.3 Using Linear Regression Find The Score\n",
    "\n",
    "1. Fit model using X_train, y_train\n",
    "2. Find score using x_test, y_test"
   ]
  },
  {
   "cell_type": "code",
   "execution_count": null,
   "metadata": {},
   "outputs": [],
   "source": [
    "# ANSWER\n",
    "\n",
    "linreg = LinearRegression()\n",
    "linreg.fit(X_train, y_train)\n",
    "\n",
    "print(linreg.coef_, linreg.intercept_)"
   ]
  },
  {
   "cell_type": "code",
   "execution_count": null,
   "metadata": {},
   "outputs": [],
   "source": [
    "linreg.score(X_test, y_test)"
   ]
  },
  {
   "cell_type": "markdown",
   "metadata": {},
   "source": [
    "#### 3.4 Using your model predict price of a house\n",
    "\n",
    "Let's assume we have house which have 1000 square feet. What is the predicted value of that house? Use your model."
   ]
  },
  {
   "cell_type": "code",
   "execution_count": null,
   "metadata": {},
   "outputs": [],
   "source": [
    "# ANSWER\n",
    "beta0 = linreg.intercept_\n",
    "beta1 = linreg.coef_\n",
    "x = 1000\n",
    "\n",
    "Ypred = beta1 * x + beta0\n",
    "print('Predicted house price: ', Ypred[0])"
   ]
  },
  {
   "cell_type": "code",
   "execution_count": null,
   "metadata": {},
   "outputs": [],
   "source": [
    "# ANSWER\n",
    "x = [[1000]]\n",
    "Ypred = linreg.predict(x)\n",
    "print('Predicted house price: ', Ypred[0])"
   ]
  }
 ],
 "metadata": {
  "kernelspec": {
   "display_name": "Python [default]",
   "language": "python",
   "name": "python3"
  },
  "language_info": {
   "codemirror_mode": {
    "name": "ipython",
    "version": 3
   },
   "file_extension": ".py",
   "mimetype": "text/x-python",
   "name": "python",
   "nbconvert_exporter": "python",
   "pygments_lexer": "ipython3",
   "version": "3.6.8"
  },
  "toc": {
   "nav_menu": {},
   "number_sections": true,
   "sideBar": true,
   "skip_h1_title": true,
   "title_cell": "Table of Contents",
   "title_sidebar": "Contents",
   "toc_cell": true,
   "toc_position": {},
   "toc_section_display": true,
   "toc_window_display": false
  }
 },
 "nbformat": 4,
 "nbformat_minor": 2
}
