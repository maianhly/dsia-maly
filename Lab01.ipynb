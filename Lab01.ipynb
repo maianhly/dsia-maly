{
  "nbformat": 4,
  "nbformat_minor": 0,
  "metadata": {
    "colab": {
      "name": "Lab01.ipynb",
      "provenance": [],
      "collapsed_sections": [],
      "include_colab_link": true
    },
    "kernelspec": {
      "name": "python3",
      "display_name": "Python 3"
    }
  },
  "cells": [
    {
      "cell_type": "markdown",
      "metadata": {
        "id": "view-in-github",
        "colab_type": "text"
      },
      "source": [
        "<a href=\"https://colab.research.google.com/github/maianhly/dsia-maly/blob/master/Lab01.ipynb\" target=\"_parent\"><img src=\"https://colab.research.google.com/assets/colab-badge.svg\" alt=\"Open In Colab\"/></a>"
      ]
    },
    {
      "cell_type": "markdown",
      "metadata": {
        "id": "7KeNKtNL2Ix-",
        "colab_type": "text"
      },
      "source": [
        "<div>\n",
        "<img src=https://www.institutedata.com/wp-content/uploads/2019/10/iod_h_tp_primary_c.svg width=\"300\">\n",
        "</div>\n",
        "\n",
        "# Python - Lab 1 \n",
        "\n",
        "## Learning objectives\n",
        "\n",
        "This lab demonstrates examples of: \n",
        "\n",
        "1. Creating and manipulating lists\n",
        "2. For loops\n",
        "3. Importing modules and functions\n",
        "4. Creating dictonaries\n",
        "\n",
        "## Instructions:\n",
        "\n",
        "1. Replace ??? with the appropriate code\n",
        "2. Press Shift + Enter to execute cell\n",
        "\n"
      ]
    },
    {
      "cell_type": "code",
      "metadata": {
        "id": "YEGrd1Ob6iN2",
        "colab_type": "code",
        "colab": {}
      },
      "source": [
        ""
      ],
      "execution_count": 0,
      "outputs": []
    },
    {
      "cell_type": "code",
      "metadata": {
        "id": "NaRcNY1l2LbD",
        "colab_type": "code",
        "colab": {}
      },
      "source": [
        "# create a list of 10 student (use just first name)\n",
        "students = ???"
      ],
      "execution_count": 0,
      "outputs": []
    },
    {
      "cell_type": "code",
      "metadata": {
        "id": "lyMlOgoUZ2R4",
        "colab_type": "code",
        "colab": {}
      },
      "source": [
        "# Print the list\n",
        "???"
      ],
      "execution_count": 0,
      "outputs": []
    },
    {
      "cell_type": "code",
      "metadata": {
        "id": "LtbLA_T811kr",
        "colab_type": "code",
        "colab": {}
      },
      "source": [
        "# print the list of students\n",
        "# in the following format\n",
        "# Index 01 \t Alice\n",
        "# Index 02 \t Bob\n",
        "# Index 03 \t Pradeep\n",
        "for ???:\n",
        "    print(f'???')"
      ],
      "execution_count": 0,
      "outputs": []
    },
    {
      "cell_type": "code",
      "metadata": {
        "id": "OF5sj3CX1lHl",
        "colab_type": "code",
        "colab": {}
      },
      "source": [
        "# print the list of students in reverse order one student in a line with its index\n",
        "???\n",
        "for ???\n",
        "    ???"
      ],
      "execution_count": 0,
      "outputs": []
    },
    {
      "cell_type": "code",
      "metadata": {
        "id": "eAdtim4G1pyV",
        "colab_type": "code",
        "colab": {}
      },
      "source": [
        "# print the student list in random order\n",
        "# hint look up the function random.sample\n",
        "??? random\n",
        "??? = random.sample(???)\n",
        "???"
      ],
      "execution_count": 0,
      "outputs": []
    },
    {
      "cell_type": "code",
      "metadata": {
        "id": "sfKkL5dt1tqG",
        "colab_type": "code",
        "colab": {}
      },
      "source": [
        "# list students in order of their exam marks in the following list\n",
        "marks = [87,45,76,64,66,90,55,73,69,75]\n",
        "??? = dict(zip(???))\n",
        "print(f\"Students and their marks: \\n {studentsAndMarks}\")\n",
        "???"
      ],
      "execution_count": 0,
      "outputs": []
    },
    {
      "cell_type": "code",
      "metadata": {
        "id": "9d9QrXRo182c",
        "colab_type": "code",
        "colab": {}
      },
      "source": [
        ""
      ],
      "execution_count": 0,
      "outputs": []
    }
  ]
}