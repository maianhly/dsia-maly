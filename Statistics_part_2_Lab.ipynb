{
  "nbformat": 4,
  "nbformat_minor": 0,
  "metadata": {
    "colab": {
      "name": "Statistics - part 2 Lab.ipynb",
      "version": "0.3.2",
      "provenance": [],
      "collapsed_sections": [],
      "include_colab_link": true
    },
    "kernelspec": {
      "display_name": "Python 3",
      "language": "python",
      "name": "python3"
    }
  },
  "cells": [
    {
      "cell_type": "markdown",
      "metadata": {
        "id": "view-in-github",
        "colab_type": "text"
      },
      "source": [
        "<a href=\"https://colab.research.google.com/github/maianhly/dsia-maly/blob/master/Statistics_part_2_Lab.ipynb\" target=\"_parent\"><img src=\"https://colab.research.google.com/assets/colab-badge.svg\" alt=\"Open In Colab\"/></a>"
      ]
    },
    {
      "metadata": {
        "id": "4M2unyfTx9B1",
        "colab_type": "text"
      },
      "cell_type": "markdown",
      "source": [
        "![dsia](https://static1.squarespace.com/static/5c4631190dbda3abea29db4c/t/5c465b0dc74c5024875652f7/1549343891985/?format=1500w)"
      ]
    },
    {
      "metadata": {
        "id": "RqiJTWNJmxTh",
        "colab_type": "text"
      },
      "cell_type": "markdown",
      "source": [
        "# Statistics - part 2"
      ]
    },
    {
      "metadata": {
        "id": "LMexHJ6rmxTh",
        "colab_type": "code",
        "colab": {}
      },
      "cell_type": "code",
      "source": [
        "import numpy as np\n",
        "import matplotlib.pyplot as plt\n",
        "from scipy import stats\n",
        "# get matplot to show charts inline\n",
        "%matplotlib inline"
      ],
      "execution_count": 0,
      "outputs": []
    },
    {
      "metadata": {
        "id": "77Yt7aCRpUKY",
        "colab_type": "text"
      },
      "cell_type": "markdown",
      "source": [
        "# 1. plot a histogram of a set of observations\n",
        "\n",
        "experiment with various number of bins"
      ]
    },
    {
      "metadata": {
        "id": "7PY2pBe8mxTk",
        "colab_type": "code",
        "outputId": "b4160eca-e406-4338-b10d-666fb033bfec",
        "colab": {
          "base_uri": "https://localhost:8080/",
          "height": 320
        }
      },
      "cell_type": "code",
      "source": [
        "# plot a histogram of a set of observations\n",
        "# experiment with various number of bins\n",
        "x = [21,22,23,4,5,6,77,8,9,10,31,32,33,34,35,36,37,18,49,50,100]\n",
        "num_bins = 5\n",
        "\n",
        "plt.figure(figsize=(10, 5))\n",
        "plt.hist(x, bins=5)\n",
        "plt.show()"
      ],
      "execution_count": 0,
      "outputs": [
        {
          "output_type": "display_data",
          "data": {
            "image/png": "[encoded data removed]",
            "text/plain": [
              "<Figure size 720x360 with 1 Axes>"
            ]
          },
          "metadata": {
            "tags": []
          }
        }
      ]
    },
    {
      "metadata": {
        "id": "4Og-LdZ76noR",
        "colab_type": "code",
        "outputId": "6abdc2ea-75b2-45ea-8414-1e8b1ecda584",
        "colab": {
          "base_uri": "https://localhost:8080/",
          "height": 933
        }
      },
      "cell_type": "code",
      "source": [
        "# Plot histogram of x with 3, 5, 8 and 10 bins\n",
        "\n",
        "fig = plt.figure(figsize=(5, 16))\n",
        "num_bins = [3, 5, 8, 10]\n",
        "\n",
        "\n",
        "for i, bins in enumerate(num_bins):\n",
        "  ax = fig.add_subplot(len(num_bins), 1, i+1)\n",
        "  ax.hist(x, bins=bins, alpha=0.5)\n",
        "  ax.set_title(\"Histogram of x with {} bins\".format(bins))\n",
        "\n",
        "plt.show()  "
      ],
      "execution_count": 0,
      "outputs": [
        {
          "output_type": "display_data",
          "data": {
            "image/png": "[encoded data removed]",
            "text/plain": [
              "<Figure size 360x1152 with 4 Axes>"
            ]
          },
          "metadata": {
            "tags": []
          }
        }
      ]
    },
    {
      "metadata": {
        "id": "cRSBy51CpgbC",
        "colab_type": "text"
      },
      "cell_type": "markdown",
      "source": [
        "# 2. Calculate statistical information of a set of observations using numpy and stats\n",
        "```\n",
        "# Expected Output:\n",
        "mean of observations = 28.884615384615383\n",
        "median of observations = 27.0\n",
        "mode of observations = ModeResult(mode=array([10]), count=array([4]))\n",
        "percentile of observations = [10.   27.   35.75]\n",
        "statistical summary of observations = DescribeResult(nobs=26, minmax=(4, 100), mean=28.884615384615383, variance=523.3061538461537, skewness=1.4001632366778733, kurtosis=2.0634808152807826)\n",
        "```"
      ]
    },
    {
      "metadata": {
        "id": "odB27dRAmxTn",
        "colab_type": "code",
        "outputId": "e53c9ae5-bac7-44a0-9341-4d3375ee2a83",
        "colab": {
          "base_uri": "https://localhost:8080/",
          "height": 102
        }
      },
      "cell_type": "code",
      "source": [
        "# calculate statistical information of a set of observations using numpy and stats\n",
        "observations = [21,22,23,4,5,6,77,8,9,10,31,32,33,34,35,36,37,18,49,50,100,10,32,49,10,10]\n",
        "\n",
        "print('mean of observations =',np.mean(observations))\n",
        "print('median of observations =',np.median(observations))\n",
        "print('mode of observations =',stats.mode(observations))\n",
        "print('percentile of observations =', np.percentile(observations, [25, 50, 75]))\n",
        "print('statistical summary of observations =',stats.describe(observations))"
      ],
      "execution_count": 0,
      "outputs": [
        {
          "output_type": "stream",
          "text": [
            "mean of observations = 28.884615384615383\n",
            "median of observations = 27.0\n",
            "mode of observations = ModeResult(mode=array([10]), count=array([4]))\n",
            "percentile of observations = [10.   27.   35.75]\n",
            "statistical summary of observations = DescribeResult(nobs=26, minmax=(4, 100), mean=28.884615384615383, variance=523.3061538461537, skewness=1.4001632366778733, kurtosis=2.0634808152807826)\n"
          ],
          "name": "stdout"
        }
      ]
    },
    {
      "metadata": {
        "id": "AGpwG3Mup0iD",
        "colab_type": "text"
      },
      "cell_type": "markdown",
      "source": [
        "# 3. Plot box chart of obstravations"
      ]
    },
    {
      "metadata": {
        "id": "JMIEInnMmxTq",
        "colab_type": "code",
        "outputId": "7444269c-bb3c-4f08-c470-80c2885b880c",
        "colab": {
          "base_uri": "https://localhost:8080/",
          "height": 487
        }
      },
      "cell_type": "code",
      "source": [
        "# plot box chart of obstravations\n",
        "observations = [21,22,23,4,5,6,77,8,9,10,31,32,33,34,35,36,37,18,49,50,100,10,32,49,10,10]\n",
        "\n",
        "plt.figure(figsize=(5, 8))\n",
        "plt.boxplot(observations)\n",
        "plt.yticks([0, 10, 20, 30, 40, 50, 60])\n",
        "plt.ylim(0, 60)\n",
        "plt.show()"
      ],
      "execution_count": 0,
      "outputs": [
        {
          "output_type": "display_data",
          "data": {
            "image/png": "[encoded data removed]",
            "text/plain": [
              "<Figure size 360x576 with 1 Axes>"
            ]
          },
          "metadata": {
            "tags": []
          }
        }
      ]
    },
    {
      "metadata": {
        "id": "LcviDI1CqBtM",
        "colab_type": "text"
      },
      "cell_type": "markdown",
      "source": [
        "# 4. Create a Binomial Distribution\n",
        "\n",
        "Lookup stats.binom.pmf\n",
        "\n",
        "What does it do?"
      ]
    },
    {
      "metadata": {
        "id": "_vJoZMf2mxTs",
        "colab_type": "code",
        "outputId": "568d7c69-15df-4272-82d4-6a5db186b342",
        "colab": {
          "base_uri": "https://localhost:8080/",
          "height": 265
        }
      },
      "cell_type": "code",
      "source": [
        "# creating a Binomial Distribution\n",
        "n = 10\n",
        "p = 0.3\n",
        "k = np.arange(0,21)\n",
        "binomial = stats.binom.pmf(k,n,p)\n",
        "\n",
        "plt.plot(k, binomial)\n",
        "plt.show()"
      ],
      "execution_count": 0,
      "outputs": [
        {
          "output_type": "display_data",
          "data": {
            "image/png": "[encoded data removed]",
            "text/plain": [
              "<Figure size 432x288 with 1 Axes>"
            ]
          },
          "metadata": {
            "tags": []
          }
        }
      ]
    },
    {
      "metadata": {
        "id": "HlhkB_IcqU4U",
        "colab_type": "text"
      },
      "cell_type": "markdown",
      "source": [
        "# 5. Create a scatter plot"
      ]
    },
    {
      "metadata": {
        "id": "-qx81cWXmxTu",
        "colab_type": "code",
        "outputId": "deacd492-7150-45c8-bbe3-8ff5ebdf1e58",
        "colab": {
          "base_uri": "https://localhost:8080/",
          "height": 265
        }
      },
      "cell_type": "code",
      "source": [
        "# Fixing random state for reproducibility\n",
        "np.random.seed(19680801)\n",
        "\n",
        "\n",
        "N = 50\n",
        "x = np.random.rand(N)\n",
        "y = np.random.rand(N)\n",
        "colors = np.random.rand(N)\n",
        "area = (30 * np.random.rand(N))**2  # 0 to 15 point radii\n",
        "\n",
        "plt.scatter(x, y)\n",
        "plt.show()"
      ],
      "execution_count": 0,
      "outputs": [
        {
          "output_type": "display_data",
          "data": {
            "image/png": "[encoded data removed]",
            "text/plain": [
              "<Figure size 432x288 with 1 Axes>"
            ]
          },
          "metadata": {
            "tags": []
          }
        }
      ]
    },
    {
      "metadata": {
        "id": "_KQAJyqIqheV",
        "colab_type": "text"
      },
      "cell_type": "markdown",
      "source": [
        "# 6. Calculate and Visualize Correlations\n",
        "\n",
        "NOTE: Lookup np.corrcoef. What does it do?"
      ]
    },
    {
      "metadata": {
        "id": "5K4lfLpTmxTw",
        "colab_type": "code",
        "colab": {}
      },
      "cell_type": "code",
      "source": [
        "# Calculate and visualise correltions\n",
        "import matplotlib\n",
        "np.random.seed(1)\n",
        "\n",
        "# 1000 random integers between 0 and 50\n",
        "x = np.random.randint(0, 50, 1000)\n",
        "\n",
        "# Positive Correlation with some noise\n",
        "y = x + np.random.normal(0, 10, 1000)"
      ],
      "execution_count": 0,
      "outputs": []
    },
    {
      "metadata": {
        "id": "5EPfgBdDmxTz",
        "colab_type": "code",
        "outputId": "ce564709-b94d-4538-8fe0-85c25a8575b0",
        "colab": {
          "base_uri": "https://localhost:8080/",
          "height": 34
        }
      },
      "cell_type": "code",
      "source": [
        "# Calculate the coefficient of best fit line or curve\n",
        "x = [21,22,23,4,5,6,77,8,9,10,31,32,33,34,35,36,37,18,49,50,100,10,32,49,10,10]\n",
        "y = [88,12,23,3,6,8,9,12,27,36,34,77,60,35,36,37,18,49,50,100,10,32,49,10,10,22]\n",
        "\n",
        "print(np.polyfit(x,y,1))"
      ],
      "execution_count": 0,
      "outputs": [
        {
          "output_type": "stream",
          "text": [
            "[ 0.11163049 29.5832885 ]\n"
          ],
          "name": "stdout"
        }
      ]
    },
    {
      "metadata": {
        "id": "c6f0e9yXra37",
        "colab_type": "text"
      },
      "cell_type": "markdown",
      "source": [
        "# 7. [BONUS] Plot X, Y and Best Fit Line\n",
        "\n",
        "**Write a function to calculate best fit.**\n",
        "\n",
        "![alt text](https://i.imgur.com/B43vOV0.jpg)[1]\n",
        "\n",
        "[1]: https://www.mathsisfun.com/data/least-squares-regression.html \"Least Squares Regression\""
      ]
    },
    {
      "metadata": {
        "id": "-jouTQjemxT1",
        "colab_type": "code",
        "outputId": "ca3b2b4a-a29e-4ad7-c734-790e6277e594",
        "colab": {
          "base_uri": "https://localhost:8080/",
          "height": 129
        }
      },
      "cell_type": "code",
      "source": [
        "# sample points \n",
        "X = [0, 5, 10, 15, 20]\n",
        "Y = [0, 7, 10, 13, 20]\n",
        "\n",
        "# solve for a and b\n",
        "def best_fit(X, Y):\n",
        "    '''\n",
        "    Return m, b\n",
        "    '''\n",
        "    \n",
        "    x_sq = [x**2 for x in X]\n",
        "    xy = [x*y for x, y in zip(X, Y)]\n",
        "    \n",
        "    sum_x = sum(X)\n",
        "    sum_y = sum(Y)\n",
        "    sum_x_sq = sum(x_sq)\n",
        "    sum_xy = sum(xy)\n",
        "    \n",
        "    size_sample = len(X)\n",
        "    \n",
        "    # Calculate gradient\n",
        "    m_numerator = (size_sample * sum_xy) - (sum(X) * sum(Y))\n",
        "    m_denominator = (size_sample * sum_x_sq) - (sum(X) ** 2)\n",
        "    m = m_numerator / m_denominator\n",
        "    \n",
        "    # CAlculate intercept\n",
        "    b = (sum(Y) - (m * sum(X))) / size_sample\n",
        "    \n",
        "    return m, b\n",
        "\n",
        "# solution\n",
        "m, b = best_fit(X, Y)\n",
        "\n",
        "print(\"Line is {}x + {}\".format(m, b))\n",
        "#best fit line:\n",
        "#y = 0.80 + 0.92x\n",
        "\n",
        "# plot points and fit line\n",
        "plt.figure()\n",
        "plt.scatter(X, Y)\n",
        "plt.plot((Y[0]-b)/m, ([Y[len(Y)-1]-b)/m], [m*X[0] + b, m*X[len(X)-1] + b])\n",
        "plt.show()"
      ],
      "execution_count": 0,
      "outputs": [
        {
          "output_type": "error",
          "ename": "SyntaxError",
          "evalue": "ignored",
          "traceback": [
            "\u001b[0;36m  File \u001b[0;32m\"<ipython-input-1-507c72ca1718>\"\u001b[0;36m, line \u001b[0;32m40\u001b[0m\n\u001b[0;31m    plt.plot((Y[0]-b)/m, ([Y[len(Y)-1]-b)/m], [m*X[0] + b, m*X[len(X)-1] + b])\u001b[0m\n\u001b[0m                                        ^\u001b[0m\n\u001b[0;31mSyntaxError\u001b[0m\u001b[0;31m:\u001b[0m invalid syntax\n"
          ]
        }
      ]
    },
    {
      "metadata": {
        "id": "HfL9jnC4txJH",
        "colab_type": "text"
      },
      "cell_type": "markdown",
      "source": [
        "# 8. plot a histogram of a set of observations - centered\n",
        "\n",
        "Experiment with various number of bins\n",
        "\n",
        "        y = x - np.mean(x)"
      ]
    },
    {
      "metadata": {
        "id": "bw-YGxBEmxT5",
        "colab_type": "code",
        "colab": {}
      },
      "cell_type": "code",
      "source": [
        "# plot a histogram of a set of observations - centered\n",
        "# experiment with various number of bins\n",
        "x = [21,22,23,4,5,6,77,8,9,10,31,32,33,34,35,36,37,18,49,50,100]"
      ],
      "execution_count": 0,
      "outputs": []
    },
    {
      "metadata": {
        "id": "IvLbO4hot_oK",
        "colab_type": "text"
      },
      "cell_type": "markdown",
      "source": [
        "# 9. plot a histogram of a set of observations - scaled\n",
        "\n",
        "        y = x / np.std(x)"
      ]
    },
    {
      "metadata": {
        "id": "rKkxbfpGmxT7",
        "colab_type": "code",
        "colab": {}
      },
      "cell_type": "code",
      "source": [
        "# plot a histogram of a set of observations - scaled\n",
        "# experiment with various number of bins\n",
        "x = [21,22,23,4,5,6,77,8,9,10,31,32,33,34,35,36,37,18,49,50,100]"
      ],
      "execution_count": 0,
      "outputs": []
    },
    {
      "metadata": {
        "id": "WhM8Zio5uQ65",
        "colab_type": "text"
      },
      "cell_type": "markdown",
      "source": [
        "# 10. [BONUS] Create a probplot against normal distribution\n",
        "\n",
        "Check following methods:\n",
        "\n",
        "1. stats.loggamma.rvs\n",
        "2. stats.probplot\n",
        "3. stats.norm\n",
        "4. stats.boxcox"
      ]
    },
    {
      "metadata": {
        "id": "2X4WJFBxmxT_",
        "colab_type": "code",
        "outputId": "8c130b45-aba0-488e-e643-44b4f6d11577",
        "colab": {
          "base_uri": "https://localhost:8080/",
          "height": 151
        }
      },
      "cell_type": "code",
      "source": [
        "from scipy import stats\n",
        "import matplotlib.pyplot as plt\n",
        "fig = plt.figure()\n",
        "ax1 = fig.add_subplot(211)\n",
        "x = stats.loggamma.rvs(5, size=500) + 5"
      ],
      "execution_count": 0,
      "outputs": [
        {
          "output_type": "display_data",
          "data": {
            "image/png": "[encoded data removed]",
            "text/plain": [
              "<Figure size 432x288 with 1 Axes>"
            ]
          },
          "metadata": {
            "tags": []
          }
        }
      ]
    },
    {
      "metadata": {
        "id": "2X66iINLvAun",
        "colab_type": "text"
      },
      "cell_type": "markdown",
      "source": [
        "# 11. [BONUS] Calculate Mean Confidence Interval\n",
        "\n",
        "Check following methods:\n",
        "\n",
        "1. scipy.stats.sem\n",
        "2. scipy.stats.t.ppf"
      ]
    },
    {
      "metadata": {
        "id": "RbRSVOnlmxUC",
        "colab_type": "code",
        "outputId": "6cca7647-c0cb-4ba6-fc35-8596a2d40591",
        "colab": {
          "base_uri": "https://localhost:8080/",
          "height": 34
        }
      },
      "cell_type": "code",
      "source": [
        "import numpy as np\n",
        "import scipy.stats\n",
        "\n",
        "\n",
        "def mean_confidence_interval(data, confidence=0.95):\n",
        "    # Calculate m, h\n",
        "    m, se = 0, 0\n",
        "    h = 0\n",
        "    return m, m-h, m+h\n",
        "\n",
        "data = [21,22,23,4,5,6,77,8,9,10,31,32,33,34,35,36,37,18,49,50,100]\n",
        "print(mean_confidence_interval(data))"
      ],
      "execution_count": 0,
      "outputs": [
        {
          "output_type": "stream",
          "text": [
            "(0, 0, 0)\n"
          ],
          "name": "stdout"
        }
      ]
    },
    {
      "metadata": {
        "id": "o6HMJ-Wj6R4J",
        "colab_type": "code",
        "colab": {}
      },
      "cell_type": "code",
      "source": [
        "population = "
      ],
      "execution_count": 0,
      "outputs": []
    }
  ]
}